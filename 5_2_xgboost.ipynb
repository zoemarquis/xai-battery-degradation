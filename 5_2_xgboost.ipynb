{
 "cells": [
  {
   "cell_type": "markdown",
   "metadata": {},
   "source": [
    "# XGBoost\n"
   ]
  },
  {
   "cell_type": "code",
   "execution_count": 1,
   "metadata": {},
   "outputs": [],
   "source": [
    "# import\n",
    "\n",
    "import matplotlib.pyplot as plt\n",
    "\n",
    "import numpy as np\n",
    "np.random.seed(42)\n",
    "\n",
    "import pickle\n",
    "\n",
    "from xgboost import XGBRegressor\n",
    "from sklearn.metrics import mean_absolute_percentage_error, mean_squared_error, mean_absolute_error, root_mean_squared_error\n",
    "from sklearn.model_selection import KFold \n"
   ]
  },
  {
   "cell_type": "code",
   "execution_count": 2,
   "metadata": {},
   "outputs": [],
   "source": [
    "taille_fenetre_to_run = 20\n",
    "taille_stride_to_run = 5\n",
    "# 20w_5s déterminer dans search window size "
   ]
  },
  {
   "cell_type": "code",
   "execution_count": 3,
   "metadata": {},
   "outputs": [],
   "source": [
    "data = pickle.load(open(f\"Data/donnees_{taille_fenetre_to_run}w_{taille_stride_to_run}s.pkl\", \"rb\"))"
   ]
  },
  {
   "cell_type": "code",
   "execution_count": 4,
   "metadata": {},
   "outputs": [
    {
     "data": {
      "text/plain": [
       "dict_keys(['X_np_label', 'X_np_binary', 'y_np', 'features_names_label', 'features_names_binary', 'idx_explicabilite', 'X_label_explicabilite', 'X_binary_explicabilite', 'y_explicabilite'])"
      ]
     },
     "execution_count": 4,
     "metadata": {},
     "output_type": "execute_result"
    }
   ],
   "source": [
    "data.keys()"
   ]
  },
  {
   "cell_type": "code",
   "execution_count": 5,
   "metadata": {},
   "outputs": [],
   "source": [
    "X_np_label = data[\"X_np_label\"]\n",
    "y_np = data[\"y_np\"]"
   ]
  },
  {
   "cell_type": "code",
   "execution_count": 6,
   "metadata": {},
   "outputs": [],
   "source": [
    "X_label_explicabilite = data[\"X_label_explicabilite\"]\n",
    "y_explicabilite = data[\"y_explicabilite\"]"
   ]
  },
  {
   "cell_type": "code",
   "execution_count": 7,
   "metadata": {},
   "outputs": [],
   "source": [
    "features_label = data[\"features_names_label\"]"
   ]
  },
  {
   "cell_type": "code",
   "execution_count": 8,
   "metadata": {},
   "outputs": [
    {
     "data": {
      "text/plain": [
       "(19010, 152)"
      ]
     },
     "execution_count": 8,
     "metadata": {},
     "output_type": "execute_result"
    }
   ],
   "source": [
    "X_np_label.shape"
   ]
  },
  {
   "cell_type": "code",
   "execution_count": 9,
   "metadata": {},
   "outputs": [
    {
     "name": "stdout",
     "output_type": "stream",
     "text": [
      "Running fold 1/5\n",
      "Fold 1 - MSE: 0.0111, MAE: 0.0650, MAPE: 0.0007, RMSE: 0.1051\n",
      "Running fold 2/5\n",
      "Fold 2 - MSE: 0.0496, MAE: 0.0667, MAPE: 0.0007, RMSE: 0.2227\n",
      "Running fold 3/5\n",
      "Fold 3 - MSE: 0.0119, MAE: 0.0633, MAPE: 0.0007, RMSE: 0.1093\n",
      "Running fold 4/5\n",
      "Fold 4 - MSE: 0.0140, MAE: 0.0660, MAPE: 0.0007, RMSE: 0.1183\n",
      "Running fold 5/5\n",
      "Fold 5 - MSE: 0.0365, MAE: 0.0657, MAPE: 0.0007, RMSE: 0.1910\n"
     ]
    }
   ],
   "source": [
    "n_splits = 5\n",
    "kf = KFold(n_splits=n_splits, random_state=42, shuffle=True) \n",
    "\n",
    "mse_scores = []\n",
    "mae_scores = []\n",
    "mape_scores = []\n",
    "rmse_scores = []\n",
    "\n",
    "# déterminer par grid search : \n",
    "# Best parameters found:  {'gamma': 0, 'learning_rate': 0.1, 'max_depth': 10, 'n_estimators': 500, 'reg_alpha': 0.1, 'reg_lambda': 1}\n",
    "# Best score found:  0.02460594927348995\n",
    "\n",
    "xgb = XGBRegressor(random_state=42, n_estimators=500, max_depth=10, learning_rate=0.1, gamma=0, reg_alpha=0.1, reg_lambda=1)\n",
    "\n",
    "for fold, (train_index, test_index) in enumerate(kf.split(X_np_label)):\n",
    "    print(f\"Running fold {fold+1}/{n_splits}\")\n",
    "    # X_train, X_test = X_reshape[train_index], X_reshape[test_index]\n",
    "    X_train, X_test = X_np_label[train_index], X_np_label[test_index]\n",
    "    y_train, y_test = y_np[train_index], y_np[test_index]\n",
    "    \n",
    "    xgb.fit(X_train, y_train)\n",
    "    y_pred = xgb.predict(X_test)\n",
    "\n",
    "    mse = mean_squared_error(y_test, y_pred)\n",
    "    mae = mean_absolute_error(y_test, y_pred)\n",
    "    mape = mean_absolute_percentage_error(y_test, y_pred)\n",
    "    rmse = root_mean_squared_error(y_test, y_pred)\n",
    "\n",
    "    mse_scores.append(mse)\n",
    "    mae_scores.append(mae)\n",
    "    mape_scores.append(mape)\n",
    "    rmse_scores.append(rmse)\n",
    "\n",
    "    print(f\"Fold {fold+1} - MSE: {mse:.4f}, MAE: {mae:.4f}, MAPE: {mape:.4f}, RMSE: {rmse:.4f}\")\n",
    "\n",
    "    # save the model to disk\n",
    "    filename = f'Models/XGBoost_{taille_fenetre_to_run}_fold_{fold}.sav'\n",
    "    pickle.dump(xgb, open(filename, 'wb'))\n",
    "    "
   ]
  },
  {
   "cell_type": "code",
   "execution_count": null,
   "metadata": {},
   "outputs": [],
   "source": [
    "# Running fold 1/5\n",
    "# Fold 1 - MSE: 0.0111, MAE: 0.0650, MAPE: 0.0007, RMSE: 0.1051\n",
    "# Running fold 2/5\n",
    "# Fold 2 - MSE: 0.0496, MAE: 0.0667, MAPE: 0.0007, RMSE: 0.2227\n",
    "# Running fold 3/5\n",
    "# Fold 3 - MSE: 0.0119, MAE: 0.0633, MAPE: 0.0007, RMSE: 0.1093\n",
    "# Running fold 4/5\n",
    "# Fold 4 - MSE: 0.0140, MAE: 0.0660, MAPE: 0.0007, RMSE: 0.1183\n",
    "# Running fold 5/5\n",
    "# Fold 5 - MSE: 0.0365, MAE: 0.0657, MAPE: 0.0007, RMSE: 0.1910"
   ]
  },
  {
   "cell_type": "code",
   "execution_count": 10,
   "metadata": {},
   "outputs": [],
   "source": [
    "# 3 min"
   ]
  },
  {
   "cell_type": "code",
   "execution_count": 11,
   "metadata": {},
   "outputs": [
    {
     "name": "stdout",
     "output_type": "stream",
     "text": [
      "Mean MSE: 0.02460594927348995\n",
      "Mean MAE: 0.06533787650558535\n",
      "Mean MAPE: 0.0007022614038988452\n",
      "Mean RMSE: 0.14926384772358048\n"
     ]
    }
   ],
   "source": [
    "print(f\"Mean MSE: {np.mean(mse_scores)}\")\n",
    "print(f\"Mean MAE: {np.mean(mae_scores)}\")\n",
    "print(f\"Mean MAPE: {np.mean(mape_scores)}\")\n",
    "print(f\"Mean RMSE: {np.mean(rmse_scores)}\")"
   ]
  },
  {
   "cell_type": "code",
   "execution_count": null,
   "metadata": {},
   "outputs": [],
   "source": [
    "# Mean MSE: 0.02460594927348995\n",
    "# Mean MAE: 0.06533787650558535\n",
    "# Mean MAPE: 0.0007022614038988452\n",
    "# Mean RMSE: 0.14926384772358048"
   ]
  },
  {
   "cell_type": "code",
   "execution_count": 12,
   "metadata": {},
   "outputs": [
    {
     "name": "stdout",
     "output_type": "stream",
     "text": [
      "MSE scores: [np.float64(0.01105147523730524), np.float64(0.04957583859857828), np.float64(0.011939015772040274), np.float64(0.013997234197498144), np.float64(0.03646618256202782)]\n",
      "MAE scores: [np.float64(0.06503858091234699), np.float64(0.06671486400535258), np.float64(0.06325507906625565), np.float64(0.06597147751692152), np.float64(0.06570938102705004)]\n",
      "MAPE scores: [np.float64(0.0006963839274183626), np.float64(0.0007184435842457755), np.float64(0.0006787945842604658), np.float64(0.0007112343387360403), np.float64(0.0007064505848335814)]\n",
      "RMSE scores: [np.float64(0.10512599696224165), np.float64(0.2226563239581986), np.float64(0.10926580330570161), np.float64(0.11830990743592923), np.float64(0.19096120695583127)]\n"
     ]
    }
   ],
   "source": [
    "print(f'MSE scores: {mse_scores}')\n",
    "print(f'MAE scores: {mae_scores}')\n",
    "print(f'MAPE scores: {mape_scores}')\n",
    "print(f'RMSE scores: {rmse_scores}')"
   ]
  },
  {
   "cell_type": "code",
   "execution_count": null,
   "metadata": {},
   "outputs": [],
   "source": [
    "# MSE scores: [np.float64(0.01105147523730524), np.float64(0.04957583859857828), np.float64(0.011939015772040274), np.float64(0.013997234197498144), np.float64(0.03646618256202782)]\n",
    "# MAE scores: [np.float64(0.06503858091234699), np.float64(0.06671486400535258), np.float64(0.06325507906625565), np.float64(0.06597147751692152), np.float64(0.06570938102705004)]\n",
    "# MAPE scores: [np.float64(0.0006963839274183626), np.float64(0.0007184435842457755), np.float64(0.0006787945842604658), np.float64(0.0007112343387360403), np.float64(0.0007064505848335814)]\n",
    "# RMSE scores: [np.float64(0.10512599696224165), np.float64(0.2226563239581986), np.float64(0.10926580330570161), np.float64(0.11830990743592923), np.float64(0.19096120695583127)]"
   ]
  },
  {
   "cell_type": "code",
   "execution_count": 13,
   "metadata": {},
   "outputs": [
    {
     "name": "stdout",
     "output_type": "stream",
     "text": [
      "Best fold: 0\n"
     ]
    }
   ],
   "source": [
    "# get meilleur fold\n",
    "best_fold = np.argmin(mse_scores)\n",
    "print(f\"Best fold: {best_fold}\")\n",
    "\n",
    "# \"Si vous êtes strict sur la validation ou travaillez avec de grandes quantités de données, préférez le meilleur modèle de KFold.\""
   ]
  },
  {
   "cell_type": "code",
   "execution_count": 14,
   "metadata": {},
   "outputs": [],
   "source": [
    "# Save results\n",
    "\n",
    "results = {\n",
    "    \"model_name\": \"XGBoost\",\n",
    "    \"mse\": mse_scores,\n",
    "    \"mae\": mae_scores,\n",
    "    \"mape\": mape_scores,\n",
    "    \"rmse\": rmse_scores,\n",
    "    \"best_fold\": best_fold,\n",
    "    \"mean_mse\": np.mean(mse_scores),\n",
    "    \"mean_mae\": np.mean(mae_scores),\n",
    "    \"mean_mape\": np.mean(mape_scores),\n",
    "    \"mean_rmse\": np.mean(rmse_scores),\n",
    "}\n",
    "\n",
    "pickle.dump(results, open(f\"Data_to_share/XGBoost_results.pkl\", \"wb\"))"
   ]
  },
  {
   "cell_type": "code",
   "execution_count": 15,
   "metadata": {},
   "outputs": [],
   "source": [
    "xgb_best = pickle.load(open(f'Models/XGBoost_{taille_fenetre_to_run}_fold_{best_fold}.sav', 'rb'))"
   ]
  }
 ],
 "metadata": {
  "kernelspec": {
   "display_name": "mon_venv",
   "language": "python",
   "name": "python3"
  },
  "language_info": {
   "codemirror_mode": {
    "name": "ipython",
    "version": 3
   },
   "file_extension": ".py",
   "mimetype": "text/x-python",
   "name": "python",
   "nbconvert_exporter": "python",
   "pygments_lexer": "ipython3",
   "version": "3.11.11"
  }
 },
 "nbformat": 4,
 "nbformat_minor": 2
}
