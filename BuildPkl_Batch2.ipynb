{
 "cells": [
  {
   "cell_type": "code",
   "execution_count": 1,
   "metadata": {
    "collapsed": true
   },
   "outputs": [],
   "source": [
    "import h5py\n",
    "import matplotlib.pyplot as plt\n",
    "import numpy as np\n",
    "import pickle"
   ]
  },
  {
   "cell_type": "code",
   "execution_count": 2,
   "metadata": {
    "collapsed": false
   },
   "outputs": [],
   "source": [
    "matFilename = './Data/2017-06-30_batchdata_updated_struct_errorcorrect.mat'\n",
    "f = h5py.File(matFilename)"
   ]
  },
  {
   "cell_type": "code",
   "execution_count": 3,
   "metadata": {
    "collapsed": false
   },
   "outputs": [
    {
     "data": {
      "text/plain": [
       "['#refs#', '#subsystem#', 'batch', 'batch_date']"
      ]
     },
     "execution_count": 3,
     "metadata": {},
     "output_type": "execute_result"
    }
   ],
   "source": [
    "list(f.keys())"
   ]
  },
  {
   "cell_type": "code",
   "execution_count": 4,
   "metadata": {
    "collapsed": true
   },
   "outputs": [],
   "source": [
    "batch = f['batch']"
   ]
  },
  {
   "cell_type": "code",
   "execution_count": 5,
   "metadata": {
    "collapsed": false
   },
   "outputs": [
    {
     "data": {
      "text/plain": [
       "['Vdlin',\n",
       " 'barcode',\n",
       " 'channel_id',\n",
       " 'cycle_life',\n",
       " 'cycles',\n",
       " 'policy',\n",
       " 'policy_readable',\n",
       " 'summary']"
      ]
     },
     "execution_count": 5,
     "metadata": {},
     "output_type": "execute_result"
    }
   ],
   "source": [
    "list(batch.keys())"
   ]
  },
  {
   "cell_type": "code",
   "execution_count": 6,
   "metadata": {
    "collapsed": false
   },
   "outputs": [],
   "source": [
    "num_cells = batch['summary'].shape[0]\n",
    "bat_dict = {}\n",
    "for i in range(num_cells):\n",
    "    cl = f[batch['cycle_life'][i,0]][()]\n",
    "    policy = f[batch['policy_readable'][i,0]][()].tobytes()[::2].decode()\n",
    "    summary_IR = np.hstack(f[batch['summary'][i,0]]['IR'][0,:].tolist())\n",
    "    summary_QC = np.hstack(f[batch['summary'][i,0]]['QCharge'][0,:].tolist())\n",
    "    summary_QD = np.hstack(f[batch['summary'][i,0]]['QDischarge'][0,:].tolist())\n",
    "    summary_TA = np.hstack(f[batch['summary'][i,0]]['Tavg'][0,:].tolist())\n",
    "    summary_TM = np.hstack(f[batch['summary'][i,0]]['Tmin'][0,:].tolist())\n",
    "    summary_TX = np.hstack(f[batch['summary'][i,0]]['Tmax'][0,:].tolist())\n",
    "    summary_CT = np.hstack(f[batch['summary'][i,0]]['chargetime'][0,:].tolist())\n",
    "    summary_CY = np.hstack(f[batch['summary'][i,0]]['cycle'][0,:].tolist())\n",
    "    summary = {'IR': summary_IR, 'QC': summary_QC, 'QD': summary_QD, 'Tavg':\n",
    "                summary_TA, 'Tmin': summary_TM, 'Tmax': summary_TX, 'chargetime': summary_CT,\n",
    "                'cycle': summary_CY}\n",
    "    cycles = f[batch['cycles'][i,0]]\n",
    "    cycle_dict = {}\n",
    "    for j in range(cycles['I'].shape[0]):\n",
    "        I = np.hstack((f[cycles['I'][j,0]][()]))\n",
    "        Qc = np.hstack((f[cycles['Qc'][j,0]][()]))\n",
    "        Qd = np.hstack((f[cycles['Qd'][j,0]][()]))\n",
    "        Qdlin = np.hstack((f[cycles['Qdlin'][j,0]][()]))\n",
    "        T = np.hstack((f[cycles['T'][j,0]][()]))\n",
    "        Tdlin = np.hstack((f[cycles['Tdlin'][j,0]][()]))\n",
    "        V = np.hstack((f[cycles['V'][j,0]][()]))\n",
    "        dQdV = np.hstack((f[cycles['discharge_dQdV'][j,0]][()]))\n",
    "        t = np.hstack((f[cycles['t'][j,0]][()]))\n",
    "        cd = {'I': I, 'Qc': Qc, 'Qd': Qd, 'Qdlin': Qdlin, 'T': T, 'Tdlin': Tdlin, 'V':V, 'dQdV': dQdV, 't':t}\n",
    "        cycle_dict[str(j)] = cd\n",
    "        \n",
    "    cell_dict = {'cycle_life': cl, 'charge_policy':policy, 'summary': summary, 'cycles': cycle_dict}\n",
    "    key = 'b2c' + str(i)\n",
    "    bat_dict[key]=   cell_dict"
   ]
  },
  {
   "cell_type": "code",
   "execution_count": 7,
   "metadata": {
    "collapsed": false
   },
   "outputs": [
    {
     "data": {
      "text/plain": [
       "dict_keys(['b2c0', 'b2c1', 'b2c2', 'b2c3', 'b2c4', 'b2c5', 'b2c6', 'b2c7', 'b2c8', 'b2c9', 'b2c10', 'b2c11', 'b2c12', 'b2c13', 'b2c14', 'b2c15', 'b2c16', 'b2c17', 'b2c18', 'b2c19', 'b2c20', 'b2c21', 'b2c22', 'b2c23', 'b2c24', 'b2c25', 'b2c26', 'b2c27', 'b2c28', 'b2c29', 'b2c30', 'b2c31', 'b2c32', 'b2c33', 'b2c34', 'b2c35', 'b2c36', 'b2c37', 'b2c38', 'b2c39', 'b2c40', 'b2c41', 'b2c42', 'b2c43', 'b2c44', 'b2c45', 'b2c46', 'b2c47'])"
      ]
     },
     "execution_count": 7,
     "metadata": {},
     "output_type": "execute_result"
    }
   ],
   "source": [
    "bat_dict.keys()"
   ]
  },
  {
   "cell_type": "code",
   "execution_count": 8,
   "metadata": {
    "collapsed": false
   },
   "outputs": [
    {
     "data": {
      "text/plain": [
       "[<matplotlib.lines.Line2D at 0x3392b6e10>]"
      ]
     },
     "execution_count": 8,
     "metadata": {},
     "output_type": "execute_result"
    },
    {
     "data": {
      "image/png": "[encoded data removed]",
      "text/plain": [
       "<Figure size 640x480 with 1 Axes>"
      ]
     },
     "metadata": {},
     "output_type": "display_data"
    }
   ],
   "source": [
    "plt.plot(bat_dict['b2c43']['summary']['cycle'], bat_dict['b2c43']['summary']['QD'])"
   ]
  },
  {
   "cell_type": "code",
   "execution_count": 9,
   "metadata": {
    "collapsed": false
   },
   "outputs": [
    {
     "data": {
      "text/plain": [
       "[<matplotlib.lines.Line2D at 0x11b172450>]"
      ]
     },
     "execution_count": 9,
     "metadata": {},
     "output_type": "execute_result"
    },
    {
     "data": {
      "image/png": "[encoded data removed]",
      "text/plain": [
       "<Figure size 640x480 with 1 Axes>"
      ]
     },
     "metadata": {},
     "output_type": "display_data"
    }
   ],
   "source": [
    "plt.plot(bat_dict['b2c43']['cycles']['10']['Qd'], bat_dict['b2c43']['cycles']['10']['V'])"
   ]
  },
  {
   "cell_type": "code",
   "execution_count": 10,
   "metadata": {
    "collapsed": true
   },
   "outputs": [],
   "source": [
    "with open('./Data/batch2.pkl','wb') as fp:\n",
    "        pickle.dump(bat_dict,fp)"
   ]
  }
 ],
 "metadata": {
  "kernelspec": {
   "display_name": "mon_venv",
   "language": "python",
   "name": "python3"
  },
  "language_info": {
   "codemirror_mode": {
    "name": "ipython",
    "version": 3
   },
   "file_extension": ".py",
   "mimetype": "text/x-python",
   "name": "python",
   "nbconvert_exporter": "python",
   "pygments_lexer": "ipython3",
   "version": "3.11.10"
  }
 },
 "nbformat": 4,
 "nbformat_minor": 2
}
