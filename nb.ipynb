{
 "cells": [
  {
   "cell_type": "markdown",
   "metadata": {},
   "source": [
    "# Data-driven prediction of battery cycle life before capacity degradation\n",
    "\n",
    "_Zoé Marquis & Charlotte Kruzic_"
   ]
  },
  {
   "cell_type": "markdown",
   "metadata": {},
   "source": [
    "## 1. Introduction \n",
    "### Présentation du contexte \n",
    "\n",
    "D'après la documentation : \n",
    "\n",
    "#### Caractéristiques des données\n",
    "- Batteries : 124 cellules lithium-ion testées jusqu'à leur défaillance\n",
    "- Conditions de cycle : \n",
    "    - Politiques de charge rapide au format : “C1(Q1)-C2”.\n",
    "    - Tensions limites : 2,0V (inf) et 3,6V (sup)\n",
    "    - Décharge à un taux de 4C\n",
    "- Batches : Trois groupes distincts de données avec des spécificités propres\n",
    "- Mesures disponibles : \n",
    "    - SOH\n",
    "    - Résistance interne (à 30% SOC)\n",
    "    - Température (susceptible de variations et de bruit)\n",
    "\n",
    "Les données pour chaque batterie peuvent être classées en trois grandes catégories : descripteurs, résumé et cycle.\n",
    "\n",
    "1. Descripteurs\n",
    "Les descripteurs fournissent des informations générales sur chaque batterie, notamment :\n",
    "\n",
    "- Politique de charge : Le schéma de charge rapide utilisé pour la batterie (ex. : \"C1(Q1)-C2\").\n",
    "- Durée de vie en cycles : Nombre total de cycles avant que la batterie atteigne sa défaillance.\n",
    "- Barcode et canal : Identifiants uniques de la batterie et du canal de mesure (ces informations ne sont pas disponibles dans les fichiers .pkl actuellement).\n",
    "\n",
    "2. Données résumées (Summary)\n",
    "Ces données sont agrégées à l’échelle de chaque cycle et comprennent :\n",
    "\n",
    "Numéro de cycle : Indique le numéro du cycle dans la durée de vie de la batterie.\n",
    "Capacité de décharge : Quantité d'énergie que la batterie peut fournir au cours d’un cycle.\n",
    "Capacité de charge : Quantité d'énergie que la batterie peut absorber au cours d’un cycle.\n",
    "Résistance interne : Mesurée à 80% de l’état de charge (SOC).\n",
    "Températures :\n",
    "Température maximale.\n",
    "Température moyenne.\n",
    "Température minimale.\n",
    "Temps de charge : Durée nécessaire pour recharger la batterie au cours du cycle.\n",
    "3. Données de cycle\n",
    "Ces données détaillent les mesures prises tout au long d’un cycle et incluent :\n",
    "\n",
    "Temps : Chronométrage des différentes étapes au sein d’un cycle.\n",
    "Capacité de charge : Évolution de la capacité accumulée au cours du processus de charge.\n",
    "Capacité de décharge : Évolution de la capacité libérée pendant le processus de décharge.\n",
    "Courant : Intensité du courant appliqué.\n",
    "Tension (Voltage) : Différence de potentiel mesurée pendant la charge et la décharge.\n",
    "Température : Variations de température tout au long du cycle.\n",
    "Les données dérivées incluent :\n",
    "\n",
    "d\n",
    "Q\n",
    "/\n",
    "d\n",
    "V\n",
    "dQ/dV : Dérivée de la capacité de décharge en fonction de la tension.\n",
    "Q\n",
    "d\n",
    "lin\n",
    "Qd \n",
    "lin\n",
    "​\t\n",
    "  : Capacité de décharge interpolée linéairement.\n",
    "T\n",
    "d\n",
    "lin\n",
    "Td \n",
    "lin\n",
    "​\t\n",
    "  : Température interpolée linéairement.\n",
    "\n",
    "### Objectifs"
   ]
  },
  {
   "cell_type": "markdown",
   "metadata": {},
   "source": [
    "## 2. Exploration des données\n",
    "### Chargement et description des données\n"
   ]
  },
  {
   "cell_type": "code",
   "execution_count": null,
   "metadata": {},
   "outputs": [],
   "source": []
  },
  {
   "cell_type": "code",
   "execution_count": null,
   "metadata": {},
   "outputs": [],
   "source": []
  },
  {
   "cell_type": "code",
   "execution_count": null,
   "metadata": {},
   "outputs": [],
   "source": []
  },
  {
   "cell_type": "code",
   "execution_count": null,
   "metadata": {},
   "outputs": [],
   "source": []
  },
  {
   "cell_type": "code",
   "execution_count": null,
   "metadata": {},
   "outputs": [],
   "source": [
    "# combiner les données des 3 batchs"
   ]
  },
  {
   "cell_type": "markdown",
   "metadata": {},
   "source": [
    "### Analyse exploratoire \n",
    "### Préparation des données"
   ]
  },
  {
   "cell_type": "code",
   "execution_count": null,
   "metadata": {},
   "outputs": [],
   "source": [
    "# corriger erreurs de temps qui se réinit à zéro en milieu de cycle "
   ]
  },
  {
   "cell_type": "code",
   "execution_count": null,
   "metadata": {},
   "outputs": [],
   "source": [
    "# visualiser évolution \n",
    "# calcul du SOH si nécessaire\n",
    "# transformation : valeurs maquantes (interpolation ou imputation), normalisation..."
   ]
  },
  {
   "cell_type": "code",
   "execution_count": null,
   "metadata": {},
   "outputs": [],
   "source": [
    "# Ajouter des variables telles que :\n",
    "# Température moyenne par cycle.\n",
    "# Résistance interne.\n",
    "# Taux de charge et décharge.\n",
    "# Extraire les informations des politiques de charge rapide (“C1(Q1)-C2”)."
   ]
  },
  {
   "cell_type": "markdown",
   "metadata": {},
   "source": []
  },
  {
   "cell_type": "code",
   "execution_count": null,
   "metadata": {},
   "outputs": [],
   "source": [
    "# split train test"
   ]
  },
  {
   "cell_type": "markdown",
   "metadata": {},
   "source": [
    "## 3. Modélisation \n",
    "### Modèle 1 : \n",
    "### Modèle 2 : \n",
    "### Modèle 3 : "
   ]
  },
  {
   "cell_type": "code",
   "execution_count": null,
   "metadata": {},
   "outputs": [],
   "source": [
    "# Modèles basiques : Régression linéaire, Random Forest.\n",
    "# Modèles avancés : Réseaux de neurones récurrents (RNN, LSTM, GRU).\n",
    "\n",
    "# Régression linéaire : Point de départ pour comprendre la relation linéaire.\n",
    "# Random Forest : Modèle robuste pour capturer les non-linéarités.\n",
    "# RNN / LSTM : Adapter pour les données séquentielles, avec gestion des fenêtres temporelles.\n",
    "\n",
    "# Comparer les résultats avec des métriques :\n",
    "# RMSE : Erreur quadratique moyenne.\n",
    "# MAE : Erreur absolue moyenne.\n",
    "# R² : Coefficient de détermination."
   ]
  },
  {
   "cell_type": "markdown",
   "metadata": {},
   "source": [
    "## 4. Comparaison des métriques pour évaluer la performance des différents modèles"
   ]
  },
  {
   "cell_type": "code",
   "execution_count": null,
   "metadata": {},
   "outputs": [],
   "source": [
    "# Optimisation : \n",
    "# Ajuster les hyperparamètres des modèles pour améliorer les performances (Grid Search, Random Search).\n",
    "# Analyser les temps de calcul et optimiser le code si nécessaire."
   ]
  },
  {
   "cell_type": "markdown",
   "metadata": {},
   "source": [
    "## 5. Explicabilité\n",
    "### Application des outils d'explicabilité\n",
    "### Discussion des résultats"
   ]
  },
  {
   "cell_type": "markdown",
   "metadata": {},
   "source": [
    "## 6. Conclusion\n",
    "### Résumé des performances des modèles\n",
    "### Interprétation des résultats d'explicabilité\n",
    "### Perspectives : comment utiliser les résultats pour guider la maintenance et l’optimisation des batteries"
   ]
  },
  {
   "cell_type": "markdown",
   "metadata": {},
   "source": []
  }
 ],
 "metadata": {
  "kernelspec": {
   "display_name": "Python 3",
   "language": "python",
   "name": "python3"
  },
  "language_info": {
   "name": "python",
   "version": "3.13.1"
  }
 },
 "nbformat": 4,
 "nbformat_minor": 2
}
