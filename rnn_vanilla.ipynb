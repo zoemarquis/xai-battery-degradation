{
 "cells": [
  {
   "cell_type": "code",
   "execution_count": null,
   "metadata": {},
   "outputs": [],
   "source": [
    "# from keras.models import Sequential\n",
    "# from keras.layers import SimpleRNN, Dense, Dropout\n",
    "# from keras.optimizers import Adam\n",
    "\n",
    "# def create_simple_rnn(input_shape, units=100, dropout_rate=0.2, activation='tanh', learning_rate=0.001):\n",
    "#     model = Sequential()\n",
    "#     model.add(SimpleRNN(units=units, input_shape=input_shape, activation=activation))\n",
    "#     model.add(Dropout(dropout_rate))\n",
    "#     model.add(Dense(1))  # Pour un problème de régression\n",
    "#     model.compile(optimizer=Adam(learning_rate=learning_rate), loss='mse')\n",
    "#     return model\n"
   ]
  },
  {
   "cell_type": "code",
   "execution_count": null,
   "metadata": {},
   "outputs": [],
   "source": [
    "# Bidirectional \n",
    "\n",
    "# from keras.models import Sequential\n",
    "# from keras.layers import SimpleRNN, Bidirectional, Dense, Dropout\n",
    "# from keras.optimizers import Adam\n",
    "\n",
    "# def create_bidirectional_rnn(input_shape, units=100, dropout_rate=0.2, activation='tanh', learning_rate=0.001):\n",
    "#     model = Sequential()\n",
    "#     model.add(Bidirectional(SimpleRNN(units=units, activation=activation), input_shape=input_shape))\n",
    "#     model.add(Dropout(dropout_rate))\n",
    "#     model.add(Dense(1))  # Pour un problème de régression\n",
    "#     model.compile(optimizer=Adam(learning_rate=learning_rate), loss='mse')\n",
    "#     return model\n"
   ]
  }
 ],
 "metadata": {
  "kernelspec": {
   "display_name": "mon_venv",
   "language": "python",
   "name": "python3"
  },
  "language_info": {
   "name": "python",
   "version": "3.11.10"
  }
 },
 "nbformat": 4,
 "nbformat_minor": 2
}
