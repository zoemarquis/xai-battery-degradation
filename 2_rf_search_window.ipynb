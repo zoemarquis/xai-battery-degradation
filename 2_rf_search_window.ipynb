{
 "cells": [
  {
   "cell_type": "markdown",
   "metadata": {},
   "source": [
    "# Random Forest\n"
   ]
  },
  {
   "cell_type": "code",
   "execution_count": 12,
   "metadata": {},
   "outputs": [],
   "source": [
    "# import\n",
    "import pickle\n",
    "\n",
    "import numpy as np\n",
    "np.random.seed(42)\n",
    "\n",
    "from sklearn.model_selection import KFold\n",
    "from sklearn.ensemble import RandomForestRegressor\n",
    "from sklearn.metrics import mean_absolute_percentage_error, mean_squared_error, mean_absolute_error, root_mean_squared_error\n"
   ]
  },
  {
   "cell_type": "code",
   "execution_count": 13,
   "metadata": {},
   "outputs": [],
   "source": [
    "data_50w_20s = pickle.load(open(\"Data/donnees_50w_20s.pkl\", \"rb\"))\n",
    "data_100w_20s = pickle.load(open(\"Data/donnees_100w_20s.pkl\", \"rb\"))\n",
    "data_150w_20s = pickle.load(open(\"Data/donnees_150w_20s.pkl\", \"rb\"))\n",
    "\n",
    "data_50w_10s = pickle.load(open(\"Data/donnees_50w_10s.pkl\", \"rb\"))\n",
    "data_100w_10s = pickle.load(open(\"Data/donnees_100w_10s.pkl\", \"rb\"))\n",
    "\n",
    "data_50w_5s = pickle.load(open(\"Data/donnees_50w_5s.pkl\", \"rb\"))\n",
    "\n",
    "data_30w_10s = pickle.load(open(\"Data/donnees_30w_10s.pkl\", \"rb\"))\n",
    "data_20w_10s = pickle.load(open(\"Data/donnees_20w_10s.pkl\", \"rb\"))\n",
    "\n",
    "data_20w_5s = pickle.load(open(\"Data/donnees_20w_5s.pkl\", \"rb\"))\n"
   ]
  },
  {
   "cell_type": "code",
   "execution_count": 14,
   "metadata": {},
   "outputs": [],
   "source": [
    "datasets = {\n",
    "    # \"50w_20s\": (data_50w_20s['X_np_label'], data_50w_20s['y_np']),\n",
    "    # \"100w_20s\": (data_100w_20s['X_np_label'], data_100w_20s['y_np']),\n",
    "    # # \"150w_20s\": (data_150w_20s['X_np_label'], data_150w_20s['y_np']),\n",
    "    \n",
    "    # \"50w_10s\": (data_50w_10s['X_np_label'], data_50w_10s['y_np']),\n",
    "    # \"100w_10s\": (data_100w_10s['X_np_label'], data_100w_10s['y_np']),\n",
    "\n",
    "    # \"50w_5s\": (data_50w_5s['X_np_label'], data_50w_5s['y_np']),\n",
    "    # \"30w_10s\": (data_30w_10s['X_np_label'], data_30w_10s['y_np']),\n",
    "    # \"20w_10s\": (data_20w_10s['X_np_label'], data_20w_10s['y_np']),\n",
    "    \"20w_5s\": (data_20w_5s['X_np_label'], data_20w_5s['y_np']),\n",
    "}"
   ]
  },
  {
   "cell_type": "code",
   "execution_count": 15,
   "metadata": {},
   "outputs": [],
   "source": [
    "rf = RandomForestRegressor(n_estimators=100, random_state=42)"
   ]
  },
  {
   "cell_type": "code",
   "execution_count": 16,
   "metadata": {},
   "outputs": [],
   "source": [
    "n_splits = 5\n",
    "kf = KFold(n_splits=n_splits, shuffle=True, random_state=42)"
   ]
  },
  {
   "cell_type": "code",
   "execution_count": 17,
   "metadata": {},
   "outputs": [],
   "source": [
    "results = {\n",
    "    'MSE': {},\n",
    "    'MAE': {},\n",
    "    'RMSE': {},\n",
    "    'MAPE': {}\n",
    "}"
   ]
  },
  {
   "cell_type": "code",
   "execution_count": 18,
   "metadata": {},
   "outputs": [
    {
     "name": "stdout",
     "output_type": "stream",
     "text": [
      "Window size 20w_5s :\n",
      "MSE : 0.095717\n",
      "MAE : 0.155772\n",
      "RMSE : 0.308170\n",
      "MAPE : 0.001688\n",
      "Best window size for MSE : 20w_5s (0.095717)\n",
      "Best window size for MAE : 20w_5s (0.155772)\n",
      "Best window size for RMSE : 20w_5s (0.308170)\n",
      "Best window size for MAPE : 20w_5s (0.001688)\n"
     ]
    }
   ],
   "source": [
    "for window_size, (X, y) in datasets.items():\n",
    "    mse_scores = []\n",
    "    mae_scores = []\n",
    "    rmse_scores = []\n",
    "    mape_scores = []\n",
    "\n",
    "    for train_index, test_index in kf.split(X):\n",
    "        X_train, X_test = X[train_index], X[test_index]\n",
    "        y_train, y_test = y[train_index], y[test_index]\n",
    "\n",
    "        rf.fit(X_train, y_train)\n",
    "        y_pred = rf.predict(X_test)\n",
    "\n",
    "        mse = mean_squared_error(y_test, y_pred)\n",
    "        mae = mean_absolute_error(y_test, y_pred)\n",
    "        rmse = root_mean_squared_error(y_test, y_pred)\n",
    "        mape = mean_absolute_percentage_error(y_test, y_pred)\n",
    "\n",
    "        mse_scores.append(mse)\n",
    "        mae_scores.append(mae)  \n",
    "        rmse_scores.append(rmse)\n",
    "        mape_scores.append(mape)\n",
    "\n",
    "    results['MSE'][window_size] = np.mean(mse_scores)\n",
    "    results['MAE'][window_size] = np.mean(mae_scores)\n",
    "    results['RMSE'][window_size] = np.mean(rmse_scores)\n",
    "    results['MAPE'][window_size] = np.mean(mape_scores)\n",
    "\n",
    "    print(f\"Window size {window_size} :\")\n",
    "    print(f\"MSE : {results['MSE'][window_size]:.6f}\")\n",
    "    print(f\"MAE : {results['MAE'][window_size]:.6f}\")\n",
    "    print(f\"RMSE : {results['RMSE'][window_size]:.6f}\")\n",
    "    print(f\"MAPE : {results['MAPE'][window_size]:.6f}\")\n",
    "\n",
    "for metric in results.keys():\n",
    "    best_window_size = min(results[metric], key=results[metric].get)\n",
    "    print(f\"Best window size for {metric} : {best_window_size} ({results[metric][best_window_size]:.6f})\")"
   ]
  },
  {
   "cell_type": "code",
   "execution_count": 19,
   "metadata": {},
   "outputs": [],
   "source": [
    "# !! GARDER CETTE CELLULE COMME REFERENCE \n",
    "# On avait testé aussi avec des fenetres de taille 150 : moins bonnes performances\n",
    "# On vait commencé par tester 50, 100 et 150 pour des strides de 20 :\n",
    "# output : \n",
    "# \n",
    "# Window size 50w_20s :\n",
    "# MSE : 0.251766\n",
    "# MAE : 0.281433\n",
    "# RMSE : 0.489894\n",
    "# MAPE : 0.003025\n",
    "# \n",
    "# Window size 100w_20s :\n",
    "# MSE : 0.195945\n",
    "# MAE : 0.284542\n",
    "# RMSE : 0.442379\n",
    "# MAPE : 0.003062\n",
    "# \n",
    "# Window size 150w_20s :\n",
    "# MSE : 0.269007\n",
    "# MAE : 0.300674\n",
    "# RMSE : 0.511903\n",
    "# MAPE : 0.003244\n",
    "#\n",
    "# Best window size for MSE : 100w_20s (0.195945)\n",
    "# Best window size for MAE : 50w_20s (0.281433)\n",
    "# Best window size for RMSE : 100w_20s (0.442379)\n",
    "# Best window size for MAPE : 50w_20s (0.003025)"
   ]
  },
  {
   "cell_type": "code",
   "execution_count": 20,
   "metadata": {},
   "outputs": [],
   "source": [
    "# Ensuite on a testé pour des strides de 10 et 20 (avec des fenetres de taille 50 et 100 seulement)\n",
    "# output :\n",
    "# \n",
    "# Window size 50w_10s :\n",
    "# MSE : 0.160286\n",
    "# MAE : 0.220491\n",
    "# RMSE : 0.397901\n",
    "# MAPE : 0.002376\n",
    "# \n",
    "# Window size 100w_10s :\n",
    "# MSE : 0.164803\n",
    "# MAE : 0.228040\n",
    "# RMSE : 0.403471\n",
    "# MAPE : 0.002460\n",
    "#\n",
    "# Best window size for MSE : 50w_10s (0.160286)\n",
    "# Best window size for MAE : 50w_10s (0.220491)\n",
    "# Best window size for RMSE : 50w_10s (0.397901)\n",
    "# Best window size for MAPE : 50w_10s (0.002376)\n",
    "\n",
    "# 32 minutes, c'est surtout 100w_10s qui était long "
   ]
  },
  {
   "cell_type": "code",
   "execution_count": 21,
   "metadata": {},
   "outputs": [],
   "source": [
    "# On a ensuite testé pour des strides de 5 et 10 (avec des fenetres de taille 50 seulement pour ne pas que ce soit trop long)\n",
    "# \n",
    "# Window size 50w_5s :\n",
    "# MSE : 0.098205\n",
    "# MAE : 0.162782\n",
    "# RMSE : 0.310212\n",
    "# MAPE : 0.001763\n",
    "\n",
    "# Bien plus long (17 minutes 40), même si quand même un peu meilleur mais en terme de temps...\n",
    "# On décide donc de garder 50w_10s comme meilleur modèle\n"
   ]
  },
  {
   "cell_type": "code",
   "execution_count": 22,
   "metadata": {},
   "outputs": [],
   "source": [
    "# Window size 30w_10s :\n",
    "# MSE : 0.163054\n",
    "# MAE : 0.217409\n",
    "# RMSE : 0.398092\n",
    "# MAPE : 0.002343\n",
    "\n",
    "# Best window size for MSE : 30w_10s (0.163054)         # 50w_10s (0.160286), légèrement moins bon, 0.003 de plus\n",
    "# Best window size for MAE : 30w_10s (0.217409)         # 50w_10s (0.220491), légèrement meilleur,  0.003 de moins\n",
    "# Best window size for RMSE : 30w_10s (0.398092)        # 50w_10s (0.397901), légèrement moins bon, 0.0002 de plus -> identique\n",
    "# Best window size for MAPE : 30w_10s (0.002343) # 50w_10s (0.002376), légèrement meilleur,     0.0003 de moins -> identique\n",
    "\n",
    "# Valeurs très proches de 50w_10s, on garde donc le modèle le plus rapide \n",
    "# temps pour 30w_10s : 5 min \n",
    "# temps pour 50w_10s : 7 min 45 "
   ]
  },
  {
   "cell_type": "code",
   "execution_count": 23,
   "metadata": {},
   "outputs": [],
   "source": [
    "# Window size 20w_10s :\n",
    "# MSE : 0.162244\n",
    "# MAE : 0.213713\n",
    "# RMSE : 0.401487\n",
    "# MAPE : 0.002303\n",
    "# Best window size for MSE : 20w_10s (0.162244)     # 30w_10s (0.163054), légèrement meilleur, 0.0008 de moins\n",
    "# Best window size for MAE : 20w_10s (0.213713)     # 30w_10s (0.217409), légèrement meilleur, 0.0037 de moins\n",
    "# Best window size for RMSE : 20w_10s (0.401487)    # 30w_10s (0.398092), légèrement moins bon, 0.0034 de plus\n",
    "# Best window size for MAPE : 20w_10s (0.002303)    # 30w_10s (0.002343), légèrement meilleur, 0.0004 de moins\n",
    "\n",
    "# temps : 3 min 30s "
   ]
  },
  {
   "cell_type": "code",
   "execution_count": null,
   "metadata": {},
   "outputs": [],
   "source": [
    "# Window size 20w_5s :\n",
    "# MSE : 0.095717\n",
    "# MAE : 0.155772\n",
    "# RMSE : 0.308170\n",
    "# MAPE : 0.001688\n",
    "# Best window size for MSE : 20w_5s (0.095717)      # 20w_10s (0.162244), bien meilleur, 0.066 de moins\n",
    "# Best window size for MAE : 20w_5s (0.155772)      # 20w_10s (0.213713), bien meilleur, 0.058 de moins\n",
    "# Best window size for RMSE : 20w_5s (0.308170)     # 20w_10s (0.401487), bien meilleur, 0.093 de moins\n",
    "# Best window size for MAPE : 20w_5s (0.001688)     # 20w_10s (0.002303), bien meilleur, 0.0006 de moins\n",
    "\n",
    "# 7 min 30 mais 4 minutes de plus \n",
    "\n",
    "# On conserve donc ?? "
   ]
  }
 ],
 "metadata": {
  "kernelspec": {
   "display_name": "mon_venv",
   "language": "python",
   "name": "python3"
  },
  "language_info": {
   "codemirror_mode": {
    "name": "ipython",
    "version": 3
   },
   "file_extension": ".py",
   "mimetype": "text/x-python",
   "name": "python",
   "nbconvert_exporter": "python",
   "pygments_lexer": "ipython3",
   "version": "3.11.11"
  }
 },
 "nbformat": 4,
 "nbformat_minor": 2
}
