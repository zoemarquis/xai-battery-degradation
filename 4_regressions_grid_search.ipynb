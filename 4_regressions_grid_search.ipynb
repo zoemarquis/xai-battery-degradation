{
 "cells": [
  {
   "cell_type": "markdown",
   "metadata": {},
   "source": [
    "## Régression "
   ]
  },
  {
   "cell_type": "code",
   "execution_count": 2,
   "metadata": {},
   "outputs": [],
   "source": [
    "# import\n",
    "\n",
    "import matplotlib.pyplot as plt\n",
    "\n",
    "import numpy as np\n",
    "np.random.seed(42)\n",
    "\n",
    "import pickle\n",
    "\n",
    "\n",
    "from sklearn.metrics import mean_absolute_percentage_error, mean_squared_error, mean_absolute_error, root_mean_squared_error\n",
    "from sklearn.model_selection import KFold, GridSearchCV\n",
    "from sklearn.linear_model import LinearRegression, Ridge, Lasso, ElasticNet\n",
    "\n",
    "from sklearn.metrics import make_scorer"
   ]
  },
  {
   "cell_type": "code",
   "execution_count": 3,
   "metadata": {},
   "outputs": [],
   "source": [
    "taille_fenetre_to_run = 20\n",
    "taille_stride_to_run = 5 \n",
    "# 20w_5s déterminer dans search window  "
   ]
  },
  {
   "cell_type": "code",
   "execution_count": 7,
   "metadata": {},
   "outputs": [],
   "source": [
    "data = pickle.load(open(f\"Data/donnees_{taille_fenetre_to_run}w_{taille_stride_to_run}s.pkl\", \"rb\"))"
   ]
  },
  {
   "cell_type": "code",
   "execution_count": 8,
   "metadata": {},
   "outputs": [],
   "source": [
    "models = {\n",
    "    \"Linear Regression\": LinearRegression(),\n",
    "    \"Ridge Regression\": Ridge(alpha=1.0, random_state=42),  # Alpha peut être ajusté\n",
    "    \"Lasso Regression\": Lasso(alpha=0.1, random_state=42),  # Alpha peut être ajusté\n",
    "    \"Elastic Net Regression\": ElasticNet(alpha=0.1, l1_ratio=0.5, random_state=42)  # Alpha et l1_ratio ajustables\n",
    "}"
   ]
  },
  {
   "cell_type": "code",
   "execution_count": 9,
   "metadata": {},
   "outputs": [
    {
     "data": {
      "text/plain": [
       "(19010, 158)"
      ]
     },
     "execution_count": 9,
     "metadata": {},
     "output_type": "execute_result"
    }
   ],
   "source": [
    "X_np_binary = data[\"X_np_binary\"] # label pourrait introduire un biais\n",
    "y_np = data[\"y_np\"]\n",
    "idx_explicabilite = data[\"idx_explicabilite\"]\n",
    "X_binary_explicabilite = data[\"X_binary_explicabilite\"]\n",
    "y_explicabilite = data[\"y_explicabilite\"]\n",
    "X_np_binary.shape"
   ]
  },
  {
   "cell_type": "code",
   "execution_count": 10,
   "metadata": {},
   "outputs": [],
   "source": [
    "features_binary = data[\"features_names_binary\"]"
   ]
  },
  {
   "cell_type": "code",
   "execution_count": 11,
   "metadata": {},
   "outputs": [],
   "source": [
    "n_splits = 5\n",
    "kf = KFold(n_splits=n_splits, random_state=42, shuffle=True) \n",
    "\n",
    "results = {model_name: {'MSE': [], 'MAE': [], 'RMSE': [], 'MAPE': []} for model_name in models.keys()}\n"
   ]
  },
  {
   "cell_type": "code",
   "execution_count": 8,
   "metadata": {},
   "outputs": [
    {
     "name": "stdout",
     "output_type": "stream",
     "text": [
      "Training and evaluating model: Linear Regression\n",
      "Fold: 0/5\n",
      "Fold: 1/5\n",
      "Fold: 2/5\n",
      "Fold: 3/5\n",
      "Fold: 4/5\n",
      "Training and evaluating model: Ridge Regression\n",
      "Fold: 0/5\n",
      "Fold: 1/5\n",
      "Fold: 2/5\n",
      "Fold: 3/5\n",
      "Fold: 4/5\n",
      "Training and evaluating model: Lasso Regression\n",
      "Fold: 0/5\n",
      "Fold: 1/5\n",
      "Fold: 2/5\n",
      "Fold: 3/5\n",
      "Fold: 4/5\n",
      "Training and evaluating model: Elastic Net Regression\n",
      "Fold: 0/5\n",
      "Fold: 1/5\n",
      "Fold: 2/5\n",
      "Fold: 3/5\n",
      "Fold: 4/5\n",
      "Model: Linear Regression\n",
      "MSE: 0.6231591540905607\n",
      "MAE: 0.41158995946412313\n",
      "RMSE: 0.7786337359501052\n",
      "MAPE: 0.0043201862422908325\n",
      "Model: Ridge Regression\n",
      "MSE: 0.3140089808056367\n",
      "MAE: 0.4046338499788555\n",
      "RMSE: 0.560218207574105\n",
      "MAPE: 0.004220195648303212\n",
      "Model: Lasso Regression\n",
      "MSE: 0.9035527328848675\n",
      "MAE: 0.7017115933354992\n",
      "RMSE: 0.9504060632816731\n",
      "MAPE: 0.007493167888930258\n",
      "Model: Elastic Net Regression\n",
      "MSE: 1.0523869081018742\n",
      "MAE: 0.7250202540940883\n",
      "RMSE: 1.0255871523943285\n",
      "MAPE: 0.00779402254860566\n"
     ]
    }
   ],
   "source": [
    "for model_name, model in models.items():\n",
    "    print(f\"Training and evaluating model: {model_name}\")\n",
    "    fold = 0\n",
    "    for train_index, test_index in kf.split(X_np_binary):\n",
    "        print(f\"Fold: {fold}/{n_splits}\")\n",
    "\n",
    "        X_train, X_test = X_np_binary[train_index], X_np_binary[test_index]\n",
    "        y_train, y_test = y_np[train_index], y_np[test_index]\n",
    "        \n",
    "        model.fit(X_train, y_train)\n",
    "        \n",
    "        y_pred = model.predict(X_test)\n",
    "        \n",
    "        results[model_name]['MSE'].append(mean_squared_error(y_test, y_pred))\n",
    "        results[model_name]['MAE'].append(mean_absolute_error(y_test, y_pred))\n",
    "        results[model_name]['RMSE'].append(root_mean_squared_error(y_test, y_pred))\n",
    "        results[model_name]['MAPE'].append(mean_absolute_percentage_error(y_test, y_pred))\n",
    "\n",
    "        filename = f\"Models/{model_name}_{taille_fenetre_to_run}w_{taille_stride_to_run}s_{fold}fold.pkl\"\n",
    "        pickle.dump(model, open(filename, \"wb\"))\n",
    "\n",
    "        fold += 1\n",
    "\n",
    "for model_name, metrics in results.items():\n",
    "    print(f\"Model: {model_name}\")\n",
    "    for metric_name, metric_values in metrics.items():\n",
    "        print(f\"{metric_name}: {np.mean(metric_values)}\")"
   ]
  },
  {
   "cell_type": "code",
   "execution_count": 9,
   "metadata": {},
   "outputs": [],
   "source": [
    "# # output \n",
    "\n",
    "# Résultats pour 50w_10s : \n",
    "\n",
    "# Model: Linear Regression\n",
    "# MSE: 3.28749919605441\n",
    "# MAE: 0.43617819174236877\n",
    "# RMSE: 1.535918252689962\n",
    "# MAPE: 0.00464676614408746\n",
    "\n",
    "# Model: Ridge Regression\n",
    "# MSE: 0.29579455479043126\n",
    "# MAE: 0.390148446122558\n",
    "# RMSE: 0.5426490449689598\n",
    "# MAPE: 0.00409710874170479\n",
    "\n",
    "# Model: Lasso Regression\n",
    "# MSE: 0.8949032010207849\n",
    "# MAE: 0.692852932556869\n",
    "# RMSE: 0.9454673628811353\n",
    "# MAPE: 0.007422811587634639\n",
    "\n",
    "# Model: Elastic Net Regression\n",
    "# MSE: 0.988576549953345\n",
    "# MAE: 0.6962051255211246\n",
    "# RMSE: 0.9937467970856739\n",
    "# MAPE: 0.0074642256087040365"
   ]
  },
  {
   "cell_type": "code",
   "execution_count": 10,
   "metadata": {},
   "outputs": [],
   "source": [
    "# # output \n",
    "\n",
    "# Résultats pour 20w_5s : \n",
    "\n",
    "# Model: Linear Regression\n",
    "# MSE: 0.6231591540905607       # amélioration de 5 fois\n",
    "# MAE: 0.41158995946412313      \n",
    "# RMSE: 0.7786337359501052      # amélioration de 2 fois\n",
    "# MAPE: 0.0043201862422908325\n",
    "\n",
    "# Model: Ridge Regression\n",
    "# MSE: 0.3140089808056367       \n",
    "# MAE: 0.4046338499788555\n",
    "# RMSE: 0.560218207574105    \n",
    "# MAPE: 0.004220195648303212\n",
    "\n",
    "# Model: Lasso Regression\n",
    "# MSE: 0.9035527328848675\n",
    "# MAE: 0.7017115933354992\n",
    "# RMSE: 0.9504060632816731\n",
    "# MAPE: 0.007493167888930258\n",
    "\n",
    "# Model: Elastic Net Regression\n",
    "# MSE: 1.0523869081018742       # détérioration de 0.06\n",
    "# MAE: 0.7250202540940883       # détérioration de 0.03\n",
    "# RMSE: 1.0255871523943285      # détérioration de 0.025\n",
    "# MAPE: 0.00779402254860566     "
   ]
  },
  {
   "cell_type": "code",
   "execution_count": 21,
   "metadata": {},
   "outputs": [
    {
     "name": "stdout",
     "output_type": "stream",
     "text": [
      "Performing GridSearch for Linear Regression...\n",
      "Fitting 5 folds for each of 2 candidates, totalling 10 fits\n",
      "[CV] END .................................fit_intercept=True; total time=   0.3s\n",
      "[CV] END ................................fit_intercept=False; total time=   0.3s\n",
      "[CV] END .................................fit_intercept=True; total time=   0.3s\n",
      "[CV] END .................................fit_intercept=True; total time=   0.3s\n",
      "[CV] END .................................fit_intercept=True; total time=   0.3s\n",
      "[CV] END .................................fit_intercept=True; total time=   0.3s\n",
      "[CV] END ................................fit_intercept=False; total time=   0.3s\n",
      "[CV] END ................................fit_intercept=False; total time=   0.2s\n",
      "[CV] END ................................fit_intercept=False; total time=   0.1s\n",
      "[CV] END ................................fit_intercept=False; total time=   0.1s\n",
      "Performing GridSearch for Ridge Regression...\n",
      "Fitting 5 folds for each of 56 candidates, totalling 280 fits\n",
      "[CV] END .........alpha=0.1, fit_intercept=True, solver=auto; total time=   0.0s\n",
      "[CV] END .........alpha=0.1, fit_intercept=True, solver=auto; total time=   0.0s\n",
      "[CV] END .........alpha=0.1, fit_intercept=True, solver=auto; total time=   0.0s\n",
      "[CV] END .........alpha=0.1, fit_intercept=True, solver=auto; total time=   0.0s\n",
      "[CV] END .........alpha=0.1, fit_intercept=True, solver=auto; total time=   0.0s\n",
      "[CV] END .....alpha=0.1, fit_intercept=True, solver=cholesky; total time=   0.0s\n",
      "[CV] END .....alpha=0.1, fit_intercept=True, solver=cholesky; total time=   0.0s\n",
      "[CV] END .....alpha=0.1, fit_intercept=True, solver=cholesky; total time=   0.1s\n",
      "[CV] END .....alpha=0.1, fit_intercept=True, solver=cholesky; total time=   0.1s\n",
      "[CV] END .....alpha=0.1, fit_intercept=True, solver=cholesky; total time=   0.1s\n",
      "[CV] END .........alpha=0.1, fit_intercept=True, solver=lsqr; total time=   0.4s\n",
      "[CV] END .........alpha=0.1, fit_intercept=True, solver=lsqr; total time=   0.4s\n",
      "[CV] END ..........alpha=0.1, fit_intercept=True, solver=svd; total time=   0.5s\n",
      "[CV] END .........alpha=0.1, fit_intercept=True, solver=lsqr; total time=   0.4s\n",
      "[CV] END ..........alpha=0.1, fit_intercept=True, solver=svd; total time=   0.5s\n",
      "[CV] END ..........alpha=0.1, fit_intercept=True, solver=svd; total time=   0.5s\n",
      "[CV] END ..........alpha=0.1, fit_intercept=True, solver=svd; total time=   0.5s\n",
      "[CV] END ..........alpha=0.1, fit_intercept=True, solver=svd; total time=   0.6s\n",
      "[CV] END ....alpha=0.1, fit_intercept=True, solver=sparse_cg; total time=   0.2s\n",
      "[CV] END ....alpha=0.1, fit_intercept=True, solver=sparse_cg; total time=   0.2s\n",
      "[CV] END .........alpha=0.1, fit_intercept=True, solver=lsqr; total time=   0.2s\n",
      "[CV] END ....alpha=0.1, fit_intercept=True, solver=sparse_cg; total time=   0.2s\n",
      "[CV] END .........alpha=0.1, fit_intercept=True, solver=lsqr; total time=   0.2s\n",
      "[CV] END ....alpha=0.1, fit_intercept=True, solver=sparse_cg; total time=   0.1s\n",
      "[CV] END ........alpha=0.1, fit_intercept=False, solver=auto; total time=   0.0s\n",
      "[CV] END ....alpha=0.1, fit_intercept=True, solver=sparse_cg; total time=   0.1s\n",
      "[CV] END ........alpha=0.1, fit_intercept=False, solver=auto; total time=   0.0s\n",
      "[CV] END ........alpha=0.1, fit_intercept=False, solver=auto; total time=   0.0s\n",
      "[CV] END ........alpha=0.1, fit_intercept=False, solver=auto; total time=   0.0s\n",
      "[CV] END .........alpha=0.1, fit_intercept=False, solver=svd; total time=   0.1s\n",
      "[CV] END .........alpha=0.1, fit_intercept=False, solver=svd; total time=   0.2s\n",
      "[CV] END .........alpha=0.1, fit_intercept=False, solver=svd; total time=   0.1s\n",
      "[CV] END .........alpha=0.1, fit_intercept=False, solver=svd; total time=   0.1s\n",
      "[CV] END ....alpha=0.1, fit_intercept=False, solver=cholesky; total time=   0.0s\n",
      "[CV] END ....alpha=0.1, fit_intercept=False, solver=cholesky; total time=   0.0s\n",
      "[CV] END .........alpha=0.1, fit_intercept=False, solver=svd; total time=   0.1s\n",
      "[CV] END ....alpha=0.1, fit_intercept=False, solver=cholesky; total time=   0.0s\n",
      "[CV] END ....alpha=0.1, fit_intercept=False, solver=cholesky; total time=   0.0s\n",
      "[CV] END ....alpha=0.1, fit_intercept=False, solver=cholesky; total time=   0.0s\n",
      "[CV] END ........alpha=0.1, fit_intercept=False, solver=lsqr; total time=   0.1s\n",
      "[CV] END ........alpha=0.1, fit_intercept=False, solver=lsqr; total time=   0.1s\n",
      "[CV] END ........alpha=0.1, fit_intercept=False, solver=lsqr; total time=   0.1s\n",
      "[CV] END ........alpha=0.1, fit_intercept=False, solver=lsqr; total time=   0.1s\n",
      "[CV] END ........alpha=0.1, fit_intercept=False, solver=lsqr; total time=   0.1s\n",
      "[CV] END ...alpha=0.1, fit_intercept=False, solver=sparse_cg; total time=   0.0s\n",
      "[CV] END ...alpha=0.1, fit_intercept=False, solver=sparse_cg; total time=   0.1s\n",
      "[CV] END ...alpha=0.1, fit_intercept=False, solver=sparse_cg; total time=   0.0s\n",
      "[CV] END ...alpha=0.1, fit_intercept=False, solver=sparse_cg; total time=   0.0s\n",
      "[CV] END ...alpha=0.1, fit_intercept=False, solver=sparse_cg; total time=   0.0s\n",
      "[CV] END ..........alpha=0.1, fit_intercept=True, solver=sag; total time=  10.1s\n",
      "[CV] END .........alpha=0.1, fit_intercept=False, solver=sag; total time=   9.5s\n",
      "[CV] END .........alpha=0.1, fit_intercept=False, solver=sag; total time=  10.4s\n",
      "[CV] END ..........alpha=0.1, fit_intercept=True, solver=sag; total time=  11.6s\n",
      "[CV] END ..........alpha=0.1, fit_intercept=True, solver=sag; total time=  11.7s\n",
      "[CV] END .........alpha=0.1, fit_intercept=True, solver=saga; total time=  14.4s\n",
      "[CV] END .........alpha=0.1, fit_intercept=True, solver=saga; total time=  17.1s\n",
      "[CV] END ........alpha=0.1, fit_intercept=False, solver=auto; total time=   0.0s\n",
      "[CV] END .........alpha=0.1, fit_intercept=True, solver=saga; total time=  17.4s\n"
     ]
    },
    {
     "name": "stderr",
     "output_type": "stream",
     "text": [
      "/Users/zoemarquis/Documents/projet_industrie/projet_batteries/mon_venv/lib/python3.11/site-packages/sklearn/linear_model/_sag.py:349: ConvergenceWarning: The max_iter was reached which means the coef_ did not converge\n",
      "  warnings.warn(\n"
     ]
    },
    {
     "name": "stdout",
     "output_type": "stream",
     "text": [
      "[CV] END .........alpha=0.1, fit_intercept=False, solver=sag; total time=   9.4s\n",
      "[CV] END ..........alpha=0.1, fit_intercept=True, solver=sag; total time=   8.8s\n",
      "[CV] END .........alpha=1.0, fit_intercept=True, solver=auto; total time=   0.0s\n",
      "[CV] END .........alpha=1.0, fit_intercept=True, solver=auto; total time=   0.0s\n",
      "[CV] END .........alpha=1.0, fit_intercept=True, solver=auto; total time=   0.0s\n",
      "[CV] END .........alpha=1.0, fit_intercept=True, solver=auto; total time=   0.0s\n",
      "[CV] END .........alpha=1.0, fit_intercept=True, solver=auto; total time=   0.0s\n",
      "[CV] END ..........alpha=1.0, fit_intercept=True, solver=svd; total time=   0.1s\n",
      "[CV] END ..........alpha=0.1, fit_intercept=True, solver=sag; total time=  10.4s\n",
      "[CV] END ..........alpha=1.0, fit_intercept=True, solver=svd; total time=   0.2s\n",
      "[CV] END ..........alpha=1.0, fit_intercept=True, solver=svd; total time=   0.2s\n",
      "[CV] END ..........alpha=1.0, fit_intercept=True, solver=svd; total time=   0.1s\n",
      "[CV] END .....alpha=1.0, fit_intercept=True, solver=cholesky; total time=   0.0s\n",
      "[CV] END .....alpha=1.0, fit_intercept=True, solver=cholesky; total time=   0.0s\n",
      "[CV] END .....alpha=1.0, fit_intercept=True, solver=cholesky; total time=   0.0s\n",
      "[CV] END .....alpha=1.0, fit_intercept=True, solver=cholesky; total time=   0.0s\n",
      "[CV] END ..........alpha=1.0, fit_intercept=True, solver=svd; total time=   0.2s\n",
      "[CV] END .....alpha=1.0, fit_intercept=True, solver=cholesky; total time=   0.0s\n",
      "[CV] END .........alpha=1.0, fit_intercept=True, solver=lsqr; total time=   0.1s\n",
      "[CV] END .........alpha=1.0, fit_intercept=True, solver=lsqr; total time=   0.1s\n",
      "[CV] END .........alpha=1.0, fit_intercept=True, solver=lsqr; total time=   0.1s\n",
      "[CV] END .........alpha=1.0, fit_intercept=True, solver=lsqr; total time=   0.1s\n",
      "[CV] END .........alpha=1.0, fit_intercept=True, solver=lsqr; total time=   0.1s\n",
      "[CV] END ....alpha=1.0, fit_intercept=True, solver=sparse_cg; total time=   0.1s\n",
      "[CV] END ....alpha=1.0, fit_intercept=True, solver=sparse_cg; total time=   0.1s\n",
      "[CV] END ....alpha=1.0, fit_intercept=True, solver=sparse_cg; total time=   0.1s\n",
      "[CV] END ....alpha=1.0, fit_intercept=True, solver=sparse_cg; total time=   0.1s\n",
      "[CV] END ....alpha=1.0, fit_intercept=True, solver=sparse_cg; total time=   0.1s\n",
      "[CV] END .........alpha=0.1, fit_intercept=False, solver=sag; total time=  11.6s\n",
      "[CV] END .........alpha=0.1, fit_intercept=False, solver=sag; total time=  11.6s\n",
      "[CV] END ..........alpha=1.0, fit_intercept=True, solver=sag; total time=   2.2s\n",
      "[CV] END ..........alpha=1.0, fit_intercept=True, solver=sag; total time=   2.3s\n",
      "[CV] END ..........alpha=1.0, fit_intercept=True, solver=sag; total time=   2.4s\n",
      "[CV] END ..........alpha=1.0, fit_intercept=True, solver=sag; total time=   2.2s\n",
      "[CV] END ..........alpha=1.0, fit_intercept=True, solver=sag; total time=   2.3s\n",
      "[CV] END .........alpha=1.0, fit_intercept=True, solver=saga; total time=   3.9s\n",
      "[CV] END .........alpha=1.0, fit_intercept=True, solver=saga; total time=   3.9s\n",
      "[CV] END .........alpha=1.0, fit_intercept=True, solver=saga; total time=   4.0s\n",
      "[CV] END ........alpha=1.0, fit_intercept=False, solver=auto; total time=   0.0s\n",
      "[CV] END ........alpha=1.0, fit_intercept=False, solver=auto; total time=   0.0s\n",
      "[CV] END ........alpha=1.0, fit_intercept=False, solver=auto; total time=   0.0s\n",
      "[CV] END ........alpha=1.0, fit_intercept=False, solver=auto; total time=   0.0s\n",
      "[CV] END ........alpha=1.0, fit_intercept=False, solver=auto; total time=   0.0s\n",
      "[CV] END .........alpha=1.0, fit_intercept=False, solver=svd; total time=   0.2s\n",
      "[CV] END .........alpha=1.0, fit_intercept=False, solver=svd; total time=   0.2s\n",
      "[CV] END .........alpha=1.0, fit_intercept=False, solver=svd; total time=   0.2s\n",
      "[CV] END .........alpha=1.0, fit_intercept=False, solver=svd; total time=   0.1s\n",
      "[CV] END .........alpha=1.0, fit_intercept=False, solver=svd; total time=   0.2s\n",
      "[CV] END ....alpha=1.0, fit_intercept=False, solver=cholesky; total time=   0.0s\n",
      "[CV] END ....alpha=1.0, fit_intercept=False, solver=cholesky; total time=   0.0s\n",
      "[CV] END ....alpha=1.0, fit_intercept=False, solver=cholesky; total time=   0.0s\n",
      "[CV] END ....alpha=1.0, fit_intercept=False, solver=cholesky; total time=   0.0s\n",
      "[CV] END ....alpha=1.0, fit_intercept=False, solver=cholesky; total time=   0.0s\n",
      "[CV] END ........alpha=1.0, fit_intercept=False, solver=lsqr; total time=   0.1s\n",
      "[CV] END ........alpha=1.0, fit_intercept=False, solver=lsqr; total time=   0.1s\n",
      "[CV] END ........alpha=1.0, fit_intercept=False, solver=lsqr; total time=   0.1s\n",
      "[CV] END ........alpha=1.0, fit_intercept=False, solver=lsqr; total time=   0.1s\n",
      "[CV] END ........alpha=1.0, fit_intercept=False, solver=lsqr; total time=   0.1s\n",
      "[CV] END ...alpha=1.0, fit_intercept=False, solver=sparse_cg; total time=   0.0s\n",
      "[CV] END ...alpha=1.0, fit_intercept=False, solver=sparse_cg; total time=   0.0s\n",
      "[CV] END ...alpha=1.0, fit_intercept=False, solver=sparse_cg; total time=   0.0s\n",
      "[CV] END ...alpha=1.0, fit_intercept=False, solver=sparse_cg; total time=   0.1s\n",
      "[CV] END ........alpha=0.1, fit_intercept=False, solver=saga; total time=  14.3s\n",
      "[CV] END ...alpha=1.0, fit_intercept=False, solver=sparse_cg; total time=   0.0s\n",
      "[CV] END ........alpha=0.1, fit_intercept=False, solver=saga; total time=  12.3s\n",
      "[CV] END .........alpha=0.1, fit_intercept=True, solver=saga; total time=  18.2s\n",
      "[CV] END .........alpha=1.0, fit_intercept=True, solver=saga; total time=   4.3s\n",
      "[CV] END .........alpha=1.0, fit_intercept=True, solver=saga; total time=   4.3s\n",
      "[CV] END .........alpha=1.0, fit_intercept=False, solver=sag; total time=   2.5s\n",
      "[CV] END .........alpha=1.0, fit_intercept=False, solver=sag; total time=   2.5s\n"
     ]
    },
    {
     "name": "stderr",
     "output_type": "stream",
     "text": [
      "/Users/zoemarquis/Documents/projet_industrie/projet_batteries/mon_venv/lib/python3.11/site-packages/sklearn/linear_model/_sag.py:349: ConvergenceWarning: The max_iter was reached which means the coef_ did not converge\n",
      "  warnings.warn(\n"
     ]
    },
    {
     "name": "stdout",
     "output_type": "stream",
     "text": [
      "[CV] END .........alpha=0.1, fit_intercept=True, solver=saga; total time=  18.6s\n",
      "[CV] END .........alpha=1.0, fit_intercept=False, solver=sag; total time=   2.7s\n",
      "[CV] END .........alpha=1.0, fit_intercept=False, solver=sag; total time=   2.4s\n",
      "[CV] END .........alpha=1.0, fit_intercept=False, solver=sag; total time=   2.6s\n",
      "[CV] END ........alpha=0.1, fit_intercept=False, solver=saga; total time=  13.5s\n",
      "[CV] END ........alpha=10.0, fit_intercept=True, solver=auto; total time=   0.0s\n",
      "[CV] END ........alpha=10.0, fit_intercept=True, solver=auto; total time=   0.0s\n",
      "[CV] END ........alpha=10.0, fit_intercept=True, solver=auto; total time=   0.0s\n",
      "[CV] END ........alpha=10.0, fit_intercept=True, solver=auto; total time=   0.0s\n",
      "[CV] END ........alpha=10.0, fit_intercept=True, solver=auto; total time=   0.0s\n",
      "[CV] END .........alpha=10.0, fit_intercept=True, solver=svd; total time=   0.2s\n",
      "[CV] END .........alpha=10.0, fit_intercept=True, solver=svd; total time=   0.2s\n",
      "[CV] END .........alpha=10.0, fit_intercept=True, solver=svd; total time=   0.2s\n",
      "[CV] END .........alpha=10.0, fit_intercept=True, solver=svd; total time=   0.2s\n",
      "[CV] END .........alpha=10.0, fit_intercept=True, solver=svd; total time=   0.2s\n",
      "[CV] END ....alpha=10.0, fit_intercept=True, solver=cholesky; total time=   0.0s\n",
      "[CV] END ....alpha=10.0, fit_intercept=True, solver=cholesky; total time=   0.0s\n",
      "[CV] END ....alpha=10.0, fit_intercept=True, solver=cholesky; total time=   0.0s\n",
      "[CV] END ....alpha=10.0, fit_intercept=True, solver=cholesky; total time=   0.0s\n",
      "[CV] END ....alpha=10.0, fit_intercept=True, solver=cholesky; total time=   0.0s\n",
      "[CV] END ........alpha=10.0, fit_intercept=True, solver=lsqr; total time=   0.1s\n",
      "[CV] END ........alpha=10.0, fit_intercept=True, solver=lsqr; total time=   0.1s\n",
      "[CV] END ........alpha=10.0, fit_intercept=True, solver=lsqr; total time=   0.1s\n",
      "[CV] END ........alpha=10.0, fit_intercept=True, solver=lsqr; total time=   0.1s\n",
      "[CV] END ........alpha=10.0, fit_intercept=True, solver=lsqr; total time=   0.1s\n",
      "[CV] END ...alpha=10.0, fit_intercept=True, solver=sparse_cg; total time=   0.0s\n",
      "[CV] END ...alpha=10.0, fit_intercept=True, solver=sparse_cg; total time=   0.0s\n",
      "[CV] END ...alpha=10.0, fit_intercept=True, solver=sparse_cg; total time=   0.0s\n",
      "[CV] END ...alpha=10.0, fit_intercept=True, solver=sparse_cg; total time=   0.1s\n",
      "[CV] END ...alpha=10.0, fit_intercept=True, solver=sparse_cg; total time=   0.1s\n",
      "[CV] END .........alpha=10.0, fit_intercept=True, solver=sag; total time=   0.5s\n",
      "[CV] END .........alpha=10.0, fit_intercept=True, solver=sag; total time=   0.5s\n",
      "[CV] END ........alpha=1.0, fit_intercept=False, solver=saga; total time=   4.3s\n",
      "[CV] END .........alpha=10.0, fit_intercept=True, solver=sag; total time=   0.4s\n",
      "[CV] END ........alpha=1.0, fit_intercept=False, solver=saga; total time=   4.1s\n",
      "[CV] END .........alpha=10.0, fit_intercept=True, solver=sag; total time=   0.4s\n",
      "[CV] END ........alpha=1.0, fit_intercept=False, solver=saga; total time=   3.7s\n",
      "[CV] END .........alpha=10.0, fit_intercept=True, solver=sag; total time=   0.5s\n",
      "[CV] END ........alpha=1.0, fit_intercept=False, solver=saga; total time=   4.8s\n",
      "[CV] END ........alpha=10.0, fit_intercept=True, solver=saga; total time=   1.0s\n",
      "[CV] END ........alpha=10.0, fit_intercept=True, solver=saga; total time=   1.0s\n",
      "[CV] END .......alpha=10.0, fit_intercept=False, solver=auto; total time=   0.0s\n",
      "[CV] END .......alpha=10.0, fit_intercept=False, solver=auto; total time=   0.0s\n",
      "[CV] END .......alpha=10.0, fit_intercept=False, solver=auto; total time=   0.0s\n",
      "[CV] END .......alpha=10.0, fit_intercept=False, solver=auto; total time=   0.0s\n",
      "[CV] END .......alpha=10.0, fit_intercept=False, solver=auto; total time=   0.0s\n",
      "[CV] END ........alpha=10.0, fit_intercept=True, solver=saga; total time=   1.0s\n",
      "[CV] END ........alpha=10.0, fit_intercept=False, solver=svd; total time=   0.2s\n",
      "[CV] END ........alpha=10.0, fit_intercept=False, solver=svd; total time=   0.2s\n",
      "[CV] END ........alpha=10.0, fit_intercept=False, solver=svd; total time=   0.2s\n",
      "[CV] END ...alpha=10.0, fit_intercept=False, solver=cholesky; total time=   0.0s\n",
      "[CV] END ...alpha=10.0, fit_intercept=False, solver=cholesky; total time=   0.0s\n",
      "[CV] END ...alpha=10.0, fit_intercept=False, solver=cholesky; total time=   0.0s\n",
      "[CV] END ...alpha=10.0, fit_intercept=False, solver=cholesky; total time=   0.0s\n",
      "[CV] END ...alpha=10.0, fit_intercept=False, solver=cholesky; total time=   0.0s\n",
      "[CV] END ........alpha=10.0, fit_intercept=False, solver=svd; total time=   0.2s\n",
      "[CV] END ........alpha=10.0, fit_intercept=False, solver=svd; total time=   0.2s\n",
      "[CV] END .......alpha=10.0, fit_intercept=False, solver=lsqr; total time=   0.1s\n",
      "[CV] END .......alpha=10.0, fit_intercept=False, solver=lsqr; total time=   0.1s\n",
      "[CV] END .......alpha=10.0, fit_intercept=False, solver=lsqr; total time=   0.1s\n",
      "[CV] END ........alpha=1.0, fit_intercept=False, solver=saga; total time=   4.8s\n",
      "[CV] END ........alpha=10.0, fit_intercept=True, solver=saga; total time=   1.1s\n",
      "[CV] END ..alpha=10.0, fit_intercept=False, solver=sparse_cg; total time=   0.1s\n",
      "[CV] END .......alpha=10.0, fit_intercept=False, solver=lsqr; total time=   0.1s\n",
      "[CV] END ..alpha=10.0, fit_intercept=False, solver=sparse_cg; total time=   0.1s\n",
      "[CV] END ..alpha=10.0, fit_intercept=False, solver=sparse_cg; total time=   0.1s\n",
      "[CV] END .......alpha=10.0, fit_intercept=False, solver=lsqr; total time=   0.1s\n",
      "[CV] END ..alpha=10.0, fit_intercept=False, solver=sparse_cg; total time=   0.0s\n",
      "[CV] END ..alpha=10.0, fit_intercept=False, solver=sparse_cg; total time=   0.1s\n",
      "[CV] END ........alpha=10.0, fit_intercept=True, solver=saga; total time=   1.1s\n",
      "[CV] END ........alpha=10.0, fit_intercept=False, solver=sag; total time=   0.7s\n",
      "[CV] END ........alpha=10.0, fit_intercept=False, solver=sag; total time=   0.7s\n",
      "[CV] END ........alpha=10.0, fit_intercept=False, solver=sag; total time=   0.7s\n",
      "[CV] END ........alpha=10.0, fit_intercept=False, solver=sag; total time=   0.7s\n",
      "[CV] END ........alpha=10.0, fit_intercept=False, solver=sag; total time=   0.7s\n",
      "[CV] END .......alpha=100.0, fit_intercept=True, solver=auto; total time=   0.0s\n",
      "[CV] END .......alpha=100.0, fit_intercept=True, solver=auto; total time=   0.0s\n",
      "[CV] END .......alpha=100.0, fit_intercept=True, solver=auto; total time=   0.0s\n",
      "[CV] END .......alpha=100.0, fit_intercept=True, solver=auto; total time=   0.0s\n",
      "[CV] END .......alpha=100.0, fit_intercept=True, solver=auto; total time=   0.0s\n",
      "[CV] END ........alpha=100.0, fit_intercept=True, solver=svd; total time=   0.2s\n",
      "[CV] END ........alpha=100.0, fit_intercept=True, solver=svd; total time=   0.2s\n",
      "[CV] END ........alpha=100.0, fit_intercept=True, solver=svd; total time=   0.2s\n",
      "[CV] END .......alpha=10.0, fit_intercept=False, solver=saga; total time=   1.3s\n",
      "[CV] END ........alpha=100.0, fit_intercept=True, solver=svd; total time=   0.1s\n",
      "[CV] END ...alpha=100.0, fit_intercept=True, solver=cholesky; total time=   0.0s\n",
      "[CV] END ...alpha=100.0, fit_intercept=True, solver=cholesky; total time=   0.0s\n",
      "[CV] END ...alpha=100.0, fit_intercept=True, solver=cholesky; total time=   0.0s\n",
      "[CV] END ...alpha=100.0, fit_intercept=True, solver=cholesky; total time=   0.0s\n",
      "[CV] END ...alpha=100.0, fit_intercept=True, solver=cholesky; total time=   0.0s\n",
      "[CV] END ........alpha=100.0, fit_intercept=True, solver=svd; total time=   0.2s\n",
      "[CV] END .......alpha=100.0, fit_intercept=True, solver=lsqr; total time=   0.0s\n",
      "[CV] END .......alpha=100.0, fit_intercept=True, solver=lsqr; total time=   0.0s\n",
      "[CV] END .......alpha=100.0, fit_intercept=True, solver=lsqr; total time=   0.1s\n",
      "[CV] END .......alpha=100.0, fit_intercept=True, solver=lsqr; total time=   0.0s\n",
      "[CV] END .......alpha=100.0, fit_intercept=True, solver=lsqr; total time=   0.0s\n",
      "[CV] END ..alpha=100.0, fit_intercept=True, solver=sparse_cg; total time=   0.0s\n",
      "[CV] END ..alpha=100.0, fit_intercept=True, solver=sparse_cg; total time=   0.1s\n",
      "[CV] END ..alpha=100.0, fit_intercept=True, solver=sparse_cg; total time=   0.0s\n",
      "[CV] END ..alpha=100.0, fit_intercept=True, solver=sparse_cg; total time=   0.0s\n",
      "[CV] END ..alpha=100.0, fit_intercept=True, solver=sparse_cg; total time=   0.0s\n",
      "[CV] END .......alpha=10.0, fit_intercept=False, solver=saga; total time=   1.4s\n",
      "[CV] END .......alpha=10.0, fit_intercept=False, solver=saga; total time=   1.4s\n",
      "[CV] END .......alpha=10.0, fit_intercept=False, solver=saga; total time=   1.4s\n",
      "[CV] END .......alpha=10.0, fit_intercept=False, solver=saga; total time=   1.4s\n",
      "[CV] END ........alpha=100.0, fit_intercept=True, solver=sag; total time=   0.3s\n"
     ]
    },
    {
     "name": "stderr",
     "output_type": "stream",
     "text": [
      "/Users/zoemarquis/Documents/projet_industrie/projet_batteries/mon_venv/lib/python3.11/site-packages/joblib/externals/loky/process_executor.py:752: UserWarning: A worker stopped while some jobs were given to the executor. This can be caused by a too short worker timeout or by a memory leak.\n",
      "  warnings.warn(\n"
     ]
    },
    {
     "name": "stdout",
     "output_type": "stream",
     "text": [
      "[CV] END ........alpha=100.0, fit_intercept=True, solver=sag; total time=   0.3s\n",
      "[CV] END ........alpha=100.0, fit_intercept=True, solver=sag; total time=   0.3s\n",
      "[CV] END ........alpha=100.0, fit_intercept=True, solver=sag; total time=   0.3s\n",
      "[CV] END ........alpha=100.0, fit_intercept=True, solver=sag; total time=   0.3s\n",
      "[CV] END .......alpha=100.0, fit_intercept=True, solver=saga; total time=   0.3s\n",
      "[CV] END .......alpha=100.0, fit_intercept=True, solver=saga; total time=   0.3s\n",
      "[CV] END ......alpha=100.0, fit_intercept=False, solver=auto; total time=   0.0s\n",
      "[CV] END ......alpha=100.0, fit_intercept=False, solver=auto; total time=   0.0s\n",
      "[CV] END ......alpha=100.0, fit_intercept=False, solver=auto; total time=   0.0s\n",
      "[CV] END ......alpha=100.0, fit_intercept=False, solver=auto; total time=   0.0s\n",
      "[CV] END .......alpha=100.0, fit_intercept=True, solver=saga; total time=   0.3s\n",
      "[CV] END .......alpha=100.0, fit_intercept=True, solver=saga; total time=   0.3s\n",
      "[CV] END ......alpha=100.0, fit_intercept=False, solver=auto; total time=   0.0s\n",
      "[CV] END .......alpha=100.0, fit_intercept=True, solver=saga; total time=   0.3s\n",
      "[CV] END .......alpha=100.0, fit_intercept=False, solver=svd; total time=   0.2s\n",
      "[CV] END .......alpha=100.0, fit_intercept=False, solver=svd; total time=   0.3s\n",
      "[CV] END ..alpha=100.0, fit_intercept=False, solver=cholesky; total time=   0.0s\n",
      "[CV] END ..alpha=100.0, fit_intercept=False, solver=cholesky; total time=   0.0s\n",
      "[CV] END ..alpha=100.0, fit_intercept=False, solver=cholesky; total time=   0.0s\n",
      "[CV] END .......alpha=100.0, fit_intercept=False, solver=svd; total time=   0.3s\n",
      "[CV] END ..alpha=100.0, fit_intercept=False, solver=cholesky; total time=   0.0s\n",
      "[CV] END ..alpha=100.0, fit_intercept=False, solver=cholesky; total time=   0.0s\n",
      "[CV] END .......alpha=100.0, fit_intercept=False, solver=svd; total time=   0.3s\n",
      "[CV] END ......alpha=100.0, fit_intercept=False, solver=lsqr; total time=   0.1s\n",
      "[CV] END ......alpha=100.0, fit_intercept=False, solver=lsqr; total time=   0.1s\n",
      "[CV] END .......alpha=100.0, fit_intercept=False, solver=svd; total time=   0.3s\n",
      "[CV] END ......alpha=100.0, fit_intercept=False, solver=lsqr; total time=   0.1s\n",
      "[CV] END ......alpha=100.0, fit_intercept=False, solver=lsqr; total time=   0.1s\n",
      "[CV] END ......alpha=100.0, fit_intercept=False, solver=lsqr; total time=   0.1s\n",
      "[CV] END .alpha=100.0, fit_intercept=False, solver=sparse_cg; total time=   0.0s\n",
      "[CV] END .alpha=100.0, fit_intercept=False, solver=sparse_cg; total time=   0.1s\n",
      "[CV] END .alpha=100.0, fit_intercept=False, solver=sparse_cg; total time=   0.1s\n",
      "[CV] END .alpha=100.0, fit_intercept=False, solver=sparse_cg; total time=   0.1s\n",
      "[CV] END .alpha=100.0, fit_intercept=False, solver=sparse_cg; total time=   0.0s\n",
      "[CV] END .......alpha=100.0, fit_intercept=False, solver=sag; total time=   0.4s\n",
      "[CV] END .......alpha=100.0, fit_intercept=False, solver=sag; total time=   0.4s\n",
      "[CV] END .......alpha=100.0, fit_intercept=False, solver=sag; total time=   0.4s\n",
      "[CV] END .......alpha=100.0, fit_intercept=False, solver=sag; total time=   0.5s\n",
      "[CV] END ......alpha=100.0, fit_intercept=False, solver=saga; total time=   0.3s\n",
      "[CV] END ......alpha=100.0, fit_intercept=False, solver=saga; total time=   0.3s\n",
      "[CV] END ......alpha=100.0, fit_intercept=False, solver=saga; total time=   0.3s\n",
      "[CV] END ......alpha=100.0, fit_intercept=False, solver=saga; total time=   0.3s\n",
      "[CV] END ......alpha=100.0, fit_intercept=False, solver=saga; total time=   0.3s\n",
      "[CV] END .......alpha=100.0, fit_intercept=False, solver=sag; total time=   0.3s\n",
      "[CV] END ........alpha=0.1, fit_intercept=False, solver=saga; total time=  14.8s\n",
      "[CV] END ........alpha=0.1, fit_intercept=False, solver=saga; total time=  14.9s\n",
      "Performing GridSearch for Lasso Regression...\n",
      "Fitting 5 folds for each of 144 candidates, totalling 720 fits\n",
      "[CV] END alpha=0.01, fit_intercept=True, max_iter=1000, selection=cyclic, tol=0.001; total time=   1.4s\n",
      "[CV] END alpha=0.01, fit_intercept=True, max_iter=1000, selection=cyclic, tol=0.001; total time=   1.4s\n",
      "[CV] END alpha=0.01, fit_intercept=True, max_iter=1000, selection=cyclic, tol=0.001; total time=   1.4s\n",
      "[CV] END alpha=0.01, fit_intercept=True, max_iter=1000, selection=cyclic, tol=0.0001; total time=   1.4s\n",
      "[CV] END alpha=0.01, fit_intercept=True, max_iter=1000, selection=cyclic, tol=0.001; total time=   1.4s\n",
      "[CV] END alpha=0.01, fit_intercept=True, max_iter=1000, selection=cyclic, tol=0.0001; total time=   1.5s\n"
     ]
    },
    {
     "name": "stderr",
     "output_type": "stream",
     "text": [
      "/Users/zoemarquis/Documents/projet_industrie/projet_batteries/mon_venv/lib/python3.11/site-packages/sklearn/linear_model/_coordinate_descent.py:697: ConvergenceWarning: Objective did not converge. You might want to increase the number of iterations, check the scale of the features or consider increasing regularisation. Duality gap: 1.101e+02, tolerance: 3.560e+01\n",
      "  model = cd_fast.enet_coordinate_descent(\n",
      "/Users/zoemarquis/Documents/projet_industrie/projet_batteries/mon_venv/lib/python3.11/site-packages/sklearn/linear_model/_coordinate_descent.py:697: ConvergenceWarning: Objective did not converge. You might want to increase the number of iterations, check the scale of the features or consider increasing regularisation. Duality gap: 1.102e+02, tolerance: 3.567e+01\n",
      "  model = cd_fast.enet_coordinate_descent(\n",
      "/Users/zoemarquis/Documents/projet_industrie/projet_batteries/mon_venv/lib/python3.11/site-packages/joblib/externals/loky/process_executor.py:752: UserWarning: A worker stopped while some jobs were given to the executor. This can be caused by a too short worker timeout or by a memory leak.\n",
      "  warnings.warn(\n"
     ]
    },
    {
     "name": "stdout",
     "output_type": "stream",
     "text": [
      "[CV] END alpha=0.01, fit_intercept=True, max_iter=1000, selection=cyclic, tol=0.001; total time=   1.6s\n"
     ]
    },
    {
     "name": "stderr",
     "output_type": "stream",
     "text": [
      "/Users/zoemarquis/Documents/projet_industrie/projet_batteries/mon_venv/lib/python3.11/site-packages/sklearn/linear_model/_coordinate_descent.py:697: ConvergenceWarning: Objective did not converge. You might want to increase the number of iterations, check the scale of the features or consider increasing regularisation. Duality gap: 1.003e+02, tolerance: 3.536e+01\n",
      "  model = cd_fast.enet_coordinate_descent(\n",
      "/Users/zoemarquis/Documents/projet_industrie/projet_batteries/mon_venv/lib/python3.11/site-packages/sklearn/linear_model/_coordinate_descent.py:697: ConvergenceWarning: Objective did not converge. You might want to increase the number of iterations, check the scale of the features or consider increasing regularisation. Duality gap: 1.043e+02, tolerance: 3.482e+01\n",
      "  model = cd_fast.enet_coordinate_descent(\n",
      "/Users/zoemarquis/Documents/projet_industrie/projet_batteries/mon_venv/lib/python3.11/site-packages/sklearn/linear_model/_coordinate_descent.py:697: ConvergenceWarning: Objective did not converge. You might want to increase the number of iterations, check the scale of the features or consider increasing regularisation. Duality gap: 1.101e+02, tolerance: 3.560e+00\n",
      "  model = cd_fast.enet_coordinate_descent(\n",
      "/Users/zoemarquis/Documents/projet_industrie/projet_batteries/mon_venv/lib/python3.11/site-packages/sklearn/linear_model/_coordinate_descent.py:697: ConvergenceWarning: Objective did not converge. You might want to increase the number of iterations, check the scale of the features or consider increasing regularisation. Duality gap: 1.102e+02, tolerance: 3.567e+00\n",
      "  model = cd_fast.enet_coordinate_descent(\n",
      "/Users/zoemarquis/Documents/projet_industrie/projet_batteries/mon_venv/lib/python3.11/site-packages/sklearn/linear_model/_coordinate_descent.py:697: ConvergenceWarning: Objective did not converge. You might want to increase the number of iterations, check the scale of the features or consider increasing regularisation. Duality gap: 1.191e+02, tolerance: 3.536e+00\n",
      "  model = cd_fast.enet_coordinate_descent(\n",
      "/Users/zoemarquis/Documents/projet_industrie/projet_batteries/mon_venv/lib/python3.11/site-packages/sklearn/linear_model/_coordinate_descent.py:697: ConvergenceWarning: Objective did not converge. You might want to increase the number of iterations, check the scale of the features or consider increasing regularisation. Duality gap: 1.191e+02, tolerance: 3.536e+01\n",
      "  model = cd_fast.enet_coordinate_descent(\n"
     ]
    },
    {
     "name": "stdout",
     "output_type": "stream",
     "text": [
      "[CV] END alpha=0.01, fit_intercept=True, max_iter=1000, selection=cyclic, tol=0.0001; total time=   1.6s\n",
      "[CV] END alpha=0.01, fit_intercept=True, max_iter=1000, selection=cyclic, tol=0.0001; total time=   1.6s\n",
      "[CV] END alpha=0.01, fit_intercept=True, max_iter=1000, selection=cyclic, tol=1e-05; total time=   1.6s\n",
      "[CV] END alpha=0.01, fit_intercept=True, max_iter=1000, selection=cyclic, tol=1e-05; total time=   1.6s\n",
      "[CV] END alpha=0.01, fit_intercept=True, max_iter=1000, selection=cyclic, tol=1e-05; total time=   1.6s\n",
      "[CV] END alpha=0.01, fit_intercept=True, max_iter=1000, selection=cyclic, tol=0.0001; total time=   1.6s\n",
      "[CV] END alpha=0.01, fit_intercept=True, max_iter=1000, selection=random, tol=0.001; total time=   0.4s\n",
      "[CV] END alpha=0.01, fit_intercept=True, max_iter=1000, selection=random, tol=0.001; total time=   0.5s\n",
      "[CV] END alpha=0.01, fit_intercept=True, max_iter=1000, selection=random, tol=0.001; total time=   0.5s\n",
      "[CV] END alpha=0.01, fit_intercept=True, max_iter=1000, selection=random, tol=0.001; total time=   0.5s\n",
      "[CV] END alpha=0.01, fit_intercept=True, max_iter=1000, selection=random, tol=0.001; total time=   0.5s\n"
     ]
    },
    {
     "name": "stderr",
     "output_type": "stream",
     "text": [
      "/Users/zoemarquis/Documents/projet_industrie/projet_batteries/mon_venv/lib/python3.11/site-packages/sklearn/linear_model/_coordinate_descent.py:697: ConvergenceWarning: Objective did not converge. You might want to increase the number of iterations, check the scale of the features or consider increasing regularisation. Duality gap: 1.043e+02, tolerance: 3.482e+00\n",
      "  model = cd_fast.enet_coordinate_descent(\n"
     ]
    },
    {
     "name": "stdout",
     "output_type": "stream",
     "text": [
      "[CV] END alpha=0.01, fit_intercept=True, max_iter=1000, selection=cyclic, tol=1e-05; total time=   1.5s\n"
     ]
    },
    {
     "name": "stderr",
     "output_type": "stream",
     "text": [
      "/Users/zoemarquis/Documents/projet_industrie/projet_batteries/mon_venv/lib/python3.11/site-packages/sklearn/linear_model/_coordinate_descent.py:697: ConvergenceWarning: Objective did not converge. You might want to increase the number of iterations, check the scale of the features or consider increasing regularisation. Duality gap: 4.559e+01, tolerance: 3.567e+01\n",
      "  model = cd_fast.enet_coordinate_descent(\n",
      "/Users/zoemarquis/Documents/projet_industrie/projet_batteries/mon_venv/lib/python3.11/site-packages/sklearn/linear_model/_coordinate_descent.py:697: ConvergenceWarning: Objective did not converge. You might want to increase the number of iterations, check the scale of the features or consider increasing regularisation. Duality gap: 1.003e+02, tolerance: 3.536e+00\n",
      "  model = cd_fast.enet_coordinate_descent(\n"
     ]
    },
    {
     "name": "stdout",
     "output_type": "stream",
     "text": [
      "[CV] END alpha=0.01, fit_intercept=True, max_iter=1000, selection=random, tol=0.0001; total time=   1.6s\n",
      "[CV] END alpha=0.01, fit_intercept=True, max_iter=1000, selection=cyclic, tol=1e-05; total time=   1.5s\n"
     ]
    },
    {
     "name": "stderr",
     "output_type": "stream",
     "text": [
      "/Users/zoemarquis/Documents/projet_industrie/projet_batteries/mon_venv/lib/python3.11/site-packages/sklearn/linear_model/_coordinate_descent.py:697: ConvergenceWarning: Objective did not converge. You might want to increase the number of iterations, check the scale of the features or consider increasing regularisation. Duality gap: 4.561e+01, tolerance: 3.560e+01\n",
      "  model = cd_fast.enet_coordinate_descent(\n",
      "/Users/zoemarquis/Documents/projet_industrie/projet_batteries/mon_venv/lib/python3.11/site-packages/sklearn/linear_model/_coordinate_descent.py:697: ConvergenceWarning: Objective did not converge. You might want to increase the number of iterations, check the scale of the features or consider increasing regularisation. Duality gap: 5.390e+01, tolerance: 3.536e+01\n",
      "  model = cd_fast.enet_coordinate_descent(\n",
      "/Users/zoemarquis/Documents/projet_industrie/projet_batteries/mon_venv/lib/python3.11/site-packages/sklearn/linear_model/_coordinate_descent.py:697: ConvergenceWarning: Objective did not converge. You might want to increase the number of iterations, check the scale of the features or consider increasing regularisation. Duality gap: 4.559e+01, tolerance: 3.567e+00\n",
      "  model = cd_fast.enet_coordinate_descent(\n",
      "/Users/zoemarquis/Documents/projet_industrie/projet_batteries/mon_venv/lib/python3.11/site-packages/sklearn/linear_model/_coordinate_descent.py:697: ConvergenceWarning: Objective did not converge. You might want to increase the number of iterations, check the scale of the features or consider increasing regularisation. Duality gap: 5.115e+01, tolerance: 3.482e+01\n",
      "  model = cd_fast.enet_coordinate_descent(\n"
     ]
    },
    {
     "name": "stdout",
     "output_type": "stream",
     "text": [
      "[CV] END alpha=0.01, fit_intercept=True, max_iter=1000, selection=random, tol=0.0001; total time=   1.5s\n",
      "[CV] END alpha=0.01, fit_intercept=True, max_iter=1000, selection=random, tol=0.0001; total time=   1.5s\n",
      "[CV] END alpha=0.01, fit_intercept=True, max_iter=1000, selection=random, tol=0.0001; total time=   1.6s\n",
      "[CV] END alpha=0.01, fit_intercept=True, max_iter=1000, selection=random, tol=1e-05; total time=   1.6s\n",
      "[CV] END alpha=0.01, fit_intercept=True, max_iter=1000, selection=random, tol=0.0001; total time=   1.6s\n"
     ]
    },
    {
     "name": "stderr",
     "output_type": "stream",
     "text": [
      "/Users/zoemarquis/Documents/projet_industrie/projet_batteries/mon_venv/lib/python3.11/site-packages/sklearn/linear_model/_coordinate_descent.py:697: ConvergenceWarning: Objective did not converge. You might want to increase the number of iterations, check the scale of the features or consider increasing regularisation. Duality gap: 4.561e+01, tolerance: 3.560e+00\n",
      "  model = cd_fast.enet_coordinate_descent(\n"
     ]
    },
    {
     "name": "stdout",
     "output_type": "stream",
     "text": [
      "[CV] END alpha=0.01, fit_intercept=True, max_iter=1000, selection=random, tol=1e-05; total time=   1.6s\n",
      "[CV] END alpha=0.01, fit_intercept=True, max_iter=1000, selection=random, tol=1e-05; total time=   1.7s\n"
     ]
    },
    {
     "name": "stderr",
     "output_type": "stream",
     "text": [
      "/Users/zoemarquis/Documents/projet_industrie/projet_batteries/mon_venv/lib/python3.11/site-packages/sklearn/linear_model/_coordinate_descent.py:697: ConvergenceWarning: Objective did not converge. You might want to increase the number of iterations, check the scale of the features or consider increasing regularisation. Duality gap: 5.390e+01, tolerance: 3.536e+00\n",
      "  model = cd_fast.enet_coordinate_descent(\n",
      "/Users/zoemarquis/Documents/projet_industrie/projet_batteries/mon_venv/lib/python3.11/site-packages/sklearn/linear_model/_coordinate_descent.py:697: ConvergenceWarning: Objective did not converge. You might want to increase the number of iterations, check the scale of the features or consider increasing regularisation. Duality gap: 5.115e+01, tolerance: 3.482e+00\n",
      "  model = cd_fast.enet_coordinate_descent(\n",
      "/Users/zoemarquis/Documents/projet_industrie/projet_batteries/mon_venv/lib/python3.11/site-packages/sklearn/linear_model/_coordinate_descent.py:697: ConvergenceWarning: Objective did not converge. You might want to increase the number of iterations, check the scale of the features or consider increasing regularisation. Duality gap: 9.460e+00, tolerance: 3.536e+00\n",
      "  model = cd_fast.enet_coordinate_descent(\n"
     ]
    },
    {
     "name": "stdout",
     "output_type": "stream",
     "text": [
      "[CV] END alpha=0.01, fit_intercept=True, max_iter=1000, selection=random, tol=1e-05; total time=   1.8s\n",
      "[CV] END alpha=0.01, fit_intercept=True, max_iter=1000, selection=random, tol=1e-05; total time=   1.8s\n",
      "[CV] END alpha=0.01, fit_intercept=True, max_iter=5000, selection=cyclic, tol=0.001; total time=   1.8s\n",
      "[CV] END alpha=0.01, fit_intercept=True, max_iter=5000, selection=cyclic, tol=0.001; total time=   1.8s\n",
      "[CV] END alpha=0.01, fit_intercept=True, max_iter=5000, selection=cyclic, tol=0.001; total time=   2.1s\n",
      "[CV] END alpha=0.01, fit_intercept=True, max_iter=5000, selection=cyclic, tol=0.001; total time=   2.1s\n",
      "[CV] END alpha=0.01, fit_intercept=True, max_iter=5000, selection=cyclic, tol=0.001; total time=   1.9s\n",
      "[CV] END alpha=0.01, fit_intercept=True, max_iter=5000, selection=cyclic, tol=0.0001; total time=   4.5s\n",
      "[CV] END alpha=0.01, fit_intercept=True, max_iter=5000, selection=cyclic, tol=0.0001; total time=   5.0s\n",
      "[CV] END alpha=0.01, fit_intercept=True, max_iter=5000, selection=cyclic, tol=1e-05; total time=   4.5s\n",
      "[CV] END alpha=0.01, fit_intercept=True, max_iter=5000, selection=cyclic, tol=0.0001; total time=   5.2s\n",
      "[CV] END alpha=0.01, fit_intercept=True, max_iter=5000, selection=cyclic, tol=0.0001; total time=   5.5s\n",
      "[CV] END alpha=0.01, fit_intercept=True, max_iter=5000, selection=random, tol=0.001; total time=   0.6s\n",
      "[CV] END alpha=0.01, fit_intercept=True, max_iter=5000, selection=random, tol=0.001; total time=   0.6s\n",
      "[CV] END alpha=0.01, fit_intercept=True, max_iter=5000, selection=cyclic, tol=0.0001; total time=   5.9s\n",
      "[CV] END alpha=0.01, fit_intercept=True, max_iter=5000, selection=random, tol=0.001; total time=   0.7s\n",
      "[CV] END alpha=0.01, fit_intercept=True, max_iter=5000, selection=random, tol=0.001; total time=   0.5s\n",
      "[CV] END alpha=0.01, fit_intercept=True, max_iter=5000, selection=random, tol=0.001; total time=   0.7s\n",
      "[CV] END alpha=0.01, fit_intercept=True, max_iter=5000, selection=cyclic, tol=1e-05; total time=   7.5s\n",
      "[CV] END alpha=0.01, fit_intercept=True, max_iter=5000, selection=random, tol=0.0001; total time=   1.9s\n",
      "[CV] END alpha=0.01, fit_intercept=True, max_iter=5000, selection=random, tol=0.0001; total time=   2.0s\n",
      "[CV] END alpha=0.01, fit_intercept=True, max_iter=5000, selection=cyclic, tol=1e-05; total time=   7.8s\n",
      "[CV] END alpha=0.01, fit_intercept=True, max_iter=5000, selection=random, tol=0.0001; total time=   2.1s\n",
      "[CV] END alpha=0.01, fit_intercept=True, max_iter=5000, selection=random, tol=0.0001; total time=   2.0s\n",
      "[CV] END alpha=0.01, fit_intercept=True, max_iter=5000, selection=random, tol=0.0001; total time=   1.6s\n",
      "[CV] END alpha=0.01, fit_intercept=True, max_iter=5000, selection=random, tol=1e-05; total time=   2.5s\n",
      "[CV] END alpha=0.01, fit_intercept=True, max_iter=10000, selection=cyclic, tol=0.001; total time=   1.9s\n",
      "[CV] END alpha=0.01, fit_intercept=True, max_iter=5000, selection=cyclic, tol=1e-05; total time=   7.2s\n"
     ]
    },
    {
     "name": "stderr",
     "output_type": "stream",
     "text": [
      "/Users/zoemarquis/Documents/projet_industrie/projet_batteries/mon_venv/lib/python3.11/site-packages/sklearn/linear_model/_coordinate_descent.py:697: ConvergenceWarning: Objective did not converge. You might want to increase the number of iterations, check the scale of the features or consider increasing regularisation. Duality gap: 4.051e+00, tolerance: 3.536e+00\n",
      "  model = cd_fast.enet_coordinate_descent(\n"
     ]
    },
    {
     "name": "stdout",
     "output_type": "stream",
     "text": [
      "[CV] END alpha=0.01, fit_intercept=True, max_iter=5000, selection=cyclic, tol=1e-05; total time=   7.2s\n",
      "[CV] END alpha=0.01, fit_intercept=True, max_iter=10000, selection=cyclic, tol=0.001; total time=   1.9s\n",
      "[CV] END alpha=0.01, fit_intercept=True, max_iter=5000, selection=random, tol=1e-05; total time=   4.8s\n",
      "[CV] END alpha=0.01, fit_intercept=True, max_iter=10000, selection=cyclic, tol=0.001; total time=   2.0s\n",
      "[CV] END alpha=0.01, fit_intercept=True, max_iter=10000, selection=cyclic, tol=0.001; total time=   1.9s\n",
      "[CV] END alpha=0.01, fit_intercept=True, max_iter=10000, selection=cyclic, tol=0.001; total time=   1.8s\n",
      "[CV] END alpha=0.01, fit_intercept=True, max_iter=5000, selection=random, tol=1e-05; total time=   7.7s\n",
      "[CV] END alpha=0.01, fit_intercept=True, max_iter=5000, selection=random, tol=1e-05; total time=   7.7s\n",
      "[CV] END alpha=0.01, fit_intercept=True, max_iter=5000, selection=random, tol=1e-05; total time=   8.0s\n",
      "[CV] END alpha=0.01, fit_intercept=True, max_iter=10000, selection=cyclic, tol=0.0001; total time=   4.1s\n",
      "[CV] END alpha=0.01, fit_intercept=True, max_iter=10000, selection=cyclic, tol=0.0001; total time=   4.9s\n",
      "[CV] END alpha=0.01, fit_intercept=True, max_iter=10000, selection=cyclic, tol=0.0001; total time=   5.0s\n",
      "[CV] END alpha=0.01, fit_intercept=True, max_iter=10000, selection=random, tol=0.001; total time=   0.7s\n",
      "[CV] END alpha=0.01, fit_intercept=True, max_iter=10000, selection=cyclic, tol=0.0001; total time=   5.3s\n",
      "[CV] END alpha=0.01, fit_intercept=True, max_iter=10000, selection=random, tol=0.001; total time=   0.7s\n",
      "[CV] END alpha=0.01, fit_intercept=True, max_iter=10000, selection=random, tol=0.001; total time=   0.7s\n",
      "[CV] END alpha=0.01, fit_intercept=True, max_iter=10000, selection=cyclic, tol=0.0001; total time=   5.8s\n",
      "[CV] END alpha=0.01, fit_intercept=True, max_iter=10000, selection=random, tol=0.001; total time=   0.6s\n",
      "[CV] END alpha=0.01, fit_intercept=True, max_iter=10000, selection=random, tol=0.001; total time=   0.7s\n",
      "[CV] END alpha=0.01, fit_intercept=True, max_iter=10000, selection=cyclic, tol=1e-05; total time=   4.3s\n",
      "[CV] END alpha=0.01, fit_intercept=True, max_iter=10000, selection=random, tol=0.0001; total time=   2.0s\n",
      "[CV] END alpha=0.01, fit_intercept=True, max_iter=10000, selection=random, tol=0.0001; total time=   2.0s\n",
      "[CV] END alpha=0.01, fit_intercept=True, max_iter=10000, selection=random, tol=0.0001; total time=   2.2s\n",
      "[CV] END alpha=0.01, fit_intercept=True, max_iter=10000, selection=random, tol=0.0001; total time=   2.1s\n",
      "[CV] END alpha=0.01, fit_intercept=True, max_iter=10000, selection=random, tol=0.0001; total time=   1.8s\n",
      "[CV] END alpha=0.01, fit_intercept=True, max_iter=10000, selection=cyclic, tol=1e-05; total time=   8.5s\n",
      "[CV] END alpha=0.01, fit_intercept=True, max_iter=10000, selection=cyclic, tol=1e-05; total time=   8.6s\n",
      "[CV] END alpha=0.01, fit_intercept=True, max_iter=10000, selection=cyclic, tol=1e-05; total time=   8.5s\n",
      "[CV] END alpha=0.01, fit_intercept=False, max_iter=1000, selection=cyclic, tol=0.001; total time=   2.1s\n",
      "[CV] END alpha=0.01, fit_intercept=True, max_iter=10000, selection=random, tol=1e-05; total time=   2.2s\n",
      "[CV] END alpha=0.01, fit_intercept=True, max_iter=10000, selection=random, tol=1e-05; total time=   4.5s\n",
      "[CV] END alpha=0.01, fit_intercept=False, max_iter=1000, selection=cyclic, tol=0.001; total time=   2.2s\n",
      "[CV] END alpha=0.01, fit_intercept=False, max_iter=1000, selection=cyclic, tol=0.001; total time=   2.0s\n",
      "[CV] END alpha=0.01, fit_intercept=False, max_iter=1000, selection=cyclic, tol=0.001; total time=   2.2s\n",
      "[CV] END alpha=0.01, fit_intercept=True, max_iter=10000, selection=cyclic, tol=1e-05; total time=  11.0s\n",
      "[CV] END alpha=0.01, fit_intercept=True, max_iter=10000, selection=random, tol=1e-05; total time=   7.2s\n",
      "[CV] END alpha=0.01, fit_intercept=False, max_iter=1000, selection=cyclic, tol=0.001; total time=   2.0s\n",
      "[CV] END alpha=0.01, fit_intercept=True, max_iter=10000, selection=random, tol=1e-05; total time=   7.0s\n",
      "[CV] END alpha=0.01, fit_intercept=True, max_iter=10000, selection=random, tol=1e-05; total time=   6.8s\n",
      "[CV] END alpha=0.01, fit_intercept=False, max_iter=1000, selection=cyclic, tol=0.0001; total time=   2.0s\n"
     ]
    },
    {
     "name": "stderr",
     "output_type": "stream",
     "text": [
      "/Users/zoemarquis/Documents/projet_industrie/projet_batteries/mon_venv/lib/python3.11/site-packages/sklearn/linear_model/_coordinate_descent.py:697: ConvergenceWarning: Objective did not converge. You might want to increase the number of iterations, check the scale of the features or consider increasing regularisation. Duality gap: 4.329e+04, tolerance: 1.414e+04\n",
      "  model = cd_fast.enet_coordinate_descent(\n",
      "/Users/zoemarquis/Documents/projet_industrie/projet_batteries/mon_venv/lib/python3.11/site-packages/sklearn/linear_model/_coordinate_descent.py:697: ConvergenceWarning: Objective did not converge. You might want to increase the number of iterations, check the scale of the features or consider increasing regularisation. Duality gap: 4.296e+04, tolerance: 1.414e+04\n",
      "  model = cd_fast.enet_coordinate_descent(\n",
      "/Users/zoemarquis/Documents/projet_industrie/projet_batteries/mon_venv/lib/python3.11/site-packages/sklearn/linear_model/_coordinate_descent.py:697: ConvergenceWarning: Objective did not converge. You might want to increase the number of iterations, check the scale of the features or consider increasing regularisation. Duality gap: 4.293e+04, tolerance: 1.415e+04\n",
      "  model = cd_fast.enet_coordinate_descent(\n"
     ]
    },
    {
     "name": "stdout",
     "output_type": "stream",
     "text": [
      "[CV] END alpha=0.01, fit_intercept=False, max_iter=1000, selection=cyclic, tol=0.0001; total time=   2.1s\n",
      "[CV] END alpha=0.01, fit_intercept=False, max_iter=1000, selection=cyclic, tol=0.0001; total time=   2.0s\n"
     ]
    },
    {
     "name": "stderr",
     "output_type": "stream",
     "text": [
      "/Users/zoemarquis/Documents/projet_industrie/projet_batteries/mon_venv/lib/python3.11/site-packages/sklearn/linear_model/_coordinate_descent.py:697: ConvergenceWarning: Objective did not converge. You might want to increase the number of iterations, check the scale of the features or consider increasing regularisation. Duality gap: 4.305e+04, tolerance: 1.416e+04\n",
      "  model = cd_fast.enet_coordinate_descent(\n",
      "/Users/zoemarquis/Documents/projet_industrie/projet_batteries/mon_venv/lib/python3.11/site-packages/sklearn/linear_model/_coordinate_descent.py:697: ConvergenceWarning: Objective did not converge. You might want to increase the number of iterations, check the scale of the features or consider increasing regularisation. Duality gap: 4.287e+04, tolerance: 1.415e+04\n",
      "  model = cd_fast.enet_coordinate_descent(\n"
     ]
    },
    {
     "name": "stdout",
     "output_type": "stream",
     "text": [
      "[CV] END alpha=0.01, fit_intercept=False, max_iter=1000, selection=cyclic, tol=0.0001; total time=   2.0s\n",
      "[CV] END alpha=0.01, fit_intercept=False, max_iter=1000, selection=random, tol=0.001; total time=   0.1s\n",
      "[CV] END alpha=0.01, fit_intercept=False, max_iter=1000, selection=random, tol=0.001; total time=   0.1s\n",
      "[CV] END alpha=0.01, fit_intercept=False, max_iter=1000, selection=random, tol=0.001; total time=   0.1s\n",
      "[CV] END alpha=0.01, fit_intercept=False, max_iter=1000, selection=random, tol=0.001; total time=   0.1s\n",
      "[CV] END alpha=0.01, fit_intercept=False, max_iter=1000, selection=random, tol=0.001; total time=   0.1s\n",
      "[CV] END alpha=0.01, fit_intercept=False, max_iter=1000, selection=cyclic, tol=0.0001; total time=   1.9s\n"
     ]
    },
    {
     "name": "stderr",
     "output_type": "stream",
     "text": [
      "/Users/zoemarquis/Documents/projet_industrie/projet_batteries/mon_venv/lib/python3.11/site-packages/sklearn/linear_model/_coordinate_descent.py:697: ConvergenceWarning: Objective did not converge. You might want to increase the number of iterations, check the scale of the features or consider increasing regularisation. Duality gap: 4.329e+04, tolerance: 1.414e+03\n",
      "  model = cd_fast.enet_coordinate_descent(\n"
     ]
    },
    {
     "name": "stdout",
     "output_type": "stream",
     "text": [
      "[CV] END alpha=0.01, fit_intercept=False, max_iter=1000, selection=cyclic, tol=1e-05; total time=   1.8s\n"
     ]
    },
    {
     "name": "stderr",
     "output_type": "stream",
     "text": [
      "/Users/zoemarquis/Documents/projet_industrie/projet_batteries/mon_venv/lib/python3.11/site-packages/sklearn/linear_model/_coordinate_descent.py:697: ConvergenceWarning: Objective did not converge. You might want to increase the number of iterations, check the scale of the features or consider increasing regularisation. Duality gap: 4.296e+04, tolerance: 1.414e+03\n",
      "  model = cd_fast.enet_coordinate_descent(\n"
     ]
    },
    {
     "name": "stdout",
     "output_type": "stream",
     "text": [
      "[CV] END alpha=0.01, fit_intercept=False, max_iter=1000, selection=cyclic, tol=1e-05; total time=   2.0s\n"
     ]
    },
    {
     "name": "stderr",
     "output_type": "stream",
     "text": [
      "/Users/zoemarquis/Documents/projet_industrie/projet_batteries/mon_venv/lib/python3.11/site-packages/sklearn/linear_model/_coordinate_descent.py:697: ConvergenceWarning: Objective did not converge. You might want to increase the number of iterations, check the scale of the features or consider increasing regularisation. Duality gap: 4.293e+04, tolerance: 1.415e+03\n",
      "  model = cd_fast.enet_coordinate_descent(\n",
      "/Users/zoemarquis/Documents/projet_industrie/projet_batteries/mon_venv/lib/python3.11/site-packages/sklearn/linear_model/_coordinate_descent.py:697: ConvergenceWarning: Objective did not converge. You might want to increase the number of iterations, check the scale of the features or consider increasing regularisation. Duality gap: 4.305e+04, tolerance: 1.416e+03\n",
      "  model = cd_fast.enet_coordinate_descent(\n"
     ]
    },
    {
     "name": "stdout",
     "output_type": "stream",
     "text": [
      "[CV] END alpha=0.01, fit_intercept=False, max_iter=1000, selection=cyclic, tol=1e-05; total time=   1.9s\n",
      "[CV] END alpha=0.01, fit_intercept=False, max_iter=1000, selection=cyclic, tol=1e-05; total time=   2.0s\n"
     ]
    },
    {
     "name": "stderr",
     "output_type": "stream",
     "text": [
      "/Users/zoemarquis/Documents/projet_industrie/projet_batteries/mon_venv/lib/python3.11/site-packages/sklearn/linear_model/_coordinate_descent.py:697: ConvergenceWarning: Objective did not converge. You might want to increase the number of iterations, check the scale of the features or consider increasing regularisation. Duality gap: 4.287e+04, tolerance: 1.415e+03\n",
      "  model = cd_fast.enet_coordinate_descent(\n"
     ]
    },
    {
     "name": "stdout",
     "output_type": "stream",
     "text": [
      "[CV] END alpha=0.01, fit_intercept=False, max_iter=1000, selection=cyclic, tol=1e-05; total time=   1.7s\n"
     ]
    },
    {
     "name": "stderr",
     "output_type": "stream",
     "text": [
      "/Users/zoemarquis/Documents/projet_industrie/projet_batteries/mon_venv/lib/python3.11/site-packages/sklearn/linear_model/_coordinate_descent.py:697: ConvergenceWarning: Objective did not converge. You might want to increase the number of iterations, check the scale of the features or consider increasing regularisation. Duality gap: 3.747e+04, tolerance: 1.414e+04\n",
      "  model = cd_fast.enet_coordinate_descent(\n",
      "/Users/zoemarquis/Documents/projet_industrie/projet_batteries/mon_venv/lib/python3.11/site-packages/sklearn/linear_model/_coordinate_descent.py:697: ConvergenceWarning: Objective did not converge. You might want to increase the number of iterations, check the scale of the features or consider increasing regularisation. Duality gap: 3.575e+04, tolerance: 1.414e+04\n",
      "  model = cd_fast.enet_coordinate_descent(\n",
      "/Users/zoemarquis/Documents/projet_industrie/projet_batteries/mon_venv/lib/python3.11/site-packages/sklearn/linear_model/_coordinate_descent.py:697: ConvergenceWarning: Objective did not converge. You might want to increase the number of iterations, check the scale of the features or consider increasing regularisation. Duality gap: 3.760e+04, tolerance: 1.415e+04\n",
      "  model = cd_fast.enet_coordinate_descent(\n"
     ]
    },
    {
     "name": "stdout",
     "output_type": "stream",
     "text": [
      "[CV] END alpha=0.01, fit_intercept=False, max_iter=1000, selection=random, tol=0.0001; total time=   2.0s\n",
      "[CV] END alpha=0.01, fit_intercept=False, max_iter=1000, selection=random, tol=0.0001; total time=   2.1s\n",
      "[CV] END alpha=0.01, fit_intercept=False, max_iter=1000, selection=random, tol=0.0001; total time=   2.1s\n"
     ]
    },
    {
     "name": "stderr",
     "output_type": "stream",
     "text": [
      "/Users/zoemarquis/Documents/projet_industrie/projet_batteries/mon_venv/lib/python3.11/site-packages/sklearn/linear_model/_coordinate_descent.py:697: ConvergenceWarning: Objective did not converge. You might want to increase the number of iterations, check the scale of the features or consider increasing regularisation. Duality gap: 3.771e+04, tolerance: 1.416e+04\n",
      "  model = cd_fast.enet_coordinate_descent(\n"
     ]
    },
    {
     "name": "stdout",
     "output_type": "stream",
     "text": [
      "[CV] END alpha=0.01, fit_intercept=False, max_iter=1000, selection=random, tol=0.0001; total time=   2.1s\n"
     ]
    },
    {
     "name": "stderr",
     "output_type": "stream",
     "text": [
      "/Users/zoemarquis/Documents/projet_industrie/projet_batteries/mon_venv/lib/python3.11/site-packages/sklearn/linear_model/_coordinate_descent.py:697: ConvergenceWarning: Objective did not converge. You might want to increase the number of iterations, check the scale of the features or consider increasing regularisation. Duality gap: 3.736e+04, tolerance: 1.415e+04\n",
      "  model = cd_fast.enet_coordinate_descent(\n"
     ]
    },
    {
     "name": "stdout",
     "output_type": "stream",
     "text": [
      "[CV] END alpha=0.01, fit_intercept=False, max_iter=1000, selection=random, tol=0.0001; total time=   2.1s\n"
     ]
    },
    {
     "name": "stderr",
     "output_type": "stream",
     "text": [
      "/Users/zoemarquis/Documents/projet_industrie/projet_batteries/mon_venv/lib/python3.11/site-packages/sklearn/linear_model/_coordinate_descent.py:697: ConvergenceWarning: Objective did not converge. You might want to increase the number of iterations, check the scale of the features or consider increasing regularisation. Duality gap: 3.760e+04, tolerance: 1.415e+03\n",
      "  model = cd_fast.enet_coordinate_descent(\n",
      "/Users/zoemarquis/Documents/projet_industrie/projet_batteries/mon_venv/lib/python3.11/site-packages/sklearn/linear_model/_coordinate_descent.py:697: ConvergenceWarning: Objective did not converge. You might want to increase the number of iterations, check the scale of the features or consider increasing regularisation. Duality gap: 3.575e+04, tolerance: 1.414e+03\n",
      "  model = cd_fast.enet_coordinate_descent(\n",
      "/Users/zoemarquis/Documents/projet_industrie/projet_batteries/mon_venv/lib/python3.11/site-packages/sklearn/linear_model/_coordinate_descent.py:697: ConvergenceWarning: Objective did not converge. You might want to increase the number of iterations, check the scale of the features or consider increasing regularisation. Duality gap: 3.747e+04, tolerance: 1.414e+03\n",
      "  model = cd_fast.enet_coordinate_descent(\n"
     ]
    },
    {
     "name": "stdout",
     "output_type": "stream",
     "text": [
      "[CV] END alpha=0.01, fit_intercept=False, max_iter=1000, selection=random, tol=1e-05; total time=   1.9s\n",
      "[CV] END alpha=0.01, fit_intercept=False, max_iter=1000, selection=random, tol=1e-05; total time=   2.2s\n",
      "[CV] END alpha=0.01, fit_intercept=False, max_iter=1000, selection=random, tol=1e-05; total time=   2.1s\n",
      "[CV] END alpha=0.01, fit_intercept=False, max_iter=5000, selection=cyclic, tol=0.001; total time=   1.5s\n"
     ]
    },
    {
     "name": "stderr",
     "output_type": "stream",
     "text": [
      "/Users/zoemarquis/Documents/projet_industrie/projet_batteries/mon_venv/lib/python3.11/site-packages/sklearn/linear_model/_coordinate_descent.py:697: ConvergenceWarning: Objective did not converge. You might want to increase the number of iterations, check the scale of the features or consider increasing regularisation. Duality gap: 3.736e+04, tolerance: 1.415e+03\n",
      "  model = cd_fast.enet_coordinate_descent(\n",
      "/Users/zoemarquis/Documents/projet_industrie/projet_batteries/mon_venv/lib/python3.11/site-packages/sklearn/linear_model/_coordinate_descent.py:697: ConvergenceWarning: Objective did not converge. You might want to increase the number of iterations, check the scale of the features or consider increasing regularisation. Duality gap: 3.771e+04, tolerance: 1.416e+03\n",
      "  model = cd_fast.enet_coordinate_descent(\n"
     ]
    },
    {
     "name": "stdout",
     "output_type": "stream",
     "text": [
      "[CV] END alpha=0.01, fit_intercept=False, max_iter=1000, selection=random, tol=1e-05; total time=   2.0s\n",
      "[CV] END alpha=0.01, fit_intercept=False, max_iter=1000, selection=random, tol=1e-05; total time=   2.2s\n",
      "[CV] END alpha=0.01, fit_intercept=False, max_iter=5000, selection=cyclic, tol=0.001; total time=   2.7s\n",
      "[CV] END alpha=0.01, fit_intercept=False, max_iter=5000, selection=cyclic, tol=0.001; total time=   2.9s\n",
      "[CV] END alpha=0.01, fit_intercept=False, max_iter=5000, selection=cyclic, tol=0.001; total time=   3.0s\n",
      "[CV] END alpha=0.01, fit_intercept=False, max_iter=5000, selection=cyclic, tol=0.001; total time=   3.1s\n",
      "[CV] END alpha=0.01, fit_intercept=False, max_iter=5000, selection=cyclic, tol=0.0001; total time=   8.9s\n",
      "[CV] END alpha=0.01, fit_intercept=False, max_iter=5000, selection=cyclic, tol=0.0001; total time=   8.9s\n",
      "[CV] END alpha=0.01, fit_intercept=False, max_iter=5000, selection=cyclic, tol=0.0001; total time=   8.9s\n",
      "[CV] END alpha=0.01, fit_intercept=False, max_iter=5000, selection=random, tol=0.001; total time=   0.1s\n",
      "[CV] END alpha=0.01, fit_intercept=False, max_iter=5000, selection=random, tol=0.001; total time=   0.1s\n",
      "[CV] END alpha=0.01, fit_intercept=False, max_iter=5000, selection=cyclic, tol=0.0001; total time=   9.0s\n",
      "[CV] END alpha=0.01, fit_intercept=False, max_iter=5000, selection=random, tol=0.001; total time=   0.1s\n",
      "[CV] END alpha=0.01, fit_intercept=False, max_iter=5000, selection=random, tol=0.001; total time=   0.1s\n",
      "[CV] END alpha=0.01, fit_intercept=False, max_iter=5000, selection=random, tol=0.001; total time=   0.1s\n",
      "[CV] END alpha=0.01, fit_intercept=False, max_iter=5000, selection=cyclic, tol=0.0001; total time=   8.8s\n"
     ]
    },
    {
     "name": "stderr",
     "output_type": "stream",
     "text": [
      "/Users/zoemarquis/Documents/projet_industrie/projet_batteries/mon_venv/lib/python3.11/site-packages/sklearn/linear_model/_coordinate_descent.py:697: ConvergenceWarning: Objective did not converge. You might want to increase the number of iterations, check the scale of the features or consider increasing regularisation. Duality gap: 3.412e+03, tolerance: 1.414e+03\n",
      "  model = cd_fast.enet_coordinate_descent(\n"
     ]
    },
    {
     "name": "stdout",
     "output_type": "stream",
     "text": [
      "[CV] END alpha=0.01, fit_intercept=False, max_iter=5000, selection=cyclic, tol=1e-05; total time=   8.8s\n"
     ]
    },
    {
     "name": "stderr",
     "output_type": "stream",
     "text": [
      "/Users/zoemarquis/Documents/projet_industrie/projet_batteries/mon_venv/lib/python3.11/site-packages/sklearn/linear_model/_coordinate_descent.py:697: ConvergenceWarning: Objective did not converge. You might want to increase the number of iterations, check the scale of the features or consider increasing regularisation. Duality gap: 4.062e+03, tolerance: 1.415e+03\n",
      "  model = cd_fast.enet_coordinate_descent(\n",
      "/Users/zoemarquis/Documents/projet_industrie/projet_batteries/mon_venv/lib/python3.11/site-packages/sklearn/linear_model/_coordinate_descent.py:697: ConvergenceWarning: Objective did not converge. You might want to increase the number of iterations, check the scale of the features or consider increasing regularisation. Duality gap: 4.221e+03, tolerance: 1.414e+03\n",
      "  model = cd_fast.enet_coordinate_descent(\n"
     ]
    },
    {
     "name": "stdout",
     "output_type": "stream",
     "text": [
      "[CV] END alpha=0.01, fit_intercept=False, max_iter=5000, selection=cyclic, tol=1e-05; total time=   8.7s\n",
      "[CV] END alpha=0.01, fit_intercept=False, max_iter=5000, selection=cyclic, tol=1e-05; total time=   8.8s\n",
      "[CV] END alpha=0.01, fit_intercept=False, max_iter=5000, selection=random, tol=0.0001; total time=   6.2s\n",
      "[CV] END alpha=0.01, fit_intercept=False, max_iter=5000, selection=random, tol=0.0001; total time=   6.3s\n",
      "[CV] END alpha=0.01, fit_intercept=False, max_iter=5000, selection=cyclic, tol=1e-05; total time=   8.0s\n",
      "[CV] END alpha=0.01, fit_intercept=False, max_iter=5000, selection=cyclic, tol=1e-05; total time=   7.6s\n"
     ]
    },
    {
     "name": "stderr",
     "output_type": "stream",
     "text": [
      "/Users/zoemarquis/Documents/projet_industrie/projet_batteries/mon_venv/lib/python3.11/site-packages/sklearn/linear_model/_coordinate_descent.py:697: ConvergenceWarning: Objective did not converge. You might want to increase the number of iterations, check the scale of the features or consider increasing regularisation. Duality gap: 3.772e+03, tolerance: 1.416e+03\n",
      "  model = cd_fast.enet_coordinate_descent(\n",
      "/Users/zoemarquis/Documents/projet_industrie/projet_batteries/mon_venv/lib/python3.11/site-packages/sklearn/linear_model/_coordinate_descent.py:697: ConvergenceWarning: Objective did not converge. You might want to increase the number of iterations, check the scale of the features or consider increasing regularisation. Duality gap: 4.031e+03, tolerance: 1.415e+03\n",
      "  model = cd_fast.enet_coordinate_descent(\n"
     ]
    },
    {
     "name": "stdout",
     "output_type": "stream",
     "text": [
      "[CV] END alpha=0.01, fit_intercept=False, max_iter=5000, selection=random, tol=0.0001; total time=   7.1s\n",
      "[CV] END alpha=0.01, fit_intercept=False, max_iter=5000, selection=random, tol=0.0001; total time=   6.4s\n",
      "[CV] END alpha=0.01, fit_intercept=False, max_iter=5000, selection=random, tol=0.0001; total time=   6.4s\n",
      "[CV] END alpha=0.01, fit_intercept=False, max_iter=10000, selection=cyclic, tol=0.001; total time=   1.5s\n"
     ]
    },
    {
     "name": "stderr",
     "output_type": "stream",
     "text": [
      "/Users/zoemarquis/Documents/projet_industrie/projet_batteries/mon_venv/lib/python3.11/site-packages/sklearn/linear_model/_coordinate_descent.py:697: ConvergenceWarning: Objective did not converge. You might want to increase the number of iterations, check the scale of the features or consider increasing regularisation. Duality gap: 1.802e+03, tolerance: 1.414e+03\n",
      "  model = cd_fast.enet_coordinate_descent(\n"
     ]
    },
    {
     "name": "stdout",
     "output_type": "stream",
     "text": [
      "[CV] END alpha=0.01, fit_intercept=False, max_iter=5000, selection=random, tol=1e-05; total time=   8.2s\n",
      "[CV] END alpha=0.01, fit_intercept=False, max_iter=10000, selection=cyclic, tol=0.001; total time=   2.7s\n",
      "[CV] END alpha=0.01, fit_intercept=False, max_iter=10000, selection=cyclic, tol=0.001; total time=   2.9s\n",
      "[CV] END alpha=0.01, fit_intercept=False, max_iter=10000, selection=cyclic, tol=0.001; total time=   3.0s\n",
      "[CV] END alpha=0.01, fit_intercept=False, max_iter=10000, selection=cyclic, tol=0.001; total time=   2.9s\n",
      "[CV] END alpha=0.01, fit_intercept=False, max_iter=5000, selection=random, tol=1e-05; total time=   8.6s\n",
      "[CV] END alpha=0.01, fit_intercept=False, max_iter=5000, selection=random, tol=1e-05; total time=   8.5s\n",
      "[CV] END alpha=0.01, fit_intercept=False, max_iter=5000, selection=random, tol=1e-05; total time=   8.7s\n",
      "[CV] END alpha=0.01, fit_intercept=False, max_iter=5000, selection=random, tol=1e-05; total time=   8.7s\n",
      "[CV] END alpha=0.01, fit_intercept=False, max_iter=10000, selection=cyclic, tol=0.0001; total time=  10.5s\n",
      "[CV] END alpha=0.01, fit_intercept=False, max_iter=10000, selection=cyclic, tol=0.0001; total time=  14.0s\n",
      "[CV] END alpha=0.01, fit_intercept=False, max_iter=10000, selection=cyclic, tol=0.0001; total time=  14.1s\n",
      "[CV] END alpha=0.01, fit_intercept=False, max_iter=10000, selection=random, tol=0.001; total time=   0.1s\n",
      "[CV] END alpha=0.01, fit_intercept=False, max_iter=10000, selection=random, tol=0.001; total time=   0.1s\n",
      "[CV] END alpha=0.01, fit_intercept=False, max_iter=10000, selection=random, tol=0.001; total time=   0.1s\n",
      "[CV] END alpha=0.01, fit_intercept=False, max_iter=10000, selection=random, tol=0.001; total time=   0.1s\n",
      "[CV] END alpha=0.01, fit_intercept=False, max_iter=10000, selection=random, tol=0.001; total time=   0.1s\n",
      "[CV] END alpha=0.01, fit_intercept=False, max_iter=10000, selection=cyclic, tol=0.0001; total time=  11.1s\n",
      "[CV] END alpha=0.01, fit_intercept=False, max_iter=10000, selection=cyclic, tol=0.0001; total time=  13.9s\n",
      "[CV] END alpha=0.01, fit_intercept=False, max_iter=10000, selection=cyclic, tol=1e-05; total time=  16.8s\n",
      "[CV] END alpha=0.01, fit_intercept=False, max_iter=10000, selection=cyclic, tol=1e-05; total time=  17.2s\n",
      "[CV] END alpha=0.01, fit_intercept=False, max_iter=10000, selection=cyclic, tol=1e-05; total time=  17.3s\n",
      "[CV] END alpha=0.01, fit_intercept=False, max_iter=10000, selection=random, tol=0.0001; total time=   6.9s\n",
      "[CV] END alpha=0.01, fit_intercept=False, max_iter=10000, selection=random, tol=0.0001; total time=   7.3s\n",
      "[CV] END alpha=0.01, fit_intercept=False, max_iter=10000, selection=random, tol=0.0001; total time=   6.5s\n",
      "[CV] END alpha=0.01, fit_intercept=False, max_iter=10000, selection=cyclic, tol=1e-05; total time=  15.9s\n",
      "[CV] END alpha=0.01, fit_intercept=False, max_iter=10000, selection=random, tol=0.0001; total time=   6.1s\n",
      "[CV] END alpha=0.1, fit_intercept=True, max_iter=1000, selection=cyclic, tol=0.001; total time=   0.8s\n",
      "[CV] END alpha=0.01, fit_intercept=False, max_iter=10000, selection=random, tol=0.0001; total time=   6.5s\n",
      "[CV] END alpha=0.1, fit_intercept=True, max_iter=1000, selection=cyclic, tol=0.001; total time=   0.9s\n",
      "[CV] END alpha=0.1, fit_intercept=True, max_iter=1000, selection=cyclic, tol=0.001; total time=   0.9s\n",
      "[CV] END alpha=0.01, fit_intercept=False, max_iter=10000, selection=cyclic, tol=1e-05; total time=  16.2s\n",
      "[CV] END alpha=0.1, fit_intercept=True, max_iter=1000, selection=cyclic, tol=0.001; total time=   0.9s\n",
      "[CV] END alpha=0.1, fit_intercept=True, max_iter=1000, selection=cyclic, tol=0.001; total time=   1.0s\n",
      "[CV] END alpha=0.1, fit_intercept=True, max_iter=1000, selection=cyclic, tol=0.0001; total time=   1.2s\n",
      "[CV] END alpha=0.1, fit_intercept=True, max_iter=1000, selection=cyclic, tol=0.0001; total time=   1.2s\n",
      "[CV] END alpha=0.1, fit_intercept=True, max_iter=1000, selection=cyclic, tol=0.0001; total time=   1.0s\n",
      "[CV] END alpha=0.1, fit_intercept=True, max_iter=1000, selection=cyclic, tol=0.0001; total time=   1.2s\n",
      "[CV] END alpha=0.1, fit_intercept=True, max_iter=1000, selection=cyclic, tol=1e-05; total time=   1.2s\n",
      "[CV] END alpha=0.1, fit_intercept=True, max_iter=1000, selection=cyclic, tol=0.0001; total time=   1.2s\n",
      "[CV] END alpha=0.01, fit_intercept=False, max_iter=10000, selection=random, tol=1e-05; total time=  10.9s\n",
      "[CV] END alpha=0.1, fit_intercept=True, max_iter=1000, selection=cyclic, tol=1e-05; total time=   1.2s\n",
      "[CV] END alpha=0.01, fit_intercept=False, max_iter=10000, selection=random, tol=1e-05; total time=  10.6s\n",
      "[CV] END alpha=0.1, fit_intercept=True, max_iter=1000, selection=random, tol=0.001; total time=   0.2s\n",
      "[CV] END alpha=0.1, fit_intercept=True, max_iter=1000, selection=random, tol=0.001; total time=   0.2s\n",
      "[CV] END alpha=0.01, fit_intercept=False, max_iter=10000, selection=random, tol=1e-05; total time=  11.0s\n",
      "[CV] END alpha=0.1, fit_intercept=True, max_iter=1000, selection=random, tol=0.001; total time=   0.2s\n",
      "[CV] END alpha=0.1, fit_intercept=True, max_iter=1000, selection=random, tol=0.001; total time=   0.2s\n",
      "[CV] END alpha=0.1, fit_intercept=True, max_iter=1000, selection=random, tol=0.001; total time=   0.2s\n",
      "[CV] END alpha=0.1, fit_intercept=True, max_iter=1000, selection=cyclic, tol=1e-05; total time=   1.1s\n",
      "[CV] END alpha=0.1, fit_intercept=True, max_iter=1000, selection=cyclic, tol=1e-05; total time=   1.3s\n"
     ]
    },
    {
     "name": "stderr",
     "output_type": "stream",
     "text": [
      "/Users/zoemarquis/Documents/projet_industrie/projet_batteries/mon_venv/lib/python3.11/site-packages/sklearn/linear_model/_coordinate_descent.py:697: ConvergenceWarning: Objective did not converge. You might want to increase the number of iterations, check the scale of the features or consider increasing regularisation. Duality gap: 1.404e+01, tolerance: 3.536e+00\n",
      "  model = cd_fast.enet_coordinate_descent(\n"
     ]
    },
    {
     "name": "stdout",
     "output_type": "stream",
     "text": [
      "[CV] END alpha=0.1, fit_intercept=True, max_iter=1000, selection=cyclic, tol=1e-05; total time=   1.4s\n",
      "[CV] END alpha=0.1, fit_intercept=True, max_iter=1000, selection=random, tol=0.0001; total time=   1.1s\n",
      "[CV] END alpha=0.1, fit_intercept=True, max_iter=1000, selection=random, tol=0.0001; total time=   1.1s\n",
      "[CV] END alpha=0.1, fit_intercept=True, max_iter=1000, selection=random, tol=0.0001; total time=   1.0s\n",
      "[CV] END alpha=0.1, fit_intercept=True, max_iter=1000, selection=random, tol=0.0001; total time=   1.0s\n",
      "[CV] END alpha=0.01, fit_intercept=False, max_iter=10000, selection=random, tol=1e-05; total time=  12.6s\n",
      "[CV] END alpha=0.1, fit_intercept=True, max_iter=1000, selection=random, tol=0.0001; total time=   1.3s\n",
      "[CV] END alpha=0.1, fit_intercept=True, max_iter=5000, selection=cyclic, tol=0.001; total time=   1.2s\n",
      "[CV] END alpha=0.1, fit_intercept=True, max_iter=1000, selection=random, tol=1e-05; total time=   1.4s\n",
      "[CV] END alpha=0.1, fit_intercept=True, max_iter=1000, selection=random, tol=1e-05; total time=   1.5s\n"
     ]
    },
    {
     "name": "stderr",
     "output_type": "stream",
     "text": [
      "/Users/zoemarquis/Documents/projet_industrie/projet_batteries/mon_venv/lib/python3.11/site-packages/sklearn/linear_model/_coordinate_descent.py:697: ConvergenceWarning: Objective did not converge. You might want to increase the number of iterations, check the scale of the features or consider increasing regularisation. Duality gap: 1.011e+01, tolerance: 3.567e+00\n",
      "  model = cd_fast.enet_coordinate_descent(\n",
      "/Users/zoemarquis/Documents/projet_industrie/projet_batteries/mon_venv/lib/python3.11/site-packages/sklearn/linear_model/_coordinate_descent.py:697: ConvergenceWarning: Objective did not converge. You might want to increase the number of iterations, check the scale of the features or consider increasing regularisation. Duality gap: 9.268e+00, tolerance: 3.560e+00\n",
      "  model = cd_fast.enet_coordinate_descent(\n",
      "/Users/zoemarquis/Documents/projet_industrie/projet_batteries/mon_venv/lib/python3.11/site-packages/sklearn/linear_model/_coordinate_descent.py:697: ConvergenceWarning: Objective did not converge. You might want to increase the number of iterations, check the scale of the features or consider increasing regularisation. Duality gap: 7.423e+00, tolerance: 3.482e+00\n",
      "  model = cd_fast.enet_coordinate_descent(\n",
      "/Users/zoemarquis/Documents/projet_industrie/projet_batteries/mon_venv/lib/python3.11/site-packages/sklearn/linear_model/_coordinate_descent.py:697: ConvergenceWarning: Objective did not converge. You might want to increase the number of iterations, check the scale of the features or consider increasing regularisation. Duality gap: 1.790e+01, tolerance: 3.536e+00\n",
      "  model = cd_fast.enet_coordinate_descent(\n"
     ]
    },
    {
     "name": "stdout",
     "output_type": "stream",
     "text": [
      "[CV] END alpha=0.1, fit_intercept=True, max_iter=1000, selection=random, tol=1e-05; total time=   1.7s\n",
      "[CV] END alpha=0.1, fit_intercept=True, max_iter=1000, selection=random, tol=1e-05; total time=   1.7s\n",
      "[CV] END alpha=0.1, fit_intercept=True, max_iter=1000, selection=random, tol=1e-05; total time=   1.6s\n",
      "[CV] END alpha=0.1, fit_intercept=True, max_iter=5000, selection=cyclic, tol=0.001; total time=   1.3s\n",
      "[CV] END alpha=0.1, fit_intercept=True, max_iter=5000, selection=cyclic, tol=0.001; total time=   1.4s\n",
      "[CV] END alpha=0.1, fit_intercept=True, max_iter=5000, selection=cyclic, tol=0.001; total time=   1.4s\n",
      "[CV] END alpha=0.1, fit_intercept=True, max_iter=5000, selection=cyclic, tol=0.001; total time=   1.4s\n",
      "[CV] END alpha=0.1, fit_intercept=True, max_iter=5000, selection=cyclic, tol=0.0001; total time=   1.4s\n",
      "[CV] END alpha=0.1, fit_intercept=True, max_iter=5000, selection=cyclic, tol=0.0001; total time=   1.6s\n",
      "[CV] END alpha=0.1, fit_intercept=True, max_iter=5000, selection=cyclic, tol=0.0001; total time=   1.7s\n",
      "[CV] END alpha=0.1, fit_intercept=True, max_iter=5000, selection=cyclic, tol=0.0001; total time=   1.5s\n",
      "[CV] END alpha=0.1, fit_intercept=True, max_iter=5000, selection=random, tol=0.001; total time=   0.2s\n",
      "[CV] END alpha=0.1, fit_intercept=True, max_iter=5000, selection=random, tol=0.001; total time=   0.3s\n",
      "[CV] END alpha=0.1, fit_intercept=True, max_iter=5000, selection=random, tol=0.001; total time=   0.2s\n",
      "[CV] END alpha=0.1, fit_intercept=True, max_iter=5000, selection=random, tol=0.001; total time=   0.3s\n",
      "[CV] END alpha=0.1, fit_intercept=True, max_iter=5000, selection=cyclic, tol=1e-05; total time=   1.8s\n",
      "[CV] END alpha=0.1, fit_intercept=True, max_iter=5000, selection=cyclic, tol=1e-05; total time=   1.8s\n",
      "[CV] END alpha=0.1, fit_intercept=True, max_iter=5000, selection=random, tol=0.001; total time=   0.2s\n",
      "[CV] END alpha=0.1, fit_intercept=True, max_iter=5000, selection=cyclic, tol=1e-05; total time=   1.5s\n",
      "[CV] END alpha=0.1, fit_intercept=True, max_iter=5000, selection=cyclic, tol=0.0001; total time=   2.0s\n",
      "[CV] END alpha=0.1, fit_intercept=True, max_iter=5000, selection=cyclic, tol=1e-05; total time=   1.8s\n",
      "[CV] END alpha=0.1, fit_intercept=True, max_iter=5000, selection=cyclic, tol=1e-05; total time=   1.8s\n",
      "[CV] END alpha=0.1, fit_intercept=True, max_iter=5000, selection=random, tol=0.0001; total time=   1.2s\n",
      "[CV] END alpha=0.1, fit_intercept=True, max_iter=5000, selection=random, tol=0.0001; total time=   1.2s\n",
      "[CV] END alpha=0.1, fit_intercept=True, max_iter=5000, selection=random, tol=0.0001; total time=   1.2s\n",
      "[CV] END alpha=0.1, fit_intercept=True, max_iter=5000, selection=random, tol=0.0001; total time=   1.4s\n",
      "[CV] END alpha=0.1, fit_intercept=True, max_iter=5000, selection=random, tol=0.0001; total time=   1.5s\n",
      "[CV] END alpha=0.1, fit_intercept=True, max_iter=5000, selection=random, tol=1e-05; total time=   1.8s\n",
      "[CV] END alpha=0.1, fit_intercept=True, max_iter=5000, selection=random, tol=1e-05; total time=   1.8s\n",
      "[CV] END alpha=0.1, fit_intercept=True, max_iter=5000, selection=random, tol=1e-05; total time=   1.4s\n",
      "[CV] END alpha=0.01, fit_intercept=False, max_iter=10000, selection=random, tol=1e-05; total time=  14.6s\n",
      "[CV] END alpha=0.1, fit_intercept=True, max_iter=10000, selection=cyclic, tol=0.001; total time=   1.3s\n",
      "[CV] END alpha=0.1, fit_intercept=True, max_iter=10000, selection=cyclic, tol=0.001; total time=   1.3s\n",
      "[CV] END alpha=0.1, fit_intercept=True, max_iter=5000, selection=random, tol=1e-05; total time=   1.8s\n",
      "[CV] END alpha=0.1, fit_intercept=True, max_iter=5000, selection=random, tol=1e-05; total time=   2.0s\n",
      "[CV] END alpha=0.1, fit_intercept=True, max_iter=10000, selection=cyclic, tol=0.001; total time=   1.2s\n",
      "[CV] END alpha=0.1, fit_intercept=True, max_iter=10000, selection=cyclic, tol=0.001; total time=   1.4s\n",
      "[CV] END alpha=0.1, fit_intercept=True, max_iter=10000, selection=cyclic, tol=0.001; total time=   1.5s\n",
      "[CV] END alpha=0.1, fit_intercept=True, max_iter=10000, selection=cyclic, tol=0.0001; total time=   1.6s\n",
      "[CV] END alpha=0.1, fit_intercept=True, max_iter=10000, selection=cyclic, tol=0.0001; total time=   1.4s\n",
      "[CV] END alpha=0.1, fit_intercept=True, max_iter=10000, selection=cyclic, tol=0.0001; total time=   1.7s\n",
      "[CV] END alpha=0.1, fit_intercept=True, max_iter=10000, selection=random, tol=0.001; total time=   0.2s\n",
      "[CV] END alpha=0.1, fit_intercept=True, max_iter=10000, selection=cyclic, tol=0.0001; total time=   1.7s\n",
      "[CV] END alpha=0.1, fit_intercept=True, max_iter=10000, selection=random, tol=0.001; total time=   0.2s\n",
      "[CV] END alpha=0.1, fit_intercept=True, max_iter=10000, selection=random, tol=0.001; total time=   0.3s\n",
      "[CV] END alpha=0.1, fit_intercept=True, max_iter=10000, selection=random, tol=0.001; total time=   0.2s\n",
      "[CV] END alpha=0.1, fit_intercept=True, max_iter=10000, selection=cyclic, tol=1e-05; total time=   1.6s\n",
      "[CV] END alpha=0.1, fit_intercept=True, max_iter=10000, selection=cyclic, tol=0.0001; total time=   1.9s\n",
      "[CV] END alpha=0.1, fit_intercept=True, max_iter=10000, selection=random, tol=0.001; total time=   0.2s\n",
      "[CV] END alpha=0.1, fit_intercept=True, max_iter=10000, selection=cyclic, tol=1e-05; total time=   1.6s\n",
      "[CV] END alpha=0.1, fit_intercept=True, max_iter=10000, selection=cyclic, tol=1e-05; total time=   1.3s\n",
      "[CV] END alpha=0.1, fit_intercept=True, max_iter=10000, selection=cyclic, tol=1e-05; total time=   1.6s\n",
      "[CV] END alpha=0.1, fit_intercept=True, max_iter=10000, selection=cyclic, tol=1e-05; total time=   1.8s\n",
      "[CV] END alpha=0.1, fit_intercept=True, max_iter=10000, selection=random, tol=0.0001; total time=   1.3s\n",
      "[CV] END alpha=0.1, fit_intercept=True, max_iter=10000, selection=random, tol=0.0001; total time=   1.3s\n",
      "[CV] END alpha=0.1, fit_intercept=True, max_iter=10000, selection=random, tol=0.0001; total time=   1.2s\n",
      "[CV] END alpha=0.1, fit_intercept=True, max_iter=10000, selection=random, tol=0.0001; total time=   1.2s\n",
      "[CV] END alpha=0.1, fit_intercept=True, max_iter=10000, selection=random, tol=0.0001; total time=   1.3s\n",
      "[CV] END alpha=0.1, fit_intercept=True, max_iter=10000, selection=random, tol=1e-05; total time=   1.7s\n",
      "[CV] END alpha=0.1, fit_intercept=False, max_iter=1000, selection=cyclic, tol=0.001; total time=   0.8s\n",
      "[CV] END alpha=0.1, fit_intercept=False, max_iter=1000, selection=cyclic, tol=0.001; total time=   0.8s\n",
      "[CV] END alpha=0.1, fit_intercept=True, max_iter=10000, selection=random, tol=1e-05; total time=   1.5s\n",
      "[CV] END alpha=0.1, fit_intercept=False, max_iter=1000, selection=cyclic, tol=0.001; total time=   0.8s\n",
      "[CV] END alpha=0.1, fit_intercept=True, max_iter=10000, selection=random, tol=1e-05; total time=   1.4s\n",
      "[CV] END alpha=0.1, fit_intercept=False, max_iter=1000, selection=cyclic, tol=0.001; total time=   0.7s\n",
      "[CV] END alpha=0.1, fit_intercept=False, max_iter=1000, selection=cyclic, tol=0.001; total time=   0.8s\n",
      "[CV] END alpha=0.1, fit_intercept=True, max_iter=10000, selection=random, tol=1e-05; total time=   1.8s\n",
      "[CV] END alpha=0.1, fit_intercept=True, max_iter=10000, selection=random, tol=1e-05; total time=   2.0s\n"
     ]
    },
    {
     "name": "stderr",
     "output_type": "stream",
     "text": [
      "/Users/zoemarquis/Documents/projet_industrie/projet_batteries/mon_venv/lib/python3.11/site-packages/sklearn/linear_model/_coordinate_descent.py:697: ConvergenceWarning: Objective did not converge. You might want to increase the number of iterations, check the scale of the features or consider increasing regularisation. Duality gap: 1.725e+04, tolerance: 1.414e+04\n",
      "  model = cd_fast.enet_coordinate_descent(\n",
      "/Users/zoemarquis/Documents/projet_industrie/projet_batteries/mon_venv/lib/python3.11/site-packages/sklearn/linear_model/_coordinate_descent.py:697: ConvergenceWarning: Objective did not converge. You might want to increase the number of iterations, check the scale of the features or consider increasing regularisation. Duality gap: 1.741e+04, tolerance: 1.415e+04\n",
      "  model = cd_fast.enet_coordinate_descent(\n",
      "/Users/zoemarquis/Documents/projet_industrie/projet_batteries/mon_venv/lib/python3.11/site-packages/sklearn/linear_model/_coordinate_descent.py:697: ConvergenceWarning: Objective did not converge. You might want to increase the number of iterations, check the scale of the features or consider increasing regularisation. Duality gap: 1.499e+04, tolerance: 1.414e+04\n",
      "  model = cd_fast.enet_coordinate_descent(\n",
      "/Users/zoemarquis/Documents/projet_industrie/projet_batteries/mon_venv/lib/python3.11/site-packages/sklearn/linear_model/_coordinate_descent.py:697: ConvergenceWarning: Objective did not converge. You might want to increase the number of iterations, check the scale of the features or consider increasing regularisation. Duality gap: 1.493e+04, tolerance: 1.416e+04\n",
      "  model = cd_fast.enet_coordinate_descent(\n"
     ]
    },
    {
     "name": "stdout",
     "output_type": "stream",
     "text": [
      "[CV] END alpha=0.1, fit_intercept=False, max_iter=1000, selection=cyclic, tol=0.0001; total time=   2.1s\n",
      "[CV] END alpha=0.1, fit_intercept=False, max_iter=1000, selection=cyclic, tol=0.0001; total time=   2.0s\n",
      "[CV] END alpha=0.1, fit_intercept=False, max_iter=1000, selection=cyclic, tol=0.0001; total time=   2.3s\n",
      "[CV] END alpha=0.1, fit_intercept=False, max_iter=1000, selection=cyclic, tol=0.0001; total time=   2.1s\n"
     ]
    },
    {
     "name": "stderr",
     "output_type": "stream",
     "text": [
      "/Users/zoemarquis/Documents/projet_industrie/projet_batteries/mon_venv/lib/python3.11/site-packages/sklearn/linear_model/_coordinate_descent.py:697: ConvergenceWarning: Objective did not converge. You might want to increase the number of iterations, check the scale of the features or consider increasing regularisation. Duality gap: 1.499e+04, tolerance: 1.414e+03\n",
      "  model = cd_fast.enet_coordinate_descent(\n",
      "/Users/zoemarquis/Documents/projet_industrie/projet_batteries/mon_venv/lib/python3.11/site-packages/sklearn/linear_model/_coordinate_descent.py:697: ConvergenceWarning: Objective did not converge. You might want to increase the number of iterations, check the scale of the features or consider increasing regularisation. Duality gap: 1.683e+04, tolerance: 1.415e+04\n",
      "  model = cd_fast.enet_coordinate_descent(\n",
      "/Users/zoemarquis/Documents/projet_industrie/projet_batteries/mon_venv/lib/python3.11/site-packages/sklearn/linear_model/_coordinate_descent.py:697: ConvergenceWarning: Objective did not converge. You might want to increase the number of iterations, check the scale of the features or consider increasing regularisation. Duality gap: 1.725e+04, tolerance: 1.414e+03\n",
      "  model = cd_fast.enet_coordinate_descent(\n"
     ]
    },
    {
     "name": "stdout",
     "output_type": "stream",
     "text": [
      "[CV] END alpha=0.1, fit_intercept=False, max_iter=1000, selection=cyclic, tol=1e-05; total time=   1.9s\n",
      "[CV] END alpha=0.1, fit_intercept=False, max_iter=1000, selection=cyclic, tol=0.0001; total time=   2.0s\n",
      "[CV] END alpha=0.1, fit_intercept=False, max_iter=1000, selection=random, tol=0.001; total time=   0.5s\n",
      "[CV] END alpha=0.1, fit_intercept=False, max_iter=1000, selection=random, tol=0.001; total time=   0.5s\n",
      "[CV] END alpha=0.1, fit_intercept=False, max_iter=1000, selection=cyclic, tol=1e-05; total time=   2.0s\n"
     ]
    },
    {
     "name": "stderr",
     "output_type": "stream",
     "text": [
      "/Users/zoemarquis/Documents/projet_industrie/projet_batteries/mon_venv/lib/python3.11/site-packages/sklearn/linear_model/_coordinate_descent.py:697: ConvergenceWarning: Objective did not converge. You might want to increase the number of iterations, check the scale of the features or consider increasing regularisation. Duality gap: 1.741e+04, tolerance: 1.415e+03\n",
      "  model = cd_fast.enet_coordinate_descent(\n"
     ]
    },
    {
     "name": "stdout",
     "output_type": "stream",
     "text": [
      "[CV] END alpha=0.1, fit_intercept=False, max_iter=1000, selection=cyclic, tol=1e-05; total time=   1.9s\n",
      "[CV] END alpha=0.1, fit_intercept=False, max_iter=1000, selection=random, tol=0.001; total time=   0.4s\n",
      "[CV] END alpha=0.1, fit_intercept=False, max_iter=1000, selection=random, tol=0.001; total time=   0.5s\n",
      "[CV] END alpha=0.1, fit_intercept=False, max_iter=1000, selection=random, tol=0.001; total time=   0.4s\n",
      "[CV] END alpha=0.1, fit_intercept=False, max_iter=1000, selection=random, tol=0.0001; total time=   0.9s\n"
     ]
    },
    {
     "name": "stderr",
     "output_type": "stream",
     "text": [
      "/Users/zoemarquis/Documents/projet_industrie/projet_batteries/mon_venv/lib/python3.11/site-packages/sklearn/linear_model/_coordinate_descent.py:697: ConvergenceWarning: Objective did not converge. You might want to increase the number of iterations, check the scale of the features or consider increasing regularisation. Duality gap: 1.493e+04, tolerance: 1.416e+03\n",
      "  model = cd_fast.enet_coordinate_descent(\n",
      "/Users/zoemarquis/Documents/projet_industrie/projet_batteries/mon_venv/lib/python3.11/site-packages/sklearn/linear_model/_coordinate_descent.py:697: ConvergenceWarning: Objective did not converge. You might want to increase the number of iterations, check the scale of the features or consider increasing regularisation. Duality gap: 1.683e+04, tolerance: 1.415e+03\n",
      "  model = cd_fast.enet_coordinate_descent(\n"
     ]
    },
    {
     "name": "stdout",
     "output_type": "stream",
     "text": [
      "[CV] END alpha=0.1, fit_intercept=False, max_iter=1000, selection=cyclic, tol=1e-05; total time=   1.7s\n",
      "[CV] END alpha=0.1, fit_intercept=False, max_iter=1000, selection=cyclic, tol=1e-05; total time=   1.8s\n",
      "[CV] END alpha=0.1, fit_intercept=False, max_iter=1000, selection=random, tol=0.0001; total time=   1.8s\n",
      "[CV] END alpha=0.1, fit_intercept=False, max_iter=1000, selection=random, tol=0.0001; total time=   2.0s\n",
      "[CV] END alpha=0.1, fit_intercept=False, max_iter=1000, selection=random, tol=0.0001; total time=   1.8s\n",
      "[CV] END alpha=0.1, fit_intercept=False, max_iter=1000, selection=random, tol=0.0001; total time=   1.8s\n",
      "[CV] END alpha=0.1, fit_intercept=False, max_iter=1000, selection=random, tol=1e-05; total time=   1.8s\n"
     ]
    },
    {
     "name": "stderr",
     "output_type": "stream",
     "text": [
      "/Users/zoemarquis/Documents/projet_industrie/projet_batteries/mon_venv/lib/python3.11/site-packages/sklearn/linear_model/_coordinate_descent.py:697: ConvergenceWarning: Objective did not converge. You might want to increase the number of iterations, check the scale of the features or consider increasing regularisation. Duality gap: 2.793e+03, tolerance: 1.414e+03\n",
      "  model = cd_fast.enet_coordinate_descent(\n",
      "/Users/zoemarquis/Documents/projet_industrie/projet_batteries/mon_venv/lib/python3.11/site-packages/sklearn/linear_model/_coordinate_descent.py:697: ConvergenceWarning: Objective did not converge. You might want to increase the number of iterations, check the scale of the features or consider increasing regularisation. Duality gap: 5.410e+03, tolerance: 1.414e+03\n",
      "  model = cd_fast.enet_coordinate_descent(\n"
     ]
    },
    {
     "name": "stdout",
     "output_type": "stream",
     "text": [
      "[CV] END alpha=0.1, fit_intercept=False, max_iter=1000, selection=random, tol=1e-05; total time=   1.8s\n",
      "[CV] END alpha=0.1, fit_intercept=False, max_iter=5000, selection=cyclic, tol=0.001; total time=   0.5s\n",
      "[CV] END alpha=0.1, fit_intercept=False, max_iter=5000, selection=cyclic, tol=0.001; total time=   0.7s\n",
      "[CV] END alpha=0.1, fit_intercept=False, max_iter=5000, selection=cyclic, tol=0.001; total time=   0.6s\n",
      "[CV] END alpha=0.1, fit_intercept=False, max_iter=5000, selection=cyclic, tol=0.001; total time=   0.6s\n"
     ]
    },
    {
     "name": "stderr",
     "output_type": "stream",
     "text": [
      "/Users/zoemarquis/Documents/projet_industrie/projet_batteries/mon_venv/lib/python3.11/site-packages/sklearn/linear_model/_coordinate_descent.py:697: ConvergenceWarning: Objective did not converge. You might want to increase the number of iterations, check the scale of the features or consider increasing regularisation. Duality gap: 5.462e+03, tolerance: 1.415e+03\n",
      "  model = cd_fast.enet_coordinate_descent(\n",
      "/Users/zoemarquis/Documents/projet_industrie/projet_batteries/mon_venv/lib/python3.11/site-packages/sklearn/linear_model/_coordinate_descent.py:697: ConvergenceWarning: Objective did not converge. You might want to increase the number of iterations, check the scale of the features or consider increasing regularisation. Duality gap: 5.495e+03, tolerance: 1.416e+03\n",
      "  model = cd_fast.enet_coordinate_descent(\n"
     ]
    },
    {
     "name": "stdout",
     "output_type": "stream",
     "text": [
      "[CV] END alpha=0.1, fit_intercept=False, max_iter=1000, selection=random, tol=1e-05; total time=   2.0s\n",
      "[CV] END alpha=0.1, fit_intercept=False, max_iter=1000, selection=random, tol=1e-05; total time=   2.1s\n",
      "[CV] END alpha=0.1, fit_intercept=False, max_iter=5000, selection=cyclic, tol=0.001; total time=   0.7s\n"
     ]
    },
    {
     "name": "stderr",
     "output_type": "stream",
     "text": [
      "/Users/zoemarquis/Documents/projet_industrie/projet_batteries/mon_venv/lib/python3.11/site-packages/sklearn/linear_model/_coordinate_descent.py:697: ConvergenceWarning: Objective did not converge. You might want to increase the number of iterations, check the scale of the features or consider increasing regularisation. Duality gap: 5.522e+03, tolerance: 1.415e+03\n",
      "  model = cd_fast.enet_coordinate_descent(\n"
     ]
    },
    {
     "name": "stdout",
     "output_type": "stream",
     "text": [
      "[CV] END alpha=0.1, fit_intercept=False, max_iter=1000, selection=random, tol=1e-05; total time=   2.1s\n",
      "[CV] END alpha=0.1, fit_intercept=False, max_iter=5000, selection=cyclic, tol=0.0001; total time=   8.0s\n",
      "[CV] END alpha=0.1, fit_intercept=False, max_iter=5000, selection=cyclic, tol=0.0001; total time=   7.7s\n",
      "[CV] END alpha=0.1, fit_intercept=False, max_iter=5000, selection=cyclic, tol=0.0001; total time=   8.3s\n",
      "[CV] END alpha=0.1, fit_intercept=False, max_iter=5000, selection=cyclic, tol=0.0001; total time=   8.4s\n",
      "[CV] END alpha=0.1, fit_intercept=False, max_iter=5000, selection=cyclic, tol=0.0001; total time=   8.4s\n",
      "[CV] END alpha=0.1, fit_intercept=False, max_iter=5000, selection=random, tol=0.001; total time=   0.5s\n",
      "[CV] END alpha=0.1, fit_intercept=False, max_iter=5000, selection=random, tol=0.001; total time=   0.5s\n",
      "[CV] END alpha=0.1, fit_intercept=False, max_iter=5000, selection=cyclic, tol=1e-05; total time=   8.3s\n"
     ]
    },
    {
     "name": "stderr",
     "output_type": "stream",
     "text": [
      "/Users/zoemarquis/Documents/projet_industrie/projet_batteries/mon_venv/lib/python3.11/site-packages/sklearn/linear_model/_coordinate_descent.py:697: ConvergenceWarning: Objective did not converge. You might want to increase the number of iterations, check the scale of the features or consider increasing regularisation. Duality gap: 6.255e+03, tolerance: 1.414e+03\n",
      "  model = cd_fast.enet_coordinate_descent(\n",
      "/Users/zoemarquis/Documents/projet_industrie/projet_batteries/mon_venv/lib/python3.11/site-packages/sklearn/linear_model/_coordinate_descent.py:697: ConvergenceWarning: Objective did not converge. You might want to increase the number of iterations, check the scale of the features or consider increasing regularisation. Duality gap: 5.856e+03, tolerance: 1.414e+03\n",
      "  model = cd_fast.enet_coordinate_descent(\n"
     ]
    },
    {
     "name": "stdout",
     "output_type": "stream",
     "text": [
      "[CV] END alpha=0.1, fit_intercept=False, max_iter=5000, selection=random, tol=0.001; total time=   0.5s\n",
      "[CV] END alpha=0.1, fit_intercept=False, max_iter=5000, selection=cyclic, tol=1e-05; total time=   8.5s\n",
      "[CV] END alpha=0.1, fit_intercept=False, max_iter=5000, selection=random, tol=0.001; total time=   0.4s\n",
      "[CV] END alpha=0.1, fit_intercept=False, max_iter=5000, selection=random, tol=0.001; total time=   0.7s\n",
      "[CV] END alpha=0.1, fit_intercept=False, max_iter=5000, selection=random, tol=0.0001; total time=   0.8s\n",
      "[CV] END alpha=0.1, fit_intercept=False, max_iter=5000, selection=cyclic, tol=1e-05; total time=   8.4s\n"
     ]
    },
    {
     "name": "stderr",
     "output_type": "stream",
     "text": [
      "/Users/zoemarquis/Documents/projet_industrie/projet_batteries/mon_venv/lib/python3.11/site-packages/sklearn/linear_model/_coordinate_descent.py:697: ConvergenceWarning: Objective did not converge. You might want to increase the number of iterations, check the scale of the features or consider increasing regularisation. Duality gap: 6.334e+03, tolerance: 1.415e+03\n",
      "  model = cd_fast.enet_coordinate_descent(\n",
      "/Users/zoemarquis/Documents/projet_industrie/projet_batteries/mon_venv/lib/python3.11/site-packages/sklearn/linear_model/_coordinate_descent.py:697: ConvergenceWarning: Objective did not converge. You might want to increase the number of iterations, check the scale of the features or consider increasing regularisation. Duality gap: 5.923e+03, tolerance: 1.416e+03\n",
      "  model = cd_fast.enet_coordinate_descent(\n"
     ]
    },
    {
     "name": "stdout",
     "output_type": "stream",
     "text": [
      "[CV] END alpha=0.1, fit_intercept=False, max_iter=5000, selection=cyclic, tol=1e-05; total time=   6.7s\n"
     ]
    },
    {
     "name": "stderr",
     "output_type": "stream",
     "text": [
      "/Users/zoemarquis/Documents/projet_industrie/projet_batteries/mon_venv/lib/python3.11/site-packages/sklearn/linear_model/_coordinate_descent.py:697: ConvergenceWarning: Objective did not converge. You might want to increase the number of iterations, check the scale of the features or consider increasing regularisation. Duality gap: 5.343e+03, tolerance: 1.415e+03\n",
      "  model = cd_fast.enet_coordinate_descent(\n"
     ]
    },
    {
     "name": "stdout",
     "output_type": "stream",
     "text": [
      "[CV] END alpha=0.1, fit_intercept=False, max_iter=5000, selection=cyclic, tol=1e-05; total time=   6.8s\n",
      "[CV] END alpha=0.1, fit_intercept=False, max_iter=5000, selection=random, tol=1e-05; total time=   8.9s\n",
      "[CV] END alpha=0.1, fit_intercept=False, max_iter=5000, selection=random, tol=0.0001; total time=   9.8s\n",
      "[CV] END alpha=0.1, fit_intercept=False, max_iter=5000, selection=random, tol=0.0001; total time=  10.1s\n",
      "[CV] END alpha=0.1, fit_intercept=False, max_iter=5000, selection=random, tol=0.0001; total time=   9.8s\n",
      "[CV] END alpha=0.1, fit_intercept=False, max_iter=10000, selection=cyclic, tol=0.001; total time=   0.5s\n",
      "[CV] END alpha=0.1, fit_intercept=False, max_iter=5000, selection=random, tol=0.0001; total time=  10.1s\n",
      "[CV] END alpha=0.1, fit_intercept=False, max_iter=5000, selection=random, tol=1e-05; total time=   9.6s\n"
     ]
    },
    {
     "name": "stderr",
     "output_type": "stream",
     "text": [
      "/Users/zoemarquis/Documents/projet_industrie/projet_batteries/mon_venv/lib/python3.11/site-packages/sklearn/linear_model/_coordinate_descent.py:697: ConvergenceWarning: Objective did not converge. You might want to increase the number of iterations, check the scale of the features or consider increasing regularisation. Duality gap: 1.960e+03, tolerance: 1.414e+03\n",
      "  model = cd_fast.enet_coordinate_descent(\n"
     ]
    },
    {
     "name": "stdout",
     "output_type": "stream",
     "text": [
      "[CV] END alpha=0.1, fit_intercept=False, max_iter=10000, selection=cyclic, tol=0.001; total time=   0.5s\n",
      "[CV] END alpha=0.1, fit_intercept=False, max_iter=10000, selection=cyclic, tol=0.001; total time=   0.6s\n",
      "[CV] END alpha=0.1, fit_intercept=False, max_iter=10000, selection=cyclic, tol=0.001; total time=   0.6s\n",
      "[CV] END alpha=0.1, fit_intercept=False, max_iter=10000, selection=cyclic, tol=0.001; total time=   0.6s\n"
     ]
    },
    {
     "name": "stderr",
     "output_type": "stream",
     "text": [
      "/Users/zoemarquis/Documents/projet_industrie/projet_batteries/mon_venv/lib/python3.11/site-packages/sklearn/linear_model/_coordinate_descent.py:697: ConvergenceWarning: Objective did not converge. You might want to increase the number of iterations, check the scale of the features or consider increasing regularisation. Duality gap: 1.870e+03, tolerance: 1.415e+03\n",
      "  model = cd_fast.enet_coordinate_descent(\n"
     ]
    },
    {
     "name": "stdout",
     "output_type": "stream",
     "text": [
      "[CV] END alpha=0.1, fit_intercept=False, max_iter=5000, selection=random, tol=1e-05; total time=  10.5s\n"
     ]
    },
    {
     "name": "stderr",
     "output_type": "stream",
     "text": [
      "/Users/zoemarquis/Documents/projet_industrie/projet_batteries/mon_venv/lib/python3.11/site-packages/sklearn/linear_model/_coordinate_descent.py:697: ConvergenceWarning: Objective did not converge. You might want to increase the number of iterations, check the scale of the features or consider increasing regularisation. Duality gap: 2.170e+03, tolerance: 1.416e+03\n",
      "  model = cd_fast.enet_coordinate_descent(\n"
     ]
    },
    {
     "name": "stdout",
     "output_type": "stream",
     "text": [
      "[CV] END alpha=0.1, fit_intercept=False, max_iter=5000, selection=random, tol=1e-05; total time=  10.7s\n",
      "[CV] END alpha=0.1, fit_intercept=False, max_iter=10000, selection=cyclic, tol=0.0001; total time=   7.5s\n",
      "[CV] END alpha=0.1, fit_intercept=False, max_iter=10000, selection=cyclic, tol=0.0001; total time=   8.5s\n",
      "[CV] END alpha=0.1, fit_intercept=False, max_iter=10000, selection=cyclic, tol=0.0001; total time=   9.2s\n"
     ]
    },
    {
     "name": "stderr",
     "output_type": "stream",
     "text": [
      "/Users/zoemarquis/Documents/projet_industrie/projet_batteries/mon_venv/lib/python3.11/site-packages/sklearn/linear_model/_coordinate_descent.py:697: ConvergenceWarning: Objective did not converge. You might want to increase the number of iterations, check the scale of the features or consider increasing regularisation. Duality gap: 1.806e+03, tolerance: 1.415e+03\n",
      "  model = cd_fast.enet_coordinate_descent(\n"
     ]
    },
    {
     "name": "stdout",
     "output_type": "stream",
     "text": [
      "[CV] END alpha=0.1, fit_intercept=False, max_iter=5000, selection=random, tol=1e-05; total time=  12.3s\n",
      "[CV] END alpha=0.1, fit_intercept=False, max_iter=10000, selection=random, tol=0.001; total time=   0.5s\n",
      "[CV] END alpha=0.1, fit_intercept=False, max_iter=10000, selection=random, tol=0.001; total time=   0.7s\n",
      "[CV] END alpha=0.1, fit_intercept=False, max_iter=10000, selection=random, tol=0.001; total time=   0.6s\n",
      "[CV] END alpha=0.1, fit_intercept=False, max_iter=10000, selection=random, tol=0.001; total time=   0.5s\n",
      "[CV] END alpha=0.1, fit_intercept=False, max_iter=10000, selection=random, tol=0.001; total time=   0.5s\n",
      "[CV] END alpha=0.1, fit_intercept=False, max_iter=10000, selection=random, tol=0.0001; total time=   1.1s\n",
      "[CV] END alpha=0.1, fit_intercept=False, max_iter=10000, selection=cyclic, tol=0.0001; total time=  15.9s\n",
      "[CV] END alpha=0.1, fit_intercept=False, max_iter=10000, selection=cyclic, tol=0.0001; total time=  16.6s\n"
     ]
    },
    {
     "name": "stderr",
     "output_type": "stream",
     "text": [
      "/Users/zoemarquis/Documents/projet_industrie/projet_batteries/mon_venv/lib/python3.11/site-packages/sklearn/linear_model/_coordinate_descent.py:697: ConvergenceWarning: Objective did not converge. You might want to increase the number of iterations, check the scale of the features or consider increasing regularisation. Duality gap: 3.181e+03, tolerance: 1.414e+03\n",
      "  model = cd_fast.enet_coordinate_descent(\n"
     ]
    },
    {
     "name": "stdout",
     "output_type": "stream",
     "text": [
      "[CV] END alpha=0.1, fit_intercept=False, max_iter=10000, selection=cyclic, tol=1e-05; total time=  16.5s\n"
     ]
    },
    {
     "name": "stderr",
     "output_type": "stream",
     "text": [
      "/Users/zoemarquis/Documents/projet_industrie/projet_batteries/mon_venv/lib/python3.11/site-packages/sklearn/linear_model/_coordinate_descent.py:697: ConvergenceWarning: Objective did not converge. You might want to increase the number of iterations, check the scale of the features or consider increasing regularisation. Duality gap: 3.349e+03, tolerance: 1.414e+03\n",
      "  model = cd_fast.enet_coordinate_descent(\n"
     ]
    },
    {
     "name": "stdout",
     "output_type": "stream",
     "text": [
      "[CV] END alpha=0.1, fit_intercept=False, max_iter=10000, selection=cyclic, tol=1e-05; total time=  16.9s\n"
     ]
    },
    {
     "name": "stderr",
     "output_type": "stream",
     "text": [
      "/Users/zoemarquis/Documents/projet_industrie/projet_batteries/mon_venv/lib/python3.11/site-packages/sklearn/linear_model/_coordinate_descent.py:697: ConvergenceWarning: Objective did not converge. You might want to increase the number of iterations, check the scale of the features or consider increasing regularisation. Duality gap: 3.309e+03, tolerance: 1.415e+03\n",
      "  model = cd_fast.enet_coordinate_descent(\n"
     ]
    },
    {
     "name": "stdout",
     "output_type": "stream",
     "text": [
      "[CV] END alpha=0.1, fit_intercept=False, max_iter=10000, selection=cyclic, tol=1e-05; total time=  16.0s\n"
     ]
    },
    {
     "name": "stderr",
     "output_type": "stream",
     "text": [
      "/Users/zoemarquis/Documents/projet_industrie/projet_batteries/mon_venv/lib/python3.11/site-packages/sklearn/linear_model/_coordinate_descent.py:697: ConvergenceWarning: Objective did not converge. You might want to increase the number of iterations, check the scale of the features or consider increasing regularisation. Duality gap: 3.269e+03, tolerance: 1.416e+03\n",
      "  model = cd_fast.enet_coordinate_descent(\n"
     ]
    },
    {
     "name": "stdout",
     "output_type": "stream",
     "text": [
      "[CV] END alpha=0.1, fit_intercept=False, max_iter=10000, selection=cyclic, tol=1e-05; total time=  16.0s\n"
     ]
    },
    {
     "name": "stderr",
     "output_type": "stream",
     "text": [
      "/Users/zoemarquis/Documents/projet_industrie/projet_batteries/mon_venv/lib/python3.11/site-packages/sklearn/linear_model/_coordinate_descent.py:697: ConvergenceWarning: Objective did not converge. You might want to increase the number of iterations, check the scale of the features or consider increasing regularisation. Duality gap: 2.974e+03, tolerance: 1.415e+03\n",
      "  model = cd_fast.enet_coordinate_descent(\n"
     ]
    },
    {
     "name": "stdout",
     "output_type": "stream",
     "text": [
      "[CV] END alpha=0.1, fit_intercept=False, max_iter=10000, selection=cyclic, tol=1e-05; total time=  15.4s\n",
      "[CV] END alpha=0.1, fit_intercept=False, max_iter=10000, selection=random, tol=0.0001; total time=  11.6s\n",
      "[CV] END alpha=0.1, fit_intercept=False, max_iter=10000, selection=random, tol=0.0001; total time=  13.3s\n",
      "[CV] END alpha=1.0, fit_intercept=True, max_iter=1000, selection=cyclic, tol=0.001; total time=   0.0s\n",
      "[CV] END alpha=1.0, fit_intercept=True, max_iter=1000, selection=cyclic, tol=0.001; total time=   0.0s\n",
      "[CV] END alpha=1.0, fit_intercept=True, max_iter=1000, selection=cyclic, tol=0.001; total time=   0.0s\n",
      "[CV] END alpha=1.0, fit_intercept=True, max_iter=1000, selection=cyclic, tol=0.001; total time=   0.0s\n",
      "[CV] END alpha=1.0, fit_intercept=True, max_iter=1000, selection=cyclic, tol=0.001; total time=   0.0s\n",
      "[CV] END alpha=1.0, fit_intercept=True, max_iter=1000, selection=cyclic, tol=0.0001; total time=   0.0s\n",
      "[CV] END alpha=1.0, fit_intercept=True, max_iter=1000, selection=cyclic, tol=0.0001; total time=   0.0s\n",
      "[CV] END alpha=1.0, fit_intercept=True, max_iter=1000, selection=cyclic, tol=0.0001; total time=   0.0s\n",
      "[CV] END alpha=1.0, fit_intercept=True, max_iter=1000, selection=cyclic, tol=0.0001; total time=   0.0s\n",
      "[CV] END alpha=1.0, fit_intercept=True, max_iter=1000, selection=cyclic, tol=0.0001; total time=   0.0s\n",
      "[CV] END alpha=1.0, fit_intercept=True, max_iter=1000, selection=cyclic, tol=1e-05; total time=   0.0s\n",
      "[CV] END alpha=1.0, fit_intercept=True, max_iter=1000, selection=cyclic, tol=1e-05; total time=   0.0s\n",
      "[CV] END alpha=1.0, fit_intercept=True, max_iter=1000, selection=cyclic, tol=1e-05; total time=   0.1s\n",
      "[CV] END alpha=1.0, fit_intercept=True, max_iter=1000, selection=cyclic, tol=1e-05; total time=   0.0s\n",
      "[CV] END alpha=1.0, fit_intercept=True, max_iter=1000, selection=cyclic, tol=1e-05; total time=   0.1s\n",
      "[CV] END alpha=1.0, fit_intercept=True, max_iter=1000, selection=random, tol=0.001; total time=   0.0s\n",
      "[CV] END alpha=1.0, fit_intercept=True, max_iter=1000, selection=random, tol=0.001; total time=   0.1s\n",
      "[CV] END alpha=1.0, fit_intercept=True, max_iter=1000, selection=random, tol=0.001; total time=   0.0s\n",
      "[CV] END alpha=1.0, fit_intercept=True, max_iter=1000, selection=random, tol=0.001; total time=   0.0s\n",
      "[CV] END alpha=1.0, fit_intercept=True, max_iter=1000, selection=random, tol=0.001; total time=   0.0s\n",
      "[CV] END alpha=1.0, fit_intercept=True, max_iter=1000, selection=random, tol=0.0001; total time=   0.1s\n",
      "[CV] END alpha=0.1, fit_intercept=False, max_iter=10000, selection=random, tol=0.0001; total time=  12.8s\n",
      "[CV] END alpha=1.0, fit_intercept=True, max_iter=1000, selection=random, tol=0.0001; total time=   0.1s\n",
      "[CV] END alpha=1.0, fit_intercept=True, max_iter=1000, selection=random, tol=0.0001; total time=   0.0s\n",
      "[CV] END alpha=1.0, fit_intercept=True, max_iter=1000, selection=random, tol=0.0001; total time=   0.0s\n",
      "[CV] END alpha=1.0, fit_intercept=True, max_iter=1000, selection=random, tol=0.0001; total time=   0.0s\n",
      "[CV] END alpha=1.0, fit_intercept=True, max_iter=1000, selection=random, tol=1e-05; total time=   0.0s\n",
      "[CV] END alpha=1.0, fit_intercept=True, max_iter=1000, selection=random, tol=1e-05; total time=   0.0s\n",
      "[CV] END alpha=1.0, fit_intercept=True, max_iter=1000, selection=random, tol=1e-05; total time=   0.0s\n",
      "[CV] END alpha=1.0, fit_intercept=True, max_iter=1000, selection=random, tol=1e-05; total time=   0.0s\n",
      "[CV] END alpha=1.0, fit_intercept=True, max_iter=1000, selection=random, tol=1e-05; total time=   0.0s\n",
      "[CV] END alpha=1.0, fit_intercept=True, max_iter=5000, selection=cyclic, tol=0.001; total time=   0.0s\n",
      "[CV] END alpha=1.0, fit_intercept=True, max_iter=5000, selection=cyclic, tol=0.001; total time=   0.0s\n",
      "[CV] END alpha=1.0, fit_intercept=True, max_iter=5000, selection=cyclic, tol=0.001; total time=   0.0s\n",
      "[CV] END alpha=1.0, fit_intercept=True, max_iter=5000, selection=cyclic, tol=0.001; total time=   0.0s\n",
      "[CV] END alpha=1.0, fit_intercept=True, max_iter=5000, selection=cyclic, tol=0.001; total time=   0.0s\n",
      "[CV] END alpha=1.0, fit_intercept=True, max_iter=5000, selection=cyclic, tol=0.0001; total time=   0.0s\n",
      "[CV] END alpha=1.0, fit_intercept=True, max_iter=5000, selection=cyclic, tol=0.0001; total time=   0.0s\n",
      "[CV] END alpha=1.0, fit_intercept=True, max_iter=5000, selection=cyclic, tol=0.0001; total time=   0.0s\n",
      "[CV] END alpha=1.0, fit_intercept=True, max_iter=5000, selection=cyclic, tol=0.0001; total time=   0.0s\n",
      "[CV] END alpha=1.0, fit_intercept=True, max_iter=5000, selection=cyclic, tol=0.0001; total time=   0.0s\n",
      "[CV] END alpha=1.0, fit_intercept=True, max_iter=5000, selection=cyclic, tol=1e-05; total time=   0.0s\n",
      "[CV] END alpha=1.0, fit_intercept=True, max_iter=5000, selection=cyclic, tol=1e-05; total time=   0.0s\n",
      "[CV] END alpha=1.0, fit_intercept=True, max_iter=5000, selection=cyclic, tol=1e-05; total time=   0.0s\n",
      "[CV] END alpha=1.0, fit_intercept=True, max_iter=5000, selection=cyclic, tol=1e-05; total time=   0.0s\n",
      "[CV] END alpha=1.0, fit_intercept=True, max_iter=5000, selection=cyclic, tol=1e-05; total time=   0.0s\n",
      "[CV] END alpha=1.0, fit_intercept=True, max_iter=5000, selection=random, tol=0.001; total time=   0.0s\n",
      "[CV] END alpha=1.0, fit_intercept=True, max_iter=5000, selection=random, tol=0.001; total time=   0.0s\n",
      "[CV] END alpha=1.0, fit_intercept=True, max_iter=5000, selection=random, tol=0.001; total time=   0.0s\n",
      "[CV] END alpha=1.0, fit_intercept=True, max_iter=5000, selection=random, tol=0.001; total time=   0.0s\n",
      "[CV] END alpha=1.0, fit_intercept=True, max_iter=5000, selection=random, tol=0.001; total time=   0.0s\n",
      "[CV] END alpha=1.0, fit_intercept=True, max_iter=5000, selection=random, tol=0.0001; total time=   0.0s\n",
      "[CV] END alpha=1.0, fit_intercept=True, max_iter=5000, selection=random, tol=0.0001; total time=   0.0s\n",
      "[CV] END alpha=1.0, fit_intercept=True, max_iter=5000, selection=random, tol=0.0001; total time=   0.0s\n",
      "[CV] END alpha=1.0, fit_intercept=True, max_iter=5000, selection=random, tol=0.0001; total time=   0.0s\n",
      "[CV] END alpha=1.0, fit_intercept=True, max_iter=5000, selection=random, tol=0.0001; total time=   0.0s\n",
      "[CV] END alpha=1.0, fit_intercept=True, max_iter=5000, selection=random, tol=1e-05; total time=   0.0s\n",
      "[CV] END alpha=1.0, fit_intercept=True, max_iter=5000, selection=random, tol=1e-05; total time=   0.0s\n",
      "[CV] END alpha=1.0, fit_intercept=True, max_iter=5000, selection=random, tol=1e-05; total time=   0.0s\n",
      "[CV] END alpha=1.0, fit_intercept=True, max_iter=5000, selection=random, tol=1e-05; total time=   0.0s\n",
      "[CV] END alpha=1.0, fit_intercept=True, max_iter=10000, selection=cyclic, tol=0.001; total time=   0.0s\n",
      "[CV] END alpha=1.0, fit_intercept=True, max_iter=5000, selection=random, tol=1e-05; total time=   0.0s\n",
      "[CV] END alpha=1.0, fit_intercept=True, max_iter=10000, selection=cyclic, tol=0.001; total time=   0.0s\n",
      "[CV] END alpha=1.0, fit_intercept=True, max_iter=10000, selection=cyclic, tol=0.001; total time=   0.0s\n",
      "[CV] END alpha=1.0, fit_intercept=True, max_iter=10000, selection=cyclic, tol=0.001; total time=   0.0s\n",
      "[CV] END alpha=1.0, fit_intercept=True, max_iter=10000, selection=cyclic, tol=0.001; total time=   0.0s\n",
      "[CV] END alpha=1.0, fit_intercept=True, max_iter=10000, selection=cyclic, tol=0.0001; total time=   0.0s\n",
      "[CV] END alpha=1.0, fit_intercept=True, max_iter=10000, selection=cyclic, tol=0.0001; total time=   0.0s\n",
      "[CV] END alpha=1.0, fit_intercept=True, max_iter=10000, selection=cyclic, tol=0.0001; total time=   0.0s\n",
      "[CV] END alpha=1.0, fit_intercept=True, max_iter=10000, selection=cyclic, tol=0.0001; total time=   0.0s\n",
      "[CV] END alpha=1.0, fit_intercept=True, max_iter=10000, selection=cyclic, tol=0.0001; total time=   0.0s\n",
      "[CV] END alpha=1.0, fit_intercept=True, max_iter=10000, selection=cyclic, tol=1e-05; total time=   0.0s\n",
      "[CV] END alpha=1.0, fit_intercept=True, max_iter=10000, selection=cyclic, tol=1e-05; total time=   0.0s\n",
      "[CV] END alpha=1.0, fit_intercept=True, max_iter=10000, selection=cyclic, tol=1e-05; total time=   0.0s\n",
      "[CV] END alpha=1.0, fit_intercept=True, max_iter=10000, selection=cyclic, tol=1e-05; total time=   0.0s\n",
      "[CV] END alpha=1.0, fit_intercept=True, max_iter=10000, selection=cyclic, tol=1e-05; total time=   0.0s\n",
      "[CV] END alpha=1.0, fit_intercept=True, max_iter=10000, selection=random, tol=0.001; total time=   0.0s\n",
      "[CV] END alpha=1.0, fit_intercept=True, max_iter=10000, selection=random, tol=0.001; total time=   0.0s\n",
      "[CV] END alpha=1.0, fit_intercept=True, max_iter=10000, selection=random, tol=0.001; total time=   0.0s\n",
      "[CV] END alpha=1.0, fit_intercept=True, max_iter=10000, selection=random, tol=0.001; total time=   0.0s\n",
      "[CV] END alpha=1.0, fit_intercept=True, max_iter=10000, selection=random, tol=0.0001; total time=   0.0s\n",
      "[CV] END alpha=1.0, fit_intercept=True, max_iter=10000, selection=random, tol=0.001; total time=   0.0s\n",
      "[CV] END alpha=1.0, fit_intercept=True, max_iter=10000, selection=random, tol=0.0001; total time=   0.0s\n",
      "[CV] END alpha=1.0, fit_intercept=True, max_iter=10000, selection=random, tol=0.0001; total time=   0.0s\n",
      "[CV] END alpha=1.0, fit_intercept=True, max_iter=10000, selection=random, tol=0.0001; total time=   0.0s\n",
      "[CV] END alpha=1.0, fit_intercept=True, max_iter=10000, selection=random, tol=1e-05; total time=   0.0s\n",
      "[CV] END alpha=1.0, fit_intercept=True, max_iter=10000, selection=random, tol=0.0001; total time=   0.0s\n",
      "[CV] END alpha=1.0, fit_intercept=True, max_iter=10000, selection=random, tol=1e-05; total time=   0.0s\n",
      "[CV] END alpha=1.0, fit_intercept=True, max_iter=10000, selection=random, tol=1e-05; total time=   0.0s\n",
      "[CV] END alpha=1.0, fit_intercept=True, max_iter=10000, selection=random, tol=1e-05; total time=   0.0s\n",
      "[CV] END alpha=1.0, fit_intercept=True, max_iter=10000, selection=random, tol=1e-05; total time=   0.0s\n",
      "[CV] END alpha=1.0, fit_intercept=False, max_iter=1000, selection=cyclic, tol=0.001; total time=   0.2s\n",
      "[CV] END alpha=1.0, fit_intercept=False, max_iter=1000, selection=cyclic, tol=0.001; total time=   0.3s\n",
      "[CV] END alpha=1.0, fit_intercept=False, max_iter=1000, selection=cyclic, tol=0.001; total time=   0.2s\n",
      "[CV] END alpha=1.0, fit_intercept=False, max_iter=1000, selection=cyclic, tol=0.001; total time=   0.3s\n",
      "[CV] END alpha=1.0, fit_intercept=False, max_iter=1000, selection=cyclic, tol=0.001; total time=   0.3s\n",
      "[CV] END alpha=0.1, fit_intercept=False, max_iter=10000, selection=random, tol=0.0001; total time=  10.7s\n",
      "[CV] END alpha=1.0, fit_intercept=False, max_iter=1000, selection=cyclic, tol=0.0001; total time=   1.4s\n"
     ]
    },
    {
     "name": "stderr",
     "output_type": "stream",
     "text": [
      "/Users/zoemarquis/Documents/projet_industrie/projet_batteries/mon_venv/lib/python3.11/site-packages/sklearn/linear_model/_coordinate_descent.py:697: ConvergenceWarning: Objective did not converge. You might want to increase the number of iterations, check the scale of the features or consider increasing regularisation. Duality gap: 2.189e+04, tolerance: 1.414e+04\n",
      "  model = cd_fast.enet_coordinate_descent(\n",
      "/Users/zoemarquis/Documents/projet_industrie/projet_batteries/mon_venv/lib/python3.11/site-packages/sklearn/linear_model/_coordinate_descent.py:697: ConvergenceWarning: Objective did not converge. You might want to increase the number of iterations, check the scale of the features or consider increasing regularisation. Duality gap: 2.109e+04, tolerance: 1.414e+04\n",
      "  model = cd_fast.enet_coordinate_descent(\n"
     ]
    },
    {
     "name": "stdout",
     "output_type": "stream",
     "text": [
      "[CV] END alpha=1.0, fit_intercept=False, max_iter=1000, selection=cyclic, tol=0.0001; total time=   1.4s\n"
     ]
    },
    {
     "name": "stderr",
     "output_type": "stream",
     "text": [
      "/Users/zoemarquis/Documents/projet_industrie/projet_batteries/mon_venv/lib/python3.11/site-packages/sklearn/linear_model/_coordinate_descent.py:697: ConvergenceWarning: Objective did not converge. You might want to increase the number of iterations, check the scale of the features or consider increasing regularisation. Duality gap: 2.103e+04, tolerance: 1.416e+04\n",
      "  model = cd_fast.enet_coordinate_descent(\n",
      "/Users/zoemarquis/Documents/projet_industrie/projet_batteries/mon_venv/lib/python3.11/site-packages/sklearn/linear_model/_coordinate_descent.py:697: ConvergenceWarning: Objective did not converge. You might want to increase the number of iterations, check the scale of the features or consider increasing regularisation. Duality gap: 2.215e+04, tolerance: 1.415e+04\n",
      "  model = cd_fast.enet_coordinate_descent(\n"
     ]
    },
    {
     "name": "stdout",
     "output_type": "stream",
     "text": [
      "[CV] END alpha=1.0, fit_intercept=False, max_iter=1000, selection=cyclic, tol=0.0001; total time=   1.5s\n",
      "[CV] END alpha=1.0, fit_intercept=False, max_iter=1000, selection=cyclic, tol=0.0001; total time=   1.5s\n"
     ]
    },
    {
     "name": "stderr",
     "output_type": "stream",
     "text": [
      "/Users/zoemarquis/Documents/projet_industrie/projet_batteries/mon_venv/lib/python3.11/site-packages/sklearn/linear_model/_coordinate_descent.py:697: ConvergenceWarning: Objective did not converge. You might want to increase the number of iterations, check the scale of the features or consider increasing regularisation. Duality gap: 2.109e+04, tolerance: 1.414e+03\n",
      "  model = cd_fast.enet_coordinate_descent(\n"
     ]
    },
    {
     "name": "stdout",
     "output_type": "stream",
     "text": [
      "[CV] END alpha=1.0, fit_intercept=False, max_iter=1000, selection=cyclic, tol=1e-05; total time=   1.6s\n"
     ]
    },
    {
     "name": "stderr",
     "output_type": "stream",
     "text": [
      "/Users/zoemarquis/Documents/projet_industrie/projet_batteries/mon_venv/lib/python3.11/site-packages/sklearn/linear_model/_coordinate_descent.py:697: ConvergenceWarning: Objective did not converge. You might want to increase the number of iterations, check the scale of the features or consider increasing regularisation. Duality gap: 2.207e+04, tolerance: 1.415e+04\n",
      "  model = cd_fast.enet_coordinate_descent(\n",
      "/Users/zoemarquis/Documents/projet_industrie/projet_batteries/mon_venv/lib/python3.11/site-packages/sklearn/linear_model/_coordinate_descent.py:697: ConvergenceWarning: Objective did not converge. You might want to increase the number of iterations, check the scale of the features or consider increasing regularisation. Duality gap: 2.215e+04, tolerance: 1.415e+03\n",
      "  model = cd_fast.enet_coordinate_descent(\n"
     ]
    },
    {
     "name": "stdout",
     "output_type": "stream",
     "text": [
      "[CV] END alpha=1.0, fit_intercept=False, max_iter=1000, selection=cyclic, tol=0.0001; total time=   1.6s\n",
      "[CV] END alpha=1.0, fit_intercept=False, max_iter=1000, selection=cyclic, tol=1e-05; total time=   1.6s\n"
     ]
    },
    {
     "name": "stderr",
     "output_type": "stream",
     "text": [
      "/Users/zoemarquis/Documents/projet_industrie/projet_batteries/mon_venv/lib/python3.11/site-packages/sklearn/linear_model/_coordinate_descent.py:697: ConvergenceWarning: Objective did not converge. You might want to increase the number of iterations, check the scale of the features or consider increasing regularisation. Duality gap: 2.189e+04, tolerance: 1.414e+03\n",
      "  model = cd_fast.enet_coordinate_descent(\n"
     ]
    },
    {
     "name": "stdout",
     "output_type": "stream",
     "text": [
      "[CV] END alpha=1.0, fit_intercept=False, max_iter=1000, selection=cyclic, tol=1e-05; total time=   1.6s\n",
      "[CV] END alpha=1.0, fit_intercept=False, max_iter=1000, selection=random, tol=0.001; total time=   0.4s\n",
      "[CV] END alpha=1.0, fit_intercept=False, max_iter=1000, selection=random, tol=0.001; total time=   0.3s\n",
      "[CV] END alpha=1.0, fit_intercept=False, max_iter=1000, selection=random, tol=0.001; total time=   0.4s\n",
      "[CV] END alpha=1.0, fit_intercept=False, max_iter=1000, selection=cyclic, tol=1e-05; total time=   1.6s\n",
      "[CV] END alpha=1.0, fit_intercept=False, max_iter=1000, selection=cyclic, tol=1e-05; total time=   1.7s\n"
     ]
    },
    {
     "name": "stderr",
     "output_type": "stream",
     "text": [
      "/Users/zoemarquis/Documents/projet_industrie/projet_batteries/mon_venv/lib/python3.11/site-packages/sklearn/linear_model/_coordinate_descent.py:697: ConvergenceWarning: Objective did not converge. You might want to increase the number of iterations, check the scale of the features or consider increasing regularisation. Duality gap: 2.207e+04, tolerance: 1.415e+03\n",
      "  model = cd_fast.enet_coordinate_descent(\n",
      "/Users/zoemarquis/Documents/projet_industrie/projet_batteries/mon_venv/lib/python3.11/site-packages/sklearn/linear_model/_coordinate_descent.py:697: ConvergenceWarning: Objective did not converge. You might want to increase the number of iterations, check the scale of the features or consider increasing regularisation. Duality gap: 2.103e+04, tolerance: 1.416e+03\n",
      "  model = cd_fast.enet_coordinate_descent(\n"
     ]
    },
    {
     "name": "stdout",
     "output_type": "stream",
     "text": [
      "[CV] END alpha=1.0, fit_intercept=False, max_iter=1000, selection=random, tol=0.001; total time=   0.3s\n",
      "[CV] END alpha=1.0, fit_intercept=False, max_iter=1000, selection=random, tol=0.001; total time=   0.3s\n",
      "[CV] END alpha=1.0, fit_intercept=False, max_iter=1000, selection=random, tol=0.0001; total time=   1.2s\n",
      "[CV] END alpha=1.0, fit_intercept=False, max_iter=1000, selection=random, tol=0.0001; total time=   1.5s\n",
      "[CV] END alpha=1.0, fit_intercept=False, max_iter=1000, selection=random, tol=0.0001; total time=   1.6s\n",
      "[CV] END alpha=1.0, fit_intercept=False, max_iter=1000, selection=random, tol=0.0001; total time=   1.7s\n",
      "[CV] END alpha=1.0, fit_intercept=False, max_iter=1000, selection=random, tol=0.0001; total time=   1.5s\n",
      "[CV] END alpha=1.0, fit_intercept=False, max_iter=1000, selection=random, tol=1e-05; total time=   1.6s\n"
     ]
    },
    {
     "name": "stderr",
     "output_type": "stream",
     "text": [
      "/Users/zoemarquis/Documents/projet_industrie/projet_batteries/mon_venv/lib/python3.11/site-packages/sklearn/linear_model/_coordinate_descent.py:697: ConvergenceWarning: Objective did not converge. You might want to increase the number of iterations, check the scale of the features or consider increasing regularisation. Duality gap: 7.585e+03, tolerance: 1.414e+03\n",
      "  model = cd_fast.enet_coordinate_descent(\n"
     ]
    },
    {
     "name": "stdout",
     "output_type": "stream",
     "text": [
      "[CV] END alpha=0.1, fit_intercept=False, max_iter=10000, selection=random, tol=1e-05; total time=  18.2s\n",
      "[CV] END alpha=1.0, fit_intercept=False, max_iter=5000, selection=cyclic, tol=0.001; total time=   0.3s\n",
      "[CV] END alpha=1.0, fit_intercept=False, max_iter=5000, selection=cyclic, tol=0.001; total time=   0.3s\n",
      "[CV] END alpha=1.0, fit_intercept=False, max_iter=5000, selection=cyclic, tol=0.001; total time=   0.4s\n",
      "[CV] END alpha=1.0, fit_intercept=False, max_iter=5000, selection=cyclic, tol=0.001; total time=   0.3s\n",
      "[CV] END alpha=1.0, fit_intercept=False, max_iter=5000, selection=cyclic, tol=0.001; total time=   0.3s\n"
     ]
    },
    {
     "name": "stderr",
     "output_type": "stream",
     "text": [
      "/Users/zoemarquis/Documents/projet_industrie/projet_batteries/mon_venv/lib/python3.11/site-packages/sklearn/linear_model/_coordinate_descent.py:697: ConvergenceWarning: Objective did not converge. You might want to increase the number of iterations, check the scale of the features or consider increasing regularisation. Duality gap: 8.498e+03, tolerance: 1.414e+03\n",
      "  model = cd_fast.enet_coordinate_descent(\n"
     ]
    },
    {
     "name": "stdout",
     "output_type": "stream",
     "text": [
      "[CV] END alpha=1.0, fit_intercept=False, max_iter=1000, selection=random, tol=1e-05; total time=   1.7s\n"
     ]
    },
    {
     "name": "stderr",
     "output_type": "stream",
     "text": [
      "/Users/zoemarquis/Documents/projet_industrie/projet_batteries/mon_venv/lib/python3.11/site-packages/sklearn/linear_model/_coordinate_descent.py:697: ConvergenceWarning: Objective did not converge. You might want to increase the number of iterations, check the scale of the features or consider increasing regularisation. Duality gap: 8.749e+03, tolerance: 1.416e+03\n",
      "  model = cd_fast.enet_coordinate_descent(\n"
     ]
    },
    {
     "name": "stdout",
     "output_type": "stream",
     "text": [
      "[CV] END alpha=1.0, fit_intercept=False, max_iter=1000, selection=random, tol=1e-05; total time=   1.7s\n"
     ]
    },
    {
     "name": "stderr",
     "output_type": "stream",
     "text": [
      "/Users/zoemarquis/Documents/projet_industrie/projet_batteries/mon_venv/lib/python3.11/site-packages/sklearn/linear_model/_coordinate_descent.py:697: ConvergenceWarning: Objective did not converge. You might want to increase the number of iterations, check the scale of the features or consider increasing regularisation. Duality gap: 8.577e+03, tolerance: 1.415e+03\n",
      "  model = cd_fast.enet_coordinate_descent(\n"
     ]
    },
    {
     "name": "stdout",
     "output_type": "stream",
     "text": [
      "[CV] END alpha=1.0, fit_intercept=False, max_iter=1000, selection=random, tol=1e-05; total time=   1.5s\n",
      "[CV] END alpha=0.1, fit_intercept=False, max_iter=10000, selection=random, tol=1e-05; total time=  20.1s\n",
      "[CV] END alpha=1.0, fit_intercept=False, max_iter=1000, selection=random, tol=1e-05; total time=   1.6s\n"
     ]
    },
    {
     "name": "stderr",
     "output_type": "stream",
     "text": [
      "/Users/zoemarquis/Documents/projet_industrie/projet_batteries/mon_venv/lib/python3.11/site-packages/sklearn/linear_model/_coordinate_descent.py:697: ConvergenceWarning: Objective did not converge. You might want to increase the number of iterations, check the scale of the features or consider increasing regularisation. Duality gap: 9.089e+03, tolerance: 1.415e+03\n",
      "  model = cd_fast.enet_coordinate_descent(\n"
     ]
    },
    {
     "name": "stdout",
     "output_type": "stream",
     "text": [
      "[CV] END alpha=0.1, fit_intercept=False, max_iter=10000, selection=random, tol=1e-05; total time=  20.9s\n",
      "[CV] END alpha=0.1, fit_intercept=False, max_iter=10000, selection=random, tol=1e-05; total time=  20.7s\n",
      "[CV] END alpha=0.1, fit_intercept=False, max_iter=10000, selection=random, tol=1e-05; total time=  21.6s\n",
      "[CV] END alpha=1.0, fit_intercept=False, max_iter=5000, selection=cyclic, tol=0.0001; total time=   8.2s\n",
      "[CV] END alpha=1.0, fit_intercept=False, max_iter=5000, selection=cyclic, tol=0.0001; total time=   8.5s\n",
      "[CV] END alpha=1.0, fit_intercept=False, max_iter=5000, selection=cyclic, tol=0.0001; total time=   8.8s\n",
      "[CV] END alpha=1.0, fit_intercept=False, max_iter=5000, selection=random, tol=0.001; total time=   0.4s\n",
      "[CV] END alpha=1.0, fit_intercept=False, max_iter=5000, selection=cyclic, tol=1e-05; total time=   8.8s\n"
     ]
    },
    {
     "name": "stderr",
     "output_type": "stream",
     "text": [
      "/Users/zoemarquis/Documents/projet_industrie/projet_batteries/mon_venv/lib/python3.11/site-packages/sklearn/linear_model/_coordinate_descent.py:697: ConvergenceWarning: Objective did not converge. You might want to increase the number of iterations, check the scale of the features or consider increasing regularisation. Duality gap: 6.966e+03, tolerance: 1.414e+03\n",
      "  model = cd_fast.enet_coordinate_descent(\n"
     ]
    },
    {
     "name": "stdout",
     "output_type": "stream",
     "text": [
      "[CV] END alpha=1.0, fit_intercept=False, max_iter=5000, selection=cyclic, tol=0.0001; total time=   9.1s\n",
      "[CV] END alpha=1.0, fit_intercept=False, max_iter=5000, selection=random, tol=0.001; total time=   0.4s\n",
      "[CV] END alpha=1.0, fit_intercept=False, max_iter=5000, selection=random, tol=0.001; total time=   0.4s\n",
      "[CV] END alpha=1.0, fit_intercept=False, max_iter=5000, selection=random, tol=0.001; total time=   0.4s\n",
      "[CV] END alpha=1.0, fit_intercept=False, max_iter=5000, selection=random, tol=0.001; total time=   0.4s\n"
     ]
    },
    {
     "name": "stderr",
     "output_type": "stream",
     "text": [
      "/Users/zoemarquis/Documents/projet_industrie/projet_batteries/mon_venv/lib/python3.11/site-packages/sklearn/linear_model/_coordinate_descent.py:697: ConvergenceWarning: Objective did not converge. You might want to increase the number of iterations, check the scale of the features or consider increasing regularisation. Duality gap: 7.336e+03, tolerance: 1.414e+03\n",
      "  model = cd_fast.enet_coordinate_descent(\n"
     ]
    },
    {
     "name": "stdout",
     "output_type": "stream",
     "text": [
      "[CV] END alpha=1.0, fit_intercept=False, max_iter=5000, selection=cyclic, tol=1e-05; total time=   8.6s\n"
     ]
    },
    {
     "name": "stderr",
     "output_type": "stream",
     "text": [
      "/Users/zoemarquis/Documents/projet_industrie/projet_batteries/mon_venv/lib/python3.11/site-packages/sklearn/linear_model/_coordinate_descent.py:697: ConvergenceWarning: Objective did not converge. You might want to increase the number of iterations, check the scale of the features or consider increasing regularisation. Duality gap: 7.205e+03, tolerance: 1.415e+03\n",
      "  model = cd_fast.enet_coordinate_descent(\n"
     ]
    },
    {
     "name": "stdout",
     "output_type": "stream",
     "text": [
      "[CV] END alpha=1.0, fit_intercept=False, max_iter=5000, selection=cyclic, tol=1e-05; total time=   8.4s\n",
      "[CV] END alpha=1.0, fit_intercept=False, max_iter=5000, selection=random, tol=0.0001; total time=   1.6s\n",
      "[CV] END alpha=1.0, fit_intercept=False, max_iter=5000, selection=random, tol=0.0001; total time=   3.4s\n"
     ]
    },
    {
     "name": "stderr",
     "output_type": "stream",
     "text": [
      "/Users/zoemarquis/Documents/projet_industrie/projet_batteries/mon_venv/lib/python3.11/site-packages/sklearn/linear_model/_coordinate_descent.py:697: ConvergenceWarning: Objective did not converge. You might want to increase the number of iterations, check the scale of the features or consider increasing regularisation. Duality gap: 7.067e+03, tolerance: 1.416e+03\n",
      "  model = cd_fast.enet_coordinate_descent(\n"
     ]
    },
    {
     "name": "stdout",
     "output_type": "stream",
     "text": [
      "[CV] END alpha=1.0, fit_intercept=False, max_iter=5000, selection=cyclic, tol=1e-05; total time=   8.7s\n",
      "[CV] END alpha=1.0, fit_intercept=False, max_iter=5000, selection=random, tol=0.0001; total time=   4.3s\n",
      "[CV] END alpha=1.0, fit_intercept=False, max_iter=5000, selection=cyclic, tol=0.0001; total time=   8.4s\n"
     ]
    },
    {
     "name": "stderr",
     "output_type": "stream",
     "text": [
      "/Users/zoemarquis/Documents/projet_industrie/projet_batteries/mon_venv/lib/python3.11/site-packages/sklearn/linear_model/_coordinate_descent.py:697: ConvergenceWarning: Objective did not converge. You might want to increase the number of iterations, check the scale of the features or consider increasing regularisation. Duality gap: 7.445e+03, tolerance: 1.415e+03\n",
      "  model = cd_fast.enet_coordinate_descent(\n"
     ]
    },
    {
     "name": "stdout",
     "output_type": "stream",
     "text": [
      "[CV] END alpha=1.0, fit_intercept=False, max_iter=5000, selection=cyclic, tol=1e-05; total time=   8.9s\n",
      "[CV] END alpha=1.0, fit_intercept=False, max_iter=5000, selection=random, tol=0.0001; total time=   5.2s\n",
      "[CV] END alpha=1.0, fit_intercept=False, max_iter=10000, selection=cyclic, tol=0.001; total time=   0.3s\n",
      "[CV] END alpha=1.0, fit_intercept=False, max_iter=10000, selection=cyclic, tol=0.001; total time=   0.3s\n",
      "[CV] END alpha=1.0, fit_intercept=False, max_iter=5000, selection=random, tol=0.0001; total time=   5.2s\n",
      "[CV] END alpha=1.0, fit_intercept=False, max_iter=10000, selection=cyclic, tol=0.001; total time=   0.2s\n",
      "[CV] END alpha=1.0, fit_intercept=False, max_iter=10000, selection=cyclic, tol=0.001; total time=   0.3s\n",
      "[CV] END alpha=1.0, fit_intercept=False, max_iter=10000, selection=cyclic, tol=0.001; total time=   0.3s\n"
     ]
    },
    {
     "name": "stderr",
     "output_type": "stream",
     "text": [
      "/Users/zoemarquis/Documents/projet_industrie/projet_batteries/mon_venv/lib/python3.11/site-packages/sklearn/linear_model/_coordinate_descent.py:697: ConvergenceWarning: Objective did not converge. You might want to increase the number of iterations, check the scale of the features or consider increasing regularisation. Duality gap: 3.182e+03, tolerance: 1.414e+03\n",
      "  model = cd_fast.enet_coordinate_descent(\n"
     ]
    },
    {
     "name": "stdout",
     "output_type": "stream",
     "text": [
      "[CV] END alpha=1.0, fit_intercept=False, max_iter=5000, selection=random, tol=1e-05; total time=   7.8s\n"
     ]
    },
    {
     "name": "stderr",
     "output_type": "stream",
     "text": [
      "/Users/zoemarquis/Documents/projet_industrie/projet_batteries/mon_venv/lib/python3.11/site-packages/sklearn/linear_model/_coordinate_descent.py:697: ConvergenceWarning: Objective did not converge. You might want to increase the number of iterations, check the scale of the features or consider increasing regularisation. Duality gap: 2.323e+03, tolerance: 1.414e+03\n",
      "  model = cd_fast.enet_coordinate_descent(\n"
     ]
    },
    {
     "name": "stdout",
     "output_type": "stream",
     "text": [
      "[CV] END alpha=1.0, fit_intercept=False, max_iter=5000, selection=random, tol=1e-05; total time=   8.1s\n"
     ]
    },
    {
     "name": "stderr",
     "output_type": "stream",
     "text": [
      "/Users/zoemarquis/Documents/projet_industrie/projet_batteries/mon_venv/lib/python3.11/site-packages/sklearn/linear_model/_coordinate_descent.py:697: ConvergenceWarning: Objective did not converge. You might want to increase the number of iterations, check the scale of the features or consider increasing regularisation. Duality gap: 2.392e+03, tolerance: 1.416e+03\n",
      "  model = cd_fast.enet_coordinate_descent(\n",
      "/Users/zoemarquis/Documents/projet_industrie/projet_batteries/mon_venv/lib/python3.11/site-packages/sklearn/linear_model/_coordinate_descent.py:697: ConvergenceWarning: Objective did not converge. You might want to increase the number of iterations, check the scale of the features or consider increasing regularisation. Duality gap: 2.121e+03, tolerance: 1.415e+03\n",
      "  model = cd_fast.enet_coordinate_descent(\n"
     ]
    },
    {
     "name": "stdout",
     "output_type": "stream",
     "text": [
      "[CV] END alpha=1.0, fit_intercept=False, max_iter=5000, selection=random, tol=1e-05; total time=   8.3s\n",
      "[CV] END alpha=1.0, fit_intercept=False, max_iter=5000, selection=random, tol=1e-05; total time=   8.5s\n"
     ]
    },
    {
     "name": "stderr",
     "output_type": "stream",
     "text": [
      "/Users/zoemarquis/Documents/projet_industrie/projet_batteries/mon_venv/lib/python3.11/site-packages/sklearn/linear_model/_coordinate_descent.py:697: ConvergenceWarning: Objective did not converge. You might want to increase the number of iterations, check the scale of the features or consider increasing regularisation. Duality gap: 2.732e+03, tolerance: 1.415e+03\n",
      "  model = cd_fast.enet_coordinate_descent(\n"
     ]
    },
    {
     "name": "stdout",
     "output_type": "stream",
     "text": [
      "[CV] END alpha=1.0, fit_intercept=False, max_iter=5000, selection=random, tol=1e-05; total time=   8.3s\n",
      "[CV] END alpha=1.0, fit_intercept=False, max_iter=10000, selection=cyclic, tol=0.0001; total time=  12.1s\n",
      "[CV] END alpha=1.0, fit_intercept=False, max_iter=10000, selection=cyclic, tol=0.0001; total time=  12.1s\n",
      "[CV] END alpha=1.0, fit_intercept=False, max_iter=10000, selection=cyclic, tol=0.0001; total time=  16.8s\n",
      "[CV] END alpha=1.0, fit_intercept=False, max_iter=10000, selection=random, tol=0.001; total time=   0.3s\n",
      "[CV] END alpha=1.0, fit_intercept=False, max_iter=10000, selection=random, tol=0.001; total time=   0.3s\n",
      "[CV] END alpha=1.0, fit_intercept=False, max_iter=10000, selection=random, tol=0.001; total time=   0.4s\n",
      "[CV] END alpha=1.0, fit_intercept=False, max_iter=10000, selection=cyclic, tol=0.0001; total time=  17.6s\n",
      "[CV] END alpha=1.0, fit_intercept=False, max_iter=10000, selection=random, tol=0.001; total time=   0.3s\n",
      "[CV] END alpha=1.0, fit_intercept=False, max_iter=10000, selection=random, tol=0.001; total time=   0.4s\n",
      "[CV] END alpha=1.0, fit_intercept=False, max_iter=10000, selection=cyclic, tol=0.0001; total time=  13.6s\n",
      "[CV] END alpha=1.0, fit_intercept=False, max_iter=10000, selection=random, tol=0.0001; total time=   1.4s\n",
      "[CV] END alpha=1.0, fit_intercept=False, max_iter=10000, selection=random, tol=0.0001; total time=   3.2s\n"
     ]
    },
    {
     "name": "stderr",
     "output_type": "stream",
     "text": [
      "/Users/zoemarquis/Documents/projet_industrie/projet_batteries/mon_venv/lib/python3.11/site-packages/sklearn/linear_model/_coordinate_descent.py:697: ConvergenceWarning: Objective did not converge. You might want to increase the number of iterations, check the scale of the features or consider increasing regularisation. Duality gap: 4.041e+03, tolerance: 1.414e+03\n",
      "  model = cd_fast.enet_coordinate_descent(\n"
     ]
    },
    {
     "name": "stdout",
     "output_type": "stream",
     "text": [
      "[CV] END alpha=1.0, fit_intercept=False, max_iter=10000, selection=cyclic, tol=1e-05; total time=  17.1s\n",
      "[CV] END alpha=1.0, fit_intercept=False, max_iter=10000, selection=random, tol=0.0001; total time=   4.9s\n",
      "[CV] END alpha=1.0, fit_intercept=False, max_iter=10000, selection=cyclic, tol=1e-05; total time=  17.3s\n",
      "[CV] END alpha=1.0, fit_intercept=False, max_iter=10000, selection=cyclic, tol=1e-05; total time=  16.8s\n"
     ]
    },
    {
     "name": "stderr",
     "output_type": "stream",
     "text": [
      "/Users/zoemarquis/Documents/projet_industrie/projet_batteries/mon_venv/lib/python3.11/site-packages/sklearn/linear_model/_coordinate_descent.py:697: ConvergenceWarning: Objective did not converge. You might want to increase the number of iterations, check the scale of the features or consider increasing regularisation. Duality gap: 4.050e+03, tolerance: 1.414e+03\n",
      "  model = cd_fast.enet_coordinate_descent(\n",
      "/Users/zoemarquis/Documents/projet_industrie/projet_batteries/mon_venv/lib/python3.11/site-packages/sklearn/linear_model/_coordinate_descent.py:697: ConvergenceWarning: Objective did not converge. You might want to increase the number of iterations, check the scale of the features or consider increasing regularisation. Duality gap: 3.354e+03, tolerance: 1.415e+03\n",
      "  model = cd_fast.enet_coordinate_descent(\n"
     ]
    },
    {
     "name": "stdout",
     "output_type": "stream",
     "text": [
      "[CV] END alpha=1.0, fit_intercept=False, max_iter=10000, selection=random, tol=0.0001; total time=   5.5s\n",
      "[CV] END alpha=1.0, fit_intercept=False, max_iter=10000, selection=random, tol=0.0001; total time=   5.4s\n",
      "[CV] END alpha=10.0, fit_intercept=True, max_iter=1000, selection=cyclic, tol=0.001; total time=   0.0s\n",
      "[CV] END alpha=10.0, fit_intercept=True, max_iter=1000, selection=cyclic, tol=0.001; total time=   0.0s\n",
      "[CV] END alpha=10.0, fit_intercept=True, max_iter=1000, selection=cyclic, tol=0.001; total time=   0.0s\n",
      "[CV] END alpha=10.0, fit_intercept=True, max_iter=1000, selection=cyclic, tol=0.001; total time=   0.0s\n",
      "[CV] END alpha=10.0, fit_intercept=True, max_iter=1000, selection=cyclic, tol=0.001; total time=   0.0s\n",
      "[CV] END alpha=10.0, fit_intercept=True, max_iter=1000, selection=cyclic, tol=0.0001; total time=   0.0s\n",
      "[CV] END alpha=10.0, fit_intercept=True, max_iter=1000, selection=cyclic, tol=0.0001; total time=   0.0s\n",
      "[CV] END alpha=10.0, fit_intercept=True, max_iter=1000, selection=cyclic, tol=0.0001; total time=   0.0s\n",
      "[CV] END alpha=10.0, fit_intercept=True, max_iter=1000, selection=cyclic, tol=0.0001; total time=   0.0s\n",
      "[CV] END alpha=10.0, fit_intercept=True, max_iter=1000, selection=cyclic, tol=0.0001; total time=   0.0s\n",
      "[CV] END alpha=10.0, fit_intercept=True, max_iter=1000, selection=cyclic, tol=1e-05; total time=   0.0s\n",
      "[CV] END alpha=10.0, fit_intercept=True, max_iter=1000, selection=cyclic, tol=1e-05; total time=   0.0s\n",
      "[CV] END alpha=10.0, fit_intercept=True, max_iter=1000, selection=cyclic, tol=1e-05; total time=   0.0s\n",
      "[CV] END alpha=10.0, fit_intercept=True, max_iter=1000, selection=cyclic, tol=1e-05; total time=   0.0s\n",
      "[CV] END alpha=10.0, fit_intercept=True, max_iter=1000, selection=cyclic, tol=1e-05; total time=   0.0s\n",
      "[CV] END alpha=10.0, fit_intercept=True, max_iter=1000, selection=random, tol=0.001; total time=   0.0s\n",
      "[CV] END alpha=10.0, fit_intercept=True, max_iter=1000, selection=random, tol=0.001; total time=   0.0s\n",
      "[CV] END alpha=10.0, fit_intercept=True, max_iter=1000, selection=random, tol=0.001; total time=   0.0s\n",
      "[CV] END alpha=10.0, fit_intercept=True, max_iter=1000, selection=random, tol=0.001; total time=   0.0s\n",
      "[CV] END alpha=10.0, fit_intercept=True, max_iter=1000, selection=random, tol=0.001; total time=   0.0s\n",
      "[CV] END alpha=10.0, fit_intercept=True, max_iter=1000, selection=random, tol=0.0001; total time=   0.0s\n",
      "[CV] END alpha=10.0, fit_intercept=True, max_iter=1000, selection=random, tol=0.0001; total time=   0.0s\n",
      "[CV] END alpha=10.0, fit_intercept=True, max_iter=1000, selection=random, tol=0.0001; total time=   0.0s\n",
      "[CV] END alpha=10.0, fit_intercept=True, max_iter=1000, selection=random, tol=0.0001; total time=   0.0s\n",
      "[CV] END alpha=10.0, fit_intercept=True, max_iter=1000, selection=random, tol=0.0001; total time=   0.0s\n",
      "[CV] END alpha=10.0, fit_intercept=True, max_iter=1000, selection=random, tol=1e-05; total time=   0.0s\n",
      "[CV] END alpha=10.0, fit_intercept=True, max_iter=1000, selection=random, tol=1e-05; total time=   0.0s\n",
      "[CV] END alpha=10.0, fit_intercept=True, max_iter=1000, selection=random, tol=1e-05; total time=   0.0s\n",
      "[CV] END alpha=10.0, fit_intercept=True, max_iter=1000, selection=random, tol=1e-05; total time=   0.0s\n",
      "[CV] END alpha=10.0, fit_intercept=True, max_iter=1000, selection=random, tol=1e-05; total time=   0.0s\n",
      "[CV] END alpha=10.0, fit_intercept=True, max_iter=5000, selection=cyclic, tol=0.001; total time=   0.0s\n",
      "[CV] END alpha=10.0, fit_intercept=True, max_iter=5000, selection=cyclic, tol=0.001; total time=   0.0s\n",
      "[CV] END alpha=10.0, fit_intercept=True, max_iter=5000, selection=cyclic, tol=0.001; total time=   0.0s\n",
      "[CV] END alpha=10.0, fit_intercept=True, max_iter=5000, selection=cyclic, tol=0.001; total time=   0.0s\n",
      "[CV] END alpha=10.0, fit_intercept=True, max_iter=5000, selection=cyclic, tol=0.001; total time=   0.0s\n",
      "[CV] END alpha=10.0, fit_intercept=True, max_iter=5000, selection=cyclic, tol=0.0001; total time=   0.0s\n",
      "[CV] END alpha=10.0, fit_intercept=True, max_iter=5000, selection=cyclic, tol=0.0001; total time=   0.0s\n",
      "[CV] END alpha=10.0, fit_intercept=True, max_iter=5000, selection=cyclic, tol=0.0001; total time=   0.0s\n",
      "[CV] END alpha=10.0, fit_intercept=True, max_iter=5000, selection=cyclic, tol=0.0001; total time=   0.0s\n",
      "[CV] END alpha=10.0, fit_intercept=True, max_iter=5000, selection=cyclic, tol=0.0001; total time=   0.0s\n",
      "[CV] END alpha=10.0, fit_intercept=True, max_iter=5000, selection=cyclic, tol=1e-05; total time=   0.0s\n",
      "[CV] END alpha=10.0, fit_intercept=True, max_iter=5000, selection=cyclic, tol=1e-05; total time=   0.0s\n",
      "[CV] END alpha=10.0, fit_intercept=True, max_iter=5000, selection=cyclic, tol=1e-05; total time=   0.0s\n",
      "[CV] END alpha=10.0, fit_intercept=True, max_iter=5000, selection=cyclic, tol=1e-05; total time=   0.0s\n",
      "[CV] END alpha=10.0, fit_intercept=True, max_iter=5000, selection=cyclic, tol=1e-05; total time=   0.0s\n",
      "[CV] END alpha=10.0, fit_intercept=True, max_iter=5000, selection=random, tol=0.001; total time=   0.0s\n",
      "[CV] END alpha=10.0, fit_intercept=True, max_iter=5000, selection=random, tol=0.001; total time=   0.0s\n",
      "[CV] END alpha=10.0, fit_intercept=True, max_iter=5000, selection=random, tol=0.001; total time=   0.0s\n",
      "[CV] END alpha=10.0, fit_intercept=True, max_iter=5000, selection=random, tol=0.001; total time=   0.0s\n",
      "[CV] END alpha=10.0, fit_intercept=True, max_iter=5000, selection=random, tol=0.001; total time=   0.0s\n",
      "[CV] END alpha=10.0, fit_intercept=True, max_iter=5000, selection=random, tol=0.0001; total time=   0.0s\n",
      "[CV] END alpha=10.0, fit_intercept=True, max_iter=5000, selection=random, tol=0.0001; total time=   0.0s\n",
      "[CV] END alpha=10.0, fit_intercept=True, max_iter=5000, selection=random, tol=0.0001; total time=   0.0s\n",
      "[CV] END alpha=10.0, fit_intercept=True, max_iter=5000, selection=random, tol=0.0001; total time=   0.0s\n",
      "[CV] END alpha=10.0, fit_intercept=True, max_iter=5000, selection=random, tol=0.0001; total time=   0.0s\n",
      "[CV] END alpha=1.0, fit_intercept=False, max_iter=10000, selection=cyclic, tol=1e-05; total time=  17.1s\n",
      "[CV] END alpha=10.0, fit_intercept=True, max_iter=5000, selection=random, tol=1e-05; total time=   0.0s\n",
      "[CV] END alpha=10.0, fit_intercept=True, max_iter=5000, selection=random, tol=1e-05; total time=   0.0s\n",
      "[CV] END alpha=10.0, fit_intercept=True, max_iter=5000, selection=random, tol=1e-05; total time=   0.0s\n",
      "[CV] END alpha=10.0, fit_intercept=True, max_iter=5000, selection=random, tol=1e-05; total time=   0.0s\n",
      "[CV] END alpha=10.0, fit_intercept=True, max_iter=5000, selection=random, tol=1e-05; total time=   0.0s\n"
     ]
    },
    {
     "name": "stderr",
     "output_type": "stream",
     "text": [
      "/Users/zoemarquis/Documents/projet_industrie/projet_batteries/mon_venv/lib/python3.11/site-packages/sklearn/linear_model/_coordinate_descent.py:697: ConvergenceWarning: Objective did not converge. You might want to increase the number of iterations, check the scale of the features or consider increasing regularisation. Duality gap: 3.008e+03, tolerance: 1.416e+03\n",
      "  model = cd_fast.enet_coordinate_descent(\n"
     ]
    },
    {
     "name": "stdout",
     "output_type": "stream",
     "text": [
      "[CV] END alpha=10.0, fit_intercept=True, max_iter=10000, selection=cyclic, tol=0.001; total time=   0.0s\n",
      "[CV] END alpha=10.0, fit_intercept=True, max_iter=10000, selection=cyclic, tol=0.001; total time=   0.0s\n",
      "[CV] END alpha=10.0, fit_intercept=True, max_iter=10000, selection=cyclic, tol=0.001; total time=   0.0s\n",
      "[CV] END alpha=10.0, fit_intercept=True, max_iter=10000, selection=cyclic, tol=0.001; total time=   0.0s\n",
      "[CV] END alpha=10.0, fit_intercept=True, max_iter=10000, selection=cyclic, tol=0.001; total time=   0.0s\n",
      "[CV] END alpha=10.0, fit_intercept=True, max_iter=10000, selection=cyclic, tol=0.0001; total time=   0.0s\n",
      "[CV] END alpha=10.0, fit_intercept=True, max_iter=10000, selection=cyclic, tol=0.0001; total time=   0.0s\n",
      "[CV] END alpha=10.0, fit_intercept=True, max_iter=10000, selection=cyclic, tol=0.0001; total time=   0.0s\n",
      "[CV] END alpha=10.0, fit_intercept=True, max_iter=10000, selection=cyclic, tol=0.0001; total time=   0.0s\n",
      "[CV] END alpha=10.0, fit_intercept=True, max_iter=10000, selection=cyclic, tol=0.0001; total time=   0.0s\n",
      "[CV] END alpha=10.0, fit_intercept=True, max_iter=10000, selection=cyclic, tol=1e-05; total time=   0.0s\n",
      "[CV] END alpha=10.0, fit_intercept=True, max_iter=10000, selection=cyclic, tol=1e-05; total time=   0.0s\n",
      "[CV] END alpha=10.0, fit_intercept=True, max_iter=10000, selection=cyclic, tol=1e-05; total time=   0.0s\n",
      "[CV] END alpha=10.0, fit_intercept=True, max_iter=10000, selection=cyclic, tol=1e-05; total time=   0.0s\n",
      "[CV] END alpha=10.0, fit_intercept=True, max_iter=10000, selection=cyclic, tol=1e-05; total time=   0.0s\n",
      "[CV] END alpha=10.0, fit_intercept=True, max_iter=10000, selection=random, tol=0.001; total time=   0.0s\n",
      "[CV] END alpha=10.0, fit_intercept=True, max_iter=10000, selection=random, tol=0.001; total time=   0.0s\n",
      "[CV] END alpha=10.0, fit_intercept=True, max_iter=10000, selection=random, tol=0.001; total time=   0.0s\n",
      "[CV] END alpha=10.0, fit_intercept=True, max_iter=10000, selection=random, tol=0.001; total time=   0.0s\n",
      "[CV] END alpha=10.0, fit_intercept=True, max_iter=10000, selection=random, tol=0.001; total time=   0.0s\n",
      "[CV] END alpha=10.0, fit_intercept=True, max_iter=10000, selection=random, tol=0.0001; total time=   0.0s\n",
      "[CV] END alpha=10.0, fit_intercept=True, max_iter=10000, selection=random, tol=0.0001; total time=   0.0s\n",
      "[CV] END alpha=10.0, fit_intercept=True, max_iter=10000, selection=random, tol=0.0001; total time=   0.0s\n",
      "[CV] END alpha=10.0, fit_intercept=True, max_iter=10000, selection=random, tol=0.0001; total time=   0.0s\n",
      "[CV] END alpha=10.0, fit_intercept=True, max_iter=10000, selection=random, tol=0.0001; total time=   0.0s\n",
      "[CV] END alpha=10.0, fit_intercept=True, max_iter=10000, selection=random, tol=1e-05; total time=   0.0s\n",
      "[CV] END alpha=10.0, fit_intercept=True, max_iter=10000, selection=random, tol=1e-05; total time=   0.0s\n",
      "[CV] END alpha=10.0, fit_intercept=True, max_iter=10000, selection=random, tol=1e-05; total time=   0.0s\n",
      "[CV] END alpha=10.0, fit_intercept=True, max_iter=10000, selection=random, tol=1e-05; total time=   0.0s\n",
      "[CV] END alpha=10.0, fit_intercept=True, max_iter=10000, selection=random, tol=1e-05; total time=   0.0s\n",
      "[CV] END alpha=10.0, fit_intercept=False, max_iter=1000, selection=cyclic, tol=0.001; total time=   0.2s\n",
      "[CV] END alpha=10.0, fit_intercept=False, max_iter=1000, selection=cyclic, tol=0.001; total time=   0.3s\n",
      "[CV] END alpha=10.0, fit_intercept=False, max_iter=1000, selection=cyclic, tol=0.001; total time=   0.2s\n",
      "[CV] END alpha=10.0, fit_intercept=False, max_iter=1000, selection=cyclic, tol=0.001; total time=   0.3s\n",
      "[CV] END alpha=10.0, fit_intercept=False, max_iter=1000, selection=cyclic, tol=0.001; total time=   0.2s\n",
      "[CV] END alpha=10.0, fit_intercept=False, max_iter=1000, selection=cyclic, tol=0.0001; total time=   0.9s\n",
      "[CV] END alpha=10.0, fit_intercept=False, max_iter=1000, selection=cyclic, tol=0.0001; total time=   1.0s\n",
      "[CV] END alpha=10.0, fit_intercept=False, max_iter=1000, selection=cyclic, tol=0.0001; total time=   1.2s\n",
      "[CV] END alpha=10.0, fit_intercept=False, max_iter=1000, selection=cyclic, tol=0.0001; total time=   1.1s\n"
     ]
    },
    {
     "name": "stderr",
     "output_type": "stream",
     "text": [
      "/Users/zoemarquis/Documents/projet_industrie/projet_batteries/mon_venv/lib/python3.11/site-packages/sklearn/linear_model/_coordinate_descent.py:697: ConvergenceWarning: Objective did not converge. You might want to increase the number of iterations, check the scale of the features or consider increasing regularisation. Duality gap: 3.882e+03, tolerance: 1.415e+03\n",
      "  model = cd_fast.enet_coordinate_descent(\n"
     ]
    },
    {
     "name": "stdout",
     "output_type": "stream",
     "text": [
      "[CV] END alpha=1.0, fit_intercept=False, max_iter=10000, selection=cyclic, tol=1e-05; total time=  17.9s\n",
      "[CV] END alpha=10.0, fit_intercept=False, max_iter=1000, selection=cyclic, tol=0.0001; total time=   0.9s\n",
      "[CV] END alpha=10.0, fit_intercept=False, max_iter=1000, selection=cyclic, tol=1e-05; total time=   1.3s\n"
     ]
    },
    {
     "name": "stderr",
     "output_type": "stream",
     "text": [
      "/Users/zoemarquis/Documents/projet_industrie/projet_batteries/mon_venv/lib/python3.11/site-packages/sklearn/linear_model/_coordinate_descent.py:697: ConvergenceWarning: Objective did not converge. You might want to increase the number of iterations, check the scale of the features or consider increasing regularisation. Duality gap: 1.821e+03, tolerance: 1.415e+03\n",
      "  model = cd_fast.enet_coordinate_descent(\n"
     ]
    },
    {
     "name": "stdout",
     "output_type": "stream",
     "text": [
      "[CV] END alpha=10.0, fit_intercept=False, max_iter=1000, selection=cyclic, tol=1e-05; total time=   1.4s\n",
      "[CV] END alpha=10.0, fit_intercept=False, max_iter=1000, selection=cyclic, tol=1e-05; total time=   1.4s\n",
      "[CV] END alpha=10.0, fit_intercept=False, max_iter=1000, selection=cyclic, tol=1e-05; total time=   1.4s\n",
      "[CV] END alpha=10.0, fit_intercept=False, max_iter=1000, selection=random, tol=0.001; total time=   0.5s\n",
      "[CV] END alpha=10.0, fit_intercept=False, max_iter=1000, selection=random, tol=0.001; total time=   0.4s\n",
      "[CV] END alpha=10.0, fit_intercept=False, max_iter=1000, selection=random, tol=0.001; total time=   0.5s\n",
      "[CV] END alpha=10.0, fit_intercept=False, max_iter=1000, selection=cyclic, tol=1e-05; total time=   1.5s\n",
      "[CV] END alpha=10.0, fit_intercept=False, max_iter=1000, selection=random, tol=0.001; total time=   0.5s\n",
      "[CV] END alpha=10.0, fit_intercept=False, max_iter=1000, selection=random, tol=0.001; total time=   0.5s\n",
      "[CV] END alpha=10.0, fit_intercept=False, max_iter=1000, selection=random, tol=0.0001; total time=   1.3s\n",
      "[CV] END alpha=10.0, fit_intercept=False, max_iter=1000, selection=random, tol=0.0001; total time=   1.6s\n",
      "[CV] END alpha=10.0, fit_intercept=False, max_iter=1000, selection=random, tol=0.0001; total time=   1.5s\n",
      "[CV] END alpha=10.0, fit_intercept=False, max_iter=1000, selection=random, tol=0.0001; total time=   1.5s\n",
      "[CV] END alpha=10.0, fit_intercept=False, max_iter=1000, selection=random, tol=0.0001; total time=   1.6s\n",
      "[CV] END alpha=1.0, fit_intercept=False, max_iter=10000, selection=random, tol=1e-05; total time=  15.6s\n",
      "[CV] END alpha=10.0, fit_intercept=False, max_iter=1000, selection=random, tol=1e-05; total time=   1.4s\n"
     ]
    },
    {
     "name": "stderr",
     "output_type": "stream",
     "text": [
      "/Users/zoemarquis/Documents/projet_industrie/projet_batteries/mon_venv/lib/python3.11/site-packages/sklearn/linear_model/_coordinate_descent.py:697: ConvergenceWarning: Objective did not converge. You might want to increase the number of iterations, check the scale of the features or consider increasing regularisation. Duality gap: 1.579e+03, tolerance: 1.414e+03\n",
      "  model = cd_fast.enet_coordinate_descent(\n",
      "/Users/zoemarquis/Documents/projet_industrie/projet_batteries/mon_venv/lib/python3.11/site-packages/sklearn/linear_model/_coordinate_descent.py:697: ConvergenceWarning: Objective did not converge. You might want to increase the number of iterations, check the scale of the features or consider increasing regularisation. Duality gap: 1.075e+04, tolerance: 1.414e+03\n",
      "  model = cd_fast.enet_coordinate_descent(\n"
     ]
    },
    {
     "name": "stdout",
     "output_type": "stream",
     "text": [
      "[CV] END alpha=10.0, fit_intercept=False, max_iter=5000, selection=cyclic, tol=0.001; total time=   0.2s\n",
      "[CV] END alpha=10.0, fit_intercept=False, max_iter=5000, selection=cyclic, tol=0.001; total time=   0.3s\n",
      "[CV] END alpha=10.0, fit_intercept=False, max_iter=5000, selection=cyclic, tol=0.001; total time=   0.2s\n",
      "[CV] END alpha=10.0, fit_intercept=False, max_iter=5000, selection=cyclic, tol=0.001; total time=   0.3s\n",
      "[CV] END alpha=10.0, fit_intercept=False, max_iter=5000, selection=cyclic, tol=0.001; total time=   0.2s\n",
      "[CV] END alpha=1.0, fit_intercept=False, max_iter=10000, selection=random, tol=1e-05; total time=  16.5s\n",
      "[CV] END alpha=1.0, fit_intercept=False, max_iter=10000, selection=random, tol=1e-05; total time=  16.5s\n",
      "[CV] END alpha=1.0, fit_intercept=False, max_iter=10000, selection=random, tol=1e-05; total time=  16.6s\n"
     ]
    },
    {
     "name": "stderr",
     "output_type": "stream",
     "text": [
      "/Users/zoemarquis/Documents/projet_industrie/projet_batteries/mon_venv/lib/python3.11/site-packages/sklearn/linear_model/_coordinate_descent.py:697: ConvergenceWarning: Objective did not converge. You might want to increase the number of iterations, check the scale of the features or consider increasing regularisation. Duality gap: 9.706e+03, tolerance: 1.414e+03\n",
      "  model = cd_fast.enet_coordinate_descent(\n"
     ]
    },
    {
     "name": "stdout",
     "output_type": "stream",
     "text": [
      "[CV] END alpha=10.0, fit_intercept=False, max_iter=1000, selection=random, tol=1e-05; total time=   1.5s\n"
     ]
    },
    {
     "name": "stderr",
     "output_type": "stream",
     "text": [
      "/Users/zoemarquis/Documents/projet_industrie/projet_batteries/mon_venv/lib/python3.11/site-packages/sklearn/linear_model/_coordinate_descent.py:697: ConvergenceWarning: Objective did not converge. You might want to increase the number of iterations, check the scale of the features or consider increasing regularisation. Duality gap: 9.896e+03, tolerance: 1.416e+03\n",
      "  model = cd_fast.enet_coordinate_descent(\n"
     ]
    },
    {
     "name": "stdout",
     "output_type": "stream",
     "text": [
      "[CV] END alpha=10.0, fit_intercept=False, max_iter=1000, selection=random, tol=1e-05; total time=   1.7s\n",
      "[CV] END alpha=10.0, fit_intercept=False, max_iter=5000, selection=cyclic, tol=0.0001; total time=   1.0s\n",
      "[CV] END alpha=10.0, fit_intercept=False, max_iter=5000, selection=cyclic, tol=0.0001; total time=   1.2s\n"
     ]
    },
    {
     "name": "stderr",
     "output_type": "stream",
     "text": [
      "/Users/zoemarquis/Documents/projet_industrie/projet_batteries/mon_venv/lib/python3.11/site-packages/sklearn/linear_model/_coordinate_descent.py:697: ConvergenceWarning: Objective did not converge. You might want to increase the number of iterations, check the scale of the features or consider increasing regularisation. Duality gap: 1.652e+03, tolerance: 1.415e+03\n",
      "  model = cd_fast.enet_coordinate_descent(\n"
     ]
    },
    {
     "name": "stdout",
     "output_type": "stream",
     "text": [
      "[CV] END alpha=1.0, fit_intercept=False, max_iter=10000, selection=random, tol=1e-05; total time=  16.5s\n",
      "[CV] END alpha=10.0, fit_intercept=False, max_iter=5000, selection=cyclic, tol=0.0001; total time=   1.1s\n",
      "[CV] END alpha=10.0, fit_intercept=False, max_iter=5000, selection=cyclic, tol=0.0001; total time=   1.2s\n",
      "[CV] END alpha=10.0, fit_intercept=False, max_iter=1000, selection=random, tol=1e-05; total time=   1.7s\n"
     ]
    },
    {
     "name": "stderr",
     "output_type": "stream",
     "text": [
      "/Users/zoemarquis/Documents/projet_industrie/projet_batteries/mon_venv/lib/python3.11/site-packages/sklearn/linear_model/_coordinate_descent.py:697: ConvergenceWarning: Objective did not converge. You might want to increase the number of iterations, check the scale of the features or consider increasing regularisation. Duality gap: 9.501e+03, tolerance: 1.415e+03\n",
      "  model = cd_fast.enet_coordinate_descent(\n"
     ]
    },
    {
     "name": "stdout",
     "output_type": "stream",
     "text": [
      "[CV] END alpha=10.0, fit_intercept=False, max_iter=5000, selection=cyclic, tol=0.0001; total time=   1.0s\n",
      "[CV] END alpha=10.0, fit_intercept=False, max_iter=1000, selection=random, tol=1e-05; total time=   1.7s\n"
     ]
    },
    {
     "name": "stderr",
     "output_type": "stream",
     "text": [
      "/Users/zoemarquis/Documents/projet_industrie/projet_batteries/mon_venv/lib/python3.11/site-packages/sklearn/linear_model/_coordinate_descent.py:697: ConvergenceWarning: Objective did not converge. You might want to increase the number of iterations, check the scale of the features or consider increasing regularisation. Duality gap: 1.047e+04, tolerance: 1.415e+03\n",
      "  model = cd_fast.enet_coordinate_descent(\n"
     ]
    },
    {
     "name": "stdout",
     "output_type": "stream",
     "text": [
      "[CV] END alpha=10.0, fit_intercept=False, max_iter=5000, selection=random, tol=0.001; total time=   0.6s\n",
      "[CV] END alpha=10.0, fit_intercept=False, max_iter=5000, selection=random, tol=0.001; total time=   0.6s\n",
      "[CV] END alpha=10.0, fit_intercept=False, max_iter=5000, selection=random, tol=0.001; total time=   0.6s\n",
      "[CV] END alpha=10.0, fit_intercept=False, max_iter=5000, selection=random, tol=0.001; total time=   0.5s\n",
      "[CV] END alpha=10.0, fit_intercept=False, max_iter=5000, selection=random, tol=0.001; total time=   0.8s\n",
      "[CV] END alpha=10.0, fit_intercept=False, max_iter=5000, selection=random, tol=0.0001; total time=   1.8s\n",
      "[CV] END alpha=10.0, fit_intercept=False, max_iter=5000, selection=random, tol=0.0001; total time=   2.0s\n",
      "[CV] END alpha=10.0, fit_intercept=False, max_iter=5000, selection=cyclic, tol=1e-05; total time=   4.1s\n",
      "[CV] END alpha=10.0, fit_intercept=False, max_iter=5000, selection=cyclic, tol=1e-05; total time=   5.1s\n",
      "[CV] END alpha=10.0, fit_intercept=False, max_iter=5000, selection=cyclic, tol=1e-05; total time=   5.2s\n",
      "[CV] END alpha=10.0, fit_intercept=False, max_iter=5000, selection=random, tol=0.0001; total time=   2.8s\n",
      "[CV] END alpha=10.0, fit_intercept=False, max_iter=5000, selection=cyclic, tol=1e-05; total time=   6.0s\n",
      "[CV] END alpha=10.0, fit_intercept=False, max_iter=5000, selection=random, tol=0.0001; total time=   2.3s\n",
      "[CV] END alpha=10.0, fit_intercept=False, max_iter=10000, selection=cyclic, tol=0.001; total time=   0.2s\n",
      "[CV] END alpha=10.0, fit_intercept=False, max_iter=10000, selection=cyclic, tol=0.001; total time=   0.3s\n",
      "[CV] END alpha=10.0, fit_intercept=False, max_iter=10000, selection=cyclic, tol=0.001; total time=   0.3s\n",
      "[CV] END alpha=10.0, fit_intercept=False, max_iter=10000, selection=cyclic, tol=0.001; total time=   0.2s\n",
      "[CV] END alpha=10.0, fit_intercept=False, max_iter=10000, selection=cyclic, tol=0.001; total time=   0.3s\n",
      "[CV] END alpha=10.0, fit_intercept=False, max_iter=5000, selection=random, tol=0.0001; total time=   5.0s\n",
      "[CV] END alpha=10.0, fit_intercept=False, max_iter=5000, selection=cyclic, tol=1e-05; total time=   3.2s\n",
      "[CV] END alpha=10.0, fit_intercept=False, max_iter=5000, selection=random, tol=1e-05; total time=   3.9s\n",
      "[CV] END alpha=10.0, fit_intercept=False, max_iter=10000, selection=cyclic, tol=0.0001; total time=   1.1s\n",
      "[CV] END alpha=10.0, fit_intercept=False, max_iter=5000, selection=random, tol=1e-05; total time=   4.3s\n",
      "[CV] END alpha=10.0, fit_intercept=False, max_iter=10000, selection=cyclic, tol=0.0001; total time=   1.3s\n",
      "[CV] END alpha=10.0, fit_intercept=False, max_iter=10000, selection=cyclic, tol=0.0001; total time=   1.3s\n",
      "[CV] END alpha=10.0, fit_intercept=False, max_iter=10000, selection=cyclic, tol=0.0001; total time=   1.3s\n",
      "[CV] END alpha=10.0, fit_intercept=False, max_iter=5000, selection=random, tol=1e-05; total time=   4.7s\n",
      "[CV] END alpha=10.0, fit_intercept=False, max_iter=10000, selection=cyclic, tol=0.0001; total time=   1.1s\n",
      "[CV] END alpha=10.0, fit_intercept=False, max_iter=5000, selection=random, tol=1e-05; total time=   4.7s\n",
      "[CV] END alpha=10.0, fit_intercept=False, max_iter=10000, selection=random, tol=0.001; total time=   0.5s\n",
      "[CV] END alpha=10.0, fit_intercept=False, max_iter=10000, selection=random, tol=0.001; total time=   0.6s\n",
      "[CV] END alpha=10.0, fit_intercept=False, max_iter=5000, selection=random, tol=1e-05; total time=   4.4s\n",
      "[CV] END alpha=10.0, fit_intercept=False, max_iter=10000, selection=random, tol=0.001; total time=   0.6s\n",
      "[CV] END alpha=10.0, fit_intercept=False, max_iter=10000, selection=random, tol=0.001; total time=   0.7s\n",
      "[CV] END alpha=10.0, fit_intercept=False, max_iter=10000, selection=random, tol=0.001; total time=   0.6s\n",
      "[CV] END alpha=10.0, fit_intercept=False, max_iter=10000, selection=cyclic, tol=1e-05; total time=   3.3s\n",
      "[CV] END alpha=10.0, fit_intercept=False, max_iter=10000, selection=random, tol=0.0001; total time=   1.9s\n",
      "[CV] END alpha=10.0, fit_intercept=False, max_iter=10000, selection=random, tol=0.0001; total time=   2.0s\n",
      "[CV] END alpha=10.0, fit_intercept=False, max_iter=10000, selection=cyclic, tol=1e-05; total time=   5.0s\n",
      "[CV] END alpha=10.0, fit_intercept=False, max_iter=10000, selection=cyclic, tol=1e-05; total time=   4.1s\n",
      "[CV] END alpha=10.0, fit_intercept=False, max_iter=10000, selection=cyclic, tol=1e-05; total time=   5.0s\n",
      "[CV] END alpha=10.0, fit_intercept=False, max_iter=10000, selection=random, tol=0.0001; total time=   3.1s\n",
      "[CV] END alpha=10.0, fit_intercept=False, max_iter=10000, selection=cyclic, tol=1e-05; total time=   5.8s\n",
      "[CV] END alpha=10.0, fit_intercept=False, max_iter=10000, selection=random, tol=0.0001; total time=   2.6s\n",
      "[CV] END alpha=10.0, fit_intercept=False, max_iter=10000, selection=random, tol=0.0001; total time=   4.1s\n",
      "[CV] END alpha=10.0, fit_intercept=False, max_iter=10000, selection=random, tol=1e-05; total time=   3.4s\n",
      "[CV] END alpha=10.0, fit_intercept=False, max_iter=10000, selection=random, tol=1e-05; total time=   3.3s\n",
      "[CV] END alpha=10.0, fit_intercept=False, max_iter=10000, selection=random, tol=1e-05; total time=   2.8s\n",
      "[CV] END alpha=10.0, fit_intercept=False, max_iter=10000, selection=random, tol=1e-05; total time=   3.3s\n",
      "[CV] END alpha=10.0, fit_intercept=False, max_iter=10000, selection=random, tol=1e-05; total time=   2.9s\n"
     ]
    },
    {
     "name": "stderr",
     "output_type": "stream",
     "text": [
      "/Users/zoemarquis/Documents/projet_industrie/projet_batteries/mon_venv/lib/python3.11/site-packages/numpy/ma/core.py:2846: RuntimeWarning: invalid value encountered in cast\n",
      "  _data = np.array(data, dtype=dtype, copy=copy,\n"
     ]
    },
    {
     "name": "stdout",
     "output_type": "stream",
     "text": [
      "Performing GridSearch for Elastic Net Regression...\n",
      "Fitting 5 folds for each of 432 candidates, totalling 2160 fits\n",
      "[CV] END alpha=0.01, fit_intercept=True, l1_ratio=0.1, max_iter=1000, selection=cyclic, tol=0.001; total time=   0.7s\n",
      "[CV] END alpha=0.01, fit_intercept=True, l1_ratio=0.1, max_iter=1000, selection=cyclic, tol=0.001; total time=   0.8s\n",
      "[CV] END alpha=0.01, fit_intercept=True, l1_ratio=0.1, max_iter=1000, selection=cyclic, tol=0.001; total time=   0.8s\n",
      "[CV] END alpha=0.01, fit_intercept=True, l1_ratio=0.1, max_iter=1000, selection=cyclic, tol=0.001; total time=   0.8s\n",
      "[CV] END alpha=0.01, fit_intercept=True, l1_ratio=0.1, max_iter=1000, selection=cyclic, tol=0.001; total time=   0.9s\n",
      "[CV] END alpha=0.01, fit_intercept=True, l1_ratio=0.1, max_iter=1000, selection=cyclic, tol=0.0001; total time=   1.2s\n",
      "[CV] END alpha=0.01, fit_intercept=True, l1_ratio=0.1, max_iter=1000, selection=cyclic, tol=0.0001; total time=   1.3s\n",
      "[CV] END alpha=0.01, fit_intercept=True, l1_ratio=0.1, max_iter=1000, selection=cyclic, tol=0.0001; total time=   1.4s\n",
      "[CV] END alpha=0.01, fit_intercept=True, l1_ratio=0.1, max_iter=1000, selection=random, tol=0.001; total time=   0.2s\n",
      "[CV] END alpha=0.01, fit_intercept=True, l1_ratio=0.1, max_iter=1000, selection=random, tol=0.001; total time=   0.2s\n",
      "[CV] END alpha=0.01, fit_intercept=True, l1_ratio=0.1, max_iter=1000, selection=random, tol=0.001; total time=   0.2s\n",
      "[CV] END alpha=0.01, fit_intercept=True, l1_ratio=0.1, max_iter=1000, selection=cyclic, tol=0.0001; total time=   1.3s\n",
      "[CV] END alpha=0.01, fit_intercept=True, l1_ratio=0.1, max_iter=1000, selection=cyclic, tol=0.0001; total time=   1.2s\n",
      "[CV] END alpha=0.01, fit_intercept=True, l1_ratio=0.1, max_iter=1000, selection=random, tol=0.001; total time=   0.2s\n",
      "[CV] END alpha=0.01, fit_intercept=True, l1_ratio=0.1, max_iter=1000, selection=random, tol=0.001; total time=   0.2s\n",
      "[CV] END alpha=0.01, fit_intercept=True, l1_ratio=0.1, max_iter=1000, selection=random, tol=0.0001; total time=   0.3s\n",
      "[CV] END alpha=0.01, fit_intercept=True, l1_ratio=0.1, max_iter=1000, selection=random, tol=0.0001; total time=   0.3s\n",
      "[CV] END alpha=0.01, fit_intercept=True, l1_ratio=0.1, max_iter=1000, selection=random, tol=0.0001; total time=   0.3s\n",
      "[CV] END alpha=0.01, fit_intercept=True, l1_ratio=0.1, max_iter=1000, selection=random, tol=0.0001; total time=   0.3s\n",
      "[CV] END alpha=0.01, fit_intercept=True, l1_ratio=0.1, max_iter=1000, selection=cyclic, tol=1e-05; total time=   1.9s\n",
      "[CV] END alpha=0.01, fit_intercept=True, l1_ratio=0.1, max_iter=1000, selection=random, tol=0.0001; total time=   0.3s\n",
      "[CV] END alpha=0.01, fit_intercept=True, l1_ratio=0.1, max_iter=1000, selection=cyclic, tol=1e-05; total time=   2.0s\n",
      "[CV] END alpha=0.01, fit_intercept=True, l1_ratio=0.1, max_iter=1000, selection=cyclic, tol=1e-05; total time=   2.2s\n",
      "[CV] END alpha=0.01, fit_intercept=True, l1_ratio=0.1, max_iter=1000, selection=random, tol=1e-05; total time=   0.4s\n",
      "[CV] END alpha=0.01, fit_intercept=True, l1_ratio=0.1, max_iter=1000, selection=random, tol=1e-05; total time=   0.4s\n",
      "[CV] END alpha=0.01, fit_intercept=True, l1_ratio=0.1, max_iter=1000, selection=cyclic, tol=1e-05; total time=   1.8s\n",
      "[CV] END alpha=0.01, fit_intercept=True, l1_ratio=0.1, max_iter=1000, selection=random, tol=1e-05; total time=   0.4s\n",
      "[CV] END alpha=0.01, fit_intercept=True, l1_ratio=0.1, max_iter=1000, selection=cyclic, tol=1e-05; total time=   1.8s\n",
      "[CV] END alpha=0.01, fit_intercept=True, l1_ratio=0.1, max_iter=1000, selection=random, tol=1e-05; total time=   0.5s\n",
      "[CV] END alpha=0.01, fit_intercept=True, l1_ratio=0.1, max_iter=1000, selection=random, tol=1e-05; total time=   0.6s\n",
      "[CV] END alpha=0.01, fit_intercept=True, l1_ratio=0.1, max_iter=5000, selection=cyclic, tol=0.001; total time=   0.8s\n",
      "[CV] END alpha=0.01, fit_intercept=True, l1_ratio=0.1, max_iter=5000, selection=cyclic, tol=0.001; total time=   0.9s\n",
      "[CV] END alpha=0.01, fit_intercept=True, l1_ratio=0.1, max_iter=5000, selection=cyclic, tol=0.001; total time=   0.9s\n",
      "[CV] END alpha=0.01, fit_intercept=True, l1_ratio=0.1, max_iter=5000, selection=cyclic, tol=0.001; total time=   0.9s\n",
      "[CV] END alpha=0.01, fit_intercept=True, l1_ratio=0.1, max_iter=5000, selection=cyclic, tol=0.001; total time=   0.9s\n",
      "[CV] END alpha=0.01, fit_intercept=True, l1_ratio=0.1, max_iter=5000, selection=cyclic, tol=0.0001; total time=   1.4s\n",
      "[CV] END alpha=0.01, fit_intercept=True, l1_ratio=0.1, max_iter=5000, selection=cyclic, tol=0.0001; total time=   1.4s\n",
      "[CV] END alpha=0.01, fit_intercept=True, l1_ratio=0.1, max_iter=5000, selection=cyclic, tol=0.0001; total time=   1.4s\n",
      "[CV] END alpha=0.01, fit_intercept=True, l1_ratio=0.1, max_iter=5000, selection=random, tol=0.001; total time=   0.2s\n",
      "[CV] END alpha=0.01, fit_intercept=True, l1_ratio=0.1, max_iter=5000, selection=cyclic, tol=0.0001; total time=   1.4s\n",
      "[CV] END alpha=0.01, fit_intercept=True, l1_ratio=0.1, max_iter=5000, selection=random, tol=0.001; total time=   0.2s\n",
      "[CV] END alpha=0.01, fit_intercept=True, l1_ratio=0.1, max_iter=5000, selection=random, tol=0.001; total time=   0.2s\n",
      "[CV] END alpha=0.01, fit_intercept=True, l1_ratio=0.1, max_iter=5000, selection=random, tol=0.001; total time=   0.2s\n",
      "[CV] END alpha=0.01, fit_intercept=True, l1_ratio=0.1, max_iter=5000, selection=cyclic, tol=0.0001; total time=   1.6s\n",
      "[CV] END alpha=0.01, fit_intercept=True, l1_ratio=0.1, max_iter=5000, selection=random, tol=0.001; total time=   0.2s\n",
      "[CV] END alpha=0.01, fit_intercept=True, l1_ratio=0.1, max_iter=5000, selection=random, tol=0.0001; total time=   0.3s\n",
      "[CV] END alpha=0.01, fit_intercept=True, l1_ratio=0.1, max_iter=5000, selection=random, tol=0.0001; total time=   0.4s\n",
      "[CV] END alpha=0.01, fit_intercept=True, l1_ratio=0.1, max_iter=5000, selection=random, tol=0.0001; total time=   0.4s\n",
      "[CV] END alpha=0.01, fit_intercept=True, l1_ratio=0.1, max_iter=5000, selection=cyclic, tol=1e-05; total time=   2.1s\n",
      "[CV] END alpha=0.01, fit_intercept=True, l1_ratio=0.1, max_iter=5000, selection=cyclic, tol=1e-05; total time=   2.0s\n",
      "[CV] END alpha=0.01, fit_intercept=True, l1_ratio=0.1, max_iter=5000, selection=cyclic, tol=1e-05; total time=   2.0s\n",
      "[CV] END alpha=0.01, fit_intercept=True, l1_ratio=0.1, max_iter=5000, selection=random, tol=0.0001; total time=   0.4s\n",
      "[CV] END alpha=0.01, fit_intercept=True, l1_ratio=0.1, max_iter=5000, selection=random, tol=0.0001; total time=   0.4s\n",
      "[CV] END alpha=0.01, fit_intercept=True, l1_ratio=0.1, max_iter=5000, selection=random, tol=1e-05; total time=   0.4s\n",
      "[CV] END alpha=0.01, fit_intercept=True, l1_ratio=0.1, max_iter=5000, selection=random, tol=1e-05; total time=   0.4s\n",
      "[CV] END alpha=0.01, fit_intercept=True, l1_ratio=0.1, max_iter=5000, selection=random, tol=1e-05; total time=   0.4s\n",
      "[CV] END alpha=0.01, fit_intercept=True, l1_ratio=0.1, max_iter=5000, selection=cyclic, tol=1e-05; total time=   2.0s\n",
      "[CV] END alpha=0.01, fit_intercept=True, l1_ratio=0.1, max_iter=5000, selection=random, tol=1e-05; total time=   0.5s\n",
      "[CV] END alpha=0.01, fit_intercept=True, l1_ratio=0.1, max_iter=5000, selection=cyclic, tol=1e-05; total time=   1.9s\n",
      "[CV] END alpha=0.01, fit_intercept=True, l1_ratio=0.1, max_iter=5000, selection=random, tol=1e-05; total time=   0.5s\n",
      "[CV] END alpha=0.01, fit_intercept=True, l1_ratio=0.1, max_iter=10000, selection=cyclic, tol=0.001; total time=   0.8s\n",
      "[CV] END alpha=0.01, fit_intercept=True, l1_ratio=0.1, max_iter=10000, selection=cyclic, tol=0.001; total time=   0.9s\n",
      "[CV] END alpha=0.01, fit_intercept=True, l1_ratio=0.1, max_iter=10000, selection=cyclic, tol=0.001; total time=   0.8s\n",
      "[CV] END alpha=0.01, fit_intercept=True, l1_ratio=0.1, max_iter=10000, selection=cyclic, tol=0.001; total time=   0.9s\n",
      "[CV] END alpha=0.01, fit_intercept=True, l1_ratio=0.1, max_iter=10000, selection=cyclic, tol=0.001; total time=   1.0s\n",
      "[CV] END alpha=0.01, fit_intercept=True, l1_ratio=0.1, max_iter=10000, selection=cyclic, tol=0.0001; total time=   1.4s\n",
      "[CV] END alpha=0.01, fit_intercept=True, l1_ratio=0.1, max_iter=10000, selection=cyclic, tol=0.0001; total time=   1.3s\n",
      "[CV] END alpha=0.01, fit_intercept=True, l1_ratio=0.1, max_iter=10000, selection=cyclic, tol=0.0001; total time=   1.5s\n",
      "[CV] END alpha=0.01, fit_intercept=True, l1_ratio=0.1, max_iter=10000, selection=random, tol=0.001; total time=   0.2s\n",
      "[CV] END alpha=0.01, fit_intercept=True, l1_ratio=0.1, max_iter=10000, selection=cyclic, tol=0.0001; total time=   1.3s\n",
      "[CV] END alpha=0.01, fit_intercept=True, l1_ratio=0.1, max_iter=10000, selection=random, tol=0.001; total time=   0.2s\n",
      "[CV] END alpha=0.01, fit_intercept=True, l1_ratio=0.1, max_iter=10000, selection=random, tol=0.001; total time=   0.1s\n",
      "[CV] END alpha=0.01, fit_intercept=True, l1_ratio=0.1, max_iter=10000, selection=random, tol=0.001; total time=   0.2s\n",
      "[CV] END alpha=0.01, fit_intercept=True, l1_ratio=0.1, max_iter=10000, selection=cyclic, tol=0.0001; total time=   1.5s\n",
      "[CV] END alpha=0.01, fit_intercept=True, l1_ratio=0.1, max_iter=10000, selection=random, tol=0.001; total time=   0.2s\n",
      "[CV] END alpha=0.01, fit_intercept=True, l1_ratio=0.1, max_iter=10000, selection=random, tol=0.0001; total time=   0.3s\n",
      "[CV] END alpha=0.01, fit_intercept=True, l1_ratio=0.1, max_iter=10000, selection=random, tol=0.0001; total time=   0.4s\n",
      "[CV] END alpha=0.01, fit_intercept=True, l1_ratio=0.1, max_iter=10000, selection=random, tol=0.0001; total time=   0.4s\n",
      "[CV] END alpha=0.01, fit_intercept=True, l1_ratio=0.1, max_iter=10000, selection=random, tol=0.0001; total time=   0.3s\n",
      "[CV] END alpha=0.01, fit_intercept=True, l1_ratio=0.1, max_iter=10000, selection=cyclic, tol=1e-05; total time=   2.0s\n",
      "[CV] END alpha=0.01, fit_intercept=True, l1_ratio=0.1, max_iter=10000, selection=cyclic, tol=1e-05; total time=   2.0s\n",
      "[CV] END alpha=0.01, fit_intercept=True, l1_ratio=0.1, max_iter=10000, selection=random, tol=0.0001; total time=   0.3s\n",
      "[CV] END alpha=0.01, fit_intercept=True, l1_ratio=0.1, max_iter=10000, selection=cyclic, tol=1e-05; total time=   2.0s\n",
      "[CV] END alpha=0.01, fit_intercept=True, l1_ratio=0.1, max_iter=10000, selection=random, tol=1e-05; total time=   0.4s\n",
      "[CV] END alpha=0.01, fit_intercept=True, l1_ratio=0.1, max_iter=10000, selection=random, tol=1e-05; total time=   0.3s\n",
      "[CV] END alpha=0.01, fit_intercept=True, l1_ratio=0.1, max_iter=10000, selection=random, tol=1e-05; total time=   0.4s\n",
      "[CV] END alpha=0.01, fit_intercept=True, l1_ratio=0.1, max_iter=10000, selection=random, tol=1e-05; total time=   0.5s\n",
      "[CV] END alpha=0.01, fit_intercept=True, l1_ratio=0.1, max_iter=10000, selection=random, tol=1e-05; total time=   0.5s\n",
      "[CV] END alpha=0.01, fit_intercept=True, l1_ratio=0.1, max_iter=10000, selection=cyclic, tol=1e-05; total time=   2.2s\n",
      "[CV] END alpha=0.01, fit_intercept=True, l1_ratio=0.5, max_iter=1000, selection=cyclic, tol=0.001; total time=   0.7s\n",
      "[CV] END alpha=0.01, fit_intercept=True, l1_ratio=0.5, max_iter=1000, selection=cyclic, tol=0.001; total time=   0.7s\n",
      "[CV] END alpha=0.01, fit_intercept=True, l1_ratio=0.1, max_iter=10000, selection=cyclic, tol=1e-05; total time=   2.2s\n",
      "[CV] END alpha=0.01, fit_intercept=True, l1_ratio=0.5, max_iter=1000, selection=cyclic, tol=0.001; total time=   0.7s\n",
      "[CV] END alpha=0.01, fit_intercept=True, l1_ratio=0.5, max_iter=1000, selection=cyclic, tol=0.001; total time=   0.7s\n",
      "[CV] END alpha=0.01, fit_intercept=True, l1_ratio=0.5, max_iter=1000, selection=cyclic, tol=0.001; total time=   0.8s\n",
      "[CV] END alpha=0.01, fit_intercept=True, l1_ratio=0.5, max_iter=1000, selection=cyclic, tol=0.0001; total time=   1.9s\n",
      "[CV] END alpha=0.01, fit_intercept=True, l1_ratio=0.5, max_iter=1000, selection=cyclic, tol=0.0001; total time=   1.8s\n",
      "[CV] END alpha=0.01, fit_intercept=True, l1_ratio=0.5, max_iter=1000, selection=cyclic, tol=0.0001; total time=   1.9s\n",
      "[CV] END alpha=0.01, fit_intercept=True, l1_ratio=0.5, max_iter=1000, selection=cyclic, tol=0.0001; total time=   2.0s\n",
      "[CV] END alpha=0.01, fit_intercept=True, l1_ratio=0.5, max_iter=1000, selection=cyclic, tol=0.0001; total time=   1.9s\n",
      "[CV] END alpha=0.01, fit_intercept=True, l1_ratio=0.5, max_iter=1000, selection=random, tol=0.001; total time=   0.2s\n",
      "[CV] END alpha=0.01, fit_intercept=True, l1_ratio=0.5, max_iter=1000, selection=random, tol=0.001; total time=   0.2s\n",
      "[CV] END alpha=0.01, fit_intercept=True, l1_ratio=0.5, max_iter=1000, selection=random, tol=0.001; total time=   0.2s\n",
      "[CV] END alpha=0.01, fit_intercept=True, l1_ratio=0.5, max_iter=1000, selection=random, tol=0.001; total time=   0.2s\n",
      "[CV] END alpha=0.01, fit_intercept=True, l1_ratio=0.5, max_iter=1000, selection=random, tol=0.001; total time=   0.2s\n",
      "[CV] END alpha=0.01, fit_intercept=True, l1_ratio=0.5, max_iter=1000, selection=cyclic, tol=1e-05; total time=   2.1s\n",
      "[CV] END alpha=0.01, fit_intercept=True, l1_ratio=0.5, max_iter=1000, selection=cyclic, tol=1e-05; total time=   2.1s\n",
      "[CV] END alpha=0.01, fit_intercept=True, l1_ratio=0.5, max_iter=1000, selection=cyclic, tol=1e-05; total time=   2.0s\n",
      "[CV] END alpha=0.01, fit_intercept=True, l1_ratio=0.5, max_iter=1000, selection=random, tol=0.0001; total time=   0.3s\n"
     ]
    },
    {
     "name": "stderr",
     "output_type": "stream",
     "text": [
      "/Users/zoemarquis/Documents/projet_industrie/projet_batteries/mon_venv/lib/python3.11/site-packages/sklearn/linear_model/_coordinate_descent.py:697: ConvergenceWarning: Objective did not converge. You might want to increase the number of iterations, check the scale of the features or consider increasing regularisation. Duality gap: 8.470e+00, tolerance: 3.567e+00\n",
      "  model = cd_fast.enet_coordinate_descent(\n",
      "/Users/zoemarquis/Documents/projet_industrie/projet_batteries/mon_venv/lib/python3.11/site-packages/sklearn/linear_model/_coordinate_descent.py:697: ConvergenceWarning: Objective did not converge. You might want to increase the number of iterations, check the scale of the features or consider increasing regularisation. Duality gap: 8.080e+00, tolerance: 3.560e+00\n",
      "  model = cd_fast.enet_coordinate_descent(\n",
      "/Users/zoemarquis/Documents/projet_industrie/projet_batteries/mon_venv/lib/python3.11/site-packages/sklearn/linear_model/_coordinate_descent.py:697: ConvergenceWarning: Objective did not converge. You might want to increase the number of iterations, check the scale of the features or consider increasing regularisation. Duality gap: 8.126e+00, tolerance: 3.536e+00\n",
      "  model = cd_fast.enet_coordinate_descent(\n"
     ]
    },
    {
     "name": "stdout",
     "output_type": "stream",
     "text": [
      "[CV] END alpha=0.01, fit_intercept=True, l1_ratio=0.5, max_iter=1000, selection=random, tol=0.0001; total time=   0.4s\n",
      "[CV] END alpha=0.01, fit_intercept=True, l1_ratio=0.5, max_iter=1000, selection=random, tol=0.0001; total time=   0.4s\n",
      "[CV] END alpha=0.01, fit_intercept=True, l1_ratio=0.5, max_iter=1000, selection=random, tol=0.0001; total time=   0.4s\n",
      "[CV] END alpha=0.01, fit_intercept=True, l1_ratio=0.5, max_iter=1000, selection=random, tol=0.0001; total time=   0.4s\n",
      "[CV] END alpha=0.01, fit_intercept=True, l1_ratio=0.5, max_iter=1000, selection=random, tol=1e-05; total time=   0.6s\n",
      "[CV] END alpha=0.01, fit_intercept=True, l1_ratio=0.5, max_iter=1000, selection=random, tol=1e-05; total time=   0.7s\n",
      "[CV] END alpha=0.01, fit_intercept=True, l1_ratio=0.5, max_iter=1000, selection=random, tol=1e-05; total time=   0.6s\n",
      "[CV] END alpha=0.01, fit_intercept=True, l1_ratio=0.5, max_iter=1000, selection=random, tol=1e-05; total time=   0.6s\n",
      "[CV] END alpha=0.01, fit_intercept=True, l1_ratio=0.5, max_iter=1000, selection=random, tol=1e-05; total time=   0.6s\n",
      "[CV] END alpha=0.01, fit_intercept=True, l1_ratio=0.5, max_iter=5000, selection=cyclic, tol=0.001; total time=   0.7s\n",
      "[CV] END alpha=0.01, fit_intercept=True, l1_ratio=0.5, max_iter=1000, selection=cyclic, tol=1e-05; total time=   2.1s\n"
     ]
    },
    {
     "name": "stderr",
     "output_type": "stream",
     "text": [
      "/Users/zoemarquis/Documents/projet_industrie/projet_batteries/mon_venv/lib/python3.11/site-packages/sklearn/linear_model/_coordinate_descent.py:697: ConvergenceWarning: Objective did not converge. You might want to increase the number of iterations, check the scale of the features or consider increasing regularisation. Duality gap: 7.340e+00, tolerance: 3.482e+00\n",
      "  model = cd_fast.enet_coordinate_descent(\n",
      "/Users/zoemarquis/Documents/projet_industrie/projet_batteries/mon_venv/lib/python3.11/site-packages/sklearn/linear_model/_coordinate_descent.py:697: ConvergenceWarning: Objective did not converge. You might want to increase the number of iterations, check the scale of the features or consider increasing regularisation. Duality gap: 7.358e+00, tolerance: 3.536e+00\n",
      "  model = cd_fast.enet_coordinate_descent(\n"
     ]
    },
    {
     "name": "stdout",
     "output_type": "stream",
     "text": [
      "[CV] END alpha=0.01, fit_intercept=True, l1_ratio=0.5, max_iter=1000, selection=cyclic, tol=1e-05; total time=   1.9s\n",
      "[CV] END alpha=0.01, fit_intercept=True, l1_ratio=0.5, max_iter=5000, selection=cyclic, tol=0.001; total time=   0.8s\n",
      "[CV] END alpha=0.01, fit_intercept=True, l1_ratio=0.5, max_iter=5000, selection=cyclic, tol=0.001; total time=   0.7s\n",
      "[CV] END alpha=0.01, fit_intercept=True, l1_ratio=0.5, max_iter=5000, selection=cyclic, tol=0.001; total time=   0.9s\n",
      "[CV] END alpha=0.01, fit_intercept=True, l1_ratio=0.5, max_iter=5000, selection=cyclic, tol=0.001; total time=   0.8s\n",
      "[CV] END alpha=0.01, fit_intercept=True, l1_ratio=0.5, max_iter=5000, selection=cyclic, tol=0.0001; total time=   1.7s\n",
      "[CV] END alpha=0.01, fit_intercept=True, l1_ratio=0.5, max_iter=5000, selection=cyclic, tol=0.0001; total time=   1.6s\n",
      "[CV] END alpha=0.01, fit_intercept=True, l1_ratio=0.5, max_iter=5000, selection=cyclic, tol=0.0001; total time=   1.6s\n",
      "[CV] END alpha=0.01, fit_intercept=True, l1_ratio=0.5, max_iter=5000, selection=cyclic, tol=0.0001; total time=   1.9s\n",
      "[CV] END alpha=0.01, fit_intercept=True, l1_ratio=0.5, max_iter=5000, selection=random, tol=0.001; total time=   0.2s\n",
      "[CV] END alpha=0.01, fit_intercept=True, l1_ratio=0.5, max_iter=5000, selection=random, tol=0.001; total time=   0.2s\n",
      "[CV] END alpha=0.01, fit_intercept=True, l1_ratio=0.5, max_iter=5000, selection=cyclic, tol=0.0001; total time=   1.8s\n",
      "[CV] END alpha=0.01, fit_intercept=True, l1_ratio=0.5, max_iter=5000, selection=random, tol=0.001; total time=   0.2s\n",
      "[CV] END alpha=0.01, fit_intercept=True, l1_ratio=0.5, max_iter=5000, selection=random, tol=0.001; total time=   0.2s\n",
      "[CV] END alpha=0.01, fit_intercept=True, l1_ratio=0.5, max_iter=5000, selection=random, tol=0.001; total time=   0.2s\n",
      "[CV] END alpha=0.01, fit_intercept=True, l1_ratio=0.5, max_iter=5000, selection=random, tol=0.0001; total time=   0.4s\n",
      "[CV] END alpha=0.01, fit_intercept=True, l1_ratio=0.5, max_iter=5000, selection=random, tol=0.0001; total time=   0.4s\n",
      "[CV] END alpha=0.01, fit_intercept=True, l1_ratio=0.5, max_iter=5000, selection=random, tol=0.0001; total time=   0.5s\n",
      "[CV] END alpha=0.01, fit_intercept=True, l1_ratio=0.5, max_iter=5000, selection=random, tol=0.0001; total time=   0.4s\n",
      "[CV] END alpha=0.01, fit_intercept=True, l1_ratio=0.5, max_iter=5000, selection=random, tol=0.0001; total time=   0.4s\n",
      "[CV] END alpha=0.01, fit_intercept=True, l1_ratio=0.5, max_iter=5000, selection=cyclic, tol=1e-05; total time=   2.8s\n",
      "[CV] END alpha=0.01, fit_intercept=True, l1_ratio=0.5, max_iter=5000, selection=random, tol=1e-05; total time=   0.6s\n",
      "[CV] END alpha=0.01, fit_intercept=True, l1_ratio=0.5, max_iter=5000, selection=cyclic, tol=1e-05; total time=   3.1s\n",
      "[CV] END alpha=0.01, fit_intercept=True, l1_ratio=0.5, max_iter=5000, selection=cyclic, tol=1e-05; total time=   3.2s\n",
      "[CV] END alpha=0.01, fit_intercept=True, l1_ratio=0.5, max_iter=5000, selection=random, tol=1e-05; total time=   0.6s\n",
      "[CV] END alpha=0.01, fit_intercept=True, l1_ratio=0.5, max_iter=5000, selection=random, tol=1e-05; total time=   0.6s\n",
      "[CV] END alpha=0.01, fit_intercept=True, l1_ratio=0.5, max_iter=5000, selection=random, tol=1e-05; total time=   0.5s\n",
      "[CV] END alpha=0.01, fit_intercept=True, l1_ratio=0.5, max_iter=5000, selection=random, tol=1e-05; total time=   0.7s\n",
      "[CV] END alpha=0.01, fit_intercept=True, l1_ratio=0.5, max_iter=5000, selection=cyclic, tol=1e-05; total time=   2.6s\n",
      "[CV] END alpha=0.01, fit_intercept=True, l1_ratio=0.5, max_iter=10000, selection=cyclic, tol=0.001; total time=   0.7s\n",
      "[CV] END alpha=0.01, fit_intercept=True, l1_ratio=0.5, max_iter=10000, selection=cyclic, tol=0.001; total time=   0.8s\n",
      "[CV] END alpha=0.01, fit_intercept=True, l1_ratio=0.5, max_iter=5000, selection=cyclic, tol=1e-05; total time=   2.9s\n",
      "[CV] END alpha=0.01, fit_intercept=True, l1_ratio=0.5, max_iter=10000, selection=cyclic, tol=0.001; total time=   0.8s\n",
      "[CV] END alpha=0.01, fit_intercept=True, l1_ratio=0.5, max_iter=10000, selection=cyclic, tol=0.001; total time=   0.8s\n",
      "[CV] END alpha=0.01, fit_intercept=True, l1_ratio=0.5, max_iter=10000, selection=cyclic, tol=0.001; total time=   0.8s\n",
      "[CV] END alpha=0.01, fit_intercept=True, l1_ratio=0.5, max_iter=10000, selection=cyclic, tol=0.0001; total time=   1.6s\n",
      "[CV] END alpha=0.01, fit_intercept=True, l1_ratio=0.5, max_iter=10000, selection=cyclic, tol=0.0001; total time=   1.9s\n",
      "[CV] END alpha=0.01, fit_intercept=True, l1_ratio=0.5, max_iter=10000, selection=cyclic, tol=0.0001; total time=   1.7s\n",
      "[CV] END alpha=0.01, fit_intercept=True, l1_ratio=0.5, max_iter=10000, selection=cyclic, tol=0.0001; total time=   1.9s\n",
      "[CV] END alpha=0.01, fit_intercept=True, l1_ratio=0.5, max_iter=10000, selection=cyclic, tol=0.0001; total time=   1.9s\n",
      "[CV] END alpha=0.01, fit_intercept=True, l1_ratio=0.5, max_iter=10000, selection=random, tol=0.001; total time=   0.3s\n",
      "[CV] END alpha=0.01, fit_intercept=True, l1_ratio=0.5, max_iter=10000, selection=random, tol=0.001; total time=   0.3s\n",
      "[CV] END alpha=0.01, fit_intercept=True, l1_ratio=0.5, max_iter=10000, selection=random, tol=0.001; total time=   0.3s\n",
      "[CV] END alpha=0.01, fit_intercept=True, l1_ratio=0.5, max_iter=10000, selection=random, tol=0.001; total time=   0.2s\n",
      "[CV] END alpha=0.01, fit_intercept=True, l1_ratio=0.5, max_iter=10000, selection=random, tol=0.001; total time=   0.2s\n",
      "[CV] END alpha=0.01, fit_intercept=True, l1_ratio=0.5, max_iter=10000, selection=random, tol=0.0001; total time=   0.4s\n",
      "[CV] END alpha=0.01, fit_intercept=True, l1_ratio=0.5, max_iter=10000, selection=random, tol=0.0001; total time=   0.5s\n",
      "[CV] END alpha=0.01, fit_intercept=True, l1_ratio=0.5, max_iter=10000, selection=random, tol=0.0001; total time=   0.5s\n",
      "[CV] END alpha=0.01, fit_intercept=True, l1_ratio=0.5, max_iter=10000, selection=random, tol=0.0001; total time=   0.3s\n",
      "[CV] END alpha=0.01, fit_intercept=True, l1_ratio=0.5, max_iter=10000, selection=cyclic, tol=1e-05; total time=   2.8s\n",
      "[CV] END alpha=0.01, fit_intercept=True, l1_ratio=0.5, max_iter=10000, selection=cyclic, tol=1e-05; total time=   2.9s\n",
      "[CV] END alpha=0.01, fit_intercept=True, l1_ratio=0.5, max_iter=10000, selection=random, tol=0.0001; total time=   0.4s\n",
      "[CV] END alpha=0.01, fit_intercept=True, l1_ratio=0.5, max_iter=10000, selection=cyclic, tol=1e-05; total time=   3.1s\n",
      "[CV] END alpha=0.01, fit_intercept=True, l1_ratio=0.5, max_iter=10000, selection=random, tol=1e-05; total time=   0.5s\n",
      "[CV] END alpha=0.01, fit_intercept=True, l1_ratio=0.5, max_iter=10000, selection=random, tol=1e-05; total time=   0.6s\n",
      "[CV] END alpha=0.01, fit_intercept=True, l1_ratio=0.5, max_iter=10000, selection=random, tol=1e-05; total time=   0.6s\n",
      "[CV] END alpha=0.01, fit_intercept=True, l1_ratio=0.5, max_iter=10000, selection=random, tol=1e-05; total time=   0.7s\n",
      "[CV] END alpha=0.01, fit_intercept=True, l1_ratio=0.5, max_iter=10000, selection=random, tol=1e-05; total time=   0.6s\n",
      "[CV] END alpha=0.01, fit_intercept=True, l1_ratio=0.9, max_iter=1000, selection=cyclic, tol=0.001; total time=   1.2s\n",
      "[CV] END alpha=0.01, fit_intercept=True, l1_ratio=0.5, max_iter=10000, selection=cyclic, tol=1e-05; total time=   2.9s\n",
      "[CV] END alpha=0.01, fit_intercept=True, l1_ratio=0.9, max_iter=1000, selection=cyclic, tol=0.001; total time=   1.0s\n",
      "[CV] END alpha=0.01, fit_intercept=True, l1_ratio=0.9, max_iter=1000, selection=cyclic, tol=0.001; total time=   1.1s\n",
      "[CV] END alpha=0.01, fit_intercept=True, l1_ratio=0.9, max_iter=1000, selection=cyclic, tol=0.001; total time=   1.0s\n",
      "[CV] END alpha=0.01, fit_intercept=True, l1_ratio=0.9, max_iter=1000, selection=cyclic, tol=0.001; total time=   1.1s\n",
      "[CV] END alpha=0.01, fit_intercept=True, l1_ratio=0.5, max_iter=10000, selection=cyclic, tol=1e-05; total time=   3.2s\n",
      "[CV] END alpha=0.01, fit_intercept=True, l1_ratio=0.9, max_iter=1000, selection=cyclic, tol=0.0001; total time=   1.8s\n",
      "[CV] END alpha=0.01, fit_intercept=True, l1_ratio=0.9, max_iter=1000, selection=cyclic, tol=0.0001; total time=   1.7s\n",
      "[CV] END alpha=0.01, fit_intercept=True, l1_ratio=0.9, max_iter=1000, selection=cyclic, tol=0.0001; total time=   1.8s\n",
      "[CV] END alpha=0.01, fit_intercept=True, l1_ratio=0.9, max_iter=1000, selection=cyclic, tol=0.0001; total time=   1.9s\n",
      "[CV] END alpha=0.01, fit_intercept=True, l1_ratio=0.9, max_iter=1000, selection=cyclic, tol=0.0001; total time=   1.8s\n",
      "[CV] END alpha=0.01, fit_intercept=True, l1_ratio=0.9, max_iter=1000, selection=cyclic, tol=1e-05; total time=   1.7s\n"
     ]
    },
    {
     "name": "stderr",
     "output_type": "stream",
     "text": [
      "/Users/zoemarquis/Documents/projet_industrie/projet_batteries/mon_venv/lib/python3.11/site-packages/sklearn/linear_model/_coordinate_descent.py:697: ConvergenceWarning: Objective did not converge. You might want to increase the number of iterations, check the scale of the features or consider increasing regularisation. Duality gap: 3.057e+01, tolerance: 3.567e+00\n",
      "  model = cd_fast.enet_coordinate_descent(\n",
      "/Users/zoemarquis/Documents/projet_industrie/projet_batteries/mon_venv/lib/python3.11/site-packages/sklearn/linear_model/_coordinate_descent.py:697: ConvergenceWarning: Objective did not converge. You might want to increase the number of iterations, check the scale of the features or consider increasing regularisation. Duality gap: 2.971e+01, tolerance: 3.560e+00\n",
      "  model = cd_fast.enet_coordinate_descent(\n",
      "/Users/zoemarquis/Documents/projet_industrie/projet_batteries/mon_venv/lib/python3.11/site-packages/sklearn/linear_model/_coordinate_descent.py:697: ConvergenceWarning: Objective did not converge. You might want to increase the number of iterations, check the scale of the features or consider increasing regularisation. Duality gap: 2.863e+01, tolerance: 3.536e+00\n",
      "  model = cd_fast.enet_coordinate_descent(\n"
     ]
    },
    {
     "name": "stdout",
     "output_type": "stream",
     "text": [
      "[CV] END alpha=0.01, fit_intercept=True, l1_ratio=0.9, max_iter=1000, selection=cyclic, tol=1e-05; total time=   1.7s\n",
      "[CV] END alpha=0.01, fit_intercept=True, l1_ratio=0.9, max_iter=1000, selection=random, tol=0.001; total time=   0.3s\n",
      "[CV] END alpha=0.01, fit_intercept=True, l1_ratio=0.9, max_iter=1000, selection=random, tol=0.001; total time=   0.3s\n",
      "[CV] END alpha=0.01, fit_intercept=True, l1_ratio=0.9, max_iter=1000, selection=cyclic, tol=1e-05; total time=   1.8s\n",
      "[CV] END alpha=0.01, fit_intercept=True, l1_ratio=0.9, max_iter=1000, selection=random, tol=0.001; total time=   0.2s\n",
      "[CV] END alpha=0.01, fit_intercept=True, l1_ratio=0.9, max_iter=1000, selection=random, tol=0.001; total time=   0.3s\n",
      "[CV] END alpha=0.01, fit_intercept=True, l1_ratio=0.9, max_iter=1000, selection=random, tol=0.001; total time=   0.2s\n",
      "[CV] END alpha=0.01, fit_intercept=True, l1_ratio=0.9, max_iter=1000, selection=random, tol=0.0001; total time=   0.5s\n",
      "[CV] END alpha=0.01, fit_intercept=True, l1_ratio=0.9, max_iter=1000, selection=random, tol=0.0001; total time=   0.6s\n",
      "[CV] END alpha=0.01, fit_intercept=True, l1_ratio=0.9, max_iter=1000, selection=random, tol=0.0001; total time=   0.6s\n",
      "[CV] END alpha=0.01, fit_intercept=True, l1_ratio=0.9, max_iter=1000, selection=random, tol=0.0001; total time=   0.7s\n",
      "[CV] END alpha=0.01, fit_intercept=True, l1_ratio=0.9, max_iter=1000, selection=random, tol=0.0001; total time=   0.6s\n"
     ]
    },
    {
     "name": "stderr",
     "output_type": "stream",
     "text": [
      "/Users/zoemarquis/Documents/projet_industrie/projet_batteries/mon_venv/lib/python3.11/site-packages/sklearn/linear_model/_coordinate_descent.py:697: ConvergenceWarning: Objective did not converge. You might want to increase the number of iterations, check the scale of the features or consider increasing regularisation. Duality gap: 2.764e+01, tolerance: 3.482e+00\n",
      "  model = cd_fast.enet_coordinate_descent(\n"
     ]
    },
    {
     "name": "stdout",
     "output_type": "stream",
     "text": [
      "[CV] END alpha=0.01, fit_intercept=True, l1_ratio=0.9, max_iter=1000, selection=cyclic, tol=1e-05; total time=   1.7s\n",
      "[CV] END alpha=0.01, fit_intercept=True, l1_ratio=0.9, max_iter=1000, selection=random, tol=1e-05; total time=   1.2s\n",
      "[CV] END alpha=0.01, fit_intercept=True, l1_ratio=0.9, max_iter=1000, selection=cyclic, tol=1e-05; total time=   1.7s\n"
     ]
    },
    {
     "name": "stderr",
     "output_type": "stream",
     "text": [
      "/Users/zoemarquis/Documents/projet_industrie/projet_batteries/mon_venv/lib/python3.11/site-packages/sklearn/linear_model/_coordinate_descent.py:697: ConvergenceWarning: Objective did not converge. You might want to increase the number of iterations, check the scale of the features or consider increasing regularisation. Duality gap: 2.897e+01, tolerance: 3.536e+00\n",
      "  model = cd_fast.enet_coordinate_descent(\n"
     ]
    },
    {
     "name": "stdout",
     "output_type": "stream",
     "text": [
      "[CV] END alpha=0.01, fit_intercept=True, l1_ratio=0.9, max_iter=1000, selection=random, tol=1e-05; total time=   1.1s\n",
      "[CV] END alpha=0.01, fit_intercept=True, l1_ratio=0.9, max_iter=5000, selection=cyclic, tol=0.001; total time=   1.1s\n",
      "[CV] END alpha=0.01, fit_intercept=True, l1_ratio=0.9, max_iter=5000, selection=cyclic, tol=0.001; total time=   1.1s\n",
      "[CV] END alpha=0.01, fit_intercept=True, l1_ratio=0.9, max_iter=1000, selection=random, tol=1e-05; total time=   1.4s\n",
      "[CV] END alpha=0.01, fit_intercept=True, l1_ratio=0.9, max_iter=1000, selection=random, tol=1e-05; total time=   1.4s\n",
      "[CV] END alpha=0.01, fit_intercept=True, l1_ratio=0.9, max_iter=1000, selection=random, tol=1e-05; total time=   1.5s\n",
      "[CV] END alpha=0.01, fit_intercept=True, l1_ratio=0.9, max_iter=5000, selection=cyclic, tol=0.001; total time=   1.1s\n",
      "[CV] END alpha=0.01, fit_intercept=True, l1_ratio=0.9, max_iter=5000, selection=cyclic, tol=0.001; total time=   1.1s\n",
      "[CV] END alpha=0.01, fit_intercept=True, l1_ratio=0.9, max_iter=5000, selection=cyclic, tol=0.001; total time=   1.3s\n",
      "[CV] END alpha=0.01, fit_intercept=True, l1_ratio=0.9, max_iter=5000, selection=cyclic, tol=0.0001; total time=   2.3s\n",
      "[CV] END alpha=0.01, fit_intercept=True, l1_ratio=0.9, max_iter=5000, selection=cyclic, tol=0.0001; total time=   2.4s\n",
      "[CV] END alpha=0.01, fit_intercept=True, l1_ratio=0.9, max_iter=5000, selection=cyclic, tol=0.0001; total time=   2.4s\n",
      "[CV] END alpha=0.01, fit_intercept=True, l1_ratio=0.9, max_iter=5000, selection=cyclic, tol=0.0001; total time=   2.5s\n",
      "[CV] END alpha=0.01, fit_intercept=True, l1_ratio=0.9, max_iter=5000, selection=cyclic, tol=0.0001; total time=   2.4s\n",
      "[CV] END alpha=0.01, fit_intercept=True, l1_ratio=0.9, max_iter=5000, selection=random, tol=0.001; total time=   0.2s\n",
      "[CV] END alpha=0.01, fit_intercept=True, l1_ratio=0.9, max_iter=5000, selection=random, tol=0.001; total time=   0.3s\n",
      "[CV] END alpha=0.01, fit_intercept=True, l1_ratio=0.9, max_iter=5000, selection=random, tol=0.001; total time=   0.3s\n",
      "[CV] END alpha=0.01, fit_intercept=True, l1_ratio=0.9, max_iter=5000, selection=random, tol=0.001; total time=   0.3s\n",
      "[CV] END alpha=0.01, fit_intercept=True, l1_ratio=0.9, max_iter=5000, selection=random, tol=0.001; total time=   0.2s\n",
      "[CV] END alpha=0.01, fit_intercept=True, l1_ratio=0.9, max_iter=5000, selection=random, tol=0.0001; total time=   0.6s\n",
      "[CV] END alpha=0.01, fit_intercept=True, l1_ratio=0.9, max_iter=5000, selection=random, tol=0.0001; total time=   0.5s\n",
      "[CV] END alpha=0.01, fit_intercept=True, l1_ratio=0.9, max_iter=5000, selection=random, tol=0.0001; total time=   0.6s\n",
      "[CV] END alpha=0.01, fit_intercept=True, l1_ratio=0.9, max_iter=5000, selection=random, tol=0.0001; total time=   0.6s\n",
      "[CV] END alpha=0.01, fit_intercept=True, l1_ratio=0.9, max_iter=5000, selection=random, tol=0.0001; total time=   0.5s\n",
      "[CV] END alpha=0.01, fit_intercept=True, l1_ratio=0.9, max_iter=5000, selection=random, tol=1e-05; total time=   1.1s\n",
      "[CV] END alpha=0.01, fit_intercept=True, l1_ratio=0.9, max_iter=5000, selection=random, tol=1e-05; total time=   1.2s\n",
      "[CV] END alpha=0.01, fit_intercept=True, l1_ratio=0.9, max_iter=5000, selection=random, tol=1e-05; total time=   1.5s\n",
      "[CV] END alpha=0.01, fit_intercept=True, l1_ratio=0.9, max_iter=5000, selection=random, tol=1e-05; total time=   1.3s\n",
      "[CV] END alpha=0.01, fit_intercept=True, l1_ratio=0.9, max_iter=5000, selection=cyclic, tol=1e-05; total time=   6.0s\n",
      "[CV] END alpha=0.01, fit_intercept=True, l1_ratio=0.9, max_iter=5000, selection=cyclic, tol=1e-05; total time=   6.1s\n",
      "[CV] END alpha=0.01, fit_intercept=True, l1_ratio=0.9, max_iter=5000, selection=cyclic, tol=1e-05; total time=   5.6s\n",
      "[CV] END alpha=0.01, fit_intercept=True, l1_ratio=0.9, max_iter=5000, selection=random, tol=1e-05; total time=   1.5s\n",
      "[CV] END alpha=0.01, fit_intercept=True, l1_ratio=0.9, max_iter=10000, selection=cyclic, tol=0.001; total time=   1.2s\n",
      "[CV] END alpha=0.01, fit_intercept=True, l1_ratio=0.9, max_iter=10000, selection=cyclic, tol=0.001; total time=   1.1s\n",
      "[CV] END alpha=0.01, fit_intercept=True, l1_ratio=0.9, max_iter=10000, selection=cyclic, tol=0.001; total time=   1.2s\n",
      "[CV] END alpha=0.01, fit_intercept=True, l1_ratio=0.9, max_iter=10000, selection=cyclic, tol=0.001; total time=   1.2s\n",
      "[CV] END alpha=0.01, fit_intercept=True, l1_ratio=0.9, max_iter=10000, selection=cyclic, tol=0.001; total time=   1.2s\n",
      "[CV] END alpha=0.01, fit_intercept=True, l1_ratio=0.9, max_iter=5000, selection=cyclic, tol=1e-05; total time=   6.3s\n",
      "[CV] END alpha=0.01, fit_intercept=True, l1_ratio=0.9, max_iter=5000, selection=cyclic, tol=1e-05; total time=   6.3s\n",
      "[CV] END alpha=0.01, fit_intercept=True, l1_ratio=0.9, max_iter=10000, selection=cyclic, tol=0.0001; total time=   2.3s\n",
      "[CV] END alpha=0.01, fit_intercept=True, l1_ratio=0.9, max_iter=10000, selection=cyclic, tol=0.0001; total time=   2.3s\n",
      "[CV] END alpha=0.01, fit_intercept=True, l1_ratio=0.9, max_iter=10000, selection=cyclic, tol=0.0001; total time=   2.5s\n",
      "[CV] END alpha=0.01, fit_intercept=True, l1_ratio=0.9, max_iter=10000, selection=random, tol=0.001; total time=   0.2s\n",
      "[CV] END alpha=0.01, fit_intercept=True, l1_ratio=0.9, max_iter=10000, selection=cyclic, tol=0.0001; total time=   2.4s\n",
      "[CV] END alpha=0.01, fit_intercept=True, l1_ratio=0.9, max_iter=10000, selection=cyclic, tol=0.0001; total time=   2.4s\n",
      "[CV] END alpha=0.01, fit_intercept=True, l1_ratio=0.9, max_iter=10000, selection=random, tol=0.001; total time=   0.3s\n",
      "[CV] END alpha=0.01, fit_intercept=True, l1_ratio=0.9, max_iter=10000, selection=random, tol=0.001; total time=   0.2s\n",
      "[CV] END alpha=0.01, fit_intercept=True, l1_ratio=0.9, max_iter=10000, selection=random, tol=0.001; total time=   0.3s\n",
      "[CV] END alpha=0.01, fit_intercept=True, l1_ratio=0.9, max_iter=10000, selection=random, tol=0.001; total time=   0.3s\n",
      "[CV] END alpha=0.01, fit_intercept=True, l1_ratio=0.9, max_iter=10000, selection=random, tol=0.0001; total time=   0.6s\n",
      "[CV] END alpha=0.01, fit_intercept=True, l1_ratio=0.9, max_iter=10000, selection=random, tol=0.0001; total time=   0.6s\n",
      "[CV] END alpha=0.01, fit_intercept=True, l1_ratio=0.9, max_iter=10000, selection=random, tol=0.0001; total time=   0.6s\n",
      "[CV] END alpha=0.01, fit_intercept=True, l1_ratio=0.9, max_iter=10000, selection=random, tol=0.0001; total time=   0.6s\n",
      "[CV] END alpha=0.01, fit_intercept=True, l1_ratio=0.9, max_iter=10000, selection=random, tol=0.0001; total time=   0.7s\n",
      "[CV] END alpha=0.01, fit_intercept=True, l1_ratio=0.9, max_iter=10000, selection=random, tol=1e-05; total time=   1.2s\n",
      "[CV] END alpha=0.01, fit_intercept=True, l1_ratio=0.9, max_iter=10000, selection=random, tol=1e-05; total time=   1.2s\n",
      "[CV] END alpha=0.01, fit_intercept=True, l1_ratio=0.9, max_iter=10000, selection=random, tol=1e-05; total time=   1.4s\n",
      "[CV] END alpha=0.01, fit_intercept=True, l1_ratio=0.9, max_iter=10000, selection=random, tol=1e-05; total time=   1.4s\n",
      "[CV] END alpha=0.01, fit_intercept=True, l1_ratio=0.9, max_iter=10000, selection=cyclic, tol=1e-05; total time=   6.2s\n",
      "[CV] END alpha=0.01, fit_intercept=True, l1_ratio=0.9, max_iter=10000, selection=random, tol=1e-05; total time=   1.4s\n",
      "[CV] END alpha=0.01, fit_intercept=True, l1_ratio=0.9, max_iter=10000, selection=cyclic, tol=1e-05; total time=   5.9s\n",
      "[CV] END alpha=0.01, fit_intercept=True, l1_ratio=0.9, max_iter=10000, selection=cyclic, tol=1e-05; total time=   6.1s\n",
      "[CV] END alpha=0.01, fit_intercept=True, l1_ratio=0.9, max_iter=10000, selection=cyclic, tol=1e-05; total time=   5.8s\n",
      "[CV] END alpha=0.01, fit_intercept=True, l1_ratio=0.9, max_iter=10000, selection=cyclic, tol=1e-05; total time=   6.0s\n",
      "[CV] END alpha=0.01, fit_intercept=False, l1_ratio=0.1, max_iter=1000, selection=cyclic, tol=0.001; total time=   3.2s\n",
      "[CV] END alpha=0.01, fit_intercept=False, l1_ratio=0.1, max_iter=1000, selection=cyclic, tol=0.001; total time=   3.0s\n",
      "[CV] END alpha=0.01, fit_intercept=False, l1_ratio=0.1, max_iter=1000, selection=cyclic, tol=0.001; total time=   2.9s\n",
      "[CV] END alpha=0.01, fit_intercept=False, l1_ratio=0.1, max_iter=1000, selection=cyclic, tol=0.001; total time=   3.0s\n"
     ]
    },
    {
     "name": "stderr",
     "output_type": "stream",
     "text": [
      "/Users/zoemarquis/Documents/projet_industrie/projet_batteries/mon_venv/lib/python3.11/site-packages/sklearn/linear_model/_coordinate_descent.py:697: ConvergenceWarning: Objective did not converge. You might want to increase the number of iterations, check the scale of the features or consider increasing regularisation. Duality gap: 1.065e+05, tolerance: 1.414e+04\n",
      "  model = cd_fast.enet_coordinate_descent(\n"
     ]
    },
    {
     "name": "stdout",
     "output_type": "stream",
     "text": [
      "[CV] END alpha=0.01, fit_intercept=False, l1_ratio=0.1, max_iter=1000, selection=cyclic, tol=0.0001; total time=   2.7s\n",
      "[CV] END alpha=0.01, fit_intercept=False, l1_ratio=0.1, max_iter=1000, selection=cyclic, tol=0.001; total time=   2.9s\n"
     ]
    },
    {
     "name": "stderr",
     "output_type": "stream",
     "text": [
      "/Users/zoemarquis/Documents/projet_industrie/projet_batteries/mon_venv/lib/python3.11/site-packages/sklearn/linear_model/_coordinate_descent.py:697: ConvergenceWarning: Objective did not converge. You might want to increase the number of iterations, check the scale of the features or consider increasing regularisation. Duality gap: 1.062e+05, tolerance: 1.414e+04\n",
      "  model = cd_fast.enet_coordinate_descent(\n"
     ]
    },
    {
     "name": "stdout",
     "output_type": "stream",
     "text": [
      "[CV] END alpha=0.01, fit_intercept=False, l1_ratio=0.1, max_iter=1000, selection=cyclic, tol=0.0001; total time=   2.9s\n"
     ]
    },
    {
     "name": "stderr",
     "output_type": "stream",
     "text": [
      "/Users/zoemarquis/Documents/projet_industrie/projet_batteries/mon_venv/lib/python3.11/site-packages/sklearn/linear_model/_coordinate_descent.py:697: ConvergenceWarning: Objective did not converge. You might want to increase the number of iterations, check the scale of the features or consider increasing regularisation. Duality gap: 1.066e+05, tolerance: 1.415e+04\n",
      "  model = cd_fast.enet_coordinate_descent(\n"
     ]
    },
    {
     "name": "stdout",
     "output_type": "stream",
     "text": [
      "[CV] END alpha=0.01, fit_intercept=False, l1_ratio=0.1, max_iter=1000, selection=cyclic, tol=0.0001; total time=   2.9s\n",
      "[CV] END alpha=0.01, fit_intercept=False, l1_ratio=0.1, max_iter=1000, selection=random, tol=0.001; total time=   0.5s\n"
     ]
    },
    {
     "name": "stderr",
     "output_type": "stream",
     "text": [
      "/Users/zoemarquis/Documents/projet_industrie/projet_batteries/mon_venv/lib/python3.11/site-packages/sklearn/linear_model/_coordinate_descent.py:697: ConvergenceWarning: Objective did not converge. You might want to increase the number of iterations, check the scale of the features or consider increasing regularisation. Duality gap: 1.065e+05, tolerance: 1.416e+04\n",
      "  model = cd_fast.enet_coordinate_descent(\n",
      "/Users/zoemarquis/Documents/projet_industrie/projet_batteries/mon_venv/lib/python3.11/site-packages/sklearn/linear_model/_coordinate_descent.py:697: ConvergenceWarning: Objective did not converge. You might want to increase the number of iterations, check the scale of the features or consider increasing regularisation. Duality gap: 1.061e+05, tolerance: 1.415e+04\n",
      "  model = cd_fast.enet_coordinate_descent(\n"
     ]
    },
    {
     "name": "stdout",
     "output_type": "stream",
     "text": [
      "[CV] END alpha=0.01, fit_intercept=False, l1_ratio=0.1, max_iter=1000, selection=cyclic, tol=0.0001; total time=   2.7s\n",
      "[CV] END alpha=0.01, fit_intercept=False, l1_ratio=0.1, max_iter=1000, selection=cyclic, tol=0.0001; total time=   2.5s\n",
      "[CV] END alpha=0.01, fit_intercept=False, l1_ratio=0.1, max_iter=1000, selection=random, tol=0.001; total time=   0.7s\n"
     ]
    },
    {
     "name": "stderr",
     "output_type": "stream",
     "text": [
      "/Users/zoemarquis/Documents/projet_industrie/projet_batteries/mon_venv/lib/python3.11/site-packages/sklearn/linear_model/_coordinate_descent.py:697: ConvergenceWarning: Objective did not converge. You might want to increase the number of iterations, check the scale of the features or consider increasing regularisation. Duality gap: 1.062e+05, tolerance: 1.414e+03\n",
      "  model = cd_fast.enet_coordinate_descent(\n",
      "/Users/zoemarquis/Documents/projet_industrie/projet_batteries/mon_venv/lib/python3.11/site-packages/sklearn/linear_model/_coordinate_descent.py:697: ConvergenceWarning: Objective did not converge. You might want to increase the number of iterations, check the scale of the features or consider increasing regularisation. Duality gap: 1.065e+05, tolerance: 1.414e+03\n",
      "  model = cd_fast.enet_coordinate_descent(\n"
     ]
    },
    {
     "name": "stdout",
     "output_type": "stream",
     "text": [
      "[CV] END alpha=0.01, fit_intercept=False, l1_ratio=0.1, max_iter=1000, selection=cyclic, tol=1e-05; total time=   2.6s\n",
      "[CV] END alpha=0.01, fit_intercept=False, l1_ratio=0.1, max_iter=1000, selection=random, tol=0.001; total time=   0.6s\n",
      "[CV] END alpha=0.01, fit_intercept=False, l1_ratio=0.1, max_iter=1000, selection=cyclic, tol=1e-05; total time=   2.8s\n",
      "[CV] END alpha=0.01, fit_intercept=False, l1_ratio=0.1, max_iter=1000, selection=random, tol=0.001; total time=   0.6s\n",
      "[CV] END alpha=0.01, fit_intercept=False, l1_ratio=0.1, max_iter=1000, selection=random, tol=0.001; total time=   0.7s\n"
     ]
    },
    {
     "name": "stderr",
     "output_type": "stream",
     "text": [
      "/Users/zoemarquis/Documents/projet_industrie/projet_batteries/mon_venv/lib/python3.11/site-packages/sklearn/linear_model/_coordinate_descent.py:697: ConvergenceWarning: Objective did not converge. You might want to increase the number of iterations, check the scale of the features or consider increasing regularisation. Duality gap: 1.066e+05, tolerance: 1.415e+03\n",
      "  model = cd_fast.enet_coordinate_descent(\n",
      "/Users/zoemarquis/Documents/projet_industrie/projet_batteries/mon_venv/lib/python3.11/site-packages/sklearn/linear_model/_coordinate_descent.py:697: ConvergenceWarning: Objective did not converge. You might want to increase the number of iterations, check the scale of the features or consider increasing regularisation. Duality gap: 1.065e+05, tolerance: 1.416e+03\n",
      "  model = cd_fast.enet_coordinate_descent(\n",
      "/Users/zoemarquis/Documents/projet_industrie/projet_batteries/mon_venv/lib/python3.11/site-packages/sklearn/linear_model/_coordinate_descent.py:697: ConvergenceWarning: Objective did not converge. You might want to increase the number of iterations, check the scale of the features or consider increasing regularisation. Duality gap: 1.061e+05, tolerance: 1.415e+03\n",
      "  model = cd_fast.enet_coordinate_descent(\n"
     ]
    },
    {
     "name": "stdout",
     "output_type": "stream",
     "text": [
      "[CV] END alpha=0.01, fit_intercept=False, l1_ratio=0.1, max_iter=1000, selection=cyclic, tol=1e-05; total time=   2.9s\n",
      "[CV] END alpha=0.01, fit_intercept=False, l1_ratio=0.1, max_iter=1000, selection=cyclic, tol=1e-05; total time=   3.0s\n",
      "[CV] END alpha=0.01, fit_intercept=False, l1_ratio=0.1, max_iter=1000, selection=cyclic, tol=1e-05; total time=   2.6s\n",
      "[CV] END alpha=0.01, fit_intercept=False, l1_ratio=0.1, max_iter=1000, selection=random, tol=0.0001; total time=   0.9s\n",
      "[CV] END alpha=0.01, fit_intercept=False, l1_ratio=0.1, max_iter=1000, selection=random, tol=0.0001; total time=   1.0s\n",
      "[CV] END alpha=0.01, fit_intercept=False, l1_ratio=0.1, max_iter=1000, selection=random, tol=0.0001; total time=   0.9s\n",
      "[CV] END alpha=0.01, fit_intercept=False, l1_ratio=0.1, max_iter=1000, selection=random, tol=0.0001; total time=   1.0s\n",
      "[CV] END alpha=0.01, fit_intercept=False, l1_ratio=0.1, max_iter=1000, selection=random, tol=0.0001; total time=   1.0s\n",
      "[CV] END alpha=0.01, fit_intercept=False, l1_ratio=0.1, max_iter=1000, selection=random, tol=1e-05; total time=   1.2s\n",
      "[CV] END alpha=0.01, fit_intercept=False, l1_ratio=0.1, max_iter=1000, selection=random, tol=1e-05; total time=   1.4s\n",
      "[CV] END alpha=0.01, fit_intercept=False, l1_ratio=0.1, max_iter=1000, selection=random, tol=1e-05; total time=   1.4s\n",
      "[CV] END alpha=0.01, fit_intercept=False, l1_ratio=0.1, max_iter=1000, selection=random, tol=1e-05; total time=   1.2s\n",
      "[CV] END alpha=0.01, fit_intercept=False, l1_ratio=0.1, max_iter=1000, selection=random, tol=1e-05; total time=   1.4s\n",
      "[CV] END alpha=0.01, fit_intercept=False, l1_ratio=0.1, max_iter=5000, selection=cyclic, tol=0.001; total time=  13.7s\n",
      "[CV] END alpha=0.01, fit_intercept=False, l1_ratio=0.1, max_iter=5000, selection=cyclic, tol=0.001; total time=  13.5s\n",
      "[CV] END alpha=0.01, fit_intercept=False, l1_ratio=0.1, max_iter=5000, selection=cyclic, tol=0.001; total time=  13.8s\n",
      "[CV] END alpha=0.01, fit_intercept=False, l1_ratio=0.1, max_iter=5000, selection=cyclic, tol=0.001; total time=  13.5s\n"
     ]
    },
    {
     "name": "stderr",
     "output_type": "stream",
     "text": [
      "/Users/zoemarquis/Documents/projet_industrie/projet_batteries/mon_venv/lib/python3.11/site-packages/sklearn/linear_model/_coordinate_descent.py:697: ConvergenceWarning: Objective did not converge. You might want to increase the number of iterations, check the scale of the features or consider increasing regularisation. Duality gap: 6.361e+04, tolerance: 1.414e+04\n",
      "  model = cd_fast.enet_coordinate_descent(\n",
      "/Users/zoemarquis/Documents/projet_industrie/projet_batteries/mon_venv/lib/python3.11/site-packages/sklearn/linear_model/_coordinate_descent.py:697: ConvergenceWarning: Objective did not converge. You might want to increase the number of iterations, check the scale of the features or consider increasing regularisation. Duality gap: 6.400e+04, tolerance: 1.414e+04\n",
      "  model = cd_fast.enet_coordinate_descent(\n"
     ]
    },
    {
     "name": "stdout",
     "output_type": "stream",
     "text": [
      "[CV] END alpha=0.01, fit_intercept=False, l1_ratio=0.1, max_iter=5000, selection=cyclic, tol=0.0001; total time=  13.8s\n",
      "[CV] END alpha=0.01, fit_intercept=False, l1_ratio=0.1, max_iter=5000, selection=cyclic, tol=0.0001; total time=  13.9s\n",
      "[CV] END alpha=0.01, fit_intercept=False, l1_ratio=0.1, max_iter=5000, selection=cyclic, tol=0.001; total time=  14.4s\n",
      "[CV] END alpha=0.01, fit_intercept=False, l1_ratio=0.1, max_iter=5000, selection=cyclic, tol=0.0001; total time=  14.1s\n"
     ]
    },
    {
     "name": "stderr",
     "output_type": "stream",
     "text": [
      "/Users/zoemarquis/Documents/projet_industrie/projet_batteries/mon_venv/lib/python3.11/site-packages/sklearn/linear_model/_coordinate_descent.py:697: ConvergenceWarning: Objective did not converge. You might want to increase the number of iterations, check the scale of the features or consider increasing regularisation. Duality gap: 6.424e+04, tolerance: 1.415e+04\n",
      "  model = cd_fast.enet_coordinate_descent(\n"
     ]
    },
    {
     "name": "stdout",
     "output_type": "stream",
     "text": [
      "[CV] END alpha=0.01, fit_intercept=False, l1_ratio=0.1, max_iter=5000, selection=random, tol=0.001; total time=   0.6s\n",
      "[CV] END alpha=0.01, fit_intercept=False, l1_ratio=0.1, max_iter=5000, selection=random, tol=0.001; total time=   0.7s\n",
      "[CV] END alpha=0.01, fit_intercept=False, l1_ratio=0.1, max_iter=5000, selection=random, tol=0.001; total time=   0.8s\n",
      "[CV] END alpha=0.01, fit_intercept=False, l1_ratio=0.1, max_iter=5000, selection=random, tol=0.001; total time=   0.8s\n",
      "[CV] END alpha=0.01, fit_intercept=False, l1_ratio=0.1, max_iter=5000, selection=random, tol=0.001; total time=   0.7s\n",
      "[CV] END alpha=0.01, fit_intercept=False, l1_ratio=0.1, max_iter=5000, selection=random, tol=0.0001; total time=   1.0s\n",
      "[CV] END alpha=0.01, fit_intercept=False, l1_ratio=0.1, max_iter=5000, selection=random, tol=0.0001; total time=   1.0s\n",
      "[CV] END alpha=0.01, fit_intercept=False, l1_ratio=0.1, max_iter=5000, selection=random, tol=0.0001; total time=   1.0s\n",
      "[CV] END alpha=0.01, fit_intercept=False, l1_ratio=0.1, max_iter=5000, selection=random, tol=0.0001; total time=   1.1s\n",
      "[CV] END alpha=0.01, fit_intercept=False, l1_ratio=0.1, max_iter=5000, selection=random, tol=0.0001; total time=   1.1s\n",
      "[CV] END alpha=0.01, fit_intercept=False, l1_ratio=0.1, max_iter=5000, selection=random, tol=1e-05; total time=   1.7s\n",
      "[CV] END alpha=0.01, fit_intercept=False, l1_ratio=0.1, max_iter=5000, selection=random, tol=1e-05; total time=   1.5s\n"
     ]
    },
    {
     "name": "stderr",
     "output_type": "stream",
     "text": [
      "/Users/zoemarquis/Documents/projet_industrie/projet_batteries/mon_venv/lib/python3.11/site-packages/sklearn/linear_model/_coordinate_descent.py:697: ConvergenceWarning: Objective did not converge. You might want to increase the number of iterations, check the scale of the features or consider increasing regularisation. Duality gap: 6.399e+04, tolerance: 1.416e+04\n",
      "  model = cd_fast.enet_coordinate_descent(\n",
      "/Users/zoemarquis/Documents/projet_industrie/projet_batteries/mon_venv/lib/python3.11/site-packages/sklearn/linear_model/_coordinate_descent.py:697: ConvergenceWarning: Objective did not converge. You might want to increase the number of iterations, check the scale of the features or consider increasing regularisation. Duality gap: 6.362e+04, tolerance: 1.415e+04\n",
      "  model = cd_fast.enet_coordinate_descent(\n",
      "/Users/zoemarquis/Documents/projet_industrie/projet_batteries/mon_venv/lib/python3.11/site-packages/sklearn/linear_model/_coordinate_descent.py:697: ConvergenceWarning: Objective did not converge. You might want to increase the number of iterations, check the scale of the features or consider increasing regularisation. Duality gap: 6.361e+04, tolerance: 1.414e+03\n",
      "  model = cd_fast.enet_coordinate_descent(\n"
     ]
    },
    {
     "name": "stdout",
     "output_type": "stream",
     "text": [
      "[CV] END alpha=0.01, fit_intercept=False, l1_ratio=0.1, max_iter=5000, selection=cyclic, tol=0.0001; total time=  14.3s\n",
      "[CV] END alpha=0.01, fit_intercept=False, l1_ratio=0.1, max_iter=5000, selection=cyclic, tol=0.0001; total time=  14.3s\n",
      "[CV] END alpha=0.01, fit_intercept=False, l1_ratio=0.1, max_iter=5000, selection=cyclic, tol=1e-05; total time=  13.8s\n"
     ]
    },
    {
     "name": "stderr",
     "output_type": "stream",
     "text": [
      "/Users/zoemarquis/Documents/projet_industrie/projet_batteries/mon_venv/lib/python3.11/site-packages/sklearn/linear_model/_coordinate_descent.py:697: ConvergenceWarning: Objective did not converge. You might want to increase the number of iterations, check the scale of the features or consider increasing regularisation. Duality gap: 6.400e+04, tolerance: 1.414e+03\n",
      "  model = cd_fast.enet_coordinate_descent(\n"
     ]
    },
    {
     "name": "stdout",
     "output_type": "stream",
     "text": [
      "[CV] END alpha=0.01, fit_intercept=False, l1_ratio=0.1, max_iter=5000, selection=cyclic, tol=1e-05; total time=  14.2s\n"
     ]
    },
    {
     "name": "stderr",
     "output_type": "stream",
     "text": [
      "/Users/zoemarquis/Documents/projet_industrie/projet_batteries/mon_venv/lib/python3.11/site-packages/sklearn/linear_model/_coordinate_descent.py:697: ConvergenceWarning: Objective did not converge. You might want to increase the number of iterations, check the scale of the features or consider increasing regularisation. Duality gap: 6.424e+04, tolerance: 1.415e+03\n",
      "  model = cd_fast.enet_coordinate_descent(\n"
     ]
    },
    {
     "name": "stdout",
     "output_type": "stream",
     "text": [
      "[CV] END alpha=0.01, fit_intercept=False, l1_ratio=0.1, max_iter=5000, selection=cyclic, tol=1e-05; total time=  13.5s\n"
     ]
    },
    {
     "name": "stderr",
     "output_type": "stream",
     "text": [
      "/Users/zoemarquis/Documents/projet_industrie/projet_batteries/mon_venv/lib/python3.11/site-packages/sklearn/linear_model/_coordinate_descent.py:697: ConvergenceWarning: Objective did not converge. You might want to increase the number of iterations, check the scale of the features or consider increasing regularisation. Duality gap: 6.362e+04, tolerance: 1.415e+03\n",
      "  model = cd_fast.enet_coordinate_descent(\n"
     ]
    },
    {
     "name": "stdout",
     "output_type": "stream",
     "text": [
      "[CV] END alpha=0.01, fit_intercept=False, l1_ratio=0.1, max_iter=5000, selection=cyclic, tol=1e-05; total time=  13.8s\n",
      "[CV] END alpha=0.01, fit_intercept=False, l1_ratio=0.1, max_iter=5000, selection=random, tol=1e-05; total time=   1.5s\n",
      "[CV] END alpha=0.01, fit_intercept=False, l1_ratio=0.1, max_iter=5000, selection=random, tol=1e-05; total time=   1.3s\n"
     ]
    },
    {
     "name": "stderr",
     "output_type": "stream",
     "text": [
      "/Users/zoemarquis/Documents/projet_industrie/projet_batteries/mon_venv/lib/python3.11/site-packages/sklearn/linear_model/_coordinate_descent.py:697: ConvergenceWarning: Objective did not converge. You might want to increase the number of iterations, check the scale of the features or consider increasing regularisation. Duality gap: 6.399e+04, tolerance: 1.416e+03\n",
      "  model = cd_fast.enet_coordinate_descent(\n"
     ]
    },
    {
     "name": "stdout",
     "output_type": "stream",
     "text": [
      "[CV] END alpha=0.01, fit_intercept=False, l1_ratio=0.1, max_iter=5000, selection=cyclic, tol=1e-05; total time=  14.3s\n",
      "[CV] END alpha=0.01, fit_intercept=False, l1_ratio=0.1, max_iter=5000, selection=random, tol=1e-05; total time=   1.4s\n",
      "[CV] END alpha=0.01, fit_intercept=False, l1_ratio=0.1, max_iter=10000, selection=cyclic, tol=0.001; total time=  19.9s\n",
      "[CV] END alpha=0.01, fit_intercept=False, l1_ratio=0.1, max_iter=10000, selection=cyclic, tol=0.001; total time=  20.4s\n",
      "[CV] END alpha=0.01, fit_intercept=False, l1_ratio=0.1, max_iter=10000, selection=cyclic, tol=0.001; total time=  21.1s\n",
      "[CV] END alpha=0.01, fit_intercept=False, l1_ratio=0.1, max_iter=10000, selection=cyclic, tol=0.001; total time=  20.4s\n",
      "[CV] END alpha=0.01, fit_intercept=False, l1_ratio=0.1, max_iter=10000, selection=cyclic, tol=0.001; total time=  21.0s\n"
     ]
    },
    {
     "name": "stderr",
     "output_type": "stream",
     "text": [
      "/Users/zoemarquis/Documents/projet_industrie/projet_batteries/mon_venv/lib/python3.11/site-packages/sklearn/linear_model/_coordinate_descent.py:697: ConvergenceWarning: Objective did not converge. You might want to increase the number of iterations, check the scale of the features or consider increasing regularisation. Duality gap: 5.167e+04, tolerance: 1.414e+04\n",
      "  model = cd_fast.enet_coordinate_descent(\n"
     ]
    },
    {
     "name": "stdout",
     "output_type": "stream",
     "text": [
      "[CV] END alpha=0.01, fit_intercept=False, l1_ratio=0.1, max_iter=10000, selection=cyclic, tol=0.0001; total time=  27.6s\n"
     ]
    },
    {
     "name": "stderr",
     "output_type": "stream",
     "text": [
      "/Users/zoemarquis/Documents/projet_industrie/projet_batteries/mon_venv/lib/python3.11/site-packages/sklearn/linear_model/_coordinate_descent.py:697: ConvergenceWarning: Objective did not converge. You might want to increase the number of iterations, check the scale of the features or consider increasing regularisation. Duality gap: 5.197e+04, tolerance: 1.414e+04\n",
      "  model = cd_fast.enet_coordinate_descent(\n"
     ]
    },
    {
     "name": "stdout",
     "output_type": "stream",
     "text": [
      "[CV] END alpha=0.01, fit_intercept=False, l1_ratio=0.1, max_iter=10000, selection=cyclic, tol=0.0001; total time=  27.9s\n"
     ]
    },
    {
     "name": "stderr",
     "output_type": "stream",
     "text": [
      "/Users/zoemarquis/Documents/projet_industrie/projet_batteries/mon_venv/lib/python3.11/site-packages/sklearn/linear_model/_coordinate_descent.py:697: ConvergenceWarning: Objective did not converge. You might want to increase the number of iterations, check the scale of the features or consider increasing regularisation. Duality gap: 5.258e+04, tolerance: 1.415e+04\n",
      "  model = cd_fast.enet_coordinate_descent(\n"
     ]
    },
    {
     "name": "stdout",
     "output_type": "stream",
     "text": [
      "[CV] END alpha=0.01, fit_intercept=False, l1_ratio=0.1, max_iter=10000, selection=cyclic, tol=0.0001; total time=  28.6s\n",
      "[CV] END alpha=0.01, fit_intercept=False, l1_ratio=0.1, max_iter=10000, selection=random, tol=0.001; total time=   0.7s\n",
      "[CV] END alpha=0.01, fit_intercept=False, l1_ratio=0.1, max_iter=10000, selection=random, tol=0.001; total time=   0.7s\n",
      "[CV] END alpha=0.01, fit_intercept=False, l1_ratio=0.1, max_iter=10000, selection=random, tol=0.001; total time=   0.7s\n",
      "[CV] END alpha=0.01, fit_intercept=False, l1_ratio=0.1, max_iter=10000, selection=random, tol=0.001; total time=   0.7s\n",
      "[CV] END alpha=0.01, fit_intercept=False, l1_ratio=0.1, max_iter=10000, selection=random, tol=0.001; total time=   0.8s\n",
      "[CV] END alpha=0.01, fit_intercept=False, l1_ratio=0.1, max_iter=10000, selection=random, tol=0.0001; total time=   1.1s\n",
      "[CV] END alpha=0.01, fit_intercept=False, l1_ratio=0.1, max_iter=10000, selection=random, tol=0.0001; total time=   1.1s\n",
      "[CV] END alpha=0.01, fit_intercept=False, l1_ratio=0.1, max_iter=10000, selection=random, tol=0.0001; total time=   1.0s\n",
      "[CV] END alpha=0.01, fit_intercept=False, l1_ratio=0.1, max_iter=10000, selection=random, tol=0.0001; total time=   1.1s\n",
      "[CV] END alpha=0.01, fit_intercept=False, l1_ratio=0.1, max_iter=10000, selection=random, tol=0.0001; total time=   1.1s\n",
      "[CV] END alpha=0.01, fit_intercept=False, l1_ratio=0.1, max_iter=10000, selection=random, tol=1e-05; total time=   1.5s\n",
      "[CV] END alpha=0.01, fit_intercept=False, l1_ratio=0.1, max_iter=10000, selection=random, tol=1e-05; total time=   1.5s\n",
      "[CV] END alpha=0.01, fit_intercept=False, l1_ratio=0.1, max_iter=10000, selection=random, tol=1e-05; total time=   1.6s\n",
      "[CV] END alpha=0.01, fit_intercept=False, l1_ratio=0.1, max_iter=10000, selection=random, tol=1e-05; total time=   1.6s\n",
      "[CV] END alpha=0.01, fit_intercept=False, l1_ratio=0.1, max_iter=10000, selection=random, tol=1e-05; total time=   1.5s\n"
     ]
    },
    {
     "name": "stderr",
     "output_type": "stream",
     "text": [
      "/Users/zoemarquis/Documents/projet_industrie/projet_batteries/mon_venv/lib/python3.11/site-packages/sklearn/linear_model/_coordinate_descent.py:697: ConvergenceWarning: Objective did not converge. You might want to increase the number of iterations, check the scale of the features or consider increasing regularisation. Duality gap: 5.193e+04, tolerance: 1.416e+04\n",
      "  model = cd_fast.enet_coordinate_descent(\n",
      "/Users/zoemarquis/Documents/projet_industrie/projet_batteries/mon_venv/lib/python3.11/site-packages/sklearn/linear_model/_coordinate_descent.py:697: ConvergenceWarning: Objective did not converge. You might want to increase the number of iterations, check the scale of the features or consider increasing regularisation. Duality gap: 5.158e+04, tolerance: 1.415e+04\n",
      "  model = cd_fast.enet_coordinate_descent(\n"
     ]
    },
    {
     "name": "stdout",
     "output_type": "stream",
     "text": [
      "[CV] END alpha=0.01, fit_intercept=False, l1_ratio=0.1, max_iter=10000, selection=cyclic, tol=0.0001; total time=  28.4s\n",
      "[CV] END alpha=0.01, fit_intercept=False, l1_ratio=0.1, max_iter=10000, selection=cyclic, tol=0.0001; total time=  28.5s\n",
      "[CV] END alpha=0.01, fit_intercept=False, l1_ratio=0.5, max_iter=1000, selection=cyclic, tol=0.001; total time=   2.6s\n"
     ]
    },
    {
     "name": "stderr",
     "output_type": "stream",
     "text": [
      "/Users/zoemarquis/Documents/projet_industrie/projet_batteries/mon_venv/lib/python3.11/site-packages/sklearn/linear_model/_coordinate_descent.py:697: ConvergenceWarning: Objective did not converge. You might want to increase the number of iterations, check the scale of the features or consider increasing regularisation. Duality gap: 5.167e+04, tolerance: 1.414e+03\n",
      "  model = cd_fast.enet_coordinate_descent(\n"
     ]
    },
    {
     "name": "stdout",
     "output_type": "stream",
     "text": [
      "[CV] END alpha=0.01, fit_intercept=False, l1_ratio=0.1, max_iter=10000, selection=cyclic, tol=1e-05; total time=  28.7s\n"
     ]
    },
    {
     "name": "stderr",
     "output_type": "stream",
     "text": [
      "/Users/zoemarquis/Documents/projet_industrie/projet_batteries/mon_venv/lib/python3.11/site-packages/sklearn/linear_model/_coordinate_descent.py:697: ConvergenceWarning: Objective did not converge. You might want to increase the number of iterations, check the scale of the features or consider increasing regularisation. Duality gap: 5.197e+04, tolerance: 1.414e+03\n",
      "  model = cd_fast.enet_coordinate_descent(\n"
     ]
    },
    {
     "name": "stdout",
     "output_type": "stream",
     "text": [
      "[CV] END alpha=0.01, fit_intercept=False, l1_ratio=0.1, max_iter=10000, selection=cyclic, tol=1e-05; total time=  29.2s\n"
     ]
    },
    {
     "name": "stderr",
     "output_type": "stream",
     "text": [
      "/Users/zoemarquis/Documents/projet_industrie/projet_batteries/mon_venv/lib/python3.11/site-packages/sklearn/linear_model/_coordinate_descent.py:697: ConvergenceWarning: Objective did not converge. You might want to increase the number of iterations, check the scale of the features or consider increasing regularisation. Duality gap: 5.258e+04, tolerance: 1.415e+03\n",
      "  model = cd_fast.enet_coordinate_descent(\n"
     ]
    },
    {
     "name": "stdout",
     "output_type": "stream",
     "text": [
      "[CV] END alpha=0.01, fit_intercept=False, l1_ratio=0.1, max_iter=10000, selection=cyclic, tol=1e-05; total time=  29.1s\n",
      "[CV] END alpha=0.01, fit_intercept=False, l1_ratio=0.5, max_iter=1000, selection=cyclic, tol=0.001; total time=   2.6s\n",
      "[CV] END alpha=0.01, fit_intercept=False, l1_ratio=0.5, max_iter=1000, selection=cyclic, tol=0.001; total time=   2.7s\n",
      "[CV] END alpha=0.01, fit_intercept=False, l1_ratio=0.5, max_iter=1000, selection=cyclic, tol=0.001; total time=   2.7s\n",
      "[CV] END alpha=0.01, fit_intercept=False, l1_ratio=0.5, max_iter=1000, selection=cyclic, tol=0.001; total time=   2.7s\n"
     ]
    },
    {
     "name": "stderr",
     "output_type": "stream",
     "text": [
      "/Users/zoemarquis/Documents/projet_industrie/projet_batteries/mon_venv/lib/python3.11/site-packages/sklearn/linear_model/_coordinate_descent.py:697: ConvergenceWarning: Objective did not converge. You might want to increase the number of iterations, check the scale of the features or consider increasing regularisation. Duality gap: 8.809e+04, tolerance: 1.414e+04\n",
      "  model = cd_fast.enet_coordinate_descent(\n"
     ]
    },
    {
     "name": "stdout",
     "output_type": "stream",
     "text": [
      "[CV] END alpha=0.01, fit_intercept=False, l1_ratio=0.5, max_iter=1000, selection=cyclic, tol=0.0001; total time=   2.8s\n"
     ]
    },
    {
     "name": "stderr",
     "output_type": "stream",
     "text": [
      "/Users/zoemarquis/Documents/projet_industrie/projet_batteries/mon_venv/lib/python3.11/site-packages/sklearn/linear_model/_coordinate_descent.py:697: ConvergenceWarning: Objective did not converge. You might want to increase the number of iterations, check the scale of the features or consider increasing regularisation. Duality gap: 8.777e+04, tolerance: 1.414e+04\n",
      "  model = cd_fast.enet_coordinate_descent(\n"
     ]
    },
    {
     "name": "stdout",
     "output_type": "stream",
     "text": [
      "[CV] END alpha=0.01, fit_intercept=False, l1_ratio=0.5, max_iter=1000, selection=cyclic, tol=0.0001; total time=   2.9s\n"
     ]
    },
    {
     "name": "stderr",
     "output_type": "stream",
     "text": [
      "/Users/zoemarquis/Documents/projet_industrie/projet_batteries/mon_venv/lib/python3.11/site-packages/sklearn/linear_model/_coordinate_descent.py:697: ConvergenceWarning: Objective did not converge. You might want to increase the number of iterations, check the scale of the features or consider increasing regularisation. Duality gap: 8.812e+04, tolerance: 1.415e+04\n",
      "  model = cd_fast.enet_coordinate_descent(\n"
     ]
    },
    {
     "name": "stdout",
     "output_type": "stream",
     "text": [
      "[CV] END alpha=0.01, fit_intercept=False, l1_ratio=0.5, max_iter=1000, selection=cyclic, tol=0.0001; total time=   2.8s\n"
     ]
    },
    {
     "name": "stderr",
     "output_type": "stream",
     "text": [
      "/Users/zoemarquis/Documents/projet_industrie/projet_batteries/mon_venv/lib/python3.11/site-packages/sklearn/linear_model/_coordinate_descent.py:697: ConvergenceWarning: Objective did not converge. You might want to increase the number of iterations, check the scale of the features or consider increasing regularisation. Duality gap: 8.801e+04, tolerance: 1.416e+04\n",
      "  model = cd_fast.enet_coordinate_descent(\n"
     ]
    },
    {
     "name": "stdout",
     "output_type": "stream",
     "text": [
      "[CV] END alpha=0.01, fit_intercept=False, l1_ratio=0.5, max_iter=1000, selection=cyclic, tol=0.0001; total time=   2.8s\n"
     ]
    },
    {
     "name": "stderr",
     "output_type": "stream",
     "text": [
      "/Users/zoemarquis/Documents/projet_industrie/projet_batteries/mon_venv/lib/python3.11/site-packages/sklearn/linear_model/_coordinate_descent.py:697: ConvergenceWarning: Objective did not converge. You might want to increase the number of iterations, check the scale of the features or consider increasing regularisation. Duality gap: 8.772e+04, tolerance: 1.415e+04\n",
      "  model = cd_fast.enet_coordinate_descent(\n"
     ]
    },
    {
     "name": "stdout",
     "output_type": "stream",
     "text": [
      "[CV] END alpha=0.01, fit_intercept=False, l1_ratio=0.5, max_iter=1000, selection=cyclic, tol=0.0001; total time=   2.9s\n"
     ]
    },
    {
     "name": "stderr",
     "output_type": "stream",
     "text": [
      "/Users/zoemarquis/Documents/projet_industrie/projet_batteries/mon_venv/lib/python3.11/site-packages/sklearn/linear_model/_coordinate_descent.py:697: ConvergenceWarning: Objective did not converge. You might want to increase the number of iterations, check the scale of the features or consider increasing regularisation. Duality gap: 8.809e+04, tolerance: 1.414e+03\n",
      "  model = cd_fast.enet_coordinate_descent(\n"
     ]
    },
    {
     "name": "stdout",
     "output_type": "stream",
     "text": [
      "[CV] END alpha=0.01, fit_intercept=False, l1_ratio=0.5, max_iter=1000, selection=cyclic, tol=1e-05; total time=   2.8s\n"
     ]
    },
    {
     "name": "stderr",
     "output_type": "stream",
     "text": [
      "/Users/zoemarquis/Documents/projet_industrie/projet_batteries/mon_venv/lib/python3.11/site-packages/sklearn/linear_model/_coordinate_descent.py:697: ConvergenceWarning: Objective did not converge. You might want to increase the number of iterations, check the scale of the features or consider increasing regularisation. Duality gap: 8.777e+04, tolerance: 1.414e+03\n",
      "  model = cd_fast.enet_coordinate_descent(\n"
     ]
    },
    {
     "name": "stdout",
     "output_type": "stream",
     "text": [
      "[CV] END alpha=0.01, fit_intercept=False, l1_ratio=0.5, max_iter=1000, selection=cyclic, tol=1e-05; total time=   2.7s\n",
      "[CV] END alpha=0.01, fit_intercept=False, l1_ratio=0.5, max_iter=1000, selection=random, tol=0.001; total time=   1.0s\n",
      "[CV] END alpha=0.01, fit_intercept=False, l1_ratio=0.5, max_iter=1000, selection=random, tol=0.001; total time=   0.9s\n",
      "[CV] END alpha=0.01, fit_intercept=False, l1_ratio=0.5, max_iter=1000, selection=random, tol=0.001; total time=   0.9s\n",
      "[CV] END alpha=0.01, fit_intercept=False, l1_ratio=0.5, max_iter=1000, selection=cyclic, tol=1e-05; total time=   2.8s\n",
      "[CV] END alpha=0.01, fit_intercept=False, l1_ratio=0.5, max_iter=1000, selection=random, tol=0.001; total time=   1.0s\n"
     ]
    },
    {
     "name": "stderr",
     "output_type": "stream",
     "text": [
      "/Users/zoemarquis/Documents/projet_industrie/projet_batteries/mon_venv/lib/python3.11/site-packages/sklearn/linear_model/_coordinate_descent.py:697: ConvergenceWarning: Objective did not converge. You might want to increase the number of iterations, check the scale of the features or consider increasing regularisation. Duality gap: 8.812e+04, tolerance: 1.415e+03\n",
      "  model = cd_fast.enet_coordinate_descent(\n",
      "/Users/zoemarquis/Documents/projet_industrie/projet_batteries/mon_venv/lib/python3.11/site-packages/sklearn/linear_model/_coordinate_descent.py:697: ConvergenceWarning: Objective did not converge. You might want to increase the number of iterations, check the scale of the features or consider increasing regularisation. Duality gap: 8.801e+04, tolerance: 1.416e+03\n",
      "  model = cd_fast.enet_coordinate_descent(\n",
      "/Users/zoemarquis/Documents/projet_industrie/projet_batteries/mon_venv/lib/python3.11/site-packages/sklearn/linear_model/_coordinate_descent.py:697: ConvergenceWarning: Objective did not converge. You might want to increase the number of iterations, check the scale of the features or consider increasing regularisation. Duality gap: 8.772e+04, tolerance: 1.415e+03\n",
      "  model = cd_fast.enet_coordinate_descent(\n"
     ]
    },
    {
     "name": "stdout",
     "output_type": "stream",
     "text": [
      "[CV] END alpha=0.01, fit_intercept=False, l1_ratio=0.5, max_iter=1000, selection=cyclic, tol=1e-05; total time=   2.8s\n",
      "[CV] END alpha=0.01, fit_intercept=False, l1_ratio=0.5, max_iter=1000, selection=cyclic, tol=1e-05; total time=   2.6s\n",
      "[CV] END alpha=0.01, fit_intercept=False, l1_ratio=0.5, max_iter=1000, selection=random, tol=0.001; total time=   0.9s\n"
     ]
    },
    {
     "name": "stderr",
     "output_type": "stream",
     "text": [
      "/Users/zoemarquis/Documents/projet_industrie/projet_batteries/mon_venv/lib/python3.11/site-packages/sklearn/linear_model/_coordinate_descent.py:697: ConvergenceWarning: Objective did not converge. You might want to increase the number of iterations, check the scale of the features or consider increasing regularisation. Duality gap: 5.193e+04, tolerance: 1.416e+03\n",
      "  model = cd_fast.enet_coordinate_descent(\n"
     ]
    },
    {
     "name": "stdout",
     "output_type": "stream",
     "text": [
      "[CV] END alpha=0.01, fit_intercept=False, l1_ratio=0.1, max_iter=10000, selection=cyclic, tol=1e-05; total time=  28.8s\n"
     ]
    },
    {
     "name": "stderr",
     "output_type": "stream",
     "text": [
      "/Users/zoemarquis/Documents/projet_industrie/projet_batteries/mon_venv/lib/python3.11/site-packages/sklearn/linear_model/_coordinate_descent.py:697: ConvergenceWarning: Objective did not converge. You might want to increase the number of iterations, check the scale of the features or consider increasing regularisation. Duality gap: 5.158e+04, tolerance: 1.415e+03\n",
      "  model = cd_fast.enet_coordinate_descent(\n"
     ]
    },
    {
     "name": "stdout",
     "output_type": "stream",
     "text": [
      "[CV] END alpha=0.01, fit_intercept=False, l1_ratio=0.1, max_iter=10000, selection=cyclic, tol=1e-05; total time=  28.8s\n",
      "[CV] END alpha=0.01, fit_intercept=False, l1_ratio=0.5, max_iter=1000, selection=random, tol=0.0001; total time=   1.5s\n",
      "[CV] END alpha=0.01, fit_intercept=False, l1_ratio=0.5, max_iter=1000, selection=random, tol=0.0001; total time=   1.5s\n",
      "[CV] END alpha=0.01, fit_intercept=False, l1_ratio=0.5, max_iter=1000, selection=random, tol=0.0001; total time=   1.7s\n",
      "[CV] END alpha=0.01, fit_intercept=False, l1_ratio=0.5, max_iter=1000, selection=random, tol=0.0001; total time=   1.5s\n",
      "[CV] END alpha=0.01, fit_intercept=False, l1_ratio=0.5, max_iter=1000, selection=random, tol=0.0001; total time=   1.5s\n",
      "[CV] END alpha=0.01, fit_intercept=False, l1_ratio=0.5, max_iter=1000, selection=random, tol=1e-05; total time=   1.9s\n",
      "[CV] END alpha=0.01, fit_intercept=False, l1_ratio=0.5, max_iter=1000, selection=random, tol=1e-05; total time=   2.0s\n",
      "[CV] END alpha=0.01, fit_intercept=False, l1_ratio=0.5, max_iter=1000, selection=random, tol=1e-05; total time=   2.0s\n",
      "[CV] END alpha=0.01, fit_intercept=False, l1_ratio=0.5, max_iter=1000, selection=random, tol=1e-05; total time=   1.8s\n",
      "[CV] END alpha=0.01, fit_intercept=False, l1_ratio=0.5, max_iter=1000, selection=random, tol=1e-05; total time=   2.0s\n",
      "[CV] END alpha=0.01, fit_intercept=False, l1_ratio=0.5, max_iter=5000, selection=cyclic, tol=0.001; total time=  12.8s\n",
      "[CV] END alpha=0.01, fit_intercept=False, l1_ratio=0.5, max_iter=5000, selection=cyclic, tol=0.001; total time=  12.9s\n",
      "[CV] END alpha=0.01, fit_intercept=False, l1_ratio=0.5, max_iter=5000, selection=cyclic, tol=0.001; total time=  13.0s\n",
      "[CV] END alpha=0.01, fit_intercept=False, l1_ratio=0.5, max_iter=5000, selection=cyclic, tol=0.001; total time=  13.0s\n",
      "[CV] END alpha=0.01, fit_intercept=False, l1_ratio=0.5, max_iter=5000, selection=cyclic, tol=0.001; total time=  13.2s\n",
      "[CV] END alpha=0.01, fit_intercept=False, l1_ratio=0.5, max_iter=5000, selection=cyclic, tol=0.0001; total time=  12.8s\n",
      "[CV] END alpha=0.01, fit_intercept=False, l1_ratio=0.5, max_iter=5000, selection=cyclic, tol=0.0001; total time=  13.1s\n"
     ]
    },
    {
     "name": "stderr",
     "output_type": "stream",
     "text": [
      "/Users/zoemarquis/Documents/projet_industrie/projet_batteries/mon_venv/lib/python3.11/site-packages/sklearn/linear_model/_coordinate_descent.py:697: ConvergenceWarning: Objective did not converge. You might want to increase the number of iterations, check the scale of the features or consider increasing regularisation. Duality gap: 3.663e+04, tolerance: 1.414e+04\n",
      "  model = cd_fast.enet_coordinate_descent(\n",
      "/Users/zoemarquis/Documents/projet_industrie/projet_batteries/mon_venv/lib/python3.11/site-packages/sklearn/linear_model/_coordinate_descent.py:697: ConvergenceWarning: Objective did not converge. You might want to increase the number of iterations, check the scale of the features or consider increasing regularisation. Duality gap: 3.669e+04, tolerance: 1.414e+04\n",
      "  model = cd_fast.enet_coordinate_descent(\n",
      "/Users/zoemarquis/Documents/projet_industrie/projet_batteries/mon_venv/lib/python3.11/site-packages/sklearn/linear_model/_coordinate_descent.py:697: ConvergenceWarning: Objective did not converge. You might want to increase the number of iterations, check the scale of the features or consider increasing regularisation. Duality gap: 3.662e+04, tolerance: 1.415e+04\n",
      "  model = cd_fast.enet_coordinate_descent(\n"
     ]
    },
    {
     "name": "stdout",
     "output_type": "stream",
     "text": [
      "[CV] END alpha=0.01, fit_intercept=False, l1_ratio=0.5, max_iter=5000, selection=cyclic, tol=0.0001; total time=  12.8s\n",
      "[CV] END alpha=0.01, fit_intercept=False, l1_ratio=0.5, max_iter=5000, selection=random, tol=0.001; total time=   1.0s\n",
      "[CV] END alpha=0.01, fit_intercept=False, l1_ratio=0.5, max_iter=5000, selection=random, tol=0.001; total time=   0.9s\n",
      "[CV] END alpha=0.01, fit_intercept=False, l1_ratio=0.5, max_iter=5000, selection=random, tol=0.001; total time=   0.9s\n",
      "[CV] END alpha=0.01, fit_intercept=False, l1_ratio=0.5, max_iter=5000, selection=random, tol=0.001; total time=   1.0s\n",
      "[CV] END alpha=0.01, fit_intercept=False, l1_ratio=0.5, max_iter=5000, selection=random, tol=0.001; total time=   0.9s\n",
      "[CV] END alpha=0.01, fit_intercept=False, l1_ratio=0.5, max_iter=5000, selection=random, tol=0.0001; total time=   1.5s\n",
      "[CV] END alpha=0.01, fit_intercept=False, l1_ratio=0.5, max_iter=5000, selection=random, tol=0.0001; total time=   1.7s\n",
      "[CV] END alpha=0.01, fit_intercept=False, l1_ratio=0.5, max_iter=5000, selection=random, tol=0.0001; total time=   1.6s\n",
      "[CV] END alpha=0.01, fit_intercept=False, l1_ratio=0.5, max_iter=5000, selection=random, tol=0.0001; total time=   1.7s\n"
     ]
    },
    {
     "name": "stderr",
     "output_type": "stream",
     "text": [
      "/Users/zoemarquis/Documents/projet_industrie/projet_batteries/mon_venv/lib/python3.11/site-packages/sklearn/linear_model/_coordinate_descent.py:697: ConvergenceWarning: Objective did not converge. You might want to increase the number of iterations, check the scale of the features or consider increasing regularisation. Duality gap: 3.641e+04, tolerance: 1.415e+04\n",
      "  model = cd_fast.enet_coordinate_descent(\n",
      "/Users/zoemarquis/Documents/projet_industrie/projet_batteries/mon_venv/lib/python3.11/site-packages/sklearn/linear_model/_coordinate_descent.py:697: ConvergenceWarning: Objective did not converge. You might want to increase the number of iterations, check the scale of the features or consider increasing regularisation. Duality gap: 3.655e+04, tolerance: 1.416e+04\n",
      "  model = cd_fast.enet_coordinate_descent(\n"
     ]
    },
    {
     "name": "stdout",
     "output_type": "stream",
     "text": [
      "[CV] END alpha=0.01, fit_intercept=False, l1_ratio=0.5, max_iter=5000, selection=cyclic, tol=0.0001; total time=  13.1s\n",
      "[CV] END alpha=0.01, fit_intercept=False, l1_ratio=0.5, max_iter=5000, selection=cyclic, tol=0.0001; total time=  13.3s\n"
     ]
    },
    {
     "name": "stderr",
     "output_type": "stream",
     "text": [
      "/Users/zoemarquis/Documents/projet_industrie/projet_batteries/mon_venv/lib/python3.11/site-packages/sklearn/linear_model/_coordinate_descent.py:697: ConvergenceWarning: Objective did not converge. You might want to increase the number of iterations, check the scale of the features or consider increasing regularisation. Duality gap: 3.669e+04, tolerance: 1.414e+03\n",
      "  model = cd_fast.enet_coordinate_descent(\n"
     ]
    },
    {
     "name": "stdout",
     "output_type": "stream",
     "text": [
      "[CV] END alpha=0.01, fit_intercept=False, l1_ratio=0.5, max_iter=5000, selection=cyclic, tol=1e-05; total time=  13.4s\n"
     ]
    },
    {
     "name": "stderr",
     "output_type": "stream",
     "text": [
      "/Users/zoemarquis/Documents/projet_industrie/projet_batteries/mon_venv/lib/python3.11/site-packages/sklearn/linear_model/_coordinate_descent.py:697: ConvergenceWarning: Objective did not converge. You might want to increase the number of iterations, check the scale of the features or consider increasing regularisation. Duality gap: 3.663e+04, tolerance: 1.414e+03\n",
      "  model = cd_fast.enet_coordinate_descent(\n"
     ]
    },
    {
     "name": "stdout",
     "output_type": "stream",
     "text": [
      "[CV] END alpha=0.01, fit_intercept=False, l1_ratio=0.5, max_iter=5000, selection=cyclic, tol=1e-05; total time=  13.1s\n"
     ]
    },
    {
     "name": "stderr",
     "output_type": "stream",
     "text": [
      "/Users/zoemarquis/Documents/projet_industrie/projet_batteries/mon_venv/lib/python3.11/site-packages/sklearn/linear_model/_coordinate_descent.py:697: ConvergenceWarning: Objective did not converge. You might want to increase the number of iterations, check the scale of the features or consider increasing regularisation. Duality gap: 3.662e+04, tolerance: 1.415e+03\n",
      "  model = cd_fast.enet_coordinate_descent(\n"
     ]
    },
    {
     "name": "stdout",
     "output_type": "stream",
     "text": [
      "[CV] END alpha=0.01, fit_intercept=False, l1_ratio=0.5, max_iter=5000, selection=cyclic, tol=1e-05; total time=  12.9s\n",
      "[CV] END alpha=0.01, fit_intercept=False, l1_ratio=0.5, max_iter=5000, selection=random, tol=0.0001; total time=   1.6s\n"
     ]
    },
    {
     "name": "stderr",
     "output_type": "stream",
     "text": [
      "/Users/zoemarquis/Documents/projet_industrie/projet_batteries/mon_venv/lib/python3.11/site-packages/sklearn/linear_model/_coordinate_descent.py:697: ConvergenceWarning: Objective did not converge. You might want to increase the number of iterations, check the scale of the features or consider increasing regularisation. Duality gap: 3.641e+04, tolerance: 1.415e+03\n",
      "  model = cd_fast.enet_coordinate_descent(\n",
      "/Users/zoemarquis/Documents/projet_industrie/projet_batteries/mon_venv/lib/python3.11/site-packages/sklearn/linear_model/_coordinate_descent.py:697: ConvergenceWarning: Objective did not converge. You might want to increase the number of iterations, check the scale of the features or consider increasing regularisation. Duality gap: 3.655e+04, tolerance: 1.416e+03\n",
      "  model = cd_fast.enet_coordinate_descent(\n"
     ]
    },
    {
     "name": "stdout",
     "output_type": "stream",
     "text": [
      "[CV] END alpha=0.01, fit_intercept=False, l1_ratio=0.5, max_iter=5000, selection=cyclic, tol=1e-05; total time=  12.9s\n",
      "[CV] END alpha=0.01, fit_intercept=False, l1_ratio=0.5, max_iter=5000, selection=cyclic, tol=1e-05; total time=  13.2s\n",
      "[CV] END alpha=0.01, fit_intercept=False, l1_ratio=0.5, max_iter=5000, selection=random, tol=1e-05; total time=   2.3s\n",
      "[CV] END alpha=0.01, fit_intercept=False, l1_ratio=0.5, max_iter=5000, selection=random, tol=1e-05; total time=   2.4s\n",
      "[CV] END alpha=0.01, fit_intercept=False, l1_ratio=0.5, max_iter=5000, selection=random, tol=1e-05; total time=   2.3s\n",
      "[CV] END alpha=0.01, fit_intercept=False, l1_ratio=0.5, max_iter=5000, selection=random, tol=1e-05; total time=   2.2s\n",
      "[CV] END alpha=0.01, fit_intercept=False, l1_ratio=0.5, max_iter=5000, selection=random, tol=1e-05; total time=   2.1s\n",
      "[CV] END alpha=0.01, fit_intercept=False, l1_ratio=0.5, max_iter=10000, selection=cyclic, tol=0.001; total time=  15.9s\n",
      "[CV] END alpha=0.01, fit_intercept=False, l1_ratio=0.5, max_iter=10000, selection=cyclic, tol=0.001; total time=  16.2s\n",
      "[CV] END alpha=0.01, fit_intercept=False, l1_ratio=0.5, max_iter=10000, selection=cyclic, tol=0.001; total time=  16.1s\n",
      "[CV] END alpha=0.01, fit_intercept=False, l1_ratio=0.5, max_iter=10000, selection=cyclic, tol=0.001; total time=  16.4s\n",
      "[CV] END alpha=0.01, fit_intercept=False, l1_ratio=0.5, max_iter=10000, selection=cyclic, tol=0.001; total time=  16.4s\n"
     ]
    },
    {
     "name": "stderr",
     "output_type": "stream",
     "text": [
      "/Users/zoemarquis/Documents/projet_industrie/projet_batteries/mon_venv/lib/python3.11/site-packages/sklearn/linear_model/_coordinate_descent.py:697: ConvergenceWarning: Objective did not converge. You might want to increase the number of iterations, check the scale of the features or consider increasing regularisation. Duality gap: 2.330e+04, tolerance: 1.414e+04\n",
      "  model = cd_fast.enet_coordinate_descent(\n"
     ]
    },
    {
     "name": "stdout",
     "output_type": "stream",
     "text": [
      "[CV] END alpha=0.01, fit_intercept=False, l1_ratio=0.5, max_iter=10000, selection=cyclic, tol=0.0001; total time=  24.6s\n"
     ]
    },
    {
     "name": "stderr",
     "output_type": "stream",
     "text": [
      "/Users/zoemarquis/Documents/projet_industrie/projet_batteries/mon_venv/lib/python3.11/site-packages/sklearn/linear_model/_coordinate_descent.py:697: ConvergenceWarning: Objective did not converge. You might want to increase the number of iterations, check the scale of the features or consider increasing regularisation. Duality gap: 2.306e+04, tolerance: 1.414e+04\n",
      "  model = cd_fast.enet_coordinate_descent(\n"
     ]
    },
    {
     "name": "stdout",
     "output_type": "stream",
     "text": [
      "[CV] END alpha=0.01, fit_intercept=False, l1_ratio=0.5, max_iter=10000, selection=cyclic, tol=0.0001; total time=  25.3s\n"
     ]
    },
    {
     "name": "stderr",
     "output_type": "stream",
     "text": [
      "/Users/zoemarquis/Documents/projet_industrie/projet_batteries/mon_venv/lib/python3.11/site-packages/sklearn/linear_model/_coordinate_descent.py:697: ConvergenceWarning: Objective did not converge. You might want to increase the number of iterations, check the scale of the features or consider increasing regularisation. Duality gap: 2.330e+04, tolerance: 1.415e+04\n",
      "  model = cd_fast.enet_coordinate_descent(\n"
     ]
    },
    {
     "name": "stdout",
     "output_type": "stream",
     "text": [
      "[CV] END alpha=0.01, fit_intercept=False, l1_ratio=0.5, max_iter=10000, selection=cyclic, tol=0.0001; total time=  25.3s\n",
      "[CV] END alpha=0.01, fit_intercept=False, l1_ratio=0.5, max_iter=10000, selection=random, tol=0.001; total time=   1.0s\n",
      "[CV] END alpha=0.01, fit_intercept=False, l1_ratio=0.5, max_iter=10000, selection=random, tol=0.001; total time=   0.9s\n",
      "[CV] END alpha=0.01, fit_intercept=False, l1_ratio=0.5, max_iter=10000, selection=random, tol=0.001; total time=   1.0s\n",
      "[CV] END alpha=0.01, fit_intercept=False, l1_ratio=0.5, max_iter=10000, selection=random, tol=0.001; total time=   1.1s\n",
      "[CV] END alpha=0.01, fit_intercept=False, l1_ratio=0.5, max_iter=10000, selection=random, tol=0.001; total time=   1.0s\n",
      "[CV] END alpha=0.01, fit_intercept=False, l1_ratio=0.5, max_iter=10000, selection=random, tol=0.0001; total time=   1.7s\n",
      "[CV] END alpha=0.01, fit_intercept=False, l1_ratio=0.5, max_iter=10000, selection=random, tol=0.0001; total time=   1.6s\n",
      "[CV] END alpha=0.01, fit_intercept=False, l1_ratio=0.5, max_iter=10000, selection=random, tol=0.0001; total time=   1.7s\n",
      "[CV] END alpha=0.01, fit_intercept=False, l1_ratio=0.5, max_iter=10000, selection=random, tol=0.0001; total time=   1.6s\n",
      "[CV] END alpha=0.01, fit_intercept=False, l1_ratio=0.5, max_iter=10000, selection=random, tol=0.0001; total time=   1.8s\n"
     ]
    },
    {
     "name": "stderr",
     "output_type": "stream",
     "text": [
      "/Users/zoemarquis/Documents/projet_industrie/projet_batteries/mon_venv/lib/python3.11/site-packages/sklearn/linear_model/_coordinate_descent.py:697: ConvergenceWarning: Objective did not converge. You might want to increase the number of iterations, check the scale of the features or consider increasing regularisation. Duality gap: 2.299e+04, tolerance: 1.416e+04\n",
      "  model = cd_fast.enet_coordinate_descent(\n",
      "/Users/zoemarquis/Documents/projet_industrie/projet_batteries/mon_venv/lib/python3.11/site-packages/sklearn/linear_model/_coordinate_descent.py:697: ConvergenceWarning: Objective did not converge. You might want to increase the number of iterations, check the scale of the features or consider increasing regularisation. Duality gap: 2.327e+04, tolerance: 1.415e+04\n",
      "  model = cd_fast.enet_coordinate_descent(\n",
      "/Users/zoemarquis/Documents/projet_industrie/projet_batteries/mon_venv/lib/python3.11/site-packages/sklearn/linear_model/_coordinate_descent.py:697: ConvergenceWarning: Objective did not converge. You might want to increase the number of iterations, check the scale of the features or consider increasing regularisation. Duality gap: 2.330e+04, tolerance: 1.414e+03\n",
      "  model = cd_fast.enet_coordinate_descent(\n"
     ]
    },
    {
     "name": "stdout",
     "output_type": "stream",
     "text": [
      "[CV] END alpha=0.01, fit_intercept=False, l1_ratio=0.5, max_iter=10000, selection=cyclic, tol=0.0001; total time=  25.5s\n",
      "[CV] END alpha=0.01, fit_intercept=False, l1_ratio=0.5, max_iter=10000, selection=cyclic, tol=0.0001; total time=  25.0s\n",
      "[CV] END alpha=0.01, fit_intercept=False, l1_ratio=0.5, max_iter=10000, selection=cyclic, tol=1e-05; total time=  25.1s\n"
     ]
    },
    {
     "name": "stderr",
     "output_type": "stream",
     "text": [
      "/Users/zoemarquis/Documents/projet_industrie/projet_batteries/mon_venv/lib/python3.11/site-packages/sklearn/linear_model/_coordinate_descent.py:697: ConvergenceWarning: Objective did not converge. You might want to increase the number of iterations, check the scale of the features or consider increasing regularisation. Duality gap: 2.330e+04, tolerance: 1.415e+03\n",
      "  model = cd_fast.enet_coordinate_descent(\n"
     ]
    },
    {
     "name": "stdout",
     "output_type": "stream",
     "text": [
      "[CV] END alpha=0.01, fit_intercept=False, l1_ratio=0.5, max_iter=10000, selection=cyclic, tol=1e-05; total time=  25.0s\n",
      "[CV] END alpha=0.01, fit_intercept=False, l1_ratio=0.5, max_iter=10000, selection=random, tol=1e-05; total time=   2.2s\n",
      "[CV] END alpha=0.01, fit_intercept=False, l1_ratio=0.5, max_iter=10000, selection=cyclic, tol=1e-05; total time=  25.5s\n"
     ]
    },
    {
     "name": "stderr",
     "output_type": "stream",
     "text": [
      "/Users/zoemarquis/Documents/projet_industrie/projet_batteries/mon_venv/lib/python3.11/site-packages/sklearn/linear_model/_coordinate_descent.py:697: ConvergenceWarning: Objective did not converge. You might want to increase the number of iterations, check the scale of the features or consider increasing regularisation. Duality gap: 2.306e+04, tolerance: 1.414e+03\n",
      "  model = cd_fast.enet_coordinate_descent(\n"
     ]
    },
    {
     "name": "stdout",
     "output_type": "stream",
     "text": [
      "[CV] END alpha=0.01, fit_intercept=False, l1_ratio=0.5, max_iter=10000, selection=random, tol=1e-05; total time=   2.0s\n",
      "[CV] END alpha=0.01, fit_intercept=False, l1_ratio=0.5, max_iter=10000, selection=random, tol=1e-05; total time=   2.1s\n",
      "[CV] END alpha=0.01, fit_intercept=False, l1_ratio=0.5, max_iter=10000, selection=random, tol=1e-05; total time=   2.4s\n",
      "[CV] END alpha=0.01, fit_intercept=False, l1_ratio=0.5, max_iter=10000, selection=random, tol=1e-05; total time=   2.2s\n",
      "[CV] END alpha=0.01, fit_intercept=False, l1_ratio=0.9, max_iter=1000, selection=cyclic, tol=0.001; total time=   2.0s\n",
      "[CV] END alpha=0.01, fit_intercept=False, l1_ratio=0.9, max_iter=1000, selection=cyclic, tol=0.001; total time=   2.0s\n",
      "[CV] END alpha=0.01, fit_intercept=False, l1_ratio=0.9, max_iter=1000, selection=cyclic, tol=0.001; total time=   2.1s\n",
      "[CV] END alpha=0.01, fit_intercept=False, l1_ratio=0.9, max_iter=1000, selection=cyclic, tol=0.001; total time=   2.2s\n",
      "[CV] END alpha=0.01, fit_intercept=False, l1_ratio=0.9, max_iter=1000, selection=cyclic, tol=0.001; total time=   2.2s\n"
     ]
    },
    {
     "name": "stderr",
     "output_type": "stream",
     "text": [
      "/Users/zoemarquis/Documents/projet_industrie/projet_batteries/mon_venv/lib/python3.11/site-packages/sklearn/linear_model/_coordinate_descent.py:697: ConvergenceWarning: Objective did not converge. You might want to increase the number of iterations, check the scale of the features or consider increasing regularisation. Duality gap: 5.322e+04, tolerance: 1.414e+04\n",
      "  model = cd_fast.enet_coordinate_descent(\n"
     ]
    },
    {
     "name": "stdout",
     "output_type": "stream",
     "text": [
      "[CV] END alpha=0.01, fit_intercept=False, l1_ratio=0.9, max_iter=1000, selection=cyclic, tol=0.0001; total time=   2.2s\n"
     ]
    },
    {
     "name": "stderr",
     "output_type": "stream",
     "text": [
      "/Users/zoemarquis/Documents/projet_industrie/projet_batteries/mon_venv/lib/python3.11/site-packages/sklearn/linear_model/_coordinate_descent.py:697: ConvergenceWarning: Objective did not converge. You might want to increase the number of iterations, check the scale of the features or consider increasing regularisation. Duality gap: 5.323e+04, tolerance: 1.414e+04\n",
      "  model = cd_fast.enet_coordinate_descent(\n"
     ]
    },
    {
     "name": "stdout",
     "output_type": "stream",
     "text": [
      "[CV] END alpha=0.01, fit_intercept=False, l1_ratio=0.9, max_iter=1000, selection=cyclic, tol=0.0001; total time=   2.3s\n"
     ]
    },
    {
     "name": "stderr",
     "output_type": "stream",
     "text": [
      "/Users/zoemarquis/Documents/projet_industrie/projet_batteries/mon_venv/lib/python3.11/site-packages/sklearn/linear_model/_coordinate_descent.py:697: ConvergenceWarning: Objective did not converge. You might want to increase the number of iterations, check the scale of the features or consider increasing regularisation. Duality gap: 5.331e+04, tolerance: 1.415e+04\n",
      "  model = cd_fast.enet_coordinate_descent(\n"
     ]
    },
    {
     "name": "stdout",
     "output_type": "stream",
     "text": [
      "[CV] END alpha=0.01, fit_intercept=False, l1_ratio=0.9, max_iter=1000, selection=cyclic, tol=0.0001; total time=   2.3s\n"
     ]
    },
    {
     "name": "stderr",
     "output_type": "stream",
     "text": [
      "/Users/zoemarquis/Documents/projet_industrie/projet_batteries/mon_venv/lib/python3.11/site-packages/sklearn/linear_model/_coordinate_descent.py:697: ConvergenceWarning: Objective did not converge. You might want to increase the number of iterations, check the scale of the features or consider increasing regularisation. Duality gap: 5.305e+04, tolerance: 1.416e+04\n",
      "  model = cd_fast.enet_coordinate_descent(\n"
     ]
    },
    {
     "name": "stdout",
     "output_type": "stream",
     "text": [
      "[CV] END alpha=0.01, fit_intercept=False, l1_ratio=0.9, max_iter=1000, selection=cyclic, tol=0.0001; total time=   2.3s\n"
     ]
    },
    {
     "name": "stderr",
     "output_type": "stream",
     "text": [
      "/Users/zoemarquis/Documents/projet_industrie/projet_batteries/mon_venv/lib/python3.11/site-packages/sklearn/linear_model/_coordinate_descent.py:697: ConvergenceWarning: Objective did not converge. You might want to increase the number of iterations, check the scale of the features or consider increasing regularisation. Duality gap: 5.307e+04, tolerance: 1.415e+04\n",
      "  model = cd_fast.enet_coordinate_descent(\n",
      "/Users/zoemarquis/Documents/projet_industrie/projet_batteries/mon_venv/lib/python3.11/site-packages/sklearn/linear_model/_coordinate_descent.py:697: ConvergenceWarning: Objective did not converge. You might want to increase the number of iterations, check the scale of the features or consider increasing regularisation. Duality gap: 5.322e+04, tolerance: 1.414e+03\n",
      "  model = cd_fast.enet_coordinate_descent(\n"
     ]
    },
    {
     "name": "stdout",
     "output_type": "stream",
     "text": [
      "[CV] END alpha=0.01, fit_intercept=False, l1_ratio=0.9, max_iter=1000, selection=cyclic, tol=0.0001; total time=   2.3s\n",
      "[CV] END alpha=0.01, fit_intercept=False, l1_ratio=0.9, max_iter=1000, selection=cyclic, tol=1e-05; total time=   2.4s\n"
     ]
    },
    {
     "name": "stderr",
     "output_type": "stream",
     "text": [
      "/Users/zoemarquis/Documents/projet_industrie/projet_batteries/mon_venv/lib/python3.11/site-packages/sklearn/linear_model/_coordinate_descent.py:697: ConvergenceWarning: Objective did not converge. You might want to increase the number of iterations, check the scale of the features or consider increasing regularisation. Duality gap: 5.323e+04, tolerance: 1.414e+03\n",
      "  model = cd_fast.enet_coordinate_descent(\n"
     ]
    },
    {
     "name": "stdout",
     "output_type": "stream",
     "text": [
      "[CV] END alpha=0.01, fit_intercept=False, l1_ratio=0.9, max_iter=1000, selection=cyclic, tol=1e-05; total time=   2.3s\n"
     ]
    },
    {
     "name": "stderr",
     "output_type": "stream",
     "text": [
      "/Users/zoemarquis/Documents/projet_industrie/projet_batteries/mon_venv/lib/python3.11/site-packages/sklearn/linear_model/_coordinate_descent.py:697: ConvergenceWarning: Objective did not converge. You might want to increase the number of iterations, check the scale of the features or consider increasing regularisation. Duality gap: 5.331e+04, tolerance: 1.415e+03\n",
      "  model = cd_fast.enet_coordinate_descent(\n"
     ]
    },
    {
     "name": "stdout",
     "output_type": "stream",
     "text": [
      "[CV] END alpha=0.01, fit_intercept=False, l1_ratio=0.9, max_iter=1000, selection=cyclic, tol=1e-05; total time=   2.3s\n"
     ]
    },
    {
     "name": "stderr",
     "output_type": "stream",
     "text": [
      "/Users/zoemarquis/Documents/projet_industrie/projet_batteries/mon_venv/lib/python3.11/site-packages/sklearn/linear_model/_coordinate_descent.py:697: ConvergenceWarning: Objective did not converge. You might want to increase the number of iterations, check the scale of the features or consider increasing regularisation. Duality gap: 5.305e+04, tolerance: 1.416e+03\n",
      "  model = cd_fast.enet_coordinate_descent(\n"
     ]
    },
    {
     "name": "stdout",
     "output_type": "stream",
     "text": [
      "[CV] END alpha=0.01, fit_intercept=False, l1_ratio=0.9, max_iter=1000, selection=cyclic, tol=1e-05; total time=   2.4s\n",
      "[CV] END alpha=0.01, fit_intercept=False, l1_ratio=0.9, max_iter=1000, selection=random, tol=0.001; total time=   1.6s\n",
      "[CV] END alpha=0.01, fit_intercept=False, l1_ratio=0.9, max_iter=1000, selection=random, tol=0.001; total time=   1.9s\n",
      "[CV] END alpha=0.01, fit_intercept=False, l1_ratio=0.9, max_iter=1000, selection=cyclic, tol=1e-05; total time=   2.2s\n"
     ]
    },
    {
     "name": "stderr",
     "output_type": "stream",
     "text": [
      "/Users/zoemarquis/Documents/projet_industrie/projet_batteries/mon_venv/lib/python3.11/site-packages/sklearn/linear_model/_coordinate_descent.py:697: ConvergenceWarning: Objective did not converge. You might want to increase the number of iterations, check the scale of the features or consider increasing regularisation. Duality gap: 5.307e+04, tolerance: 1.415e+03\n",
      "  model = cd_fast.enet_coordinate_descent(\n"
     ]
    },
    {
     "name": "stdout",
     "output_type": "stream",
     "text": [
      "[CV] END alpha=0.01, fit_intercept=False, l1_ratio=0.9, max_iter=1000, selection=random, tol=0.001; total time=   1.5s\n",
      "[CV] END alpha=0.01, fit_intercept=False, l1_ratio=0.9, max_iter=1000, selection=random, tol=0.001; total time=   1.6s\n",
      "[CV] END alpha=0.01, fit_intercept=False, l1_ratio=0.9, max_iter=1000, selection=random, tol=0.001; total time=   1.5s\n"
     ]
    },
    {
     "name": "stderr",
     "output_type": "stream",
     "text": [
      "/Users/zoemarquis/Documents/projet_industrie/projet_batteries/mon_venv/lib/python3.11/site-packages/sklearn/linear_model/_coordinate_descent.py:697: ConvergenceWarning: Objective did not converge. You might want to increase the number of iterations, check the scale of the features or consider increasing regularisation. Duality gap: 2.299e+04, tolerance: 1.416e+03\n",
      "  model = cd_fast.enet_coordinate_descent(\n"
     ]
    },
    {
     "name": "stdout",
     "output_type": "stream",
     "text": [
      "[CV] END alpha=0.01, fit_intercept=False, l1_ratio=0.5, max_iter=10000, selection=cyclic, tol=1e-05; total time=  25.7s\n",
      "[CV] END alpha=0.01, fit_intercept=False, l1_ratio=0.9, max_iter=1000, selection=random, tol=0.0001; total time=   2.3s\n",
      "[CV] END alpha=0.01, fit_intercept=False, l1_ratio=0.5, max_iter=10000, selection=cyclic, tol=1e-05; total time=  25.3s\n",
      "[CV] END alpha=0.01, fit_intercept=False, l1_ratio=0.9, max_iter=1000, selection=random, tol=0.0001; total time=   2.4s\n",
      "[CV] END alpha=0.01, fit_intercept=False, l1_ratio=0.9, max_iter=1000, selection=random, tol=0.0001; total time=   2.4s\n"
     ]
    },
    {
     "name": "stderr",
     "output_type": "stream",
     "text": [
      "/Users/zoemarquis/Documents/projet_industrie/projet_batteries/mon_venv/lib/python3.11/site-packages/sklearn/linear_model/_coordinate_descent.py:697: ConvergenceWarning: Objective did not converge. You might want to increase the number of iterations, check the scale of the features or consider increasing regularisation. Duality gap: 2.327e+04, tolerance: 1.415e+03\n",
      "  model = cd_fast.enet_coordinate_descent(\n"
     ]
    },
    {
     "name": "stdout",
     "output_type": "stream",
     "text": [
      "[CV] END alpha=0.01, fit_intercept=False, l1_ratio=0.9, max_iter=1000, selection=random, tol=0.0001; total time=   2.6s\n"
     ]
    },
    {
     "name": "stderr",
     "output_type": "stream",
     "text": [
      "/Users/zoemarquis/Documents/projet_industrie/projet_batteries/mon_venv/lib/python3.11/site-packages/sklearn/linear_model/_coordinate_descent.py:697: ConvergenceWarning: Objective did not converge. You might want to increase the number of iterations, check the scale of the features or consider increasing regularisation. Duality gap: 7.575e+03, tolerance: 1.414e+03\n",
      "  model = cd_fast.enet_coordinate_descent(\n"
     ]
    },
    {
     "name": "stdout",
     "output_type": "stream",
     "text": [
      "[CV] END alpha=0.01, fit_intercept=False, l1_ratio=0.9, max_iter=1000, selection=random, tol=1e-05; total time=   2.2s\n",
      "[CV] END alpha=0.01, fit_intercept=False, l1_ratio=0.9, max_iter=1000, selection=random, tol=0.0001; total time=   2.5s\n"
     ]
    },
    {
     "name": "stderr",
     "output_type": "stream",
     "text": [
      "/Users/zoemarquis/Documents/projet_industrie/projet_batteries/mon_venv/lib/python3.11/site-packages/sklearn/linear_model/_coordinate_descent.py:697: ConvergenceWarning: Objective did not converge. You might want to increase the number of iterations, check the scale of the features or consider increasing regularisation. Duality gap: 6.842e+03, tolerance: 1.414e+03\n",
      "  model = cd_fast.enet_coordinate_descent(\n"
     ]
    },
    {
     "name": "stdout",
     "output_type": "stream",
     "text": [
      "[CV] END alpha=0.01, fit_intercept=False, l1_ratio=0.9, max_iter=1000, selection=random, tol=1e-05; total time=   2.4s\n"
     ]
    },
    {
     "name": "stderr",
     "output_type": "stream",
     "text": [
      "/Users/zoemarquis/Documents/projet_industrie/projet_batteries/mon_venv/lib/python3.11/site-packages/sklearn/linear_model/_coordinate_descent.py:697: ConvergenceWarning: Objective did not converge. You might want to increase the number of iterations, check the scale of the features or consider increasing regularisation. Duality gap: 6.803e+03, tolerance: 1.415e+03\n",
      "  model = cd_fast.enet_coordinate_descent(\n",
      "/Users/zoemarquis/Documents/projet_industrie/projet_batteries/mon_venv/lib/python3.11/site-packages/sklearn/linear_model/_coordinate_descent.py:697: ConvergenceWarning: Objective did not converge. You might want to increase the number of iterations, check the scale of the features or consider increasing regularisation. Duality gap: 6.762e+03, tolerance: 1.415e+03\n",
      "  model = cd_fast.enet_coordinate_descent(\n",
      "/Users/zoemarquis/Documents/projet_industrie/projet_batteries/mon_venv/lib/python3.11/site-packages/sklearn/linear_model/_coordinate_descent.py:697: ConvergenceWarning: Objective did not converge. You might want to increase the number of iterations, check the scale of the features or consider increasing regularisation. Duality gap: 6.731e+03, tolerance: 1.416e+03\n",
      "  model = cd_fast.enet_coordinate_descent(\n"
     ]
    },
    {
     "name": "stdout",
     "output_type": "stream",
     "text": [
      "[CV] END alpha=0.01, fit_intercept=False, l1_ratio=0.9, max_iter=1000, selection=random, tol=1e-05; total time=   2.5s\n",
      "[CV] END alpha=0.01, fit_intercept=False, l1_ratio=0.9, max_iter=1000, selection=random, tol=1e-05; total time=   2.4s\n",
      "[CV] END alpha=0.01, fit_intercept=False, l1_ratio=0.9, max_iter=1000, selection=random, tol=1e-05; total time=   2.5s\n",
      "[CV] END alpha=0.01, fit_intercept=False, l1_ratio=0.9, max_iter=5000, selection=cyclic, tol=0.001; total time=   2.7s\n",
      "[CV] END alpha=0.01, fit_intercept=False, l1_ratio=0.9, max_iter=5000, selection=cyclic, tol=0.001; total time=   2.8s\n",
      "[CV] END alpha=0.01, fit_intercept=False, l1_ratio=0.9, max_iter=5000, selection=cyclic, tol=0.001; total time=   2.8s\n",
      "[CV] END alpha=0.01, fit_intercept=False, l1_ratio=0.9, max_iter=5000, selection=cyclic, tol=0.001; total time=   2.9s\n",
      "[CV] END alpha=0.01, fit_intercept=False, l1_ratio=0.9, max_iter=5000, selection=cyclic, tol=0.001; total time=   2.9s\n",
      "[CV] END alpha=0.01, fit_intercept=False, l1_ratio=0.9, max_iter=5000, selection=cyclic, tol=0.0001; total time=  10.4s\n",
      "[CV] END alpha=0.01, fit_intercept=False, l1_ratio=0.9, max_iter=5000, selection=cyclic, tol=0.0001; total time=  10.4s\n",
      "[CV] END alpha=0.01, fit_intercept=False, l1_ratio=0.9, max_iter=5000, selection=cyclic, tol=0.0001; total time=  10.7s\n",
      "[CV] END alpha=0.01, fit_intercept=False, l1_ratio=0.9, max_iter=5000, selection=cyclic, tol=0.0001; total time=  10.5s\n",
      "[CV] END alpha=0.01, fit_intercept=False, l1_ratio=0.9, max_iter=5000, selection=cyclic, tol=0.0001; total time=  10.7s\n",
      "[CV] END alpha=0.01, fit_intercept=False, l1_ratio=0.9, max_iter=5000, selection=cyclic, tol=1e-05; total time=  10.5s\n"
     ]
    },
    {
     "name": "stderr",
     "output_type": "stream",
     "text": [
      "/Users/zoemarquis/Documents/projet_industrie/projet_batteries/mon_venv/lib/python3.11/site-packages/sklearn/linear_model/_coordinate_descent.py:697: ConvergenceWarning: Objective did not converge. You might want to increase the number of iterations, check the scale of the features or consider increasing regularisation. Duality gap: 9.758e+03, tolerance: 1.414e+03\n",
      "  model = cd_fast.enet_coordinate_descent(\n",
      "/Users/zoemarquis/Documents/projet_industrie/projet_batteries/mon_venv/lib/python3.11/site-packages/sklearn/linear_model/_coordinate_descent.py:697: ConvergenceWarning: Objective did not converge. You might want to increase the number of iterations, check the scale of the features or consider increasing regularisation. Duality gap: 9.845e+03, tolerance: 1.414e+03\n",
      "  model = cd_fast.enet_coordinate_descent(\n"
     ]
    },
    {
     "name": "stdout",
     "output_type": "stream",
     "text": [
      "[CV] END alpha=0.01, fit_intercept=False, l1_ratio=0.9, max_iter=5000, selection=cyclic, tol=1e-05; total time=  10.6s\n",
      "[CV] END alpha=0.01, fit_intercept=False, l1_ratio=0.9, max_iter=5000, selection=random, tol=0.001; total time=   1.9s\n",
      "[CV] END alpha=0.01, fit_intercept=False, l1_ratio=0.9, max_iter=5000, selection=random, tol=0.001; total time=   1.8s\n"
     ]
    },
    {
     "name": "stderr",
     "output_type": "stream",
     "text": [
      "/Users/zoemarquis/Documents/projet_industrie/projet_batteries/mon_venv/lib/python3.11/site-packages/sklearn/linear_model/_coordinate_descent.py:697: ConvergenceWarning: Objective did not converge. You might want to increase the number of iterations, check the scale of the features or consider increasing regularisation. Duality gap: 9.694e+03, tolerance: 1.415e+03\n",
      "  model = cd_fast.enet_coordinate_descent(\n"
     ]
    },
    {
     "name": "stdout",
     "output_type": "stream",
     "text": [
      "[CV] END alpha=0.01, fit_intercept=False, l1_ratio=0.9, max_iter=5000, selection=cyclic, tol=1e-05; total time=  10.4s\n",
      "[CV] END alpha=0.01, fit_intercept=False, l1_ratio=0.9, max_iter=5000, selection=random, tol=0.001; total time=   1.5s\n",
      "[CV] END alpha=0.01, fit_intercept=False, l1_ratio=0.9, max_iter=5000, selection=random, tol=0.001; total time=   1.6s\n",
      "[CV] END alpha=0.01, fit_intercept=False, l1_ratio=0.9, max_iter=5000, selection=random, tol=0.001; total time=   1.5s\n",
      "[CV] END alpha=0.01, fit_intercept=False, l1_ratio=0.9, max_iter=5000, selection=random, tol=0.0001; total time=   3.0s\n",
      "[CV] END alpha=0.01, fit_intercept=False, l1_ratio=0.9, max_iter=5000, selection=random, tol=0.0001; total time=   2.9s\n",
      "[CV] END alpha=0.01, fit_intercept=False, l1_ratio=0.9, max_iter=5000, selection=random, tol=0.0001; total time=   3.4s\n",
      "[CV] END alpha=0.01, fit_intercept=False, l1_ratio=0.9, max_iter=5000, selection=random, tol=0.0001; total time=   2.9s\n",
      "[CV] END alpha=0.01, fit_intercept=False, l1_ratio=0.9, max_iter=5000, selection=random, tol=0.0001; total time=   3.5s\n",
      "[CV] END alpha=0.01, fit_intercept=False, l1_ratio=0.9, max_iter=5000, selection=random, tol=1e-05; total time=   5.4s\n"
     ]
    },
    {
     "name": "stderr",
     "output_type": "stream",
     "text": [
      "/Users/zoemarquis/Documents/projet_industrie/projet_batteries/mon_venv/lib/python3.11/site-packages/sklearn/linear_model/_coordinate_descent.py:697: ConvergenceWarning: Objective did not converge. You might want to increase the number of iterations, check the scale of the features or consider increasing regularisation. Duality gap: 9.816e+03, tolerance: 1.415e+03\n",
      "  model = cd_fast.enet_coordinate_descent(\n",
      "/Users/zoemarquis/Documents/projet_industrie/projet_batteries/mon_venv/lib/python3.11/site-packages/sklearn/linear_model/_coordinate_descent.py:697: ConvergenceWarning: Objective did not converge. You might want to increase the number of iterations, check the scale of the features or consider increasing regularisation. Duality gap: 9.712e+03, tolerance: 1.416e+03\n",
      "  model = cd_fast.enet_coordinate_descent(\n"
     ]
    },
    {
     "name": "stdout",
     "output_type": "stream",
     "text": [
      "[CV] END alpha=0.01, fit_intercept=False, l1_ratio=0.9, max_iter=5000, selection=cyclic, tol=1e-05; total time=   9.4s\n",
      "[CV] END alpha=0.01, fit_intercept=False, l1_ratio=0.9, max_iter=5000, selection=cyclic, tol=1e-05; total time=   9.5s\n",
      "[CV] END alpha=0.01, fit_intercept=False, l1_ratio=0.9, max_iter=10000, selection=cyclic, tol=0.001; total time=   3.0s\n",
      "[CV] END alpha=0.01, fit_intercept=False, l1_ratio=0.9, max_iter=5000, selection=random, tol=1e-05; total time=   5.3s\n",
      "[CV] END alpha=0.01, fit_intercept=False, l1_ratio=0.9, max_iter=5000, selection=random, tol=1e-05; total time=   5.6s\n",
      "[CV] END alpha=0.01, fit_intercept=False, l1_ratio=0.9, max_iter=5000, selection=random, tol=1e-05; total time=   5.4s\n",
      "[CV] END alpha=0.01, fit_intercept=False, l1_ratio=0.9, max_iter=5000, selection=random, tol=1e-05; total time=   5.4s\n",
      "[CV] END alpha=0.01, fit_intercept=False, l1_ratio=0.9, max_iter=10000, selection=cyclic, tol=0.001; total time=   3.0s\n",
      "[CV] END alpha=0.01, fit_intercept=False, l1_ratio=0.9, max_iter=10000, selection=cyclic, tol=0.001; total time=   2.8s\n",
      "[CV] END alpha=0.01, fit_intercept=False, l1_ratio=0.9, max_iter=10000, selection=cyclic, tol=0.001; total time=   3.0s\n",
      "[CV] END alpha=0.01, fit_intercept=False, l1_ratio=0.9, max_iter=10000, selection=cyclic, tol=0.001; total time=   3.0s\n",
      "[CV] END alpha=0.01, fit_intercept=False, l1_ratio=0.9, max_iter=10000, selection=cyclic, tol=0.0001; total time=  20.8s\n",
      "[CV] END alpha=0.01, fit_intercept=False, l1_ratio=0.9, max_iter=10000, selection=cyclic, tol=0.0001; total time=  20.9s\n",
      "[CV] END alpha=0.01, fit_intercept=False, l1_ratio=0.9, max_iter=10000, selection=cyclic, tol=0.0001; total time=  20.9s\n",
      "[CV] END alpha=0.01, fit_intercept=False, l1_ratio=0.9, max_iter=10000, selection=cyclic, tol=0.0001; total time=  21.0s\n",
      "[CV] END alpha=0.01, fit_intercept=False, l1_ratio=0.9, max_iter=10000, selection=cyclic, tol=0.0001; total time=  20.8s\n"
     ]
    },
    {
     "name": "stderr",
     "output_type": "stream",
     "text": [
      "/Users/zoemarquis/Documents/projet_industrie/projet_batteries/mon_venv/lib/python3.11/site-packages/sklearn/linear_model/_coordinate_descent.py:697: ConvergenceWarning: Objective did not converge. You might want to increase the number of iterations, check the scale of the features or consider increasing regularisation. Duality gap: 5.210e+03, tolerance: 1.414e+03\n",
      "  model = cd_fast.enet_coordinate_descent(\n"
     ]
    },
    {
     "name": "stdout",
     "output_type": "stream",
     "text": [
      "[CV] END alpha=0.01, fit_intercept=False, l1_ratio=0.9, max_iter=10000, selection=cyclic, tol=1e-05; total time=  20.8s\n"
     ]
    },
    {
     "name": "stderr",
     "output_type": "stream",
     "text": [
      "/Users/zoemarquis/Documents/projet_industrie/projet_batteries/mon_venv/lib/python3.11/site-packages/sklearn/linear_model/_coordinate_descent.py:697: ConvergenceWarning: Objective did not converge. You might want to increase the number of iterations, check the scale of the features or consider increasing regularisation. Duality gap: 5.170e+03, tolerance: 1.415e+03\n",
      "  model = cd_fast.enet_coordinate_descent(\n",
      "/Users/zoemarquis/Documents/projet_industrie/projet_batteries/mon_venv/lib/python3.11/site-packages/sklearn/linear_model/_coordinate_descent.py:697: ConvergenceWarning: Objective did not converge. You might want to increase the number of iterations, check the scale of the features or consider increasing regularisation. Duality gap: 5.158e+03, tolerance: 1.414e+03\n",
      "  model = cd_fast.enet_coordinate_descent(\n"
     ]
    },
    {
     "name": "stdout",
     "output_type": "stream",
     "text": [
      "[CV] END alpha=0.01, fit_intercept=False, l1_ratio=0.9, max_iter=10000, selection=cyclic, tol=1e-05; total time=  20.9s\n",
      "[CV] END alpha=0.01, fit_intercept=False, l1_ratio=0.9, max_iter=10000, selection=random, tol=0.001; total time=   1.6s\n",
      "[CV] END alpha=0.01, fit_intercept=False, l1_ratio=0.9, max_iter=10000, selection=cyclic, tol=1e-05; total time=  21.1s\n",
      "[CV] END alpha=0.01, fit_intercept=False, l1_ratio=0.9, max_iter=10000, selection=random, tol=0.001; total time=   1.6s\n",
      "[CV] END alpha=0.01, fit_intercept=False, l1_ratio=0.9, max_iter=10000, selection=random, tol=0.001; total time=   1.6s\n",
      "[CV] END alpha=0.01, fit_intercept=False, l1_ratio=0.9, max_iter=10000, selection=random, tol=0.001; total time=   1.5s\n",
      "[CV] END alpha=0.01, fit_intercept=False, l1_ratio=0.9, max_iter=10000, selection=random, tol=0.001; total time=   1.5s\n",
      "[CV] END alpha=0.01, fit_intercept=False, l1_ratio=0.9, max_iter=10000, selection=random, tol=0.0001; total time=   3.1s\n",
      "[CV] END alpha=0.01, fit_intercept=False, l1_ratio=0.9, max_iter=10000, selection=random, tol=0.0001; total time=   3.3s\n",
      "[CV] END alpha=0.01, fit_intercept=False, l1_ratio=0.9, max_iter=10000, selection=random, tol=0.0001; total time=   2.9s\n",
      "[CV] END alpha=0.01, fit_intercept=False, l1_ratio=0.9, max_iter=10000, selection=random, tol=0.0001; total time=   2.9s\n",
      "[CV] END alpha=0.01, fit_intercept=False, l1_ratio=0.9, max_iter=10000, selection=random, tol=0.0001; total time=   3.7s\n",
      "[CV] END alpha=0.1, fit_intercept=True, l1_ratio=0.1, max_iter=1000, selection=cyclic, tol=0.001; total time=   0.2s\n",
      "[CV] END alpha=0.1, fit_intercept=True, l1_ratio=0.1, max_iter=1000, selection=cyclic, tol=0.001; total time=   0.1s\n",
      "[CV] END alpha=0.1, fit_intercept=True, l1_ratio=0.1, max_iter=1000, selection=cyclic, tol=0.001; total time=   0.1s\n",
      "[CV] END alpha=0.1, fit_intercept=True, l1_ratio=0.1, max_iter=1000, selection=cyclic, tol=0.001; total time=   0.1s\n",
      "[CV] END alpha=0.1, fit_intercept=True, l1_ratio=0.1, max_iter=1000, selection=cyclic, tol=0.001; total time=   0.1s\n",
      "[CV] END alpha=0.1, fit_intercept=True, l1_ratio=0.1, max_iter=1000, selection=cyclic, tol=0.0001; total time=   0.2s\n",
      "[CV] END alpha=0.1, fit_intercept=True, l1_ratio=0.1, max_iter=1000, selection=cyclic, tol=0.0001; total time=   0.2s\n",
      "[CV] END alpha=0.1, fit_intercept=True, l1_ratio=0.1, max_iter=1000, selection=cyclic, tol=0.0001; total time=   0.2s\n",
      "[CV] END alpha=0.1, fit_intercept=True, l1_ratio=0.1, max_iter=1000, selection=cyclic, tol=0.0001; total time=   0.1s\n",
      "[CV] END alpha=0.1, fit_intercept=True, l1_ratio=0.1, max_iter=1000, selection=cyclic, tol=0.0001; total time=   0.1s\n",
      "[CV] END alpha=0.1, fit_intercept=True, l1_ratio=0.1, max_iter=1000, selection=cyclic, tol=1e-05; total time=   0.2s\n",
      "[CV] END alpha=0.1, fit_intercept=True, l1_ratio=0.1, max_iter=1000, selection=cyclic, tol=1e-05; total time=   0.2s\n",
      "[CV] END alpha=0.1, fit_intercept=True, l1_ratio=0.1, max_iter=1000, selection=cyclic, tol=1e-05; total time=   0.2s\n",
      "[CV] END alpha=0.01, fit_intercept=False, l1_ratio=0.9, max_iter=10000, selection=random, tol=1e-05; total time=   5.4s\n",
      "[CV] END alpha=0.1, fit_intercept=True, l1_ratio=0.1, max_iter=1000, selection=cyclic, tol=1e-05; total time=   0.2s\n",
      "[CV] END alpha=0.1, fit_intercept=True, l1_ratio=0.1, max_iter=1000, selection=random, tol=0.001; total time=   0.1s\n",
      "[CV] END alpha=0.1, fit_intercept=True, l1_ratio=0.1, max_iter=1000, selection=cyclic, tol=1e-05; total time=   0.2s\n",
      "[CV] END alpha=0.1, fit_intercept=True, l1_ratio=0.1, max_iter=1000, selection=random, tol=0.001; total time=   0.1s\n",
      "[CV] END alpha=0.1, fit_intercept=True, l1_ratio=0.1, max_iter=1000, selection=random, tol=0.001; total time=   0.1s\n",
      "[CV] END alpha=0.1, fit_intercept=True, l1_ratio=0.1, max_iter=1000, selection=random, tol=0.001; total time=   0.1s\n",
      "[CV] END alpha=0.1, fit_intercept=True, l1_ratio=0.1, max_iter=1000, selection=random, tol=0.001; total time=   0.1s\n",
      "[CV] END alpha=0.1, fit_intercept=True, l1_ratio=0.1, max_iter=1000, selection=random, tol=0.0001; total time=   0.1s\n",
      "[CV] END alpha=0.1, fit_intercept=True, l1_ratio=0.1, max_iter=1000, selection=random, tol=0.0001; total time=   0.1s\n",
      "[CV] END alpha=0.1, fit_intercept=True, l1_ratio=0.1, max_iter=1000, selection=random, tol=0.0001; total time=   0.1s\n",
      "[CV] END alpha=0.1, fit_intercept=True, l1_ratio=0.1, max_iter=1000, selection=random, tol=0.0001; total time=   0.1s\n",
      "[CV] END alpha=0.1, fit_intercept=True, l1_ratio=0.1, max_iter=1000, selection=random, tol=0.0001; total time=   0.1s\n",
      "[CV] END alpha=0.1, fit_intercept=True, l1_ratio=0.1, max_iter=1000, selection=random, tol=1e-05; total time=   0.1s\n",
      "[CV] END alpha=0.1, fit_intercept=True, l1_ratio=0.1, max_iter=1000, selection=random, tol=1e-05; total time=   0.1s\n",
      "[CV] END alpha=0.1, fit_intercept=True, l1_ratio=0.1, max_iter=1000, selection=random, tol=1e-05; total time=   0.2s\n",
      "[CV] END alpha=0.1, fit_intercept=True, l1_ratio=0.1, max_iter=1000, selection=random, tol=1e-05; total time=   0.1s\n",
      "[CV] END alpha=0.1, fit_intercept=True, l1_ratio=0.1, max_iter=1000, selection=random, tol=1e-05; total time=   0.2s\n",
      "[CV] END alpha=0.1, fit_intercept=True, l1_ratio=0.1, max_iter=5000, selection=cyclic, tol=0.001; total time=   0.1s\n",
      "[CV] END alpha=0.1, fit_intercept=True, l1_ratio=0.1, max_iter=5000, selection=cyclic, tol=0.001; total time=   0.1s\n",
      "[CV] END alpha=0.1, fit_intercept=True, l1_ratio=0.1, max_iter=5000, selection=cyclic, tol=0.001; total time=   0.1s\n",
      "[CV] END alpha=0.1, fit_intercept=True, l1_ratio=0.1, max_iter=5000, selection=cyclic, tol=0.001; total time=   0.1s\n",
      "[CV] END alpha=0.1, fit_intercept=True, l1_ratio=0.1, max_iter=5000, selection=cyclic, tol=0.001; total time=   0.1s\n",
      "[CV] END alpha=0.01, fit_intercept=False, l1_ratio=0.9, max_iter=10000, selection=random, tol=1e-05; total time=   5.2s\n",
      "[CV] END alpha=0.1, fit_intercept=True, l1_ratio=0.1, max_iter=5000, selection=cyclic, tol=0.0001; total time=   0.2s\n",
      "[CV] END alpha=0.1, fit_intercept=True, l1_ratio=0.1, max_iter=5000, selection=cyclic, tol=0.0001; total time=   0.2s\n",
      "[CV] END alpha=0.01, fit_intercept=False, l1_ratio=0.9, max_iter=10000, selection=random, tol=1e-05; total time=   5.1s\n",
      "[CV] END alpha=0.1, fit_intercept=True, l1_ratio=0.1, max_iter=5000, selection=cyclic, tol=0.0001; total time=   0.2s\n",
      "[CV] END alpha=0.1, fit_intercept=True, l1_ratio=0.1, max_iter=5000, selection=cyclic, tol=0.0001; total time=   0.1s\n",
      "[CV] END alpha=0.1, fit_intercept=True, l1_ratio=0.1, max_iter=5000, selection=cyclic, tol=0.0001; total time=   0.2s\n",
      "[CV] END alpha=0.1, fit_intercept=True, l1_ratio=0.1, max_iter=5000, selection=cyclic, tol=1e-05; total time=   0.2s\n",
      "[CV] END alpha=0.1, fit_intercept=True, l1_ratio=0.1, max_iter=5000, selection=cyclic, tol=1e-05; total time=   0.2s\n",
      "[CV] END alpha=0.1, fit_intercept=True, l1_ratio=0.1, max_iter=5000, selection=cyclic, tol=1e-05; total time=   0.2s\n",
      "[CV] END alpha=0.1, fit_intercept=True, l1_ratio=0.1, max_iter=5000, selection=random, tol=0.001; total time=   0.1s\n",
      "[CV] END alpha=0.1, fit_intercept=True, l1_ratio=0.1, max_iter=5000, selection=cyclic, tol=1e-05; total time=   0.2s\n",
      "[CV] END alpha=0.1, fit_intercept=True, l1_ratio=0.1, max_iter=5000, selection=random, tol=0.001; total time=   0.1s\n",
      "[CV] END alpha=0.1, fit_intercept=True, l1_ratio=0.1, max_iter=5000, selection=random, tol=0.001; total time=   0.1s\n",
      "[CV] END alpha=0.1, fit_intercept=True, l1_ratio=0.1, max_iter=5000, selection=random, tol=0.001; total time=   0.1s\n",
      "[CV] END alpha=0.01, fit_intercept=False, l1_ratio=0.9, max_iter=10000, selection=random, tol=1e-05; total time=   5.4s\n",
      "[CV] END alpha=0.1, fit_intercept=True, l1_ratio=0.1, max_iter=5000, selection=cyclic, tol=1e-05; total time=   0.2s\n",
      "[CV] END alpha=0.1, fit_intercept=True, l1_ratio=0.1, max_iter=5000, selection=random, tol=0.001; total time=   0.1s\n",
      "[CV] END alpha=0.1, fit_intercept=True, l1_ratio=0.1, max_iter=5000, selection=random, tol=0.0001; total time=   0.1s\n",
      "[CV] END alpha=0.1, fit_intercept=True, l1_ratio=0.1, max_iter=5000, selection=random, tol=0.0001; total time=   0.1s\n",
      "[CV] END alpha=0.1, fit_intercept=True, l1_ratio=0.1, max_iter=5000, selection=random, tol=0.0001; total time=   0.1s\n",
      "[CV] END alpha=0.1, fit_intercept=True, l1_ratio=0.1, max_iter=5000, selection=random, tol=0.0001; total time=   0.1s\n",
      "[CV] END alpha=0.01, fit_intercept=False, l1_ratio=0.9, max_iter=10000, selection=random, tol=1e-05; total time=   5.5s\n",
      "[CV] END alpha=0.1, fit_intercept=True, l1_ratio=0.1, max_iter=5000, selection=random, tol=1e-05; total time=   0.1s\n",
      "[CV] END alpha=0.1, fit_intercept=True, l1_ratio=0.1, max_iter=5000, selection=random, tol=0.0001; total time=   0.1s\n",
      "[CV] END alpha=0.1, fit_intercept=True, l1_ratio=0.1, max_iter=5000, selection=random, tol=1e-05; total time=   0.1s\n",
      "[CV] END alpha=0.1, fit_intercept=True, l1_ratio=0.1, max_iter=5000, selection=random, tol=1e-05; total time=   0.1s\n",
      "[CV] END alpha=0.1, fit_intercept=True, l1_ratio=0.1, max_iter=5000, selection=random, tol=1e-05; total time=   0.2s\n",
      "[CV] END alpha=0.1, fit_intercept=True, l1_ratio=0.1, max_iter=5000, selection=random, tol=1e-05; total time=   0.1s\n",
      "[CV] END alpha=0.1, fit_intercept=True, l1_ratio=0.1, max_iter=10000, selection=cyclic, tol=0.001; total time=   0.1s\n",
      "[CV] END alpha=0.1, fit_intercept=True, l1_ratio=0.1, max_iter=10000, selection=cyclic, tol=0.001; total time=   0.2s\n",
      "[CV] END alpha=0.1, fit_intercept=True, l1_ratio=0.1, max_iter=10000, selection=cyclic, tol=0.001; total time=   0.2s\n",
      "[CV] END alpha=0.1, fit_intercept=True, l1_ratio=0.1, max_iter=10000, selection=cyclic, tol=0.001; total time=   0.1s\n",
      "[CV] END alpha=0.1, fit_intercept=True, l1_ratio=0.1, max_iter=10000, selection=cyclic, tol=0.001; total time=   0.2s\n",
      "[CV] END alpha=0.1, fit_intercept=True, l1_ratio=0.1, max_iter=10000, selection=cyclic, tol=0.0001; total time=   0.1s\n",
      "[CV] END alpha=0.1, fit_intercept=True, l1_ratio=0.1, max_iter=10000, selection=cyclic, tol=0.0001; total time=   0.2s\n",
      "[CV] END alpha=0.1, fit_intercept=True, l1_ratio=0.1, max_iter=10000, selection=cyclic, tol=0.0001; total time=   0.1s\n",
      "[CV] END alpha=0.1, fit_intercept=True, l1_ratio=0.1, max_iter=10000, selection=cyclic, tol=0.0001; total time=   0.2s\n",
      "[CV] END alpha=0.1, fit_intercept=True, l1_ratio=0.1, max_iter=10000, selection=cyclic, tol=0.0001; total time=   0.2s\n",
      "[CV] END alpha=0.1, fit_intercept=True, l1_ratio=0.1, max_iter=10000, selection=cyclic, tol=1e-05; total time=   0.2s\n",
      "[CV] END alpha=0.1, fit_intercept=True, l1_ratio=0.1, max_iter=10000, selection=random, tol=0.001; total time=   0.1s\n",
      "[CV] END alpha=0.1, fit_intercept=True, l1_ratio=0.1, max_iter=10000, selection=cyclic, tol=1e-05; total time=   0.2s\n",
      "[CV] END alpha=0.1, fit_intercept=True, l1_ratio=0.1, max_iter=10000, selection=cyclic, tol=1e-05; total time=   0.2s\n",
      "[CV] END alpha=0.1, fit_intercept=True, l1_ratio=0.1, max_iter=10000, selection=random, tol=0.001; total time=   0.1s\n",
      "[CV] END alpha=0.1, fit_intercept=True, l1_ratio=0.1, max_iter=10000, selection=cyclic, tol=1e-05; total time=   0.2s\n",
      "[CV] END alpha=0.1, fit_intercept=True, l1_ratio=0.1, max_iter=10000, selection=random, tol=0.001; total time=   0.1s\n",
      "[CV] END alpha=0.1, fit_intercept=True, l1_ratio=0.1, max_iter=10000, selection=random, tol=0.001; total time=   0.1s\n",
      "[CV] END alpha=0.1, fit_intercept=True, l1_ratio=0.1, max_iter=10000, selection=random, tol=0.001; total time=   0.1s\n",
      "[CV] END alpha=0.1, fit_intercept=True, l1_ratio=0.1, max_iter=10000, selection=cyclic, tol=1e-05; total time=   0.2s\n",
      "[CV] END alpha=0.1, fit_intercept=True, l1_ratio=0.1, max_iter=10000, selection=random, tol=0.0001; total time=   0.1s\n",
      "[CV] END alpha=0.1, fit_intercept=True, l1_ratio=0.1, max_iter=10000, selection=random, tol=0.0001; total time=   0.1s\n",
      "[CV] END alpha=0.1, fit_intercept=True, l1_ratio=0.1, max_iter=10000, selection=random, tol=0.0001; total time=   0.1s\n",
      "[CV] END alpha=0.1, fit_intercept=True, l1_ratio=0.1, max_iter=10000, selection=random, tol=0.0001; total time=   0.1s\n",
      "[CV] END alpha=0.1, fit_intercept=True, l1_ratio=0.1, max_iter=10000, selection=random, tol=0.0001; total time=   0.1s\n",
      "[CV] END alpha=0.1, fit_intercept=True, l1_ratio=0.1, max_iter=10000, selection=random, tol=1e-05; total time=   0.1s\n",
      "[CV] END alpha=0.1, fit_intercept=True, l1_ratio=0.1, max_iter=10000, selection=random, tol=1e-05; total time=   0.1s\n",
      "[CV] END alpha=0.1, fit_intercept=True, l1_ratio=0.1, max_iter=10000, selection=random, tol=1e-05; total time=   0.1s\n",
      "[CV] END alpha=0.1, fit_intercept=True, l1_ratio=0.1, max_iter=10000, selection=random, tol=1e-05; total time=   0.2s\n",
      "[CV] END alpha=0.1, fit_intercept=True, l1_ratio=0.1, max_iter=10000, selection=random, tol=1e-05; total time=   0.2s\n",
      "[CV] END alpha=0.1, fit_intercept=True, l1_ratio=0.5, max_iter=1000, selection=cyclic, tol=0.001; total time=   0.2s\n",
      "[CV] END alpha=0.1, fit_intercept=True, l1_ratio=0.5, max_iter=1000, selection=cyclic, tol=0.001; total time=   0.1s\n",
      "[CV] END alpha=0.1, fit_intercept=True, l1_ratio=0.5, max_iter=1000, selection=cyclic, tol=0.001; total time=   0.2s\n",
      "[CV] END alpha=0.1, fit_intercept=True, l1_ratio=0.5, max_iter=1000, selection=cyclic, tol=0.001; total time=   0.2s\n",
      "[CV] END alpha=0.1, fit_intercept=True, l1_ratio=0.5, max_iter=1000, selection=cyclic, tol=0.001; total time=   0.2s\n",
      "[CV] END alpha=0.1, fit_intercept=True, l1_ratio=0.5, max_iter=1000, selection=cyclic, tol=0.0001; total time=   0.2s\n",
      "[CV] END alpha=0.1, fit_intercept=True, l1_ratio=0.5, max_iter=1000, selection=cyclic, tol=0.0001; total time=   0.2s\n",
      "[CV] END alpha=0.1, fit_intercept=True, l1_ratio=0.5, max_iter=1000, selection=cyclic, tol=0.0001; total time=   0.3s\n",
      "[CV] END alpha=0.1, fit_intercept=True, l1_ratio=0.5, max_iter=1000, selection=cyclic, tol=0.0001; total time=   0.2s\n",
      "[CV] END alpha=0.1, fit_intercept=True, l1_ratio=0.5, max_iter=1000, selection=cyclic, tol=0.0001; total time=   0.2s\n",
      "[CV] END alpha=0.1, fit_intercept=True, l1_ratio=0.5, max_iter=1000, selection=random, tol=0.001; total time=   0.1s\n",
      "[CV] END alpha=0.1, fit_intercept=True, l1_ratio=0.5, max_iter=1000, selection=cyclic, tol=1e-05; total time=   0.2s\n",
      "[CV] END alpha=0.1, fit_intercept=True, l1_ratio=0.5, max_iter=1000, selection=cyclic, tol=1e-05; total time=   0.2s\n",
      "[CV] END alpha=0.1, fit_intercept=True, l1_ratio=0.5, max_iter=1000, selection=random, tol=0.001; total time=   0.1s\n",
      "[CV] END alpha=0.1, fit_intercept=True, l1_ratio=0.5, max_iter=1000, selection=cyclic, tol=1e-05; total time=   0.3s\n",
      "[CV] END alpha=0.1, fit_intercept=True, l1_ratio=0.5, max_iter=1000, selection=random, tol=0.001; total time=   0.1s\n",
      "[CV] END alpha=0.1, fit_intercept=True, l1_ratio=0.5, max_iter=1000, selection=cyclic, tol=1e-05; total time=   0.2s\n",
      "[CV] END alpha=0.1, fit_intercept=True, l1_ratio=0.5, max_iter=1000, selection=random, tol=0.001; total time=   0.1s\n",
      "[CV] END alpha=0.1, fit_intercept=True, l1_ratio=0.5, max_iter=1000, selection=random, tol=0.001; total time=   0.1s\n",
      "[CV] END alpha=0.1, fit_intercept=True, l1_ratio=0.5, max_iter=1000, selection=random, tol=0.0001; total time=   0.1s\n",
      "[CV] END alpha=0.1, fit_intercept=True, l1_ratio=0.5, max_iter=1000, selection=cyclic, tol=1e-05; total time=   0.3s\n",
      "[CV] END alpha=0.1, fit_intercept=True, l1_ratio=0.5, max_iter=1000, selection=random, tol=0.0001; total time=   0.1s\n",
      "[CV] END alpha=0.1, fit_intercept=True, l1_ratio=0.5, max_iter=1000, selection=random, tol=0.0001; total time=   0.1s\n",
      "[CV] END alpha=0.1, fit_intercept=True, l1_ratio=0.5, max_iter=1000, selection=random, tol=1e-05; total time=   0.1s\n",
      "[CV] END alpha=0.1, fit_intercept=True, l1_ratio=0.5, max_iter=1000, selection=random, tol=0.0001; total time=   0.1s\n",
      "[CV] END alpha=0.1, fit_intercept=True, l1_ratio=0.5, max_iter=1000, selection=random, tol=0.0001; total time=   0.1s\n",
      "[CV] END alpha=0.1, fit_intercept=True, l1_ratio=0.5, max_iter=1000, selection=random, tol=1e-05; total time=   0.1s\n",
      "[CV] END alpha=0.1, fit_intercept=True, l1_ratio=0.5, max_iter=1000, selection=random, tol=1e-05; total time=   0.1s\n",
      "[CV] END alpha=0.1, fit_intercept=True, l1_ratio=0.5, max_iter=1000, selection=random, tol=1e-05; total time=   0.1s\n",
      "[CV] END alpha=0.1, fit_intercept=True, l1_ratio=0.5, max_iter=5000, selection=cyclic, tol=0.001; total time=   0.1s\n",
      "[CV] END alpha=0.1, fit_intercept=True, l1_ratio=0.5, max_iter=1000, selection=random, tol=1e-05; total time=   0.1s\n",
      "[CV] END alpha=0.1, fit_intercept=True, l1_ratio=0.5, max_iter=5000, selection=cyclic, tol=0.001; total time=   0.2s\n",
      "[CV] END alpha=0.1, fit_intercept=True, l1_ratio=0.5, max_iter=5000, selection=cyclic, tol=0.001; total time=   0.1s\n",
      "[CV] END alpha=0.1, fit_intercept=True, l1_ratio=0.5, max_iter=5000, selection=cyclic, tol=0.001; total time=   0.2s\n",
      "[CV] END alpha=0.1, fit_intercept=True, l1_ratio=0.5, max_iter=5000, selection=cyclic, tol=0.001; total time=   0.2s\n",
      "[CV] END alpha=0.1, fit_intercept=True, l1_ratio=0.5, max_iter=5000, selection=cyclic, tol=0.0001; total time=   0.2s\n",
      "[CV] END alpha=0.1, fit_intercept=True, l1_ratio=0.5, max_iter=5000, selection=cyclic, tol=0.0001; total time=   0.2s\n",
      "[CV] END alpha=0.1, fit_intercept=True, l1_ratio=0.5, max_iter=5000, selection=cyclic, tol=0.0001; total time=   0.2s\n",
      "[CV] END alpha=0.1, fit_intercept=True, l1_ratio=0.5, max_iter=5000, selection=cyclic, tol=0.0001; total time=   0.2s\n",
      "[CV] END alpha=0.1, fit_intercept=True, l1_ratio=0.5, max_iter=5000, selection=cyclic, tol=0.0001; total time=   0.2s\n",
      "[CV] END alpha=0.1, fit_intercept=True, l1_ratio=0.5, max_iter=5000, selection=cyclic, tol=1e-05; total time=   0.3s\n",
      "[CV] END alpha=0.1, fit_intercept=True, l1_ratio=0.5, max_iter=5000, selection=random, tol=0.001; total time=   0.1s\n",
      "[CV] END alpha=0.1, fit_intercept=True, l1_ratio=0.5, max_iter=5000, selection=cyclic, tol=1e-05; total time=   0.2s\n",
      "[CV] END alpha=0.1, fit_intercept=True, l1_ratio=0.5, max_iter=5000, selection=cyclic, tol=1e-05; total time=   0.3s\n",
      "[CV] END alpha=0.1, fit_intercept=True, l1_ratio=0.5, max_iter=5000, selection=cyclic, tol=1e-05; total time=   0.3s\n",
      "[CV] END alpha=0.1, fit_intercept=True, l1_ratio=0.5, max_iter=5000, selection=cyclic, tol=1e-05; total time=   0.3s\n",
      "[CV] END alpha=0.1, fit_intercept=True, l1_ratio=0.5, max_iter=5000, selection=random, tol=0.001; total time=   0.1s\n",
      "[CV] END alpha=0.1, fit_intercept=True, l1_ratio=0.5, max_iter=5000, selection=random, tol=0.001; total time=   0.1s\n",
      "[CV] END alpha=0.1, fit_intercept=True, l1_ratio=0.5, max_iter=5000, selection=random, tol=0.001; total time=   0.1s\n",
      "[CV] END alpha=0.1, fit_intercept=True, l1_ratio=0.5, max_iter=5000, selection=random, tol=0.001; total time=   0.1s\n",
      "[CV] END alpha=0.1, fit_intercept=True, l1_ratio=0.5, max_iter=5000, selection=random, tol=0.0001; total time=   0.1s\n",
      "[CV] END alpha=0.1, fit_intercept=True, l1_ratio=0.5, max_iter=5000, selection=random, tol=0.0001; total time=   0.1s\n",
      "[CV] END alpha=0.1, fit_intercept=True, l1_ratio=0.5, max_iter=5000, selection=random, tol=0.0001; total time=   0.1s\n",
      "[CV] END alpha=0.1, fit_intercept=True, l1_ratio=0.5, max_iter=5000, selection=random, tol=0.0001; total time=   0.1s\n",
      "[CV] END alpha=0.1, fit_intercept=True, l1_ratio=0.5, max_iter=5000, selection=random, tol=1e-05; total time=   0.1s\n",
      "[CV] END alpha=0.1, fit_intercept=True, l1_ratio=0.5, max_iter=5000, selection=random, tol=0.0001; total time=   0.1s\n",
      "[CV] END alpha=0.1, fit_intercept=True, l1_ratio=0.5, max_iter=5000, selection=random, tol=1e-05; total time=   0.1s\n",
      "[CV] END alpha=0.1, fit_intercept=True, l1_ratio=0.5, max_iter=5000, selection=random, tol=1e-05; total time=   0.1s\n",
      "[CV] END alpha=0.1, fit_intercept=True, l1_ratio=0.5, max_iter=5000, selection=random, tol=1e-05; total time=   0.1s\n",
      "[CV] END alpha=0.1, fit_intercept=True, l1_ratio=0.5, max_iter=5000, selection=random, tol=1e-05; total time=   0.2s\n",
      "[CV] END alpha=0.1, fit_intercept=True, l1_ratio=0.5, max_iter=10000, selection=cyclic, tol=0.001; total time=   0.2s\n",
      "[CV] END alpha=0.1, fit_intercept=True, l1_ratio=0.5, max_iter=10000, selection=cyclic, tol=0.001; total time=   0.2s\n",
      "[CV] END alpha=0.1, fit_intercept=True, l1_ratio=0.5, max_iter=10000, selection=cyclic, tol=0.001; total time=   0.1s\n",
      "[CV] END alpha=0.1, fit_intercept=True, l1_ratio=0.5, max_iter=10000, selection=cyclic, tol=0.001; total time=   0.2s\n",
      "[CV] END alpha=0.1, fit_intercept=True, l1_ratio=0.5, max_iter=10000, selection=cyclic, tol=0.001; total time=   0.2s\n",
      "[CV] END alpha=0.1, fit_intercept=True, l1_ratio=0.5, max_iter=10000, selection=cyclic, tol=0.0001; total time=   0.2s\n",
      "[CV] END alpha=0.1, fit_intercept=True, l1_ratio=0.5, max_iter=10000, selection=cyclic, tol=0.0001; total time=   0.2s\n",
      "[CV] END alpha=0.1, fit_intercept=True, l1_ratio=0.5, max_iter=10000, selection=cyclic, tol=0.0001; total time=   0.2s\n",
      "[CV] END alpha=0.1, fit_intercept=True, l1_ratio=0.5, max_iter=10000, selection=cyclic, tol=0.0001; total time=   0.2s\n",
      "[CV] END alpha=0.1, fit_intercept=True, l1_ratio=0.5, max_iter=10000, selection=cyclic, tol=0.0001; total time=   0.2s\n",
      "[CV] END alpha=0.1, fit_intercept=True, l1_ratio=0.5, max_iter=10000, selection=random, tol=0.001; total time=   0.1s\n",
      "[CV] END alpha=0.1, fit_intercept=True, l1_ratio=0.5, max_iter=10000, selection=cyclic, tol=1e-05; total time=   0.3s\n",
      "[CV] END alpha=0.1, fit_intercept=True, l1_ratio=0.5, max_iter=10000, selection=random, tol=0.001; total time=   0.1s\n",
      "[CV] END alpha=0.1, fit_intercept=True, l1_ratio=0.5, max_iter=10000, selection=cyclic, tol=1e-05; total time=   0.3s\n",
      "[CV] END alpha=0.1, fit_intercept=True, l1_ratio=0.5, max_iter=10000, selection=random, tol=0.001; total time=   0.1s\n",
      "[CV] END alpha=0.1, fit_intercept=True, l1_ratio=0.5, max_iter=10000, selection=cyclic, tol=1e-05; total time=   0.3s\n",
      "[CV] END alpha=0.1, fit_intercept=True, l1_ratio=0.5, max_iter=10000, selection=cyclic, tol=1e-05; total time=   0.3s\n",
      "[CV] END alpha=0.1, fit_intercept=True, l1_ratio=0.5, max_iter=10000, selection=random, tol=0.001; total time=   0.1s\n",
      "[CV] END alpha=0.1, fit_intercept=True, l1_ratio=0.5, max_iter=10000, selection=cyclic, tol=1e-05; total time=   0.3s\n",
      "[CV] END alpha=0.1, fit_intercept=True, l1_ratio=0.5, max_iter=10000, selection=random, tol=0.001; total time=   0.1s\n",
      "[CV] END alpha=0.1, fit_intercept=True, l1_ratio=0.5, max_iter=10000, selection=random, tol=0.0001; total time=   0.1s\n",
      "[CV] END alpha=0.1, fit_intercept=True, l1_ratio=0.5, max_iter=10000, selection=random, tol=0.0001; total time=   0.1s\n",
      "[CV] END alpha=0.1, fit_intercept=True, l1_ratio=0.5, max_iter=10000, selection=random, tol=0.0001; total time=   0.1s\n",
      "[CV] END alpha=0.1, fit_intercept=True, l1_ratio=0.5, max_iter=10000, selection=random, tol=0.0001; total time=   0.2s\n",
      "[CV] END alpha=0.1, fit_intercept=True, l1_ratio=0.5, max_iter=10000, selection=random, tol=0.0001; total time=   0.2s\n",
      "[CV] END alpha=0.1, fit_intercept=True, l1_ratio=0.5, max_iter=10000, selection=random, tol=1e-05; total time=   0.2s\n",
      "[CV] END alpha=0.1, fit_intercept=True, l1_ratio=0.5, max_iter=10000, selection=random, tol=1e-05; total time=   0.1s\n",
      "[CV] END alpha=0.1, fit_intercept=True, l1_ratio=0.5, max_iter=10000, selection=random, tol=1e-05; total time=   0.1s\n",
      "[CV] END alpha=0.1, fit_intercept=True, l1_ratio=0.5, max_iter=10000, selection=random, tol=1e-05; total time=   0.1s\n",
      "[CV] END alpha=0.1, fit_intercept=True, l1_ratio=0.5, max_iter=10000, selection=random, tol=1e-05; total time=   0.1s\n",
      "[CV] END alpha=0.1, fit_intercept=True, l1_ratio=0.9, max_iter=1000, selection=cyclic, tol=0.001; total time=   0.4s\n",
      "[CV] END alpha=0.1, fit_intercept=True, l1_ratio=0.9, max_iter=1000, selection=cyclic, tol=0.001; total time=   0.4s\n",
      "[CV] END alpha=0.1, fit_intercept=True, l1_ratio=0.9, max_iter=1000, selection=cyclic, tol=0.001; total time=   0.3s\n",
      "[CV] END alpha=0.1, fit_intercept=True, l1_ratio=0.9, max_iter=1000, selection=cyclic, tol=0.001; total time=   0.4s\n",
      "[CV] END alpha=0.1, fit_intercept=True, l1_ratio=0.9, max_iter=1000, selection=cyclic, tol=0.001; total time=   0.4s\n",
      "[CV] END alpha=0.1, fit_intercept=True, l1_ratio=0.9, max_iter=1000, selection=cyclic, tol=0.0001; total time=   0.5s\n",
      "[CV] END alpha=0.1, fit_intercept=True, l1_ratio=0.9, max_iter=1000, selection=cyclic, tol=0.0001; total time=   0.5s\n",
      "[CV] END alpha=0.1, fit_intercept=True, l1_ratio=0.9, max_iter=1000, selection=cyclic, tol=0.0001; total time=   0.6s\n",
      "[CV] END alpha=0.1, fit_intercept=True, l1_ratio=0.9, max_iter=1000, selection=cyclic, tol=0.0001; total time=   0.6s\n",
      "[CV] END alpha=0.1, fit_intercept=True, l1_ratio=0.9, max_iter=1000, selection=cyclic, tol=0.0001; total time=   0.6s\n",
      "[CV] END alpha=0.1, fit_intercept=True, l1_ratio=0.9, max_iter=1000, selection=cyclic, tol=1e-05; total time=   0.7s\n",
      "[CV] END alpha=0.1, fit_intercept=True, l1_ratio=0.9, max_iter=1000, selection=random, tol=0.001; total time=   0.1s\n",
      "[CV] END alpha=0.1, fit_intercept=True, l1_ratio=0.9, max_iter=1000, selection=random, tol=0.001; total time=   0.1s\n",
      "[CV] END alpha=0.1, fit_intercept=True, l1_ratio=0.9, max_iter=1000, selection=random, tol=0.001; total time=   0.1s\n",
      "[CV] END alpha=0.1, fit_intercept=True, l1_ratio=0.9, max_iter=1000, selection=random, tol=0.001; total time=   0.1s\n",
      "[CV] END alpha=0.1, fit_intercept=True, l1_ratio=0.9, max_iter=1000, selection=random, tol=0.001; total time=   0.1s\n",
      "[CV] END alpha=0.1, fit_intercept=True, l1_ratio=0.9, max_iter=1000, selection=cyclic, tol=1e-05; total time=   0.7s\n",
      "[CV] END alpha=0.1, fit_intercept=True, l1_ratio=0.9, max_iter=1000, selection=random, tol=0.0001; total time=   0.2s\n",
      "[CV] END alpha=0.1, fit_intercept=True, l1_ratio=0.9, max_iter=1000, selection=random, tol=0.0001; total time=   0.2s\n",
      "[CV] END alpha=0.1, fit_intercept=True, l1_ratio=0.9, max_iter=1000, selection=cyclic, tol=1e-05; total time=   0.7s\n",
      "[CV] END alpha=0.1, fit_intercept=True, l1_ratio=0.9, max_iter=1000, selection=random, tol=0.0001; total time=   0.1s\n",
      "[CV] END alpha=0.1, fit_intercept=True, l1_ratio=0.9, max_iter=1000, selection=random, tol=0.0001; total time=   0.1s\n",
      "[CV] END alpha=0.1, fit_intercept=True, l1_ratio=0.9, max_iter=1000, selection=random, tol=0.0001; total time=   0.2s\n",
      "[CV] END alpha=0.1, fit_intercept=True, l1_ratio=0.9, max_iter=1000, selection=cyclic, tol=1e-05; total time=   0.7s\n",
      "[CV] END alpha=0.1, fit_intercept=True, l1_ratio=0.9, max_iter=1000, selection=cyclic, tol=1e-05; total time=   0.7s\n",
      "[CV] END alpha=0.1, fit_intercept=True, l1_ratio=0.9, max_iter=1000, selection=random, tol=1e-05; total time=   0.2s\n",
      "[CV] END alpha=0.1, fit_intercept=True, l1_ratio=0.9, max_iter=1000, selection=random, tol=1e-05; total time=   0.2s\n",
      "[CV] END alpha=0.1, fit_intercept=True, l1_ratio=0.9, max_iter=1000, selection=random, tol=1e-05; total time=   0.2s\n",
      "[CV] END alpha=0.1, fit_intercept=True, l1_ratio=0.9, max_iter=1000, selection=random, tol=1e-05; total time=   0.1s\n",
      "[CV] END alpha=0.1, fit_intercept=True, l1_ratio=0.9, max_iter=1000, selection=random, tol=1e-05; total time=   0.2s\n",
      "[CV] END alpha=0.1, fit_intercept=True, l1_ratio=0.9, max_iter=5000, selection=cyclic, tol=0.001; total time=   0.3s\n",
      "[CV] END alpha=0.1, fit_intercept=True, l1_ratio=0.9, max_iter=5000, selection=cyclic, tol=0.001; total time=   0.3s\n",
      "[CV] END alpha=0.1, fit_intercept=True, l1_ratio=0.9, max_iter=5000, selection=cyclic, tol=0.001; total time=   0.3s\n",
      "[CV] END alpha=0.1, fit_intercept=True, l1_ratio=0.9, max_iter=5000, selection=cyclic, tol=0.001; total time=   0.4s\n",
      "[CV] END alpha=0.1, fit_intercept=True, l1_ratio=0.9, max_iter=5000, selection=cyclic, tol=0.001; total time=   0.5s\n",
      "[CV] END alpha=0.1, fit_intercept=True, l1_ratio=0.9, max_iter=5000, selection=cyclic, tol=0.0001; total time=   0.6s\n",
      "[CV] END alpha=0.1, fit_intercept=True, l1_ratio=0.9, max_iter=5000, selection=cyclic, tol=0.0001; total time=   0.5s\n",
      "[CV] END alpha=0.1, fit_intercept=True, l1_ratio=0.9, max_iter=5000, selection=cyclic, tol=0.0001; total time=   0.5s\n",
      "[CV] END alpha=0.1, fit_intercept=True, l1_ratio=0.9, max_iter=5000, selection=cyclic, tol=0.0001; total time=   0.6s\n",
      "[CV] END alpha=0.1, fit_intercept=True, l1_ratio=0.9, max_iter=5000, selection=cyclic, tol=0.0001; total time=   0.6s\n",
      "[CV] END alpha=0.1, fit_intercept=True, l1_ratio=0.9, max_iter=5000, selection=random, tol=0.001; total time=   0.1s\n",
      "[CV] END alpha=0.1, fit_intercept=True, l1_ratio=0.9, max_iter=5000, selection=random, tol=0.001; total time=   0.1s\n",
      "[CV] END alpha=0.1, fit_intercept=True, l1_ratio=0.9, max_iter=5000, selection=random, tol=0.001; total time=   0.1s\n",
      "[CV] END alpha=0.1, fit_intercept=True, l1_ratio=0.9, max_iter=5000, selection=cyclic, tol=1e-05; total time=   0.7s\n",
      "[CV] END alpha=0.1, fit_intercept=True, l1_ratio=0.9, max_iter=5000, selection=random, tol=0.001; total time=   0.1s\n",
      "[CV] END alpha=0.1, fit_intercept=True, l1_ratio=0.9, max_iter=5000, selection=random, tol=0.001; total time=   0.1s\n",
      "[CV] END alpha=0.1, fit_intercept=True, l1_ratio=0.9, max_iter=5000, selection=cyclic, tol=1e-05; total time=   0.7s\n",
      "[CV] END alpha=0.1, fit_intercept=True, l1_ratio=0.9, max_iter=5000, selection=random, tol=0.0001; total time=   0.1s\n",
      "[CV] END alpha=0.1, fit_intercept=True, l1_ratio=0.9, max_iter=5000, selection=random, tol=0.0001; total time=   0.1s\n",
      "[CV] END alpha=0.1, fit_intercept=True, l1_ratio=0.9, max_iter=5000, selection=random, tol=0.0001; total time=   0.1s\n",
      "[CV] END alpha=0.1, fit_intercept=True, l1_ratio=0.9, max_iter=5000, selection=cyclic, tol=1e-05; total time=   0.7s\n",
      "[CV] END alpha=0.1, fit_intercept=True, l1_ratio=0.9, max_iter=5000, selection=cyclic, tol=1e-05; total time=   0.7s\n",
      "[CV] END alpha=0.1, fit_intercept=True, l1_ratio=0.9, max_iter=5000, selection=cyclic, tol=1e-05; total time=   0.6s\n",
      "[CV] END alpha=0.1, fit_intercept=True, l1_ratio=0.9, max_iter=5000, selection=random, tol=0.0001; total time=   0.1s\n",
      "[CV] END alpha=0.1, fit_intercept=True, l1_ratio=0.9, max_iter=5000, selection=random, tol=0.0001; total time=   0.1s\n",
      "[CV] END alpha=0.1, fit_intercept=True, l1_ratio=0.9, max_iter=5000, selection=random, tol=1e-05; total time=   0.2s\n",
      "[CV] END alpha=0.1, fit_intercept=True, l1_ratio=0.9, max_iter=5000, selection=random, tol=1e-05; total time=   0.2s\n",
      "[CV] END alpha=0.1, fit_intercept=True, l1_ratio=0.9, max_iter=5000, selection=random, tol=1e-05; total time=   0.2s\n",
      "[CV] END alpha=0.1, fit_intercept=True, l1_ratio=0.9, max_iter=5000, selection=random, tol=1e-05; total time=   0.2s\n",
      "[CV] END alpha=0.1, fit_intercept=True, l1_ratio=0.9, max_iter=5000, selection=random, tol=1e-05; total time=   0.2s\n",
      "[CV] END alpha=0.1, fit_intercept=True, l1_ratio=0.9, max_iter=10000, selection=cyclic, tol=0.001; total time=   0.4s\n",
      "[CV] END alpha=0.1, fit_intercept=True, l1_ratio=0.9, max_iter=10000, selection=cyclic, tol=0.001; total time=   0.3s\n",
      "[CV] END alpha=0.1, fit_intercept=True, l1_ratio=0.9, max_iter=10000, selection=cyclic, tol=0.001; total time=   0.4s\n",
      "[CV] END alpha=0.1, fit_intercept=True, l1_ratio=0.9, max_iter=10000, selection=cyclic, tol=0.001; total time=   0.4s\n",
      "[CV] END alpha=0.1, fit_intercept=True, l1_ratio=0.9, max_iter=10000, selection=cyclic, tol=0.001; total time=   0.4s\n",
      "[CV] END alpha=0.1, fit_intercept=True, l1_ratio=0.9, max_iter=10000, selection=cyclic, tol=0.0001; total time=   0.5s\n",
      "[CV] END alpha=0.1, fit_intercept=True, l1_ratio=0.9, max_iter=10000, selection=cyclic, tol=0.0001; total time=   0.5s\n",
      "[CV] END alpha=0.1, fit_intercept=True, l1_ratio=0.9, max_iter=10000, selection=cyclic, tol=0.0001; total time=   0.5s\n",
      "[CV] END alpha=0.1, fit_intercept=True, l1_ratio=0.9, max_iter=10000, selection=cyclic, tol=0.0001; total time=   0.5s\n",
      "[CV] END alpha=0.1, fit_intercept=True, l1_ratio=0.9, max_iter=10000, selection=cyclic, tol=0.0001; total time=   0.5s\n",
      "[CV] END alpha=0.1, fit_intercept=True, l1_ratio=0.9, max_iter=10000, selection=random, tol=0.001; total time=   0.1s\n",
      "[CV] END alpha=0.1, fit_intercept=True, l1_ratio=0.9, max_iter=10000, selection=cyclic, tol=1e-05; total time=   0.7s\n",
      "[CV] END alpha=0.1, fit_intercept=True, l1_ratio=0.9, max_iter=10000, selection=cyclic, tol=1e-05; total time=   0.7s\n",
      "[CV] END alpha=0.1, fit_intercept=True, l1_ratio=0.9, max_iter=10000, selection=random, tol=0.001; total time=   0.1s\n",
      "[CV] END alpha=0.1, fit_intercept=True, l1_ratio=0.9, max_iter=10000, selection=random, tol=0.001; total time=   0.1s\n",
      "[CV] END alpha=0.1, fit_intercept=True, l1_ratio=0.9, max_iter=10000, selection=random, tol=0.001; total time=   0.1s\n",
      "[CV] END alpha=0.1, fit_intercept=True, l1_ratio=0.9, max_iter=10000, selection=random, tol=0.001; total time=   0.1s\n",
      "[CV] END alpha=0.1, fit_intercept=True, l1_ratio=0.9, max_iter=10000, selection=random, tol=0.0001; total time=   0.1s\n",
      "[CV] END alpha=0.1, fit_intercept=True, l1_ratio=0.9, max_iter=10000, selection=random, tol=0.0001; total time=   0.1s\n",
      "[CV] END alpha=0.1, fit_intercept=True, l1_ratio=0.9, max_iter=10000, selection=cyclic, tol=1e-05; total time=   0.7s\n",
      "[CV] END alpha=0.1, fit_intercept=True, l1_ratio=0.9, max_iter=10000, selection=random, tol=0.0001; total time=   0.1s\n",
      "[CV] END alpha=0.1, fit_intercept=True, l1_ratio=0.9, max_iter=10000, selection=random, tol=0.0001; total time=   0.2s\n",
      "[CV] END alpha=0.1, fit_intercept=True, l1_ratio=0.9, max_iter=10000, selection=random, tol=0.0001; total time=   0.1s\n",
      "[CV] END alpha=0.1, fit_intercept=True, l1_ratio=0.9, max_iter=10000, selection=cyclic, tol=1e-05; total time=   0.7s\n",
      "[CV] END alpha=0.1, fit_intercept=True, l1_ratio=0.9, max_iter=10000, selection=cyclic, tol=1e-05; total time=   0.7s\n",
      "[CV] END alpha=0.1, fit_intercept=True, l1_ratio=0.9, max_iter=10000, selection=random, tol=1e-05; total time=   0.2s\n",
      "[CV] END alpha=0.1, fit_intercept=True, l1_ratio=0.9, max_iter=10000, selection=random, tol=1e-05; total time=   0.2s\n",
      "[CV] END alpha=0.1, fit_intercept=True, l1_ratio=0.9, max_iter=10000, selection=random, tol=1e-05; total time=   0.1s\n",
      "[CV] END alpha=0.1, fit_intercept=True, l1_ratio=0.9, max_iter=10000, selection=random, tol=1e-05; total time=   0.2s\n",
      "[CV] END alpha=0.1, fit_intercept=True, l1_ratio=0.9, max_iter=10000, selection=random, tol=1e-05; total time=   0.2s\n"
     ]
    },
    {
     "name": "stderr",
     "output_type": "stream",
     "text": [
      "/Users/zoemarquis/Documents/projet_industrie/projet_batteries/mon_venv/lib/python3.11/site-packages/sklearn/linear_model/_coordinate_descent.py:697: ConvergenceWarning: Objective did not converge. You might want to increase the number of iterations, check the scale of the features or consider increasing regularisation. Duality gap: 5.265e+03, tolerance: 1.415e+03\n",
      "  model = cd_fast.enet_coordinate_descent(\n",
      "/Users/zoemarquis/Documents/projet_industrie/projet_batteries/mon_venv/lib/python3.11/site-packages/sklearn/linear_model/_coordinate_descent.py:697: ConvergenceWarning: Objective did not converge. You might want to increase the number of iterations, check the scale of the features or consider increasing regularisation. Duality gap: 5.157e+03, tolerance: 1.416e+03\n",
      "  model = cd_fast.enet_coordinate_descent(\n"
     ]
    },
    {
     "name": "stdout",
     "output_type": "stream",
     "text": [
      "[CV] END alpha=0.01, fit_intercept=False, l1_ratio=0.9, max_iter=10000, selection=cyclic, tol=1e-05; total time=  20.4s\n",
      "[CV] END alpha=0.01, fit_intercept=False, l1_ratio=0.9, max_iter=10000, selection=cyclic, tol=1e-05; total time=  20.7s\n"
     ]
    },
    {
     "name": "stderr",
     "output_type": "stream",
     "text": [
      "/Users/zoemarquis/Documents/projet_industrie/projet_batteries/mon_venv/lib/python3.11/site-packages/sklearn/linear_model/_coordinate_descent.py:697: ConvergenceWarning: Objective did not converge. You might want to increase the number of iterations, check the scale of the features or consider increasing regularisation. Duality gap: 3.101e+05, tolerance: 1.414e+05\n",
      "  model = cd_fast.enet_coordinate_descent(\n",
      "/Users/zoemarquis/Documents/projet_industrie/projet_batteries/mon_venv/lib/python3.11/site-packages/sklearn/linear_model/_coordinate_descent.py:697: ConvergenceWarning: Objective did not converge. You might want to increase the number of iterations, check the scale of the features or consider increasing regularisation. Duality gap: 3.100e+05, tolerance: 1.415e+05\n",
      "  model = cd_fast.enet_coordinate_descent(\n",
      "/Users/zoemarquis/Documents/projet_industrie/projet_batteries/mon_venv/lib/python3.11/site-packages/sklearn/linear_model/_coordinate_descent.py:697: ConvergenceWarning: Objective did not converge. You might want to increase the number of iterations, check the scale of the features or consider increasing regularisation. Duality gap: 3.103e+05, tolerance: 1.414e+04\n",
      "  model = cd_fast.enet_coordinate_descent(\n",
      "/Users/zoemarquis/Documents/projet_industrie/projet_batteries/mon_venv/lib/python3.11/site-packages/sklearn/linear_model/_coordinate_descent.py:697: ConvergenceWarning: Objective did not converge. You might want to increase the number of iterations, check the scale of the features or consider increasing regularisation. Duality gap: 3.108e+05, tolerance: 1.415e+05\n",
      "  model = cd_fast.enet_coordinate_descent(\n",
      "/Users/zoemarquis/Documents/projet_industrie/projet_batteries/mon_venv/lib/python3.11/site-packages/sklearn/linear_model/_coordinate_descent.py:697: ConvergenceWarning: Objective did not converge. You might want to increase the number of iterations, check the scale of the features or consider increasing regularisation. Duality gap: 3.104e+05, tolerance: 1.416e+05\n",
      "  model = cd_fast.enet_coordinate_descent(\n",
      "/Users/zoemarquis/Documents/projet_industrie/projet_batteries/mon_venv/lib/python3.11/site-packages/sklearn/linear_model/_coordinate_descent.py:697: ConvergenceWarning: Objective did not converge. You might want to increase the number of iterations, check the scale of the features or consider increasing regularisation. Duality gap: 3.103e+05, tolerance: 1.414e+05\n",
      "  model = cd_fast.enet_coordinate_descent(\n"
     ]
    },
    {
     "name": "stdout",
     "output_type": "stream",
     "text": [
      "[CV] END alpha=0.1, fit_intercept=False, l1_ratio=0.1, max_iter=1000, selection=cyclic, tol=0.001; total time=   2.9s\n",
      "[CV] END alpha=0.1, fit_intercept=False, l1_ratio=0.1, max_iter=1000, selection=cyclic, tol=0.001; total time=   2.9s\n",
      "[CV] END alpha=0.1, fit_intercept=False, l1_ratio=0.1, max_iter=1000, selection=cyclic, tol=0.0001; total time=   2.9s\n",
      "[CV] END alpha=0.1, fit_intercept=False, l1_ratio=0.1, max_iter=1000, selection=cyclic, tol=0.001; total time=   3.0s\n",
      "[CV] END alpha=0.1, fit_intercept=False, l1_ratio=0.1, max_iter=1000, selection=cyclic, tol=0.001; total time=   3.0s\n",
      "[CV] END alpha=0.1, fit_intercept=False, l1_ratio=0.1, max_iter=1000, selection=cyclic, tol=0.001; total time=   3.2s\n"
     ]
    },
    {
     "name": "stderr",
     "output_type": "stream",
     "text": [
      "/Users/zoemarquis/Documents/projet_industrie/projet_batteries/mon_venv/lib/python3.11/site-packages/sklearn/linear_model/_coordinate_descent.py:697: ConvergenceWarning: Objective did not converge. You might want to increase the number of iterations, check the scale of the features or consider increasing regularisation. Duality gap: 3.101e+05, tolerance: 1.414e+04\n",
      "  model = cd_fast.enet_coordinate_descent(\n",
      "/Users/zoemarquis/Documents/projet_industrie/projet_batteries/mon_venv/lib/python3.11/site-packages/sklearn/linear_model/_coordinate_descent.py:697: ConvergenceWarning: Objective did not converge. You might want to increase the number of iterations, check the scale of the features or consider increasing regularisation. Duality gap: 3.108e+05, tolerance: 1.415e+04\n",
      "  model = cd_fast.enet_coordinate_descent(\n"
     ]
    },
    {
     "name": "stdout",
     "output_type": "stream",
     "text": [
      "[CV] END alpha=0.1, fit_intercept=False, l1_ratio=0.1, max_iter=1000, selection=cyclic, tol=0.0001; total time=   2.8s\n",
      "[CV] END alpha=0.1, fit_intercept=False, l1_ratio=0.1, max_iter=1000, selection=cyclic, tol=0.0001; total time=   2.9s\n",
      "[CV] END alpha=0.1, fit_intercept=False, l1_ratio=0.1, max_iter=1000, selection=random, tol=0.001; total time=   0.3s\n",
      "[CV] END alpha=0.1, fit_intercept=False, l1_ratio=0.1, max_iter=1000, selection=random, tol=0.001; total time=   0.2s\n",
      "[CV] END alpha=0.1, fit_intercept=False, l1_ratio=0.1, max_iter=1000, selection=random, tol=0.001; total time=   0.2s\n",
      "[CV] END alpha=0.1, fit_intercept=False, l1_ratio=0.1, max_iter=1000, selection=random, tol=0.001; total time=   0.2s\n",
      "[CV] END alpha=0.1, fit_intercept=False, l1_ratio=0.1, max_iter=1000, selection=random, tol=0.001; total time=   0.2s\n",
      "[CV] END alpha=0.1, fit_intercept=False, l1_ratio=0.1, max_iter=1000, selection=random, tol=0.0001; total time=   0.3s\n",
      "[CV] END alpha=0.1, fit_intercept=False, l1_ratio=0.1, max_iter=1000, selection=cyclic, tol=0.0001; total time=   2.7s\n",
      "[CV] END alpha=0.1, fit_intercept=False, l1_ratio=0.1, max_iter=1000, selection=cyclic, tol=1e-05; total time=   2.6s\n",
      "[CV] END alpha=0.1, fit_intercept=False, l1_ratio=0.1, max_iter=1000, selection=cyclic, tol=1e-05; total time=   2.7s\n",
      "[CV] END alpha=0.1, fit_intercept=False, l1_ratio=0.1, max_iter=1000, selection=cyclic, tol=1e-05; total time=   2.7s\n"
     ]
    },
    {
     "name": "stderr",
     "output_type": "stream",
     "text": [
      "/Users/zoemarquis/Documents/projet_industrie/projet_batteries/mon_venv/lib/python3.11/site-packages/sklearn/linear_model/_coordinate_descent.py:697: ConvergenceWarning: Objective did not converge. You might want to increase the number of iterations, check the scale of the features or consider increasing regularisation. Duality gap: 3.104e+05, tolerance: 1.416e+04\n",
      "  model = cd_fast.enet_coordinate_descent(\n",
      "/Users/zoemarquis/Documents/projet_industrie/projet_batteries/mon_venv/lib/python3.11/site-packages/sklearn/linear_model/_coordinate_descent.py:697: ConvergenceWarning: Objective did not converge. You might want to increase the number of iterations, check the scale of the features or consider increasing regularisation. Duality gap: 3.103e+05, tolerance: 1.414e+03\n",
      "  model = cd_fast.enet_coordinate_descent(\n",
      "/Users/zoemarquis/Documents/projet_industrie/projet_batteries/mon_venv/lib/python3.11/site-packages/sklearn/linear_model/_coordinate_descent.py:697: ConvergenceWarning: Objective did not converge. You might want to increase the number of iterations, check the scale of the features or consider increasing regularisation. Duality gap: 3.101e+05, tolerance: 1.414e+03\n",
      "  model = cd_fast.enet_coordinate_descent(\n",
      "/Users/zoemarquis/Documents/projet_industrie/projet_batteries/mon_venv/lib/python3.11/site-packages/sklearn/linear_model/_coordinate_descent.py:697: ConvergenceWarning: Objective did not converge. You might want to increase the number of iterations, check the scale of the features or consider increasing regularisation. Duality gap: 3.104e+05, tolerance: 1.416e+03\n",
      "  model = cd_fast.enet_coordinate_descent(\n",
      "/Users/zoemarquis/Documents/projet_industrie/projet_batteries/mon_venv/lib/python3.11/site-packages/sklearn/linear_model/_coordinate_descent.py:697: ConvergenceWarning: Objective did not converge. You might want to increase the number of iterations, check the scale of the features or consider increasing regularisation. Duality gap: 3.100e+05, tolerance: 1.415e+04\n",
      "  model = cd_fast.enet_coordinate_descent(\n",
      "/Users/zoemarquis/Documents/projet_industrie/projet_batteries/mon_venv/lib/python3.11/site-packages/sklearn/linear_model/_coordinate_descent.py:697: ConvergenceWarning: Objective did not converge. You might want to increase the number of iterations, check the scale of the features or consider increasing regularisation. Duality gap: 3.108e+05, tolerance: 1.415e+03\n",
      "  model = cd_fast.enet_coordinate_descent(\n"
     ]
    },
    {
     "name": "stdout",
     "output_type": "stream",
     "text": [
      "[CV] END alpha=0.1, fit_intercept=False, l1_ratio=0.1, max_iter=1000, selection=cyclic, tol=0.0001; total time=   2.8s\n",
      "[CV] END alpha=0.1, fit_intercept=False, l1_ratio=0.1, max_iter=1000, selection=random, tol=0.0001; total time=   0.2s\n",
      "[CV] END alpha=0.1, fit_intercept=False, l1_ratio=0.1, max_iter=1000, selection=random, tol=0.0001; total time=   0.3s\n",
      "[CV] END alpha=0.1, fit_intercept=False, l1_ratio=0.1, max_iter=1000, selection=random, tol=0.0001; total time=   0.3s\n",
      "[CV] END alpha=0.1, fit_intercept=False, l1_ratio=0.1, max_iter=1000, selection=cyclic, tol=1e-05; total time=   2.9s\n",
      "[CV] END alpha=0.1, fit_intercept=False, l1_ratio=0.1, max_iter=1000, selection=random, tol=0.0001; total time=   0.3s\n",
      "[CV] END alpha=0.1, fit_intercept=False, l1_ratio=0.1, max_iter=1000, selection=random, tol=1e-05; total time=   0.3s\n",
      "[CV] END alpha=0.1, fit_intercept=False, l1_ratio=0.1, max_iter=1000, selection=random, tol=1e-05; total time=   0.4s\n",
      "[CV] END alpha=0.1, fit_intercept=False, l1_ratio=0.1, max_iter=1000, selection=random, tol=1e-05; total time=   0.3s\n",
      "[CV] END alpha=0.1, fit_intercept=False, l1_ratio=0.1, max_iter=1000, selection=random, tol=1e-05; total time=   0.3s\n",
      "[CV] END alpha=0.1, fit_intercept=False, l1_ratio=0.1, max_iter=1000, selection=random, tol=1e-05; total time=   0.3s\n"
     ]
    },
    {
     "name": "stderr",
     "output_type": "stream",
     "text": [
      "/Users/zoemarquis/Documents/projet_industrie/projet_batteries/mon_venv/lib/python3.11/site-packages/sklearn/linear_model/_coordinate_descent.py:697: ConvergenceWarning: Objective did not converge. You might want to increase the number of iterations, check the scale of the features or consider increasing regularisation. Duality gap: 3.100e+05, tolerance: 1.415e+03\n",
      "  model = cd_fast.enet_coordinate_descent(\n"
     ]
    },
    {
     "name": "stdout",
     "output_type": "stream",
     "text": [
      "[CV] END alpha=0.1, fit_intercept=False, l1_ratio=0.1, max_iter=1000, selection=cyclic, tol=1e-05; total time=   2.8s\n",
      "[CV] END alpha=0.1, fit_intercept=False, l1_ratio=0.1, max_iter=5000, selection=cyclic, tol=0.001; total time=  12.2s\n",
      "[CV] END alpha=0.1, fit_intercept=False, l1_ratio=0.1, max_iter=5000, selection=cyclic, tol=0.001; total time=  12.4s\n",
      "[CV] END alpha=0.1, fit_intercept=False, l1_ratio=0.1, max_iter=5000, selection=cyclic, tol=0.001; total time=  12.6s\n",
      "[CV] END alpha=0.1, fit_intercept=False, l1_ratio=0.1, max_iter=5000, selection=cyclic, tol=0.001; total time=  12.6s\n",
      "[CV] END alpha=0.1, fit_intercept=False, l1_ratio=0.1, max_iter=5000, selection=cyclic, tol=0.001; total time=  13.1s\n"
     ]
    },
    {
     "name": "stderr",
     "output_type": "stream",
     "text": [
      "/Users/zoemarquis/Documents/projet_industrie/projet_batteries/mon_venv/lib/python3.11/site-packages/sklearn/linear_model/_coordinate_descent.py:697: ConvergenceWarning: Objective did not converge. You might want to increase the number of iterations, check the scale of the features or consider increasing regularisation. Duality gap: 4.762e+04, tolerance: 1.414e+04\n",
      "  model = cd_fast.enet_coordinate_descent(\n",
      "/Users/zoemarquis/Documents/projet_industrie/projet_batteries/mon_venv/lib/python3.11/site-packages/sklearn/linear_model/_coordinate_descent.py:697: ConvergenceWarning: Objective did not converge. You might want to increase the number of iterations, check the scale of the features or consider increasing regularisation. Duality gap: 3.984e+04, tolerance: 1.414e+04\n",
      "  model = cd_fast.enet_coordinate_descent(\n"
     ]
    },
    {
     "name": "stdout",
     "output_type": "stream",
     "text": [
      "[CV] END alpha=0.1, fit_intercept=False, l1_ratio=0.1, max_iter=5000, selection=cyclic, tol=0.0001; total time=  13.5s\n",
      "[CV] END alpha=0.1, fit_intercept=False, l1_ratio=0.1, max_iter=5000, selection=cyclic, tol=0.0001; total time=  13.5s\n"
     ]
    },
    {
     "name": "stderr",
     "output_type": "stream",
     "text": [
      "/Users/zoemarquis/Documents/projet_industrie/projet_batteries/mon_venv/lib/python3.11/site-packages/sklearn/linear_model/_coordinate_descent.py:697: ConvergenceWarning: Objective did not converge. You might want to increase the number of iterations, check the scale of the features or consider increasing regularisation. Duality gap: 4.037e+04, tolerance: 1.415e+04\n",
      "  model = cd_fast.enet_coordinate_descent(\n"
     ]
    },
    {
     "name": "stdout",
     "output_type": "stream",
     "text": [
      "[CV] END alpha=0.1, fit_intercept=False, l1_ratio=0.1, max_iter=5000, selection=cyclic, tol=0.0001; total time=  13.3s\n",
      "[CV] END alpha=0.1, fit_intercept=False, l1_ratio=0.1, max_iter=5000, selection=random, tol=0.001; total time=   0.2s\n",
      "[CV] END alpha=0.1, fit_intercept=False, l1_ratio=0.1, max_iter=5000, selection=random, tol=0.001; total time=   0.3s\n",
      "[CV] END alpha=0.1, fit_intercept=False, l1_ratio=0.1, max_iter=5000, selection=random, tol=0.001; total time=   0.2s\n",
      "[CV] END alpha=0.1, fit_intercept=False, l1_ratio=0.1, max_iter=5000, selection=random, tol=0.001; total time=   0.2s\n",
      "[CV] END alpha=0.1, fit_intercept=False, l1_ratio=0.1, max_iter=5000, selection=random, tol=0.001; total time=   0.2s\n",
      "[CV] END alpha=0.1, fit_intercept=False, l1_ratio=0.1, max_iter=5000, selection=random, tol=0.0001; total time=   0.2s\n",
      "[CV] END alpha=0.1, fit_intercept=False, l1_ratio=0.1, max_iter=5000, selection=random, tol=0.0001; total time=   0.3s\n",
      "[CV] END alpha=0.1, fit_intercept=False, l1_ratio=0.1, max_iter=5000, selection=random, tol=0.0001; total time=   0.3s\n",
      "[CV] END alpha=0.1, fit_intercept=False, l1_ratio=0.1, max_iter=5000, selection=random, tol=0.0001; total time=   0.3s\n",
      "[CV] END alpha=0.1, fit_intercept=False, l1_ratio=0.1, max_iter=5000, selection=random, tol=0.0001; total time=   0.3s\n",
      "[CV] END alpha=0.1, fit_intercept=False, l1_ratio=0.1, max_iter=5000, selection=random, tol=1e-05; total time=   0.3s\n",
      "[CV] END alpha=0.1, fit_intercept=False, l1_ratio=0.1, max_iter=5000, selection=random, tol=1e-05; total time=   0.3s\n",
      "[CV] END alpha=0.1, fit_intercept=False, l1_ratio=0.1, max_iter=5000, selection=random, tol=1e-05; total time=   0.3s\n",
      "[CV] END alpha=0.1, fit_intercept=False, l1_ratio=0.1, max_iter=5000, selection=random, tol=1e-05; total time=   0.2s\n",
      "[CV] END alpha=0.1, fit_intercept=False, l1_ratio=0.1, max_iter=5000, selection=random, tol=1e-05; total time=   0.3s\n"
     ]
    },
    {
     "name": "stderr",
     "output_type": "stream",
     "text": [
      "/Users/zoemarquis/Documents/projet_industrie/projet_batteries/mon_venv/lib/python3.11/site-packages/sklearn/linear_model/_coordinate_descent.py:697: ConvergenceWarning: Objective did not converge. You might want to increase the number of iterations, check the scale of the features or consider increasing regularisation. Duality gap: 4.410e+04, tolerance: 1.416e+04\n",
      "  model = cd_fast.enet_coordinate_descent(\n"
     ]
    },
    {
     "name": "stdout",
     "output_type": "stream",
     "text": [
      "[CV] END alpha=0.1, fit_intercept=False, l1_ratio=0.1, max_iter=5000, selection=cyclic, tol=0.0001; total time=  14.9s\n"
     ]
    },
    {
     "name": "stderr",
     "output_type": "stream",
     "text": [
      "/Users/zoemarquis/Documents/projet_industrie/projet_batteries/mon_venv/lib/python3.11/site-packages/sklearn/linear_model/_coordinate_descent.py:697: ConvergenceWarning: Objective did not converge. You might want to increase the number of iterations, check the scale of the features or consider increasing regularisation. Duality gap: 4.762e+04, tolerance: 1.414e+03\n",
      "  model = cd_fast.enet_coordinate_descent(\n",
      "/Users/zoemarquis/Documents/projet_industrie/projet_batteries/mon_venv/lib/python3.11/site-packages/sklearn/linear_model/_coordinate_descent.py:697: ConvergenceWarning: Objective did not converge. You might want to increase the number of iterations, check the scale of the features or consider increasing regularisation. Duality gap: 4.504e+04, tolerance: 1.415e+04\n",
      "  model = cd_fast.enet_coordinate_descent(\n",
      "/Users/zoemarquis/Documents/projet_industrie/projet_batteries/mon_venv/lib/python3.11/site-packages/sklearn/linear_model/_coordinate_descent.py:697: ConvergenceWarning: Objective did not converge. You might want to increase the number of iterations, check the scale of the features or consider increasing regularisation. Duality gap: 3.984e+04, tolerance: 1.414e+03\n",
      "  model = cd_fast.enet_coordinate_descent(\n"
     ]
    },
    {
     "name": "stdout",
     "output_type": "stream",
     "text": [
      "[CV] END alpha=0.1, fit_intercept=False, l1_ratio=0.1, max_iter=5000, selection=cyclic, tol=1e-05; total time=  15.3s\n",
      "[CV] END alpha=0.1, fit_intercept=False, l1_ratio=0.1, max_iter=5000, selection=cyclic, tol=0.0001; total time=  15.4s\n",
      "[CV] END alpha=0.1, fit_intercept=False, l1_ratio=0.1, max_iter=5000, selection=cyclic, tol=1e-05; total time=  15.3s\n"
     ]
    },
    {
     "name": "stderr",
     "output_type": "stream",
     "text": [
      "/Users/zoemarquis/Documents/projet_industrie/projet_batteries/mon_venv/lib/python3.11/site-packages/sklearn/linear_model/_coordinate_descent.py:697: ConvergenceWarning: Objective did not converge. You might want to increase the number of iterations, check the scale of the features or consider increasing regularisation. Duality gap: 4.037e+04, tolerance: 1.415e+03\n",
      "  model = cd_fast.enet_coordinate_descent(\n"
     ]
    },
    {
     "name": "stdout",
     "output_type": "stream",
     "text": [
      "[CV] END alpha=0.1, fit_intercept=False, l1_ratio=0.1, max_iter=5000, selection=cyclic, tol=1e-05; total time=  15.2s\n"
     ]
    },
    {
     "name": "stderr",
     "output_type": "stream",
     "text": [
      "/Users/zoemarquis/Documents/projet_industrie/projet_batteries/mon_venv/lib/python3.11/site-packages/sklearn/linear_model/_coordinate_descent.py:697: ConvergenceWarning: Objective did not converge. You might want to increase the number of iterations, check the scale of the features or consider increasing regularisation. Duality gap: 4.410e+04, tolerance: 1.416e+03\n",
      "  model = cd_fast.enet_coordinate_descent(\n",
      "/Users/zoemarquis/Documents/projet_industrie/projet_batteries/mon_venv/lib/python3.11/site-packages/sklearn/linear_model/_coordinate_descent.py:697: ConvergenceWarning: Objective did not converge. You might want to increase the number of iterations, check the scale of the features or consider increasing regularisation. Duality gap: 4.504e+04, tolerance: 1.415e+03\n",
      "  model = cd_fast.enet_coordinate_descent(\n"
     ]
    },
    {
     "name": "stdout",
     "output_type": "stream",
     "text": [
      "[CV] END alpha=0.1, fit_intercept=False, l1_ratio=0.1, max_iter=5000, selection=cyclic, tol=1e-05; total time=  14.9s\n",
      "[CV] END alpha=0.1, fit_intercept=False, l1_ratio=0.1, max_iter=5000, selection=cyclic, tol=1e-05; total time=  15.0s\n",
      "[CV] END alpha=0.1, fit_intercept=False, l1_ratio=0.1, max_iter=10000, selection=cyclic, tol=0.001; total time=  14.2s\n",
      "[CV] END alpha=0.1, fit_intercept=False, l1_ratio=0.1, max_iter=10000, selection=cyclic, tol=0.001; total time=  14.2s\n",
      "[CV] END alpha=0.1, fit_intercept=False, l1_ratio=0.1, max_iter=10000, selection=cyclic, tol=0.001; total time=  13.8s\n",
      "[CV] END alpha=0.1, fit_intercept=False, l1_ratio=0.1, max_iter=10000, selection=cyclic, tol=0.001; total time=  13.9s\n",
      "[CV] END alpha=0.1, fit_intercept=False, l1_ratio=0.1, max_iter=10000, selection=cyclic, tol=0.001; total time=  13.9s\n",
      "[CV] END alpha=0.1, fit_intercept=False, l1_ratio=0.1, max_iter=10000, selection=cyclic, tol=0.0001; total time=  29.2s\n",
      "[CV] END alpha=0.1, fit_intercept=False, l1_ratio=0.1, max_iter=10000, selection=cyclic, tol=0.0001; total time=  29.5s\n",
      "[CV] END alpha=0.1, fit_intercept=False, l1_ratio=0.1, max_iter=10000, selection=cyclic, tol=0.0001; total time=  29.5s\n",
      "[CV] END alpha=0.1, fit_intercept=False, l1_ratio=0.1, max_iter=10000, selection=random, tol=0.001; total time=   0.2s\n",
      "[CV] END alpha=0.1, fit_intercept=False, l1_ratio=0.1, max_iter=10000, selection=random, tol=0.001; total time=   0.2s\n",
      "[CV] END alpha=0.1, fit_intercept=False, l1_ratio=0.1, max_iter=10000, selection=random, tol=0.001; total time=   0.2s\n",
      "[CV] END alpha=0.1, fit_intercept=False, l1_ratio=0.1, max_iter=10000, selection=random, tol=0.001; total time=   0.3s\n",
      "[CV] END alpha=0.1, fit_intercept=False, l1_ratio=0.1, max_iter=10000, selection=random, tol=0.001; total time=   0.2s\n",
      "[CV] END alpha=0.1, fit_intercept=False, l1_ratio=0.1, max_iter=10000, selection=random, tol=0.0001; total time=   0.3s\n",
      "[CV] END alpha=0.1, fit_intercept=False, l1_ratio=0.1, max_iter=10000, selection=random, tol=0.0001; total time=   0.3s\n",
      "[CV] END alpha=0.1, fit_intercept=False, l1_ratio=0.1, max_iter=10000, selection=random, tol=0.0001; total time=   0.3s\n",
      "[CV] END alpha=0.1, fit_intercept=False, l1_ratio=0.1, max_iter=10000, selection=random, tol=0.0001; total time=   0.3s\n",
      "[CV] END alpha=0.1, fit_intercept=False, l1_ratio=0.1, max_iter=10000, selection=cyclic, tol=0.0001; total time=  28.6s\n",
      "[CV] END alpha=0.1, fit_intercept=False, l1_ratio=0.1, max_iter=10000, selection=random, tol=0.0001; total time=   0.3s\n",
      "[CV] END alpha=0.1, fit_intercept=False, l1_ratio=0.1, max_iter=10000, selection=random, tol=1e-05; total time=   0.3s\n",
      "[CV] END alpha=0.1, fit_intercept=False, l1_ratio=0.1, max_iter=10000, selection=random, tol=1e-05; total time=   0.3s\n",
      "[CV] END alpha=0.1, fit_intercept=False, l1_ratio=0.1, max_iter=10000, selection=random, tol=1e-05; total time=   0.3s\n",
      "[CV] END alpha=0.1, fit_intercept=False, l1_ratio=0.1, max_iter=10000, selection=random, tol=1e-05; total time=   0.4s\n",
      "[CV] END alpha=0.1, fit_intercept=False, l1_ratio=0.1, max_iter=10000, selection=random, tol=1e-05; total time=   0.3s\n"
     ]
    },
    {
     "name": "stderr",
     "output_type": "stream",
     "text": [
      "/Users/zoemarquis/Documents/projet_industrie/projet_batteries/mon_venv/lib/python3.11/site-packages/sklearn/linear_model/_coordinate_descent.py:697: ConvergenceWarning: Objective did not converge. You might want to increase the number of iterations, check the scale of the features or consider increasing regularisation. Duality gap: 2.384e+05, tolerance: 1.414e+05\n",
      "  model = cd_fast.enet_coordinate_descent(\n"
     ]
    },
    {
     "name": "stdout",
     "output_type": "stream",
     "text": [
      "[CV] END alpha=0.1, fit_intercept=False, l1_ratio=0.5, max_iter=1000, selection=cyclic, tol=0.001; total time=   2.5s\n"
     ]
    },
    {
     "name": "stderr",
     "output_type": "stream",
     "text": [
      "/Users/zoemarquis/Documents/projet_industrie/projet_batteries/mon_venv/lib/python3.11/site-packages/sklearn/linear_model/_coordinate_descent.py:697: ConvergenceWarning: Objective did not converge. You might want to increase the number of iterations, check the scale of the features or consider increasing regularisation. Duality gap: 2.393e+05, tolerance: 1.414e+05\n",
      "  model = cd_fast.enet_coordinate_descent(\n"
     ]
    },
    {
     "name": "stdout",
     "output_type": "stream",
     "text": [
      "[CV] END alpha=0.1, fit_intercept=False, l1_ratio=0.5, max_iter=1000, selection=cyclic, tol=0.001; total time=   2.6s\n"
     ]
    },
    {
     "name": "stderr",
     "output_type": "stream",
     "text": [
      "/Users/zoemarquis/Documents/projet_industrie/projet_batteries/mon_venv/lib/python3.11/site-packages/sklearn/linear_model/_coordinate_descent.py:697: ConvergenceWarning: Objective did not converge. You might want to increase the number of iterations, check the scale of the features or consider increasing regularisation. Duality gap: 2.398e+05, tolerance: 1.415e+05\n",
      "  model = cd_fast.enet_coordinate_descent(\n"
     ]
    },
    {
     "name": "stdout",
     "output_type": "stream",
     "text": [
      "[CV] END alpha=0.1, fit_intercept=False, l1_ratio=0.5, max_iter=1000, selection=cyclic, tol=0.001; total time=   2.5s\n"
     ]
    },
    {
     "name": "stderr",
     "output_type": "stream",
     "text": [
      "/Users/zoemarquis/Documents/projet_industrie/projet_batteries/mon_venv/lib/python3.11/site-packages/sklearn/linear_model/_coordinate_descent.py:697: ConvergenceWarning: Objective did not converge. You might want to increase the number of iterations, check the scale of the features or consider increasing regularisation. Duality gap: 2.389e+05, tolerance: 1.416e+05\n",
      "  model = cd_fast.enet_coordinate_descent(\n"
     ]
    },
    {
     "name": "stdout",
     "output_type": "stream",
     "text": [
      "[CV] END alpha=0.1, fit_intercept=False, l1_ratio=0.5, max_iter=1000, selection=cyclic, tol=0.001; total time=   2.8s\n"
     ]
    },
    {
     "name": "stderr",
     "output_type": "stream",
     "text": [
      "/Users/zoemarquis/Documents/projet_industrie/projet_batteries/mon_venv/lib/python3.11/site-packages/sklearn/linear_model/_coordinate_descent.py:697: ConvergenceWarning: Objective did not converge. You might want to increase the number of iterations, check the scale of the features or consider increasing regularisation. Duality gap: 2.385e+05, tolerance: 1.415e+05\n",
      "  model = cd_fast.enet_coordinate_descent(\n"
     ]
    },
    {
     "name": "stdout",
     "output_type": "stream",
     "text": [
      "[CV] END alpha=0.1, fit_intercept=False, l1_ratio=0.5, max_iter=1000, selection=cyclic, tol=0.001; total time=   2.7s\n"
     ]
    },
    {
     "name": "stderr",
     "output_type": "stream",
     "text": [
      "/Users/zoemarquis/Documents/projet_industrie/projet_batteries/mon_venv/lib/python3.11/site-packages/sklearn/linear_model/_coordinate_descent.py:697: ConvergenceWarning: Objective did not converge. You might want to increase the number of iterations, check the scale of the features or consider increasing regularisation. Duality gap: 2.384e+05, tolerance: 1.414e+04\n",
      "  model = cd_fast.enet_coordinate_descent(\n"
     ]
    },
    {
     "name": "stdout",
     "output_type": "stream",
     "text": [
      "[CV] END alpha=0.1, fit_intercept=False, l1_ratio=0.5, max_iter=1000, selection=cyclic, tol=0.0001; total time=   2.6s\n",
      "[CV] END alpha=0.1, fit_intercept=False, l1_ratio=0.1, max_iter=10000, selection=cyclic, tol=0.0001; total time=  29.7s\n"
     ]
    },
    {
     "name": "stderr",
     "output_type": "stream",
     "text": [
      "/Users/zoemarquis/Documents/projet_industrie/projet_batteries/mon_venv/lib/python3.11/site-packages/sklearn/linear_model/_coordinate_descent.py:697: ConvergenceWarning: Objective did not converge. You might want to increase the number of iterations, check the scale of the features or consider increasing regularisation. Duality gap: 2.393e+05, tolerance: 1.414e+04\n",
      "  model = cd_fast.enet_coordinate_descent(\n"
     ]
    },
    {
     "name": "stdout",
     "output_type": "stream",
     "text": [
      "[CV] END alpha=0.1, fit_intercept=False, l1_ratio=0.5, max_iter=1000, selection=cyclic, tol=0.0001; total time=   2.6s\n"
     ]
    },
    {
     "name": "stderr",
     "output_type": "stream",
     "text": [
      "/Users/zoemarquis/Documents/projet_industrie/projet_batteries/mon_venv/lib/python3.11/site-packages/sklearn/linear_model/_coordinate_descent.py:697: ConvergenceWarning: Objective did not converge. You might want to increase the number of iterations, check the scale of the features or consider increasing regularisation. Duality gap: 2.398e+05, tolerance: 1.415e+04\n",
      "  model = cd_fast.enet_coordinate_descent(\n"
     ]
    },
    {
     "name": "stdout",
     "output_type": "stream",
     "text": [
      "[CV] END alpha=0.1, fit_intercept=False, l1_ratio=0.5, max_iter=1000, selection=cyclic, tol=0.0001; total time=   2.6s\n"
     ]
    },
    {
     "name": "stderr",
     "output_type": "stream",
     "text": [
      "/Users/zoemarquis/Documents/projet_industrie/projet_batteries/mon_venv/lib/python3.11/site-packages/sklearn/linear_model/_coordinate_descent.py:697: ConvergenceWarning: Objective did not converge. You might want to increase the number of iterations, check the scale of the features or consider increasing regularisation. Duality gap: 3.347e+03, tolerance: 1.415e+03\n",
      "  model = cd_fast.enet_coordinate_descent(\n",
      "/Users/zoemarquis/Documents/projet_industrie/projet_batteries/mon_venv/lib/python3.11/site-packages/sklearn/linear_model/_coordinate_descent.py:697: ConvergenceWarning: Objective did not converge. You might want to increase the number of iterations, check the scale of the features or consider increasing regularisation. Duality gap: 3.853e+03, tolerance: 1.414e+03\n",
      "  model = cd_fast.enet_coordinate_descent(\n"
     ]
    },
    {
     "name": "stdout",
     "output_type": "stream",
     "text": [
      "[CV] END alpha=0.1, fit_intercept=False, l1_ratio=0.1, max_iter=10000, selection=cyclic, tol=1e-05; total time=  31.2s\n",
      "[CV] END alpha=0.1, fit_intercept=False, l1_ratio=0.1, max_iter=10000, selection=cyclic, tol=1e-05; total time=  31.6s\n"
     ]
    },
    {
     "name": "stderr",
     "output_type": "stream",
     "text": [
      "/Users/zoemarquis/Documents/projet_industrie/projet_batteries/mon_venv/lib/python3.11/site-packages/sklearn/linear_model/_coordinate_descent.py:697: ConvergenceWarning: Objective did not converge. You might want to increase the number of iterations, check the scale of the features or consider increasing regularisation. Duality gap: 3.395e+03, tolerance: 1.414e+03\n",
      "  model = cd_fast.enet_coordinate_descent(\n"
     ]
    },
    {
     "name": "stdout",
     "output_type": "stream",
     "text": [
      "[CV] END alpha=0.1, fit_intercept=False, l1_ratio=0.1, max_iter=10000, selection=cyclic, tol=1e-05; total time=  31.5s\n"
     ]
    },
    {
     "name": "stderr",
     "output_type": "stream",
     "text": [
      "/Users/zoemarquis/Documents/projet_industrie/projet_batteries/mon_venv/lib/python3.11/site-packages/sklearn/linear_model/_coordinate_descent.py:697: ConvergenceWarning: Objective did not converge. You might want to increase the number of iterations, check the scale of the features or consider increasing regularisation. Duality gap: 2.389e+05, tolerance: 1.416e+04\n",
      "  model = cd_fast.enet_coordinate_descent(\n"
     ]
    },
    {
     "name": "stdout",
     "output_type": "stream",
     "text": [
      "[CV] END alpha=0.1, fit_intercept=False, l1_ratio=0.5, max_iter=1000, selection=cyclic, tol=0.0001; total time=   2.6s\n"
     ]
    },
    {
     "name": "stderr",
     "output_type": "stream",
     "text": [
      "/Users/zoemarquis/Documents/projet_industrie/projet_batteries/mon_venv/lib/python3.11/site-packages/sklearn/linear_model/_coordinate_descent.py:697: ConvergenceWarning: Objective did not converge. You might want to increase the number of iterations, check the scale of the features or consider increasing regularisation. Duality gap: 2.385e+05, tolerance: 1.415e+04\n",
      "  model = cd_fast.enet_coordinate_descent(\n"
     ]
    },
    {
     "name": "stdout",
     "output_type": "stream",
     "text": [
      "[CV] END alpha=0.1, fit_intercept=False, l1_ratio=0.5, max_iter=1000, selection=cyclic, tol=0.0001; total time=   2.6s\n",
      "[CV] END alpha=0.1, fit_intercept=False, l1_ratio=0.5, max_iter=1000, selection=random, tol=0.001; total time=   0.4s\n",
      "[CV] END alpha=0.1, fit_intercept=False, l1_ratio=0.5, max_iter=1000, selection=cyclic, tol=1e-05; total time=   2.8s\n"
     ]
    },
    {
     "name": "stderr",
     "output_type": "stream",
     "text": [
      "/Users/zoemarquis/Documents/projet_industrie/projet_batteries/mon_venv/lib/python3.11/site-packages/sklearn/linear_model/_coordinate_descent.py:697: ConvergenceWarning: Objective did not converge. You might want to increase the number of iterations, check the scale of the features or consider increasing regularisation. Duality gap: 2.384e+05, tolerance: 1.414e+03\n",
      "  model = cd_fast.enet_coordinate_descent(\n"
     ]
    },
    {
     "name": "stdout",
     "output_type": "stream",
     "text": [
      "[CV] END alpha=0.1, fit_intercept=False, l1_ratio=0.5, max_iter=1000, selection=random, tol=0.001; total time=   0.3s\n",
      "[CV] END alpha=0.1, fit_intercept=False, l1_ratio=0.5, max_iter=1000, selection=random, tol=0.001; total time=   0.3s\n",
      "[CV] END alpha=0.1, fit_intercept=False, l1_ratio=0.5, max_iter=1000, selection=random, tol=0.001; total time=   0.2s\n",
      "[CV] END alpha=0.1, fit_intercept=False, l1_ratio=0.5, max_iter=1000, selection=cyclic, tol=1e-05; total time=   2.7s\n",
      "[CV] END alpha=0.1, fit_intercept=False, l1_ratio=0.5, max_iter=1000, selection=random, tol=0.001; total time=   0.4s\n"
     ]
    },
    {
     "name": "stderr",
     "output_type": "stream",
     "text": [
      "/Users/zoemarquis/Documents/projet_industrie/projet_batteries/mon_venv/lib/python3.11/site-packages/sklearn/linear_model/_coordinate_descent.py:697: ConvergenceWarning: Objective did not converge. You might want to increase the number of iterations, check the scale of the features or consider increasing regularisation. Duality gap: 2.393e+05, tolerance: 1.414e+03\n",
      "  model = cd_fast.enet_coordinate_descent(\n"
     ]
    },
    {
     "name": "stdout",
     "output_type": "stream",
     "text": [
      "[CV] END alpha=0.1, fit_intercept=False, l1_ratio=0.5, max_iter=1000, selection=random, tol=0.0001; total time=   0.4s\n",
      "[CV] END alpha=0.1, fit_intercept=False, l1_ratio=0.5, max_iter=1000, selection=cyclic, tol=1e-05; total time=   2.9s\n",
      "[CV] END alpha=0.1, fit_intercept=False, l1_ratio=0.5, max_iter=1000, selection=cyclic, tol=1e-05; total time=   2.8s\n",
      "[CV] END alpha=0.1, fit_intercept=False, l1_ratio=0.5, max_iter=1000, selection=random, tol=0.0001; total time=   0.3s\n",
      "[CV] END alpha=0.1, fit_intercept=False, l1_ratio=0.5, max_iter=1000, selection=random, tol=0.0001; total time=   0.5s\n"
     ]
    },
    {
     "name": "stderr",
     "output_type": "stream",
     "text": [
      "/Users/zoemarquis/Documents/projet_industrie/projet_batteries/mon_venv/lib/python3.11/site-packages/sklearn/linear_model/_coordinate_descent.py:697: ConvergenceWarning: Objective did not converge. You might want to increase the number of iterations, check the scale of the features or consider increasing regularisation. Duality gap: 2.398e+05, tolerance: 1.415e+03\n",
      "  model = cd_fast.enet_coordinate_descent(\n",
      "/Users/zoemarquis/Documents/projet_industrie/projet_batteries/mon_venv/lib/python3.11/site-packages/sklearn/linear_model/_coordinate_descent.py:697: ConvergenceWarning: Objective did not converge. You might want to increase the number of iterations, check the scale of the features or consider increasing regularisation. Duality gap: 2.389e+05, tolerance: 1.416e+03\n",
      "  model = cd_fast.enet_coordinate_descent(\n"
     ]
    },
    {
     "name": "stdout",
     "output_type": "stream",
     "text": [
      "[CV] END alpha=0.1, fit_intercept=False, l1_ratio=0.5, max_iter=1000, selection=random, tol=0.0001; total time=   0.4s\n",
      "[CV] END alpha=0.1, fit_intercept=False, l1_ratio=0.5, max_iter=1000, selection=random, tol=0.0001; total time=   0.4s\n",
      "[CV] END alpha=0.1, fit_intercept=False, l1_ratio=0.5, max_iter=1000, selection=cyclic, tol=1e-05; total time=   3.1s\n",
      "[CV] END alpha=0.1, fit_intercept=False, l1_ratio=0.5, max_iter=1000, selection=random, tol=1e-05; total time=   0.5s\n"
     ]
    },
    {
     "name": "stderr",
     "output_type": "stream",
     "text": [
      "/Users/zoemarquis/Documents/projet_industrie/projet_batteries/mon_venv/lib/python3.11/site-packages/sklearn/linear_model/_coordinate_descent.py:697: ConvergenceWarning: Objective did not converge. You might want to increase the number of iterations, check the scale of the features or consider increasing regularisation. Duality gap: 2.385e+05, tolerance: 1.415e+03\n",
      "  model = cd_fast.enet_coordinate_descent(\n"
     ]
    },
    {
     "name": "stdout",
     "output_type": "stream",
     "text": [
      "[CV] END alpha=0.1, fit_intercept=False, l1_ratio=0.5, max_iter=1000, selection=random, tol=1e-05; total time=   0.6s\n",
      "[CV] END alpha=0.1, fit_intercept=False, l1_ratio=0.5, max_iter=1000, selection=random, tol=1e-05; total time=   0.5s\n",
      "[CV] END alpha=0.1, fit_intercept=False, l1_ratio=0.5, max_iter=1000, selection=random, tol=1e-05; total time=   0.5s\n",
      "[CV] END alpha=0.1, fit_intercept=False, l1_ratio=0.5, max_iter=1000, selection=random, tol=1e-05; total time=   0.6s\n",
      "[CV] END alpha=0.1, fit_intercept=False, l1_ratio=0.5, max_iter=5000, selection=cyclic, tol=0.001; total time=   8.4s\n",
      "[CV] END alpha=0.1, fit_intercept=False, l1_ratio=0.5, max_iter=5000, selection=cyclic, tol=0.001; total time=   8.8s\n",
      "[CV] END alpha=0.1, fit_intercept=False, l1_ratio=0.5, max_iter=5000, selection=cyclic, tol=0.001; total time=   9.1s\n",
      "[CV] END alpha=0.1, fit_intercept=False, l1_ratio=0.5, max_iter=5000, selection=cyclic, tol=0.001; total time=   9.2s\n",
      "[CV] END alpha=0.1, fit_intercept=False, l1_ratio=0.5, max_iter=5000, selection=cyclic, tol=0.001; total time=   8.8s\n"
     ]
    },
    {
     "name": "stderr",
     "output_type": "stream",
     "text": [
      "/Users/zoemarquis/Documents/projet_industrie/projet_batteries/mon_venv/lib/python3.11/site-packages/sklearn/linear_model/_coordinate_descent.py:697: ConvergenceWarning: Objective did not converge. You might want to increase the number of iterations, check the scale of the features or consider increasing regularisation. Duality gap: 3.723e+03, tolerance: 1.415e+03\n",
      "  model = cd_fast.enet_coordinate_descent(\n",
      "/Users/zoemarquis/Documents/projet_industrie/projet_batteries/mon_venv/lib/python3.11/site-packages/sklearn/linear_model/_coordinate_descent.py:697: ConvergenceWarning: Objective did not converge. You might want to increase the number of iterations, check the scale of the features or consider increasing regularisation. Duality gap: 3.694e+03, tolerance: 1.416e+03\n",
      "  model = cd_fast.enet_coordinate_descent(\n"
     ]
    },
    {
     "name": "stdout",
     "output_type": "stream",
     "text": [
      "[CV] END alpha=0.1, fit_intercept=False, l1_ratio=0.1, max_iter=10000, selection=cyclic, tol=1e-05; total time=  30.7s\n",
      "[CV] END alpha=0.1, fit_intercept=False, l1_ratio=0.1, max_iter=10000, selection=cyclic, tol=1e-05; total time=  31.4s\n",
      "[CV] END alpha=0.1, fit_intercept=False, l1_ratio=0.5, max_iter=5000, selection=cyclic, tol=0.0001; total time=  13.7s\n",
      "[CV] END alpha=0.1, fit_intercept=False, l1_ratio=0.5, max_iter=5000, selection=cyclic, tol=0.0001; total time=  13.7s\n",
      "[CV] END alpha=0.1, fit_intercept=False, l1_ratio=0.5, max_iter=5000, selection=cyclic, tol=0.0001; total time=  13.4s\n",
      "[CV] END alpha=0.1, fit_intercept=False, l1_ratio=0.5, max_iter=5000, selection=random, tol=0.001; total time=   0.3s\n",
      "[CV] END alpha=0.1, fit_intercept=False, l1_ratio=0.5, max_iter=5000, selection=cyclic, tol=0.0001; total time=  13.7s\n",
      "[CV] END alpha=0.1, fit_intercept=False, l1_ratio=0.5, max_iter=5000, selection=random, tol=0.001; total time=   0.3s\n",
      "[CV] END alpha=0.1, fit_intercept=False, l1_ratio=0.5, max_iter=5000, selection=cyclic, tol=1e-05; total time=  13.8s\n",
      "[CV] END alpha=0.1, fit_intercept=False, l1_ratio=0.5, max_iter=5000, selection=random, tol=0.001; total time=   0.3s\n"
     ]
    },
    {
     "name": "stderr",
     "output_type": "stream",
     "text": [
      "/Users/zoemarquis/Documents/projet_industrie/projet_batteries/mon_venv/lib/python3.11/site-packages/sklearn/linear_model/_coordinate_descent.py:697: ConvergenceWarning: Objective did not converge. You might want to increase the number of iterations, check the scale of the features or consider increasing regularisation. Duality gap: 9.780e+03, tolerance: 1.414e+03\n",
      "  model = cd_fast.enet_coordinate_descent(\n"
     ]
    },
    {
     "name": "stdout",
     "output_type": "stream",
     "text": [
      "[CV] END alpha=0.1, fit_intercept=False, l1_ratio=0.5, max_iter=5000, selection=cyclic, tol=0.0001; total time=  14.0s\n",
      "[CV] END alpha=0.1, fit_intercept=False, l1_ratio=0.5, max_iter=5000, selection=random, tol=0.001; total time=   0.3s\n",
      "[CV] END alpha=0.1, fit_intercept=False, l1_ratio=0.5, max_iter=5000, selection=random, tol=0.001; total time=   0.2s\n",
      "[CV] END alpha=0.1, fit_intercept=False, l1_ratio=0.5, max_iter=5000, selection=random, tol=0.0001; total time=   0.4s\n",
      "[CV] END alpha=0.1, fit_intercept=False, l1_ratio=0.5, max_iter=5000, selection=random, tol=0.0001; total time=   0.4s\n",
      "[CV] END alpha=0.1, fit_intercept=False, l1_ratio=0.5, max_iter=5000, selection=random, tol=0.0001; total time=   0.4s\n",
      "[CV] END alpha=0.1, fit_intercept=False, l1_ratio=0.5, max_iter=5000, selection=random, tol=0.0001; total time=   0.4s\n",
      "[CV] END alpha=0.1, fit_intercept=False, l1_ratio=0.5, max_iter=5000, selection=random, tol=0.0001; total time=   0.4s\n",
      "[CV] END alpha=0.1, fit_intercept=False, l1_ratio=0.5, max_iter=5000, selection=random, tol=1e-05; total time=   0.4s\n",
      "[CV] END alpha=0.1, fit_intercept=False, l1_ratio=0.5, max_iter=5000, selection=random, tol=1e-05; total time=   0.5s\n",
      "[CV] END alpha=0.1, fit_intercept=False, l1_ratio=0.5, max_iter=5000, selection=random, tol=1e-05; total time=   0.5s\n",
      "[CV] END alpha=0.1, fit_intercept=False, l1_ratio=0.5, max_iter=5000, selection=random, tol=1e-05; total time=   0.5s\n",
      "[CV] END alpha=0.1, fit_intercept=False, l1_ratio=0.5, max_iter=5000, selection=random, tol=1e-05; total time=   0.5s\n"
     ]
    },
    {
     "name": "stderr",
     "output_type": "stream",
     "text": [
      "/Users/zoemarquis/Documents/projet_industrie/projet_batteries/mon_venv/lib/python3.11/site-packages/sklearn/linear_model/_coordinate_descent.py:697: ConvergenceWarning: Objective did not converge. You might want to increase the number of iterations, check the scale of the features or consider increasing regularisation. Duality gap: 9.868e+03, tolerance: 1.414e+03\n",
      "  model = cd_fast.enet_coordinate_descent(\n"
     ]
    },
    {
     "name": "stdout",
     "output_type": "stream",
     "text": [
      "[CV] END alpha=0.1, fit_intercept=False, l1_ratio=0.5, max_iter=5000, selection=cyclic, tol=1e-05; total time=  13.5s\n"
     ]
    },
    {
     "name": "stderr",
     "output_type": "stream",
     "text": [
      "/Users/zoemarquis/Documents/projet_industrie/projet_batteries/mon_venv/lib/python3.11/site-packages/sklearn/linear_model/_coordinate_descent.py:697: ConvergenceWarning: Objective did not converge. You might want to increase the number of iterations, check the scale of the features or consider increasing regularisation. Duality gap: 9.493e+03, tolerance: 1.415e+03\n",
      "  model = cd_fast.enet_coordinate_descent(\n"
     ]
    },
    {
     "name": "stdout",
     "output_type": "stream",
     "text": [
      "[CV] END alpha=0.1, fit_intercept=False, l1_ratio=0.5, max_iter=5000, selection=cyclic, tol=1e-05; total time=  13.6s\n"
     ]
    },
    {
     "name": "stderr",
     "output_type": "stream",
     "text": [
      "/Users/zoemarquis/Documents/projet_industrie/projet_batteries/mon_venv/lib/python3.11/site-packages/sklearn/linear_model/_coordinate_descent.py:697: ConvergenceWarning: Objective did not converge. You might want to increase the number of iterations, check the scale of the features or consider increasing regularisation. Duality gap: 9.857e+03, tolerance: 1.416e+03\n",
      "  model = cd_fast.enet_coordinate_descent(\n"
     ]
    },
    {
     "name": "stdout",
     "output_type": "stream",
     "text": [
      "[CV] END alpha=0.1, fit_intercept=False, l1_ratio=0.5, max_iter=5000, selection=cyclic, tol=1e-05; total time=  13.4s\n",
      "[CV] END alpha=0.1, fit_intercept=False, l1_ratio=0.5, max_iter=10000, selection=cyclic, tol=0.001; total time=   8.7s\n",
      "[CV] END alpha=0.1, fit_intercept=False, l1_ratio=0.5, max_iter=10000, selection=cyclic, tol=0.001; total time=   9.0s\n",
      "[CV] END alpha=0.1, fit_intercept=False, l1_ratio=0.5, max_iter=10000, selection=cyclic, tol=0.001; total time=   8.9s\n",
      "[CV] END alpha=0.1, fit_intercept=False, l1_ratio=0.5, max_iter=10000, selection=cyclic, tol=0.001; total time=   9.2s\n",
      "[CV] END alpha=0.1, fit_intercept=False, l1_ratio=0.5, max_iter=10000, selection=cyclic, tol=0.001; total time=   8.8s\n"
     ]
    },
    {
     "name": "stderr",
     "output_type": "stream",
     "text": [
      "/Users/zoemarquis/Documents/projet_industrie/projet_batteries/mon_venv/lib/python3.11/site-packages/sklearn/linear_model/_coordinate_descent.py:697: ConvergenceWarning: Objective did not converge. You might want to increase the number of iterations, check the scale of the features or consider increasing regularisation. Duality gap: 9.604e+03, tolerance: 1.415e+03\n",
      "  model = cd_fast.enet_coordinate_descent(\n"
     ]
    },
    {
     "name": "stdout",
     "output_type": "stream",
     "text": [
      "[CV] END alpha=0.1, fit_intercept=False, l1_ratio=0.5, max_iter=5000, selection=cyclic, tol=1e-05; total time=  14.0s\n",
      "[CV] END alpha=0.1, fit_intercept=False, l1_ratio=0.5, max_iter=10000, selection=cyclic, tol=0.0001; total time=  21.3s\n",
      "[CV] END alpha=0.1, fit_intercept=False, l1_ratio=0.5, max_iter=10000, selection=cyclic, tol=0.0001; total time=  19.9s\n",
      "[CV] END alpha=0.1, fit_intercept=False, l1_ratio=0.5, max_iter=10000, selection=cyclic, tol=0.0001; total time=  19.7s\n",
      "[CV] END alpha=0.1, fit_intercept=False, l1_ratio=0.5, max_iter=10000, selection=random, tol=0.001; total time=   0.3s\n",
      "[CV] END alpha=0.1, fit_intercept=False, l1_ratio=0.5, max_iter=10000, selection=random, tol=0.001; total time=   0.3s\n",
      "[CV] END alpha=0.1, fit_intercept=False, l1_ratio=0.5, max_iter=10000, selection=random, tol=0.001; total time=   0.3s\n",
      "[CV] END alpha=0.1, fit_intercept=False, l1_ratio=0.5, max_iter=10000, selection=cyclic, tol=0.0001; total time=  19.9s\n",
      "[CV] END alpha=0.1, fit_intercept=False, l1_ratio=0.5, max_iter=10000, selection=random, tol=0.001; total time=   0.2s\n",
      "[CV] END alpha=0.1, fit_intercept=False, l1_ratio=0.5, max_iter=10000, selection=random, tol=0.001; total time=   0.3s\n",
      "[CV] END alpha=0.1, fit_intercept=False, l1_ratio=0.5, max_iter=10000, selection=random, tol=0.0001; total time=   0.3s\n",
      "[CV] END alpha=0.1, fit_intercept=False, l1_ratio=0.5, max_iter=10000, selection=random, tol=0.0001; total time=   0.4s\n",
      "[CV] END alpha=0.1, fit_intercept=False, l1_ratio=0.5, max_iter=10000, selection=cyclic, tol=0.0001; total time=  21.0s\n",
      "[CV] END alpha=0.1, fit_intercept=False, l1_ratio=0.5, max_iter=10000, selection=random, tol=0.0001; total time=   0.4s\n",
      "[CV] END alpha=0.1, fit_intercept=False, l1_ratio=0.5, max_iter=10000, selection=random, tol=0.0001; total time=   0.4s\n",
      "[CV] END alpha=0.1, fit_intercept=False, l1_ratio=0.5, max_iter=10000, selection=random, tol=0.0001; total time=   0.3s\n",
      "[CV] END alpha=0.1, fit_intercept=False, l1_ratio=0.5, max_iter=10000, selection=random, tol=1e-05; total time=   0.5s\n",
      "[CV] END alpha=0.1, fit_intercept=False, l1_ratio=0.5, max_iter=10000, selection=random, tol=1e-05; total time=   0.4s\n",
      "[CV] END alpha=0.1, fit_intercept=False, l1_ratio=0.5, max_iter=10000, selection=random, tol=1e-05; total time=   0.5s\n",
      "[CV] END alpha=0.1, fit_intercept=False, l1_ratio=0.5, max_iter=10000, selection=random, tol=1e-05; total time=   0.4s\n",
      "[CV] END alpha=0.1, fit_intercept=False, l1_ratio=0.5, max_iter=10000, selection=random, tol=1e-05; total time=   0.5s\n",
      "[CV] END alpha=0.1, fit_intercept=False, l1_ratio=0.9, max_iter=1000, selection=cyclic, tol=0.001; total time=   1.6s\n",
      "[CV] END alpha=0.1, fit_intercept=False, l1_ratio=0.9, max_iter=1000, selection=cyclic, tol=0.001; total time=   1.6s\n",
      "[CV] END alpha=0.1, fit_intercept=False, l1_ratio=0.9, max_iter=1000, selection=cyclic, tol=0.001; total time=   1.6s\n"
     ]
    },
    {
     "name": "stderr",
     "output_type": "stream",
     "text": [
      "/Users/zoemarquis/Documents/projet_industrie/projet_batteries/mon_venv/lib/python3.11/site-packages/sklearn/linear_model/_coordinate_descent.py:697: ConvergenceWarning: Objective did not converge. You might want to increase the number of iterations, check the scale of the features or consider increasing regularisation. Duality gap: 1.140e+05, tolerance: 1.414e+04\n",
      "  model = cd_fast.enet_coordinate_descent(\n"
     ]
    },
    {
     "name": "stdout",
     "output_type": "stream",
     "text": [
      "[CV] END alpha=0.1, fit_intercept=False, l1_ratio=0.9, max_iter=1000, selection=cyclic, tol=0.0001; total time=   1.7s\n",
      "[CV] END alpha=0.1, fit_intercept=False, l1_ratio=0.9, max_iter=1000, selection=cyclic, tol=0.001; total time=   2.0s\n",
      "[CV] END alpha=0.1, fit_intercept=False, l1_ratio=0.9, max_iter=1000, selection=cyclic, tol=0.001; total time=   2.0s\n"
     ]
    },
    {
     "name": "stderr",
     "output_type": "stream",
     "text": [
      "/Users/zoemarquis/Documents/projet_industrie/projet_batteries/mon_venv/lib/python3.11/site-packages/sklearn/linear_model/_coordinate_descent.py:697: ConvergenceWarning: Objective did not converge. You might want to increase the number of iterations, check the scale of the features or consider increasing regularisation. Duality gap: 1.146e+05, tolerance: 1.416e+04\n",
      "  model = cd_fast.enet_coordinate_descent(\n",
      "/Users/zoemarquis/Documents/projet_industrie/projet_batteries/mon_venv/lib/python3.11/site-packages/sklearn/linear_model/_coordinate_descent.py:697: ConvergenceWarning: Objective did not converge. You might want to increase the number of iterations, check the scale of the features or consider increasing regularisation. Duality gap: 1.136e+05, tolerance: 1.415e+04\n",
      "  model = cd_fast.enet_coordinate_descent(\n",
      "/Users/zoemarquis/Documents/projet_industrie/projet_batteries/mon_venv/lib/python3.11/site-packages/sklearn/linear_model/_coordinate_descent.py:697: ConvergenceWarning: Objective did not converge. You might want to increase the number of iterations, check the scale of the features or consider increasing regularisation. Duality gap: 1.142e+05, tolerance: 1.414e+04\n",
      "  model = cd_fast.enet_coordinate_descent(\n"
     ]
    },
    {
     "name": "stdout",
     "output_type": "stream",
     "text": [
      "[CV] END alpha=0.1, fit_intercept=False, l1_ratio=0.9, max_iter=1000, selection=cyclic, tol=0.0001; total time=   1.7s\n",
      "[CV] END alpha=0.1, fit_intercept=False, l1_ratio=0.9, max_iter=1000, selection=cyclic, tol=0.0001; total time=   1.8s\n",
      "[CV] END alpha=0.1, fit_intercept=False, l1_ratio=0.9, max_iter=1000, selection=cyclic, tol=0.0001; total time=   1.8s\n"
     ]
    },
    {
     "name": "stderr",
     "output_type": "stream",
     "text": [
      "/Users/zoemarquis/Documents/projet_industrie/projet_batteries/mon_venv/lib/python3.11/site-packages/sklearn/linear_model/_coordinate_descent.py:697: ConvergenceWarning: Objective did not converge. You might want to increase the number of iterations, check the scale of the features or consider increasing regularisation. Duality gap: 1.142e+05, tolerance: 1.414e+03\n",
      "  model = cd_fast.enet_coordinate_descent(\n",
      "/Users/zoemarquis/Documents/projet_industrie/projet_batteries/mon_venv/lib/python3.11/site-packages/sklearn/linear_model/_coordinate_descent.py:697: ConvergenceWarning: Objective did not converge. You might want to increase the number of iterations, check the scale of the features or consider increasing regularisation. Duality gap: 1.140e+05, tolerance: 1.414e+03\n",
      "  model = cd_fast.enet_coordinate_descent(\n",
      "/Users/zoemarquis/Documents/projet_industrie/projet_batteries/mon_venv/lib/python3.11/site-packages/sklearn/linear_model/_coordinate_descent.py:697: ConvergenceWarning: Objective did not converge. You might want to increase the number of iterations, check the scale of the features or consider increasing regularisation. Duality gap: 1.135e+05, tolerance: 1.415e+04\n",
      "  model = cd_fast.enet_coordinate_descent(\n"
     ]
    },
    {
     "name": "stdout",
     "output_type": "stream",
     "text": [
      "[CV] END alpha=0.1, fit_intercept=False, l1_ratio=0.9, max_iter=1000, selection=cyclic, tol=1e-05; total time=   1.7s\n",
      "[CV] END alpha=0.1, fit_intercept=False, l1_ratio=0.9, max_iter=1000, selection=cyclic, tol=1e-05; total time=   1.8s\n",
      "[CV] END alpha=0.1, fit_intercept=False, l1_ratio=0.9, max_iter=1000, selection=cyclic, tol=0.0001; total time=   1.8s\n"
     ]
    },
    {
     "name": "stderr",
     "output_type": "stream",
     "text": [
      "/Users/zoemarquis/Documents/projet_industrie/projet_batteries/mon_venv/lib/python3.11/site-packages/sklearn/linear_model/_coordinate_descent.py:697: ConvergenceWarning: Objective did not converge. You might want to increase the number of iterations, check the scale of the features or consider increasing regularisation. Duality gap: 3.094e+03, tolerance: 1.414e+03\n",
      "  model = cd_fast.enet_coordinate_descent(\n"
     ]
    },
    {
     "name": "stdout",
     "output_type": "stream",
     "text": [
      "[CV] END alpha=0.1, fit_intercept=False, l1_ratio=0.5, max_iter=10000, selection=cyclic, tol=1e-05; total time=  29.1s\n"
     ]
    },
    {
     "name": "stderr",
     "output_type": "stream",
     "text": [
      "/Users/zoemarquis/Documents/projet_industrie/projet_batteries/mon_venv/lib/python3.11/site-packages/sklearn/linear_model/_coordinate_descent.py:697: ConvergenceWarning: Objective did not converge. You might want to increase the number of iterations, check the scale of the features or consider increasing regularisation. Duality gap: 2.995e+03, tolerance: 1.414e+03\n",
      "  model = cd_fast.enet_coordinate_descent(\n"
     ]
    },
    {
     "name": "stdout",
     "output_type": "stream",
     "text": [
      "[CV] END alpha=0.1, fit_intercept=False, l1_ratio=0.5, max_iter=10000, selection=cyclic, tol=1e-05; total time=  28.5s\n",
      "[CV] END alpha=0.1, fit_intercept=False, l1_ratio=0.9, max_iter=1000, selection=random, tol=0.001; total time=   0.6s\n",
      "[CV] END alpha=0.1, fit_intercept=False, l1_ratio=0.9, max_iter=1000, selection=random, tol=0.001; total time=   0.5s\n",
      "[CV] END alpha=0.1, fit_intercept=False, l1_ratio=0.9, max_iter=1000, selection=random, tol=0.001; total time=   0.5s\n",
      "[CV] END alpha=0.1, fit_intercept=False, l1_ratio=0.9, max_iter=1000, selection=cyclic, tol=1e-05; total time=   1.8s\n",
      "[CV] END alpha=0.1, fit_intercept=False, l1_ratio=0.9, max_iter=1000, selection=cyclic, tol=1e-05; total time=   1.8s\n",
      "[CV] END alpha=0.1, fit_intercept=False, l1_ratio=0.9, max_iter=1000, selection=random, tol=0.001; total time=   0.5s\n"
     ]
    },
    {
     "name": "stderr",
     "output_type": "stream",
     "text": [
      "/Users/zoemarquis/Documents/projet_industrie/projet_batteries/mon_venv/lib/python3.11/site-packages/sklearn/linear_model/_coordinate_descent.py:697: ConvergenceWarning: Objective did not converge. You might want to increase the number of iterations, check the scale of the features or consider increasing regularisation. Duality gap: 1.136e+05, tolerance: 1.415e+03\n",
      "  model = cd_fast.enet_coordinate_descent(\n",
      "/Users/zoemarquis/Documents/projet_industrie/projet_batteries/mon_venv/lib/python3.11/site-packages/sklearn/linear_model/_coordinate_descent.py:697: ConvergenceWarning: Objective did not converge. You might want to increase the number of iterations, check the scale of the features or consider increasing regularisation. Duality gap: 1.146e+05, tolerance: 1.416e+03\n",
      "  model = cd_fast.enet_coordinate_descent(\n",
      "/Users/zoemarquis/Documents/projet_industrie/projet_batteries/mon_venv/lib/python3.11/site-packages/sklearn/linear_model/_coordinate_descent.py:697: ConvergenceWarning: Objective did not converge. You might want to increase the number of iterations, check the scale of the features or consider increasing regularisation. Duality gap: 1.135e+05, tolerance: 1.415e+03\n",
      "  model = cd_fast.enet_coordinate_descent(\n"
     ]
    },
    {
     "name": "stdout",
     "output_type": "stream",
     "text": [
      "[CV] END alpha=0.1, fit_intercept=False, l1_ratio=0.9, max_iter=1000, selection=cyclic, tol=1e-05; total time=   1.9s\n",
      "[CV] END alpha=0.1, fit_intercept=False, l1_ratio=0.9, max_iter=1000, selection=random, tol=0.001; total time=   0.5s\n",
      "[CV] END alpha=0.1, fit_intercept=False, l1_ratio=0.9, max_iter=1000, selection=random, tol=0.0001; total time=   0.8s\n",
      "[CV] END alpha=0.1, fit_intercept=False, l1_ratio=0.9, max_iter=1000, selection=random, tol=0.0001; total time=   0.8s\n",
      "[CV] END alpha=0.1, fit_intercept=False, l1_ratio=0.9, max_iter=1000, selection=random, tol=0.0001; total time=   0.8s\n",
      "[CV] END alpha=0.1, fit_intercept=False, l1_ratio=0.9, max_iter=1000, selection=random, tol=0.0001; total time=   0.8s\n",
      "[CV] END alpha=0.1, fit_intercept=False, l1_ratio=0.9, max_iter=1000, selection=random, tol=0.0001; total time=   0.7s\n"
     ]
    },
    {
     "name": "stderr",
     "output_type": "stream",
     "text": [
      "/Users/zoemarquis/Documents/projet_industrie/projet_batteries/mon_venv/lib/python3.11/site-packages/sklearn/linear_model/_coordinate_descent.py:697: ConvergenceWarning: Objective did not converge. You might want to increase the number of iterations, check the scale of the features or consider increasing regularisation. Duality gap: 2.850e+03, tolerance: 1.415e+03\n",
      "  model = cd_fast.enet_coordinate_descent(\n"
     ]
    },
    {
     "name": "stdout",
     "output_type": "stream",
     "text": [
      "[CV] END alpha=0.1, fit_intercept=False, l1_ratio=0.5, max_iter=10000, selection=cyclic, tol=1e-05; total time=  29.1s\n",
      "[CV] END alpha=0.1, fit_intercept=False, l1_ratio=0.9, max_iter=1000, selection=random, tol=1e-05; total time=   1.0s\n",
      "[CV] END alpha=0.1, fit_intercept=False, l1_ratio=0.9, max_iter=1000, selection=random, tol=1e-05; total time=   1.1s\n",
      "[CV] END alpha=0.1, fit_intercept=False, l1_ratio=0.9, max_iter=1000, selection=random, tol=1e-05; total time=   1.0s\n",
      "[CV] END alpha=0.1, fit_intercept=False, l1_ratio=0.9, max_iter=1000, selection=random, tol=1e-05; total time=   1.2s\n",
      "[CV] END alpha=0.1, fit_intercept=False, l1_ratio=0.9, max_iter=1000, selection=random, tol=1e-05; total time=   1.1s\n",
      "[CV] END alpha=0.1, fit_intercept=False, l1_ratio=0.9, max_iter=5000, selection=cyclic, tol=0.001; total time=  10.8s\n",
      "[CV] END alpha=0.1, fit_intercept=False, l1_ratio=0.9, max_iter=5000, selection=cyclic, tol=0.001; total time=  10.7s\n",
      "[CV] END alpha=0.1, fit_intercept=False, l1_ratio=0.9, max_iter=5000, selection=cyclic, tol=0.001; total time=  10.7s\n",
      "[CV] END alpha=0.1, fit_intercept=False, l1_ratio=0.9, max_iter=5000, selection=cyclic, tol=0.001; total time=  10.6s\n"
     ]
    },
    {
     "name": "stderr",
     "output_type": "stream",
     "text": [
      "/Users/zoemarquis/Documents/projet_industrie/projet_batteries/mon_venv/lib/python3.11/site-packages/sklearn/linear_model/_coordinate_descent.py:697: ConvergenceWarning: Objective did not converge. You might want to increase the number of iterations, check the scale of the features or consider increasing regularisation. Duality gap: 4.005e+04, tolerance: 1.414e+04\n",
      "  model = cd_fast.enet_coordinate_descent(\n"
     ]
    },
    {
     "name": "stdout",
     "output_type": "stream",
     "text": [
      "[CV] END alpha=0.1, fit_intercept=False, l1_ratio=0.9, max_iter=5000, selection=cyclic, tol=0.0001; total time=  10.7s\n",
      "[CV] END alpha=0.1, fit_intercept=False, l1_ratio=0.9, max_iter=5000, selection=cyclic, tol=0.001; total time=  11.0s\n"
     ]
    },
    {
     "name": "stderr",
     "output_type": "stream",
     "text": [
      "/Users/zoemarquis/Documents/projet_industrie/projet_batteries/mon_venv/lib/python3.11/site-packages/sklearn/linear_model/_coordinate_descent.py:697: ConvergenceWarning: Objective did not converge. You might want to increase the number of iterations, check the scale of the features or consider increasing regularisation. Duality gap: 3.042e+03, tolerance: 1.415e+03\n",
      "  model = cd_fast.enet_coordinate_descent(\n",
      "/Users/zoemarquis/Documents/projet_industrie/projet_batteries/mon_venv/lib/python3.11/site-packages/sklearn/linear_model/_coordinate_descent.py:697: ConvergenceWarning: Objective did not converge. You might want to increase the number of iterations, check the scale of the features or consider increasing regularisation. Duality gap: 3.050e+03, tolerance: 1.416e+03\n",
      "  model = cd_fast.enet_coordinate_descent(\n"
     ]
    },
    {
     "name": "stdout",
     "output_type": "stream",
     "text": [
      "[CV] END alpha=0.1, fit_intercept=False, l1_ratio=0.5, max_iter=10000, selection=cyclic, tol=1e-05; total time=  30.5s\n",
      "[CV] END alpha=0.1, fit_intercept=False, l1_ratio=0.5, max_iter=10000, selection=cyclic, tol=1e-05; total time=  30.8s\n"
     ]
    },
    {
     "name": "stderr",
     "output_type": "stream",
     "text": [
      "/Users/zoemarquis/Documents/projet_industrie/projet_batteries/mon_venv/lib/python3.11/site-packages/sklearn/linear_model/_coordinate_descent.py:697: ConvergenceWarning: Objective did not converge. You might want to increase the number of iterations, check the scale of the features or consider increasing regularisation. Duality gap: 3.997e+04, tolerance: 1.415e+04\n",
      "  model = cd_fast.enet_coordinate_descent(\n",
      "/Users/zoemarquis/Documents/projet_industrie/projet_batteries/mon_venv/lib/python3.11/site-packages/sklearn/linear_model/_coordinate_descent.py:697: ConvergenceWarning: Objective did not converge. You might want to increase the number of iterations, check the scale of the features or consider increasing regularisation. Duality gap: 4.039e+04, tolerance: 1.414e+04\n",
      "  model = cd_fast.enet_coordinate_descent(\n"
     ]
    },
    {
     "name": "stdout",
     "output_type": "stream",
     "text": [
      "[CV] END alpha=0.1, fit_intercept=False, l1_ratio=0.9, max_iter=5000, selection=cyclic, tol=0.0001; total time=  11.3s\n",
      "[CV] END alpha=0.1, fit_intercept=False, l1_ratio=0.9, max_iter=5000, selection=cyclic, tol=0.0001; total time=  11.6s\n"
     ]
    },
    {
     "name": "stderr",
     "output_type": "stream",
     "text": [
      "/Users/zoemarquis/Documents/projet_industrie/projet_batteries/mon_venv/lib/python3.11/site-packages/sklearn/linear_model/_coordinate_descent.py:697: ConvergenceWarning: Objective did not converge. You might want to increase the number of iterations, check the scale of the features or consider increasing regularisation. Duality gap: 4.061e+04, tolerance: 1.416e+04\n",
      "  model = cd_fast.enet_coordinate_descent(\n"
     ]
    },
    {
     "name": "stdout",
     "output_type": "stream",
     "text": [
      "[CV] END alpha=0.1, fit_intercept=False, l1_ratio=0.9, max_iter=5000, selection=cyclic, tol=0.0001; total time=  11.5s\n"
     ]
    },
    {
     "name": "stderr",
     "output_type": "stream",
     "text": [
      "/Users/zoemarquis/Documents/projet_industrie/projet_batteries/mon_venv/lib/python3.11/site-packages/sklearn/linear_model/_coordinate_descent.py:697: ConvergenceWarning: Objective did not converge. You might want to increase the number of iterations, check the scale of the features or consider increasing regularisation. Duality gap: 3.971e+04, tolerance: 1.415e+04\n",
      "  model = cd_fast.enet_coordinate_descent(\n"
     ]
    },
    {
     "name": "stdout",
     "output_type": "stream",
     "text": [
      "[CV] END alpha=0.1, fit_intercept=False, l1_ratio=0.9, max_iter=5000, selection=cyclic, tol=0.0001; total time=  11.6s\n",
      "[CV] END alpha=0.1, fit_intercept=False, l1_ratio=0.9, max_iter=5000, selection=random, tol=0.001; total time=   0.8s\n",
      "[CV] END alpha=0.1, fit_intercept=False, l1_ratio=0.9, max_iter=5000, selection=random, tol=0.001; total time=   0.7s\n",
      "[CV] END alpha=0.1, fit_intercept=False, l1_ratio=0.9, max_iter=5000, selection=cyclic, tol=1e-05; total time=  11.8s\n",
      "[CV] END alpha=0.1, fit_intercept=False, l1_ratio=0.9, max_iter=5000, selection=cyclic, tol=1e-05; total time=  11.9s\n"
     ]
    },
    {
     "name": "stderr",
     "output_type": "stream",
     "text": [
      "/Users/zoemarquis/Documents/projet_industrie/projet_batteries/mon_venv/lib/python3.11/site-packages/sklearn/linear_model/_coordinate_descent.py:697: ConvergenceWarning: Objective did not converge. You might want to increase the number of iterations, check the scale of the features or consider increasing regularisation. Duality gap: 4.039e+04, tolerance: 1.414e+03\n",
      "  model = cd_fast.enet_coordinate_descent(\n",
      "/Users/zoemarquis/Documents/projet_industrie/projet_batteries/mon_venv/lib/python3.11/site-packages/sklearn/linear_model/_coordinate_descent.py:697: ConvergenceWarning: Objective did not converge. You might want to increase the number of iterations, check the scale of the features or consider increasing regularisation. Duality gap: 4.005e+04, tolerance: 1.414e+03\n",
      "  model = cd_fast.enet_coordinate_descent(\n"
     ]
    },
    {
     "name": "stdout",
     "output_type": "stream",
     "text": [
      "[CV] END alpha=0.1, fit_intercept=False, l1_ratio=0.9, max_iter=5000, selection=random, tol=0.001; total time=   0.7s\n",
      "[CV] END alpha=0.1, fit_intercept=False, l1_ratio=0.9, max_iter=5000, selection=random, tol=0.001; total time=   0.7s\n",
      "[CV] END alpha=0.1, fit_intercept=False, l1_ratio=0.9, max_iter=5000, selection=random, tol=0.001; total time=   0.7s\n",
      "[CV] END alpha=0.1, fit_intercept=False, l1_ratio=0.9, max_iter=5000, selection=random, tol=0.0001; total time=   1.0s\n",
      "[CV] END alpha=0.1, fit_intercept=False, l1_ratio=0.9, max_iter=5000, selection=cyclic, tol=1e-05; total time=  11.8s\n",
      "[CV] END alpha=0.1, fit_intercept=False, l1_ratio=0.9, max_iter=5000, selection=random, tol=0.0001; total time=   1.0s\n",
      "[CV] END alpha=0.1, fit_intercept=False, l1_ratio=0.9, max_iter=5000, selection=cyclic, tol=1e-05; total time=  11.8s\n"
     ]
    },
    {
     "name": "stderr",
     "output_type": "stream",
     "text": [
      "/Users/zoemarquis/Documents/projet_industrie/projet_batteries/mon_venv/lib/python3.11/site-packages/sklearn/linear_model/_coordinate_descent.py:697: ConvergenceWarning: Objective did not converge. You might want to increase the number of iterations, check the scale of the features or consider increasing regularisation. Duality gap: 3.997e+04, tolerance: 1.415e+03\n",
      "  model = cd_fast.enet_coordinate_descent(\n",
      "/Users/zoemarquis/Documents/projet_industrie/projet_batteries/mon_venv/lib/python3.11/site-packages/sklearn/linear_model/_coordinate_descent.py:697: ConvergenceWarning: Objective did not converge. You might want to increase the number of iterations, check the scale of the features or consider increasing regularisation. Duality gap: 4.061e+04, tolerance: 1.416e+03\n",
      "  model = cd_fast.enet_coordinate_descent(\n"
     ]
    },
    {
     "name": "stdout",
     "output_type": "stream",
     "text": [
      "[CV] END alpha=0.1, fit_intercept=False, l1_ratio=0.9, max_iter=5000, selection=random, tol=0.0001; total time=   1.0s\n",
      "[CV] END alpha=0.1, fit_intercept=False, l1_ratio=0.9, max_iter=5000, selection=random, tol=0.0001; total time=   0.8s\n",
      "[CV] END alpha=0.1, fit_intercept=False, l1_ratio=0.9, max_iter=5000, selection=random, tol=0.0001; total time=   0.9s\n",
      "[CV] END alpha=0.1, fit_intercept=False, l1_ratio=0.9, max_iter=5000, selection=random, tol=1e-05; total time=   1.1s\n",
      "[CV] END alpha=0.1, fit_intercept=False, l1_ratio=0.9, max_iter=5000, selection=random, tol=1e-05; total time=   1.2s\n",
      "[CV] END alpha=0.1, fit_intercept=False, l1_ratio=0.9, max_iter=5000, selection=random, tol=1e-05; total time=   1.2s\n",
      "[CV] END alpha=0.1, fit_intercept=False, l1_ratio=0.9, max_iter=5000, selection=random, tol=1e-05; total time=   1.2s\n",
      "[CV] END alpha=0.1, fit_intercept=False, l1_ratio=0.9, max_iter=5000, selection=random, tol=1e-05; total time=   1.3s\n"
     ]
    },
    {
     "name": "stderr",
     "output_type": "stream",
     "text": [
      "/Users/zoemarquis/Documents/projet_industrie/projet_batteries/mon_venv/lib/python3.11/site-packages/sklearn/linear_model/_coordinate_descent.py:697: ConvergenceWarning: Objective did not converge. You might want to increase the number of iterations, check the scale of the features or consider increasing regularisation. Duality gap: 3.971e+04, tolerance: 1.415e+03\n",
      "  model = cd_fast.enet_coordinate_descent(\n"
     ]
    },
    {
     "name": "stdout",
     "output_type": "stream",
     "text": [
      "[CV] END alpha=0.1, fit_intercept=False, l1_ratio=0.9, max_iter=5000, selection=cyclic, tol=1e-05; total time=  11.5s\n",
      "[CV] END alpha=0.1, fit_intercept=False, l1_ratio=0.9, max_iter=10000, selection=cyclic, tol=0.001; total time=  11.9s\n",
      "[CV] END alpha=0.1, fit_intercept=False, l1_ratio=0.9, max_iter=10000, selection=cyclic, tol=0.001; total time=  12.2s\n",
      "[CV] END alpha=0.1, fit_intercept=False, l1_ratio=0.9, max_iter=10000, selection=cyclic, tol=0.001; total time=  11.9s\n",
      "[CV] END alpha=0.1, fit_intercept=False, l1_ratio=0.9, max_iter=10000, selection=cyclic, tol=0.001; total time=  12.1s\n",
      "[CV] END alpha=0.1, fit_intercept=False, l1_ratio=0.9, max_iter=10000, selection=cyclic, tol=0.001; total time=  12.5s\n"
     ]
    },
    {
     "name": "stderr",
     "output_type": "stream",
     "text": [
      "/Users/zoemarquis/Documents/projet_industrie/projet_batteries/mon_venv/lib/python3.11/site-packages/sklearn/linear_model/_coordinate_descent.py:697: ConvergenceWarning: Objective did not converge. You might want to increase the number of iterations, check the scale of the features or consider increasing regularisation. Duality gap: 2.282e+04, tolerance: 1.414e+04\n",
      "  model = cd_fast.enet_coordinate_descent(\n"
     ]
    },
    {
     "name": "stdout",
     "output_type": "stream",
     "text": [
      "[CV] END alpha=0.1, fit_intercept=False, l1_ratio=0.9, max_iter=10000, selection=cyclic, tol=0.0001; total time=  22.0s\n"
     ]
    },
    {
     "name": "stderr",
     "output_type": "stream",
     "text": [
      "/Users/zoemarquis/Documents/projet_industrie/projet_batteries/mon_venv/lib/python3.11/site-packages/sklearn/linear_model/_coordinate_descent.py:697: ConvergenceWarning: Objective did not converge. You might want to increase the number of iterations, check the scale of the features or consider increasing regularisation. Duality gap: 2.253e+04, tolerance: 1.414e+04\n",
      "  model = cd_fast.enet_coordinate_descent(\n"
     ]
    },
    {
     "name": "stdout",
     "output_type": "stream",
     "text": [
      "[CV] END alpha=0.1, fit_intercept=False, l1_ratio=0.9, max_iter=10000, selection=cyclic, tol=0.0001; total time=  22.6s\n"
     ]
    },
    {
     "name": "stderr",
     "output_type": "stream",
     "text": [
      "/Users/zoemarquis/Documents/projet_industrie/projet_batteries/mon_venv/lib/python3.11/site-packages/sklearn/linear_model/_coordinate_descent.py:697: ConvergenceWarning: Objective did not converge. You might want to increase the number of iterations, check the scale of the features or consider increasing regularisation. Duality gap: 2.240e+04, tolerance: 1.415e+04\n",
      "  model = cd_fast.enet_coordinate_descent(\n"
     ]
    },
    {
     "name": "stdout",
     "output_type": "stream",
     "text": [
      "[CV] END alpha=0.1, fit_intercept=False, l1_ratio=0.9, max_iter=10000, selection=cyclic, tol=0.0001; total time=  22.4s\n",
      "[CV] END alpha=0.1, fit_intercept=False, l1_ratio=0.9, max_iter=10000, selection=random, tol=0.001; total time=   0.6s\n",
      "[CV] END alpha=0.1, fit_intercept=False, l1_ratio=0.9, max_iter=10000, selection=random, tol=0.001; total time=   0.6s\n",
      "[CV] END alpha=0.1, fit_intercept=False, l1_ratio=0.9, max_iter=10000, selection=random, tol=0.001; total time=   0.6s\n",
      "[CV] END alpha=0.1, fit_intercept=False, l1_ratio=0.9, max_iter=10000, selection=random, tol=0.001; total time=   0.5s\n",
      "[CV] END alpha=0.1, fit_intercept=False, l1_ratio=0.9, max_iter=10000, selection=cyclic, tol=0.0001; total time=  21.8s\n"
     ]
    },
    {
     "name": "stderr",
     "output_type": "stream",
     "text": [
      "/Users/zoemarquis/Documents/projet_industrie/projet_batteries/mon_venv/lib/python3.11/site-packages/sklearn/linear_model/_coordinate_descent.py:697: ConvergenceWarning: Objective did not converge. You might want to increase the number of iterations, check the scale of the features or consider increasing regularisation. Duality gap: 2.295e+04, tolerance: 1.416e+04\n",
      "  model = cd_fast.enet_coordinate_descent(\n"
     ]
    },
    {
     "name": "stdout",
     "output_type": "stream",
     "text": [
      "[CV] END alpha=0.1, fit_intercept=False, l1_ratio=0.9, max_iter=10000, selection=random, tol=0.001; total time=   0.6s\n",
      "[CV] END alpha=0.1, fit_intercept=False, l1_ratio=0.9, max_iter=10000, selection=cyclic, tol=0.0001; total time=  22.2s\n",
      "[CV] END alpha=0.1, fit_intercept=False, l1_ratio=0.9, max_iter=10000, selection=cyclic, tol=1e-05; total time=  21.8s\n"
     ]
    },
    {
     "name": "stderr",
     "output_type": "stream",
     "text": [
      "/Users/zoemarquis/Documents/projet_industrie/projet_batteries/mon_venv/lib/python3.11/site-packages/sklearn/linear_model/_coordinate_descent.py:697: ConvergenceWarning: Objective did not converge. You might want to increase the number of iterations, check the scale of the features or consider increasing regularisation. Duality gap: 2.248e+04, tolerance: 1.415e+04\n",
      "  model = cd_fast.enet_coordinate_descent(\n",
      "/Users/zoemarquis/Documents/projet_industrie/projet_batteries/mon_venv/lib/python3.11/site-packages/sklearn/linear_model/_coordinate_descent.py:697: ConvergenceWarning: Objective did not converge. You might want to increase the number of iterations, check the scale of the features or consider increasing regularisation. Duality gap: 2.253e+04, tolerance: 1.414e+03\n",
      "  model = cd_fast.enet_coordinate_descent(\n"
     ]
    },
    {
     "name": "stdout",
     "output_type": "stream",
     "text": [
      "[CV] END alpha=0.1, fit_intercept=False, l1_ratio=0.9, max_iter=10000, selection=random, tol=0.0001; total time=   0.8s\n"
     ]
    },
    {
     "name": "stderr",
     "output_type": "stream",
     "text": [
      "/Users/zoemarquis/Documents/projet_industrie/projet_batteries/mon_venv/lib/python3.11/site-packages/sklearn/linear_model/_coordinate_descent.py:697: ConvergenceWarning: Objective did not converge. You might want to increase the number of iterations, check the scale of the features or consider increasing regularisation. Duality gap: 2.282e+04, tolerance: 1.414e+03\n",
      "  model = cd_fast.enet_coordinate_descent(\n",
      "/Users/zoemarquis/Documents/projet_industrie/projet_batteries/mon_venv/lib/python3.11/site-packages/sklearn/linear_model/_coordinate_descent.py:697: ConvergenceWarning: Objective did not converge. You might want to increase the number of iterations, check the scale of the features or consider increasing regularisation. Duality gap: 2.240e+04, tolerance: 1.415e+03\n",
      "  model = cd_fast.enet_coordinate_descent(\n"
     ]
    },
    {
     "name": "stdout",
     "output_type": "stream",
     "text": [
      "[CV] END alpha=0.1, fit_intercept=False, l1_ratio=0.9, max_iter=10000, selection=cyclic, tol=1e-05; total time=  22.2s\n",
      "[CV] END alpha=0.1, fit_intercept=False, l1_ratio=0.9, max_iter=10000, selection=cyclic, tol=1e-05; total time=  21.8s\n",
      "[CV] END alpha=0.1, fit_intercept=False, l1_ratio=0.9, max_iter=10000, selection=random, tol=0.0001; total time=   0.9s\n",
      "[CV] END alpha=0.1, fit_intercept=False, l1_ratio=0.9, max_iter=10000, selection=random, tol=0.0001; total time=   0.9s\n",
      "[CV] END alpha=0.1, fit_intercept=False, l1_ratio=0.9, max_iter=10000, selection=random, tol=0.0001; total time=   0.9s\n",
      "[CV] END alpha=0.1, fit_intercept=False, l1_ratio=0.9, max_iter=10000, selection=random, tol=0.0001; total time=   0.8s\n",
      "[CV] END alpha=1.0, fit_intercept=True, l1_ratio=0.1, max_iter=1000, selection=cyclic, tol=0.001; total time=   0.0s\n",
      "[CV] END alpha=1.0, fit_intercept=True, l1_ratio=0.1, max_iter=1000, selection=cyclic, tol=0.001; total time=   0.0s\n",
      "[CV] END alpha=1.0, fit_intercept=True, l1_ratio=0.1, max_iter=1000, selection=cyclic, tol=0.001; total time=   0.1s\n",
      "[CV] END alpha=1.0, fit_intercept=True, l1_ratio=0.1, max_iter=1000, selection=cyclic, tol=0.001; total time=   0.0s\n",
      "[CV] END alpha=1.0, fit_intercept=True, l1_ratio=0.1, max_iter=1000, selection=cyclic, tol=0.001; total time=   0.1s\n",
      "[CV] END alpha=1.0, fit_intercept=True, l1_ratio=0.1, max_iter=1000, selection=cyclic, tol=0.0001; total time=   0.1s\n",
      "[CV] END alpha=1.0, fit_intercept=True, l1_ratio=0.1, max_iter=1000, selection=cyclic, tol=0.0001; total time=   0.1s\n",
      "[CV] END alpha=1.0, fit_intercept=True, l1_ratio=0.1, max_iter=1000, selection=cyclic, tol=0.0001; total time=   0.1s\n",
      "[CV] END alpha=1.0, fit_intercept=True, l1_ratio=0.1, max_iter=1000, selection=cyclic, tol=0.0001; total time=   0.1s\n",
      "[CV] END alpha=1.0, fit_intercept=True, l1_ratio=0.1, max_iter=1000, selection=cyclic, tol=0.0001; total time=   0.0s\n",
      "[CV] END alpha=1.0, fit_intercept=True, l1_ratio=0.1, max_iter=1000, selection=cyclic, tol=1e-05; total time=   0.0s\n",
      "[CV] END alpha=1.0, fit_intercept=True, l1_ratio=0.1, max_iter=1000, selection=cyclic, tol=1e-05; total time=   0.0s\n",
      "[CV] END alpha=1.0, fit_intercept=True, l1_ratio=0.1, max_iter=1000, selection=cyclic, tol=1e-05; total time=   0.0s\n",
      "[CV] END alpha=0.1, fit_intercept=False, l1_ratio=0.9, max_iter=10000, selection=random, tol=1e-05; total time=   1.1s\n",
      "[CV] END alpha=1.0, fit_intercept=True, l1_ratio=0.1, max_iter=1000, selection=cyclic, tol=1e-05; total time=   0.1s\n",
      "[CV] END alpha=1.0, fit_intercept=True, l1_ratio=0.1, max_iter=1000, selection=cyclic, tol=1e-05; total time=   0.0s\n",
      "[CV] END alpha=0.1, fit_intercept=False, l1_ratio=0.9, max_iter=10000, selection=random, tol=1e-05; total time=   1.3s\n",
      "[CV] END alpha=1.0, fit_intercept=True, l1_ratio=0.1, max_iter=1000, selection=random, tol=0.001; total time=   0.0s\n",
      "[CV] END alpha=1.0, fit_intercept=True, l1_ratio=0.1, max_iter=1000, selection=random, tol=0.001; total time=   0.1s\n",
      "[CV] END alpha=0.1, fit_intercept=False, l1_ratio=0.9, max_iter=10000, selection=random, tol=1e-05; total time=   1.1s\n",
      "[CV] END alpha=1.0, fit_intercept=True, l1_ratio=0.1, max_iter=1000, selection=random, tol=0.001; total time=   0.1s\n",
      "[CV] END alpha=0.1, fit_intercept=False, l1_ratio=0.9, max_iter=10000, selection=random, tol=1e-05; total time=   1.1s\n",
      "[CV] END alpha=1.0, fit_intercept=True, l1_ratio=0.1, max_iter=1000, selection=random, tol=0.001; total time=   0.0s\n",
      "[CV] END alpha=1.0, fit_intercept=True, l1_ratio=0.1, max_iter=1000, selection=random, tol=0.001; total time=   0.0s\n",
      "[CV] END alpha=1.0, fit_intercept=True, l1_ratio=0.1, max_iter=1000, selection=random, tol=0.0001; total time=   0.1s\n",
      "[CV] END alpha=1.0, fit_intercept=True, l1_ratio=0.1, max_iter=1000, selection=random, tol=0.0001; total time=   0.1s\n",
      "[CV] END alpha=1.0, fit_intercept=True, l1_ratio=0.1, max_iter=1000, selection=random, tol=0.0001; total time=   0.1s\n",
      "[CV] END alpha=1.0, fit_intercept=True, l1_ratio=0.1, max_iter=1000, selection=random, tol=0.0001; total time=   0.1s\n",
      "[CV] END alpha=1.0, fit_intercept=True, l1_ratio=0.1, max_iter=1000, selection=random, tol=0.0001; total time=   0.1s\n",
      "[CV] END alpha=1.0, fit_intercept=True, l1_ratio=0.1, max_iter=1000, selection=random, tol=1e-05; total time=   0.1s\n",
      "[CV] END alpha=1.0, fit_intercept=True, l1_ratio=0.1, max_iter=1000, selection=random, tol=1e-05; total time=   0.1s\n",
      "[CV] END alpha=1.0, fit_intercept=True, l1_ratio=0.1, max_iter=1000, selection=random, tol=1e-05; total time=   0.1s\n",
      "[CV] END alpha=1.0, fit_intercept=True, l1_ratio=0.1, max_iter=1000, selection=random, tol=1e-05; total time=   0.1s\n",
      "[CV] END alpha=1.0, fit_intercept=True, l1_ratio=0.1, max_iter=1000, selection=random, tol=1e-05; total time=   0.1s\n",
      "[CV] END alpha=1.0, fit_intercept=True, l1_ratio=0.1, max_iter=5000, selection=cyclic, tol=0.001; total time=   0.1s\n",
      "[CV] END alpha=1.0, fit_intercept=True, l1_ratio=0.1, max_iter=5000, selection=cyclic, tol=0.001; total time=   0.0s\n",
      "[CV] END alpha=1.0, fit_intercept=True, l1_ratio=0.1, max_iter=5000, selection=cyclic, tol=0.001; total time=   0.0s\n",
      "[CV] END alpha=1.0, fit_intercept=True, l1_ratio=0.1, max_iter=5000, selection=cyclic, tol=0.001; total time=   0.1s\n",
      "[CV] END alpha=1.0, fit_intercept=True, l1_ratio=0.1, max_iter=5000, selection=cyclic, tol=0.001; total time=   0.1s\n",
      "[CV] END alpha=1.0, fit_intercept=True, l1_ratio=0.1, max_iter=5000, selection=cyclic, tol=0.0001; total time=   0.0s\n",
      "[CV] END alpha=0.1, fit_intercept=False, l1_ratio=0.9, max_iter=10000, selection=random, tol=1e-05; total time=   1.2s\n",
      "[CV] END alpha=1.0, fit_intercept=True, l1_ratio=0.1, max_iter=5000, selection=cyclic, tol=0.0001; total time=   0.0s\n",
      "[CV] END alpha=1.0, fit_intercept=True, l1_ratio=0.1, max_iter=5000, selection=cyclic, tol=0.0001; total time=   0.0s\n",
      "[CV] END alpha=1.0, fit_intercept=True, l1_ratio=0.1, max_iter=5000, selection=cyclic, tol=0.0001; total time=   0.0s\n",
      "[CV] END alpha=1.0, fit_intercept=True, l1_ratio=0.1, max_iter=5000, selection=cyclic, tol=0.0001; total time=   0.1s\n",
      "[CV] END alpha=1.0, fit_intercept=True, l1_ratio=0.1, max_iter=5000, selection=cyclic, tol=1e-05; total time=   0.1s\n",
      "[CV] END alpha=1.0, fit_intercept=True, l1_ratio=0.1, max_iter=5000, selection=cyclic, tol=1e-05; total time=   0.1s\n",
      "[CV] END alpha=1.0, fit_intercept=True, l1_ratio=0.1, max_iter=5000, selection=cyclic, tol=1e-05; total time=   0.1s\n",
      "[CV] END alpha=1.0, fit_intercept=True, l1_ratio=0.1, max_iter=5000, selection=cyclic, tol=1e-05; total time=   0.1s\n",
      "[CV] END alpha=1.0, fit_intercept=True, l1_ratio=0.1, max_iter=5000, selection=cyclic, tol=1e-05; total time=   0.1s\n",
      "[CV] END alpha=1.0, fit_intercept=True, l1_ratio=0.1, max_iter=5000, selection=random, tol=0.001; total time=   0.1s\n",
      "[CV] END alpha=1.0, fit_intercept=True, l1_ratio=0.1, max_iter=5000, selection=random, tol=0.001; total time=   0.1s\n",
      "[CV] END alpha=1.0, fit_intercept=True, l1_ratio=0.1, max_iter=5000, selection=random, tol=0.001; total time=   0.1s\n",
      "[CV] END alpha=1.0, fit_intercept=True, l1_ratio=0.1, max_iter=5000, selection=random, tol=0.001; total time=   0.1s\n",
      "[CV] END alpha=1.0, fit_intercept=True, l1_ratio=0.1, max_iter=5000, selection=random, tol=0.001; total time=   0.1s\n",
      "[CV] END alpha=1.0, fit_intercept=True, l1_ratio=0.1, max_iter=5000, selection=random, tol=0.0001; total time=   0.1s\n",
      "[CV] END alpha=1.0, fit_intercept=True, l1_ratio=0.1, max_iter=5000, selection=random, tol=0.0001; total time=   0.1s\n",
      "[CV] END alpha=1.0, fit_intercept=True, l1_ratio=0.1, max_iter=5000, selection=random, tol=0.0001; total time=   0.1s\n",
      "[CV] END alpha=1.0, fit_intercept=True, l1_ratio=0.1, max_iter=5000, selection=random, tol=0.0001; total time=   0.1s\n",
      "[CV] END alpha=1.0, fit_intercept=True, l1_ratio=0.1, max_iter=5000, selection=random, tol=0.0001; total time=   0.1s\n",
      "[CV] END alpha=1.0, fit_intercept=True, l1_ratio=0.1, max_iter=5000, selection=random, tol=1e-05; total time=   0.1s\n",
      "[CV] END alpha=1.0, fit_intercept=True, l1_ratio=0.1, max_iter=5000, selection=random, tol=1e-05; total time=   0.1s\n",
      "[CV] END alpha=1.0, fit_intercept=True, l1_ratio=0.1, max_iter=5000, selection=random, tol=1e-05; total time=   0.1s\n",
      "[CV] END alpha=1.0, fit_intercept=True, l1_ratio=0.1, max_iter=5000, selection=random, tol=1e-05; total time=   0.1s\n",
      "[CV] END alpha=1.0, fit_intercept=True, l1_ratio=0.1, max_iter=5000, selection=random, tol=1e-05; total time=   0.1s\n",
      "[CV] END alpha=1.0, fit_intercept=True, l1_ratio=0.1, max_iter=10000, selection=cyclic, tol=0.001; total time=   0.1s\n",
      "[CV] END alpha=1.0, fit_intercept=True, l1_ratio=0.1, max_iter=10000, selection=cyclic, tol=0.001; total time=   0.0s\n",
      "[CV] END alpha=1.0, fit_intercept=True, l1_ratio=0.1, max_iter=10000, selection=cyclic, tol=0.001; total time=   0.1s\n",
      "[CV] END alpha=1.0, fit_intercept=True, l1_ratio=0.1, max_iter=10000, selection=cyclic, tol=0.001; total time=   0.0s\n",
      "[CV] END alpha=1.0, fit_intercept=True, l1_ratio=0.1, max_iter=10000, selection=cyclic, tol=0.0001; total time=   0.0s\n",
      "[CV] END alpha=1.0, fit_intercept=True, l1_ratio=0.1, max_iter=10000, selection=cyclic, tol=0.001; total time=   0.1s\n",
      "[CV] END alpha=1.0, fit_intercept=True, l1_ratio=0.1, max_iter=10000, selection=cyclic, tol=0.0001; total time=   0.1s\n",
      "[CV] END alpha=1.0, fit_intercept=True, l1_ratio=0.1, max_iter=10000, selection=cyclic, tol=1e-05; total time=   0.1s\n",
      "[CV] END alpha=1.0, fit_intercept=True, l1_ratio=0.1, max_iter=10000, selection=cyclic, tol=1e-05; total time=   0.1s\n",
      "[CV] END alpha=1.0, fit_intercept=True, l1_ratio=0.1, max_iter=10000, selection=cyclic, tol=1e-05; total time=   0.1s\n",
      "[CV] END alpha=1.0, fit_intercept=True, l1_ratio=0.1, max_iter=10000, selection=cyclic, tol=0.0001; total time=   0.1s\n",
      "[CV] END alpha=1.0, fit_intercept=True, l1_ratio=0.1, max_iter=10000, selection=cyclic, tol=0.0001; total time=   0.1s\n",
      "[CV] END alpha=1.0, fit_intercept=True, l1_ratio=0.1, max_iter=10000, selection=cyclic, tol=0.0001; total time=   0.0s\n",
      "[CV] END alpha=1.0, fit_intercept=True, l1_ratio=0.1, max_iter=10000, selection=cyclic, tol=1e-05; total time=   0.1s\n",
      "[CV] END alpha=1.0, fit_intercept=True, l1_ratio=0.1, max_iter=10000, selection=cyclic, tol=1e-05; total time=   0.1s\n",
      "[CV] END alpha=1.0, fit_intercept=True, l1_ratio=0.1, max_iter=10000, selection=random, tol=0.001; total time=   0.1s\n",
      "[CV] END alpha=1.0, fit_intercept=True, l1_ratio=0.1, max_iter=10000, selection=random, tol=0.001; total time=   0.1s\n",
      "[CV] END alpha=1.0, fit_intercept=True, l1_ratio=0.1, max_iter=10000, selection=random, tol=0.0001; total time=   0.1s\n",
      "[CV] END alpha=1.0, fit_intercept=True, l1_ratio=0.1, max_iter=10000, selection=random, tol=0.0001; total time=   0.1s\n",
      "[CV] END alpha=1.0, fit_intercept=True, l1_ratio=0.1, max_iter=10000, selection=random, tol=0.001; total time=   0.1s\n",
      "[CV] END alpha=1.0, fit_intercept=True, l1_ratio=0.1, max_iter=10000, selection=random, tol=0.0001; total time=   0.1s\n",
      "[CV] END alpha=1.0, fit_intercept=True, l1_ratio=0.1, max_iter=10000, selection=random, tol=0.001; total time=   0.1s\n",
      "[CV] END alpha=1.0, fit_intercept=True, l1_ratio=0.1, max_iter=10000, selection=random, tol=0.0001; total time=   0.1s\n",
      "[CV] END alpha=1.0, fit_intercept=True, l1_ratio=0.1, max_iter=10000, selection=random, tol=1e-05; total time=   0.1s\n",
      "[CV] END alpha=1.0, fit_intercept=True, l1_ratio=0.1, max_iter=10000, selection=random, tol=0.0001; total time=   0.1s\n",
      "[CV] END alpha=1.0, fit_intercept=True, l1_ratio=0.1, max_iter=10000, selection=random, tol=0.001; total time=   0.1s\n",
      "[CV] END alpha=1.0, fit_intercept=True, l1_ratio=0.5, max_iter=1000, selection=cyclic, tol=0.001; total time=   0.0s\n",
      "[CV] END alpha=1.0, fit_intercept=True, l1_ratio=0.1, max_iter=10000, selection=random, tol=1e-05; total time=   0.1s\n",
      "[CV] END alpha=1.0, fit_intercept=True, l1_ratio=0.5, max_iter=1000, selection=cyclic, tol=0.001; total time=   0.0s\n",
      "[CV] END alpha=1.0, fit_intercept=True, l1_ratio=0.5, max_iter=1000, selection=cyclic, tol=0.001; total time=   0.1s\n",
      "[CV] END alpha=1.0, fit_intercept=True, l1_ratio=0.1, max_iter=10000, selection=random, tol=1e-05; total time=   0.1s\n",
      "[CV] END alpha=1.0, fit_intercept=True, l1_ratio=0.1, max_iter=10000, selection=random, tol=1e-05; total time=   0.1s\n",
      "[CV] END alpha=1.0, fit_intercept=True, l1_ratio=0.5, max_iter=1000, selection=cyclic, tol=0.001; total time=   0.0s\n",
      "[CV] END alpha=1.0, fit_intercept=True, l1_ratio=0.5, max_iter=1000, selection=cyclic, tol=0.001; total time=   0.1s\n",
      "[CV] END alpha=1.0, fit_intercept=True, l1_ratio=0.1, max_iter=10000, selection=random, tol=1e-05; total time=   0.1s\n",
      "[CV] END alpha=1.0, fit_intercept=True, l1_ratio=0.5, max_iter=1000, selection=cyclic, tol=0.0001; total time=   0.1s\n",
      "[CV] END alpha=1.0, fit_intercept=True, l1_ratio=0.5, max_iter=1000, selection=cyclic, tol=0.0001; total time=   0.1s\n",
      "[CV] END alpha=1.0, fit_intercept=True, l1_ratio=0.5, max_iter=1000, selection=cyclic, tol=0.0001; total time=   0.1s\n",
      "[CV] END alpha=1.0, fit_intercept=True, l1_ratio=0.5, max_iter=1000, selection=cyclic, tol=1e-05; total time=   0.1s\n",
      "[CV] END alpha=1.0, fit_intercept=True, l1_ratio=0.5, max_iter=1000, selection=cyclic, tol=1e-05; total time=   0.1s\n",
      "[CV] END alpha=1.0, fit_intercept=True, l1_ratio=0.5, max_iter=1000, selection=cyclic, tol=1e-05; total time=   0.1s\n",
      "[CV] END alpha=1.0, fit_intercept=True, l1_ratio=0.5, max_iter=1000, selection=random, tol=0.001; total time=   0.1s\n",
      "[CV] END alpha=1.0, fit_intercept=True, l1_ratio=0.5, max_iter=1000, selection=cyclic, tol=0.0001; total time=   0.1s\n",
      "[CV] END alpha=1.0, fit_intercept=True, l1_ratio=0.5, max_iter=1000, selection=cyclic, tol=0.0001; total time=   0.1s\n",
      "[CV] END alpha=1.0, fit_intercept=True, l1_ratio=0.5, max_iter=1000, selection=cyclic, tol=1e-05; total time=   0.0s\n",
      "[CV] END alpha=1.0, fit_intercept=True, l1_ratio=0.5, max_iter=1000, selection=cyclic, tol=1e-05; total time=   0.1s\n",
      "[CV] END alpha=1.0, fit_intercept=True, l1_ratio=0.5, max_iter=1000, selection=random, tol=0.001; total time=   0.1s\n",
      "[CV] END alpha=1.0, fit_intercept=True, l1_ratio=0.5, max_iter=1000, selection=random, tol=0.001; total time=   0.1s\n",
      "[CV] END alpha=1.0, fit_intercept=True, l1_ratio=0.5, max_iter=1000, selection=random, tol=0.001; total time=   0.1s\n",
      "[CV] END alpha=1.0, fit_intercept=True, l1_ratio=0.5, max_iter=1000, selection=random, tol=0.0001; total time=   0.1s\n",
      "[CV] END alpha=1.0, fit_intercept=True, l1_ratio=0.5, max_iter=1000, selection=random, tol=0.0001; total time=   0.1s\n",
      "[CV] END alpha=1.0, fit_intercept=True, l1_ratio=0.5, max_iter=1000, selection=random, tol=0.0001; total time=   0.1s\n",
      "[CV] END alpha=1.0, fit_intercept=True, l1_ratio=0.5, max_iter=1000, selection=random, tol=0.001; total time=   0.1s\n",
      "[CV] END alpha=1.0, fit_intercept=True, l1_ratio=0.5, max_iter=1000, selection=random, tol=1e-05; total time=   0.1s\n",
      "[CV] END alpha=1.0, fit_intercept=True, l1_ratio=0.5, max_iter=1000, selection=random, tol=0.0001; total time=   0.1s\n",
      "[CV] END alpha=1.0, fit_intercept=True, l1_ratio=0.5, max_iter=1000, selection=random, tol=1e-05; total time=   0.1s\n",
      "[CV] END alpha=1.0, fit_intercept=True, l1_ratio=0.5, max_iter=1000, selection=random, tol=1e-05; total time=   0.1s\n",
      "[CV] END alpha=1.0, fit_intercept=True, l1_ratio=0.5, max_iter=1000, selection=random, tol=0.0001; total time=   0.1s\n",
      "[CV] END alpha=1.0, fit_intercept=True, l1_ratio=0.5, max_iter=5000, selection=cyclic, tol=0.001; total time=   0.1s\n",
      "[CV] END alpha=1.0, fit_intercept=True, l1_ratio=0.5, max_iter=1000, selection=random, tol=1e-05; total time=   0.1s\n",
      "[CV] END alpha=1.0, fit_intercept=True, l1_ratio=0.5, max_iter=1000, selection=random, tol=1e-05; total time=   0.1s\n",
      "[CV] END alpha=1.0, fit_intercept=True, l1_ratio=0.5, max_iter=5000, selection=cyclic, tol=0.001; total time=   0.1s\n",
      "[CV] END alpha=1.0, fit_intercept=True, l1_ratio=0.5, max_iter=5000, selection=cyclic, tol=0.0001; total time=   0.0s\n",
      "[CV] END alpha=1.0, fit_intercept=True, l1_ratio=0.5, max_iter=5000, selection=cyclic, tol=0.001; total time=   0.1s\n",
      "[CV] END alpha=1.0, fit_intercept=True, l1_ratio=0.5, max_iter=5000, selection=cyclic, tol=0.001; total time=   0.1s\n",
      "[CV] END alpha=1.0, fit_intercept=True, l1_ratio=0.5, max_iter=5000, selection=cyclic, tol=0.0001; total time=   0.0s\n",
      "[CV] END alpha=1.0, fit_intercept=True, l1_ratio=0.5, max_iter=5000, selection=cyclic, tol=0.0001; total time=   0.1s\n",
      "[CV] END alpha=1.0, fit_intercept=True, l1_ratio=0.5, max_iter=5000, selection=cyclic, tol=0.001; total time=   0.1s\n",
      "[CV] END alpha=1.0, fit_intercept=True, l1_ratio=0.5, max_iter=5000, selection=cyclic, tol=1e-05; total time=   0.1s\n",
      "[CV] END alpha=1.0, fit_intercept=True, l1_ratio=0.5, max_iter=5000, selection=cyclic, tol=0.0001; total time=   0.1s\n",
      "[CV] END alpha=1.0, fit_intercept=True, l1_ratio=0.5, max_iter=5000, selection=cyclic, tol=1e-05; total time=   0.1s\n",
      "[CV] END alpha=1.0, fit_intercept=True, l1_ratio=0.5, max_iter=5000, selection=cyclic, tol=0.0001; total time=   0.1s\n",
      "[CV] END alpha=1.0, fit_intercept=True, l1_ratio=0.5, max_iter=5000, selection=cyclic, tol=1e-05; total time=   0.1s\n",
      "[CV] END alpha=1.0, fit_intercept=True, l1_ratio=0.5, max_iter=5000, selection=cyclic, tol=1e-05; total time=   0.1s\n",
      "[CV] END alpha=1.0, fit_intercept=True, l1_ratio=0.5, max_iter=5000, selection=random, tol=0.001; total time=   0.1s\n",
      "[CV] END alpha=1.0, fit_intercept=True, l1_ratio=0.5, max_iter=5000, selection=random, tol=0.001; total time=   0.1s\n",
      "[CV] END alpha=1.0, fit_intercept=True, l1_ratio=0.5, max_iter=5000, selection=cyclic, tol=1e-05; total time=   0.1s\n",
      "[CV] END alpha=1.0, fit_intercept=True, l1_ratio=0.5, max_iter=5000, selection=random, tol=0.001; total time=   0.1s\n",
      "[CV] END alpha=1.0, fit_intercept=True, l1_ratio=0.5, max_iter=5000, selection=random, tol=0.0001; total time=   0.1s\n",
      "[CV] END alpha=1.0, fit_intercept=True, l1_ratio=0.5, max_iter=5000, selection=random, tol=0.001; total time=   0.0s\n",
      "[CV] END alpha=1.0, fit_intercept=True, l1_ratio=0.5, max_iter=5000, selection=random, tol=0.001; total time=   0.0s\n",
      "[CV] END alpha=1.0, fit_intercept=True, l1_ratio=0.5, max_iter=5000, selection=random, tol=0.0001; total time=   0.1s\n",
      "[CV] END alpha=1.0, fit_intercept=True, l1_ratio=0.5, max_iter=5000, selection=random, tol=0.0001; total time=   0.1s\n",
      "[CV] END alpha=1.0, fit_intercept=True, l1_ratio=0.5, max_iter=5000, selection=random, tol=0.0001; total time=   0.1s\n",
      "[CV] END alpha=1.0, fit_intercept=True, l1_ratio=0.5, max_iter=10000, selection=cyclic, tol=0.001; total time=   0.0s\n",
      "[CV] END alpha=1.0, fit_intercept=True, l1_ratio=0.5, max_iter=5000, selection=random, tol=1e-05; total time=   0.1s\n",
      "[CV] END alpha=1.0, fit_intercept=True, l1_ratio=0.5, max_iter=5000, selection=random, tol=1e-05; total time=   0.1s\n",
      "[CV] END alpha=1.0, fit_intercept=True, l1_ratio=0.5, max_iter=5000, selection=random, tol=0.0001; total time=   0.1s\n",
      "[CV] END alpha=1.0, fit_intercept=True, l1_ratio=0.5, max_iter=5000, selection=random, tol=1e-05; total time=   0.1s\n",
      "[CV] END alpha=1.0, fit_intercept=True, l1_ratio=0.5, max_iter=10000, selection=cyclic, tol=0.001; total time=   0.1s\n",
      "[CV] END alpha=1.0, fit_intercept=True, l1_ratio=0.5, max_iter=5000, selection=random, tol=1e-05; total time=   0.0s\n",
      "[CV] END alpha=1.0, fit_intercept=True, l1_ratio=0.5, max_iter=10000, selection=cyclic, tol=0.001; total time=   0.1s\n",
      "[CV] END alpha=1.0, fit_intercept=True, l1_ratio=0.5, max_iter=5000, selection=random, tol=1e-05; total time=   0.1s\n",
      "[CV] END alpha=1.0, fit_intercept=True, l1_ratio=0.5, max_iter=10000, selection=cyclic, tol=0.001; total time=   0.1s\n",
      "[CV] END alpha=1.0, fit_intercept=True, l1_ratio=0.5, max_iter=10000, selection=cyclic, tol=0.001; total time=   0.1s\n",
      "[CV] END alpha=1.0, fit_intercept=True, l1_ratio=0.5, max_iter=10000, selection=cyclic, tol=0.0001; total time=   0.1s\n",
      "[CV] END alpha=1.0, fit_intercept=True, l1_ratio=0.5, max_iter=10000, selection=cyclic, tol=0.0001; total time=   0.1s\n",
      "[CV] END alpha=1.0, fit_intercept=True, l1_ratio=0.5, max_iter=10000, selection=cyclic, tol=0.0001; total time=   0.0s\n",
      "[CV] END alpha=1.0, fit_intercept=True, l1_ratio=0.5, max_iter=10000, selection=cyclic, tol=1e-05; total time=   0.1s\n",
      "[CV] END alpha=1.0, fit_intercept=True, l1_ratio=0.5, max_iter=10000, selection=cyclic, tol=1e-05; total time=   0.1s\n",
      "[CV] END alpha=1.0, fit_intercept=True, l1_ratio=0.5, max_iter=10000, selection=cyclic, tol=1e-05; total time=   0.1s\n",
      "[CV] END alpha=1.0, fit_intercept=True, l1_ratio=0.5, max_iter=10000, selection=cyclic, tol=0.0001; total time=   0.1s\n",
      "[CV] END alpha=1.0, fit_intercept=True, l1_ratio=0.5, max_iter=10000, selection=cyclic, tol=0.0001; total time=   0.0s\n",
      "[CV] END alpha=1.0, fit_intercept=True, l1_ratio=0.5, max_iter=10000, selection=cyclic, tol=1e-05; total time=   0.1s\n",
      "[CV] END alpha=1.0, fit_intercept=True, l1_ratio=0.5, max_iter=10000, selection=random, tol=0.001; total time=   0.1s\n",
      "[CV] END alpha=1.0, fit_intercept=True, l1_ratio=0.5, max_iter=10000, selection=cyclic, tol=1e-05; total time=   0.1s\n",
      "[CV] END alpha=1.0, fit_intercept=True, l1_ratio=0.5, max_iter=10000, selection=random, tol=0.001; total time=   0.1s\n",
      "[CV] END alpha=1.0, fit_intercept=True, l1_ratio=0.5, max_iter=10000, selection=random, tol=0.001; total time=   0.1s\n",
      "[CV] END alpha=1.0, fit_intercept=True, l1_ratio=0.5, max_iter=10000, selection=random, tol=0.0001; total time=   0.1s\n",
      "[CV] END alpha=1.0, fit_intercept=True, l1_ratio=0.5, max_iter=10000, selection=random, tol=0.0001; total time=   0.1s\n",
      "[CV] END alpha=1.0, fit_intercept=True, l1_ratio=0.5, max_iter=10000, selection=random, tol=0.001; total time=   0.1s\n",
      "[CV] END alpha=1.0, fit_intercept=True, l1_ratio=0.5, max_iter=10000, selection=random, tol=0.001; total time=   0.1s\n",
      "[CV] END alpha=1.0, fit_intercept=True, l1_ratio=0.5, max_iter=10000, selection=random, tol=0.0001; total time=   0.1s\n",
      "[CV] END alpha=1.0, fit_intercept=True, l1_ratio=0.5, max_iter=10000, selection=random, tol=0.0001; total time=   0.1s\n",
      "[CV] END alpha=1.0, fit_intercept=True, l1_ratio=0.5, max_iter=10000, selection=random, tol=0.0001; total time=   0.1s\n",
      "[CV] END alpha=1.0, fit_intercept=True, l1_ratio=0.5, max_iter=10000, selection=random, tol=1e-05; total time=   0.1s\n",
      "[CV] END alpha=1.0, fit_intercept=True, l1_ratio=0.9, max_iter=1000, selection=cyclic, tol=0.001; total time=   0.0s\n",
      "[CV] END alpha=1.0, fit_intercept=True, l1_ratio=0.5, max_iter=10000, selection=random, tol=1e-05; total time=   0.1s\n",
      "[CV] END alpha=1.0, fit_intercept=True, l1_ratio=0.5, max_iter=10000, selection=random, tol=1e-05; total time=   0.1s\n",
      "[CV] END alpha=1.0, fit_intercept=True, l1_ratio=0.9, max_iter=1000, selection=cyclic, tol=0.001; total time=   0.0s\n",
      "[CV] END alpha=1.0, fit_intercept=True, l1_ratio=0.5, max_iter=10000, selection=random, tol=1e-05; total time=   0.0s\n",
      "[CV] END alpha=1.0, fit_intercept=True, l1_ratio=0.9, max_iter=1000, selection=cyclic, tol=0.001; total time=   0.0s\n",
      "[CV] END alpha=1.0, fit_intercept=True, l1_ratio=0.9, max_iter=1000, selection=cyclic, tol=0.001; total time=   0.1s\n",
      "[CV] END alpha=1.0, fit_intercept=True, l1_ratio=0.9, max_iter=1000, selection=cyclic, tol=0.0001; total time=   0.1s\n",
      "[CV] END alpha=1.0, fit_intercept=True, l1_ratio=0.9, max_iter=1000, selection=cyclic, tol=0.001; total time=   0.0s\n",
      "[CV] END alpha=1.0, fit_intercept=True, l1_ratio=0.9, max_iter=1000, selection=cyclic, tol=0.0001; total time=   0.0s\n",
      "[CV] END alpha=1.0, fit_intercept=True, l1_ratio=0.5, max_iter=10000, selection=random, tol=1e-05; total time=   0.1s\n",
      "[CV] END alpha=1.0, fit_intercept=True, l1_ratio=0.9, max_iter=1000, selection=cyclic, tol=0.0001; total time=   0.0s\n",
      "[CV] END alpha=1.0, fit_intercept=True, l1_ratio=0.9, max_iter=1000, selection=cyclic, tol=1e-05; total time=   0.1s\n",
      "[CV] END alpha=1.0, fit_intercept=True, l1_ratio=0.9, max_iter=1000, selection=cyclic, tol=0.0001; total time=   0.0s\n",
      "[CV] END alpha=1.0, fit_intercept=True, l1_ratio=0.9, max_iter=1000, selection=cyclic, tol=1e-05; total time=   0.0s\n",
      "[CV] END alpha=1.0, fit_intercept=True, l1_ratio=0.9, max_iter=1000, selection=cyclic, tol=1e-05; total time=   0.0s\n",
      "[CV] END alpha=1.0, fit_intercept=True, l1_ratio=0.9, max_iter=1000, selection=random, tol=0.001; total time=   0.0s\n",
      "[CV] END alpha=1.0, fit_intercept=True, l1_ratio=0.9, max_iter=1000, selection=cyclic, tol=0.0001; total time=   0.1s\n",
      "[CV] END alpha=1.0, fit_intercept=True, l1_ratio=0.9, max_iter=1000, selection=cyclic, tol=1e-05; total time=   0.0s\n",
      "[CV] END alpha=1.0, fit_intercept=True, l1_ratio=0.9, max_iter=1000, selection=random, tol=0.001; total time=   0.1s\n",
      "[CV] END alpha=1.0, fit_intercept=True, l1_ratio=0.9, max_iter=1000, selection=cyclic, tol=1e-05; total time=   0.0s\n",
      "[CV] END alpha=1.0, fit_intercept=True, l1_ratio=0.9, max_iter=1000, selection=random, tol=0.001; total time=   0.0s\n",
      "[CV] END alpha=1.0, fit_intercept=True, l1_ratio=0.9, max_iter=1000, selection=random, tol=0.001; total time=   0.0s\n",
      "[CV] END alpha=1.0, fit_intercept=True, l1_ratio=0.9, max_iter=1000, selection=random, tol=0.0001; total time=   0.1s\n",
      "[CV] END alpha=1.0, fit_intercept=True, l1_ratio=0.9, max_iter=1000, selection=random, tol=0.0001; total time=   0.0s\n",
      "[CV] END alpha=1.0, fit_intercept=True, l1_ratio=0.9, max_iter=1000, selection=random, tol=0.001; total time=   0.1s\n",
      "[CV] END alpha=1.0, fit_intercept=True, l1_ratio=0.9, max_iter=1000, selection=random, tol=0.0001; total time=   0.0s\n",
      "[CV] END alpha=1.0, fit_intercept=True, l1_ratio=0.9, max_iter=1000, selection=random, tol=1e-05; total time=   0.0s\n",
      "[CV] END alpha=1.0, fit_intercept=True, l1_ratio=0.9, max_iter=1000, selection=random, tol=1e-05; total time=   0.0s\n",
      "[CV] END alpha=1.0, fit_intercept=True, l1_ratio=0.9, max_iter=1000, selection=random, tol=0.0001; total time=   0.0s\n",
      "[CV] END alpha=1.0, fit_intercept=True, l1_ratio=0.9, max_iter=1000, selection=random, tol=0.0001; total time=   0.0s\n",
      "[CV] END alpha=1.0, fit_intercept=True, l1_ratio=0.9, max_iter=5000, selection=cyclic, tol=0.001; total time=   0.0s\n",
      "[CV] END alpha=1.0, fit_intercept=True, l1_ratio=0.9, max_iter=1000, selection=random, tol=1e-05; total time=   0.0s\n",
      "[CV] END alpha=1.0, fit_intercept=True, l1_ratio=0.9, max_iter=1000, selection=random, tol=1e-05; total time=   0.0s\n",
      "[CV] END alpha=1.0, fit_intercept=True, l1_ratio=0.9, max_iter=1000, selection=random, tol=1e-05; total time=   0.0s\n",
      "[CV] END alpha=1.0, fit_intercept=True, l1_ratio=0.9, max_iter=5000, selection=cyclic, tol=0.001; total time=   0.0s\n",
      "[CV] END alpha=1.0, fit_intercept=True, l1_ratio=0.9, max_iter=5000, selection=cyclic, tol=0.001; total time=   0.0s\n",
      "[CV] END alpha=1.0, fit_intercept=True, l1_ratio=0.9, max_iter=5000, selection=cyclic, tol=0.001; total time=   0.1s\n",
      "[CV] END alpha=1.0, fit_intercept=True, l1_ratio=0.9, max_iter=5000, selection=cyclic, tol=0.0001; total time=   0.0s\n",
      "[CV] END alpha=1.0, fit_intercept=True, l1_ratio=0.9, max_iter=5000, selection=cyclic, tol=1e-05; total time=   0.0s\n",
      "[CV] END alpha=1.0, fit_intercept=True, l1_ratio=0.9, max_iter=5000, selection=cyclic, tol=0.0001; total time=   0.1s\n",
      "[CV] END alpha=1.0, fit_intercept=True, l1_ratio=0.9, max_iter=5000, selection=cyclic, tol=1e-05; total time=   0.1s\n",
      "[CV] END alpha=1.0, fit_intercept=True, l1_ratio=0.9, max_iter=5000, selection=cyclic, tol=0.001; total time=   0.0s\n",
      "[CV] END alpha=1.0, fit_intercept=True, l1_ratio=0.9, max_iter=5000, selection=cyclic, tol=0.0001; total time=   0.0s\n",
      "[CV] END alpha=1.0, fit_intercept=True, l1_ratio=0.9, max_iter=5000, selection=cyclic, tol=0.0001; total time=   0.1s\n",
      "[CV] END alpha=1.0, fit_intercept=True, l1_ratio=0.9, max_iter=5000, selection=cyclic, tol=1e-05; total time=   0.0s\n",
      "[CV] END alpha=1.0, fit_intercept=True, l1_ratio=0.9, max_iter=5000, selection=cyclic, tol=0.0001; total time=   0.0s\n",
      "[CV] END alpha=1.0, fit_intercept=True, l1_ratio=0.9, max_iter=5000, selection=cyclic, tol=1e-05; total time=   0.0s\n",
      "[CV] END alpha=1.0, fit_intercept=True, l1_ratio=0.9, max_iter=5000, selection=cyclic, tol=1e-05; total time=   0.0s\n",
      "[CV] END alpha=1.0, fit_intercept=True, l1_ratio=0.9, max_iter=5000, selection=random, tol=0.0001; total time=   0.0s\n",
      "[CV] END alpha=1.0, fit_intercept=True, l1_ratio=0.9, max_iter=5000, selection=random, tol=0.001; total time=   0.1s\n",
      "[CV] END alpha=1.0, fit_intercept=True, l1_ratio=0.9, max_iter=5000, selection=random, tol=0.001; total time=   0.1s\n",
      "[CV] END alpha=1.0, fit_intercept=True, l1_ratio=0.9, max_iter=5000, selection=random, tol=0.001; total time=   0.0s\n",
      "[CV] END alpha=1.0, fit_intercept=True, l1_ratio=0.9, max_iter=5000, selection=random, tol=0.0001; total time=   0.1s\n",
      "[CV] END alpha=1.0, fit_intercept=True, l1_ratio=0.9, max_iter=5000, selection=random, tol=0.0001; total time=   0.1s\n",
      "[CV] END alpha=1.0, fit_intercept=True, l1_ratio=0.9, max_iter=5000, selection=random, tol=0.001; total time=   0.0s\n",
      "[CV] END alpha=1.0, fit_intercept=True, l1_ratio=0.9, max_iter=5000, selection=random, tol=0.0001; total time=   0.0s\n",
      "[CV] END alpha=1.0, fit_intercept=True, l1_ratio=0.9, max_iter=5000, selection=random, tol=0.001; total time=   0.1s\n",
      "[CV] END alpha=1.0, fit_intercept=True, l1_ratio=0.9, max_iter=5000, selection=random, tol=0.0001; total time=   0.0s\n",
      "[CV] END alpha=1.0, fit_intercept=True, l1_ratio=0.9, max_iter=5000, selection=random, tol=1e-05; total time=   0.0s\n",
      "[CV] END alpha=1.0, fit_intercept=True, l1_ratio=0.9, max_iter=5000, selection=random, tol=1e-05; total time=   0.0s\n",
      "[CV] END alpha=1.0, fit_intercept=True, l1_ratio=0.9, max_iter=5000, selection=random, tol=1e-05; total time=   0.0s\n",
      "[CV] END alpha=1.0, fit_intercept=True, l1_ratio=0.9, max_iter=10000, selection=cyclic, tol=0.001; total time=   0.0s\n",
      "[CV] END alpha=1.0, fit_intercept=True, l1_ratio=0.9, max_iter=10000, selection=cyclic, tol=0.001; total time=   0.0s\n",
      "[CV] END alpha=1.0, fit_intercept=True, l1_ratio=0.9, max_iter=5000, selection=random, tol=1e-05; total time=   0.0s\n",
      "[CV] END alpha=1.0, fit_intercept=True, l1_ratio=0.9, max_iter=10000, selection=cyclic, tol=0.0001; total time=   0.0s\n",
      "[CV] END alpha=1.0, fit_intercept=True, l1_ratio=0.9, max_iter=10000, selection=cyclic, tol=0.001; total time=   0.1s\n",
      "[CV] END alpha=1.0, fit_intercept=True, l1_ratio=0.9, max_iter=5000, selection=random, tol=1e-05; total time=   0.0s\n",
      "[CV] END alpha=1.0, fit_intercept=True, l1_ratio=0.9, max_iter=10000, selection=cyclic, tol=0.001; total time=   0.0s\n",
      "[CV] END alpha=1.0, fit_intercept=True, l1_ratio=0.9, max_iter=10000, selection=cyclic, tol=0.001; total time=   0.1s\n",
      "[CV] END alpha=1.0, fit_intercept=True, l1_ratio=0.9, max_iter=10000, selection=cyclic, tol=0.0001; total time=   0.0s\n",
      "[CV] END alpha=1.0, fit_intercept=True, l1_ratio=0.9, max_iter=10000, selection=cyclic, tol=0.0001; total time=   0.1s\n",
      "[CV] END alpha=1.0, fit_intercept=True, l1_ratio=0.9, max_iter=10000, selection=cyclic, tol=0.0001; total time=   0.1s\n",
      "[CV] END alpha=1.0, fit_intercept=True, l1_ratio=0.9, max_iter=10000, selection=cyclic, tol=1e-05; total time=   0.1s\n",
      "[CV] END alpha=1.0, fit_intercept=True, l1_ratio=0.9, max_iter=10000, selection=cyclic, tol=1e-05; total time=   0.1s\n",
      "[CV] END alpha=1.0, fit_intercept=True, l1_ratio=0.9, max_iter=10000, selection=cyclic, tol=0.0001; total time=   0.0s[CV] END alpha=1.0, fit_intercept=True, l1_ratio=0.9, max_iter=10000, selection=cyclic, tol=1e-05; total time=   0.0s\n",
      "\n",
      "[CV] END alpha=1.0, fit_intercept=True, l1_ratio=0.9, max_iter=10000, selection=random, tol=0.001; total time=   0.0s\n",
      "[CV] END alpha=1.0, fit_intercept=True, l1_ratio=0.9, max_iter=10000, selection=random, tol=0.001; total time=   0.0s\n",
      "[CV] END alpha=1.0, fit_intercept=True, l1_ratio=0.9, max_iter=10000, selection=cyclic, tol=1e-05; total time=   0.0s\n",
      "[CV] END alpha=1.0, fit_intercept=True, l1_ratio=0.9, max_iter=10000, selection=cyclic, tol=1e-05; total time=   0.0s\n",
      "[CV] END alpha=1.0, fit_intercept=True, l1_ratio=0.9, max_iter=10000, selection=random, tol=0.001; total time=   0.0s\n",
      "[CV] END alpha=1.0, fit_intercept=True, l1_ratio=0.9, max_iter=10000, selection=random, tol=0.001; total time=   0.0s\n",
      "[CV] END alpha=1.0, fit_intercept=True, l1_ratio=0.9, max_iter=10000, selection=random, tol=0.0001; total time=   0.0s\n",
      "[CV] END alpha=1.0, fit_intercept=True, l1_ratio=0.9, max_iter=10000, selection=random, tol=0.001; total time=   0.0s\n",
      "[CV] END alpha=1.0, fit_intercept=True, l1_ratio=0.9, max_iter=10000, selection=random, tol=0.0001; total time=   0.1s\n",
      "[CV] END alpha=1.0, fit_intercept=True, l1_ratio=0.9, max_iter=10000, selection=random, tol=0.0001; total time=   0.1s\n",
      "[CV] END alpha=1.0, fit_intercept=True, l1_ratio=0.9, max_iter=10000, selection=random, tol=1e-05; total time=   0.1s\n",
      "[CV] END alpha=1.0, fit_intercept=True, l1_ratio=0.9, max_iter=10000, selection=random, tol=0.0001; total time=   0.0s\n",
      "[CV] END alpha=1.0, fit_intercept=True, l1_ratio=0.9, max_iter=10000, selection=random, tol=0.0001; total time=   0.0s\n",
      "[CV] END alpha=1.0, fit_intercept=True, l1_ratio=0.9, max_iter=10000, selection=random, tol=1e-05; total time=   0.0s\n",
      "[CV] END alpha=1.0, fit_intercept=True, l1_ratio=0.9, max_iter=10000, selection=random, tol=1e-05; total time=   0.0s\n",
      "[CV] END alpha=1.0, fit_intercept=True, l1_ratio=0.9, max_iter=10000, selection=random, tol=1e-05; total time=   0.1s\n",
      "[CV] END alpha=1.0, fit_intercept=True, l1_ratio=0.9, max_iter=10000, selection=random, tol=1e-05; total time=   0.1s\n",
      "[CV] END alpha=1.0, fit_intercept=False, l1_ratio=0.1, max_iter=1000, selection=cyclic, tol=0.001; total time=   2.1s\n",
      "[CV] END alpha=1.0, fit_intercept=False, l1_ratio=0.1, max_iter=1000, selection=cyclic, tol=0.001; total time=   2.1s\n",
      "[CV] END alpha=1.0, fit_intercept=False, l1_ratio=0.1, max_iter=1000, selection=cyclic, tol=0.001; total time=   2.1s\n",
      "[CV] END alpha=1.0, fit_intercept=False, l1_ratio=0.1, max_iter=1000, selection=cyclic, tol=0.0001; total time=   3.1s\n",
      "[CV] END alpha=1.0, fit_intercept=False, l1_ratio=0.1, max_iter=1000, selection=cyclic, tol=0.0001; total time=   3.3s\n",
      "[CV] END alpha=1.0, fit_intercept=False, l1_ratio=0.1, max_iter=1000, selection=cyclic, tol=1e-05; total time=   3.5s\n",
      "[CV] END alpha=1.0, fit_intercept=False, l1_ratio=0.1, max_iter=1000, selection=cyclic, tol=0.001; total time=   2.1s\n",
      "[CV] END alpha=1.0, fit_intercept=False, l1_ratio=0.1, max_iter=1000, selection=cyclic, tol=0.001; total time=   2.2s\n",
      "[CV] END alpha=1.0, fit_intercept=False, l1_ratio=0.1, max_iter=1000, selection=cyclic, tol=0.0001; total time=   3.3s\n",
      "[CV] END alpha=1.0, fit_intercept=False, l1_ratio=0.1, max_iter=1000, selection=random, tol=0.001; total time=   0.1s\n",
      "[CV] END alpha=1.0, fit_intercept=False, l1_ratio=0.1, max_iter=1000, selection=random, tol=0.001; total time=   0.2s\n",
      "[CV] END alpha=1.0, fit_intercept=False, l1_ratio=0.1, max_iter=1000, selection=random, tol=0.001; total time=   0.1s\n",
      "[CV] END alpha=1.0, fit_intercept=False, l1_ratio=0.1, max_iter=1000, selection=random, tol=0.001; total time=   0.1s\n",
      "[CV] END alpha=0.1, fit_intercept=False, l1_ratio=0.9, max_iter=10000, selection=cyclic, tol=1e-05; total time=  21.8s\n",
      "[CV] END alpha=1.0, fit_intercept=False, l1_ratio=0.1, max_iter=1000, selection=random, tol=0.0001; total time=   0.1s\n"
     ]
    },
    {
     "name": "stderr",
     "output_type": "stream",
     "text": [
      "/Users/zoemarquis/Documents/projet_industrie/projet_batteries/mon_venv/lib/python3.11/site-packages/sklearn/linear_model/_coordinate_descent.py:697: ConvergenceWarning: Objective did not converge. You might want to increase the number of iterations, check the scale of the features or consider increasing regularisation. Duality gap: 2.295e+04, tolerance: 1.416e+03\n",
      "  model = cd_fast.enet_coordinate_descent(\n",
      "/Users/zoemarquis/Documents/projet_industrie/projet_batteries/mon_venv/lib/python3.11/site-packages/sklearn/linear_model/_coordinate_descent.py:697: ConvergenceWarning: Objective did not converge. You might want to increase the number of iterations, check the scale of the features or consider increasing regularisation. Duality gap: 2.248e+04, tolerance: 1.415e+03\n",
      "  model = cd_fast.enet_coordinate_descent(\n"
     ]
    },
    {
     "name": "stdout",
     "output_type": "stream",
     "text": [
      "[CV] END alpha=1.0, fit_intercept=False, l1_ratio=0.1, max_iter=1000, selection=random, tol=0.0001; total time=   0.1s\n",
      "[CV] END alpha=1.0, fit_intercept=False, l1_ratio=0.1, max_iter=1000, selection=cyclic, tol=0.0001; total time=   2.9s\n",
      "[CV] END alpha=1.0, fit_intercept=False, l1_ratio=0.1, max_iter=1000, selection=random, tol=0.0001; total time=   0.1s\n",
      "[CV] END alpha=0.1, fit_intercept=False, l1_ratio=0.9, max_iter=10000, selection=cyclic, tol=1e-05; total time=  21.7s\n",
      "[CV] END alpha=1.0, fit_intercept=False, l1_ratio=0.1, max_iter=1000, selection=cyclic, tol=0.0001; total time=   3.1s\n",
      "[CV] END alpha=1.0, fit_intercept=False, l1_ratio=0.1, max_iter=1000, selection=random, tol=0.0001; total time=   0.2s\n",
      "[CV] END alpha=1.0, fit_intercept=False, l1_ratio=0.1, max_iter=1000, selection=random, tol=1e-05; total time=   0.1s\n",
      "[CV] END alpha=1.0, fit_intercept=False, l1_ratio=0.1, max_iter=1000, selection=random, tol=0.0001; total time=   0.2s\n",
      "[CV] END alpha=1.0, fit_intercept=False, l1_ratio=0.1, max_iter=1000, selection=random, tol=1e-05; total time=   0.1s\n",
      "[CV] END alpha=1.0, fit_intercept=False, l1_ratio=0.1, max_iter=1000, selection=random, tol=1e-05; total time=   0.1s\n",
      "[CV] END alpha=1.0, fit_intercept=False, l1_ratio=0.1, max_iter=1000, selection=random, tol=1e-05; total time=   0.1s\n",
      "[CV] END alpha=1.0, fit_intercept=False, l1_ratio=0.1, max_iter=1000, selection=random, tol=1e-05; total time=   0.2s\n",
      "[CV] END alpha=1.0, fit_intercept=False, l1_ratio=0.1, max_iter=1000, selection=cyclic, tol=1e-05; total time=   3.6s\n",
      "[CV] END alpha=1.0, fit_intercept=False, l1_ratio=0.1, max_iter=1000, selection=cyclic, tol=1e-05; total time=   3.5s\n",
      "[CV] END alpha=1.0, fit_intercept=False, l1_ratio=0.1, max_iter=1000, selection=cyclic, tol=1e-05; total time=   3.4s\n",
      "[CV] END alpha=1.0, fit_intercept=False, l1_ratio=0.1, max_iter=1000, selection=random, tol=0.001; total time=   0.1s\n",
      "[CV] END alpha=1.0, fit_intercept=False, l1_ratio=0.1, max_iter=5000, selection=cyclic, tol=0.001; total time=   1.9s\n",
      "[CV] END alpha=1.0, fit_intercept=False, l1_ratio=0.1, max_iter=5000, selection=cyclic, tol=0.001; total time=   2.0s\n",
      "[CV] END alpha=1.0, fit_intercept=False, l1_ratio=0.1, max_iter=5000, selection=cyclic, tol=0.001; total time=   1.9s\n",
      "[CV] END alpha=1.0, fit_intercept=False, l1_ratio=0.1, max_iter=5000, selection=cyclic, tol=0.0001; total time=   3.0s\n",
      "[CV] END alpha=1.0, fit_intercept=False, l1_ratio=0.1, max_iter=5000, selection=cyclic, tol=0.0001; total time=   3.0s\n",
      "[CV] END alpha=1.0, fit_intercept=False, l1_ratio=0.1, max_iter=5000, selection=cyclic, tol=0.0001; total time=   3.0s\n",
      "[CV] END alpha=1.0, fit_intercept=False, l1_ratio=0.1, max_iter=5000, selection=cyclic, tol=0.001; total time=   2.0s\n",
      "[CV] END alpha=1.0, fit_intercept=False, l1_ratio=0.1, max_iter=5000, selection=cyclic, tol=0.001; total time=   2.0s\n",
      "[CV] END alpha=1.0, fit_intercept=False, l1_ratio=0.1, max_iter=5000, selection=cyclic, tol=0.0001; total time=   2.8s\n",
      "[CV] END alpha=1.0, fit_intercept=False, l1_ratio=0.1, max_iter=5000, selection=random, tol=0.001; total time=   0.1s\n",
      "[CV] END alpha=1.0, fit_intercept=False, l1_ratio=0.1, max_iter=5000, selection=random, tol=0.001; total time=   0.1s\n",
      "[CV] END alpha=1.0, fit_intercept=False, l1_ratio=0.1, max_iter=1000, selection=cyclic, tol=1e-05; total time=   3.3s\n",
      "[CV] END alpha=1.0, fit_intercept=False, l1_ratio=0.1, max_iter=5000, selection=random, tol=0.001; total time=   0.1s\n",
      "[CV] END alpha=1.0, fit_intercept=False, l1_ratio=0.1, max_iter=5000, selection=random, tol=0.001; total time=   0.1s\n",
      "[CV] END alpha=1.0, fit_intercept=False, l1_ratio=0.1, max_iter=5000, selection=random, tol=0.0001; total time=   0.1s\n",
      "[CV] END alpha=1.0, fit_intercept=False, l1_ratio=0.1, max_iter=5000, selection=random, tol=0.001; total time=   0.2s\n",
      "[CV] END alpha=1.0, fit_intercept=False, l1_ratio=0.1, max_iter=5000, selection=random, tol=0.0001; total time=   0.1s\n",
      "[CV] END alpha=1.0, fit_intercept=False, l1_ratio=0.1, max_iter=5000, selection=random, tol=0.0001; total time=   0.2s\n",
      "[CV] END alpha=1.0, fit_intercept=False, l1_ratio=0.1, max_iter=5000, selection=random, tol=0.0001; total time=   0.1s\n",
      "[CV] END alpha=1.0, fit_intercept=False, l1_ratio=0.1, max_iter=5000, selection=cyclic, tol=0.0001; total time=   3.0s\n",
      "[CV] END alpha=1.0, fit_intercept=False, l1_ratio=0.1, max_iter=5000, selection=random, tol=1e-05; total time=   0.2s\n",
      "[CV] END alpha=1.0, fit_intercept=False, l1_ratio=0.1, max_iter=5000, selection=random, tol=0.0001; total time=   0.2s\n",
      "[CV] END alpha=1.0, fit_intercept=False, l1_ratio=0.1, max_iter=5000, selection=random, tol=1e-05; total time=   0.1s\n",
      "[CV] END alpha=1.0, fit_intercept=False, l1_ratio=0.1, max_iter=5000, selection=random, tol=1e-05; total time=   0.1s\n",
      "[CV] END alpha=1.0, fit_intercept=False, l1_ratio=0.1, max_iter=5000, selection=random, tol=1e-05; total time=   0.2s\n",
      "[CV] END alpha=1.0, fit_intercept=False, l1_ratio=0.1, max_iter=5000, selection=random, tol=1e-05; total time=   0.2s\n",
      "[CV] END alpha=1.0, fit_intercept=False, l1_ratio=0.1, max_iter=5000, selection=cyclic, tol=1e-05; total time=   3.5s\n",
      "[CV] END alpha=1.0, fit_intercept=False, l1_ratio=0.1, max_iter=10000, selection=cyclic, tol=0.001; total time=   1.6s\n",
      "[CV] END alpha=1.0, fit_intercept=False, l1_ratio=0.1, max_iter=5000, selection=cyclic, tol=1e-05; total time=   3.9s\n",
      "[CV] END alpha=1.0, fit_intercept=False, l1_ratio=0.1, max_iter=10000, selection=cyclic, tol=0.001; total time=   1.9s\n",
      "[CV] END alpha=1.0, fit_intercept=False, l1_ratio=0.1, max_iter=10000, selection=cyclic, tol=0.001; total time=   1.9s\n",
      "[CV] END alpha=1.0, fit_intercept=False, l1_ratio=0.1, max_iter=5000, selection=cyclic, tol=1e-05; total time=   3.5s\n",
      "[CV] END alpha=1.0, fit_intercept=False, l1_ratio=0.1, max_iter=5000, selection=cyclic, tol=1e-05; total time=   3.5s\n",
      "[CV] END alpha=1.0, fit_intercept=False, l1_ratio=0.1, max_iter=5000, selection=cyclic, tol=1e-05; total time=   3.5s\n",
      "[CV] END alpha=1.0, fit_intercept=False, l1_ratio=0.1, max_iter=10000, selection=cyclic, tol=0.001; total time=   1.9s\n",
      "[CV] END alpha=1.0, fit_intercept=False, l1_ratio=0.1, max_iter=10000, selection=cyclic, tol=0.001; total time=   1.9s\n",
      "[CV] END alpha=1.0, fit_intercept=False, l1_ratio=0.1, max_iter=10000, selection=cyclic, tol=0.0001; total time=   2.7s[CV] END alpha=1.0, fit_intercept=False, l1_ratio=0.1, max_iter=10000, selection=cyclic, tol=0.0001; total time=   2.7s\n",
      "\n",
      "[CV] END alpha=1.0, fit_intercept=False, l1_ratio=0.1, max_iter=10000, selection=cyclic, tol=0.0001; total time=   2.8s\n",
      "[CV] END alpha=1.0, fit_intercept=False, l1_ratio=0.1, max_iter=10000, selection=cyclic, tol=0.0001; total time=   3.0s\n",
      "[CV] END alpha=1.0, fit_intercept=False, l1_ratio=0.1, max_iter=10000, selection=random, tol=0.001; total time=   0.1s\n",
      "[CV] END alpha=1.0, fit_intercept=False, l1_ratio=0.1, max_iter=10000, selection=random, tol=0.001; total time=   0.1s\n",
      "[CV] END alpha=1.0, fit_intercept=False, l1_ratio=0.1, max_iter=10000, selection=random, tol=0.001; total time=   0.1s\n",
      "[CV] END alpha=1.0, fit_intercept=False, l1_ratio=0.1, max_iter=10000, selection=cyclic, tol=0.0001; total time=   2.9s\n",
      "[CV] END alpha=1.0, fit_intercept=False, l1_ratio=0.1, max_iter=10000, selection=random, tol=0.001; total time=   0.1s\n",
      "[CV] END alpha=1.0, fit_intercept=False, l1_ratio=0.1, max_iter=10000, selection=random, tol=0.001; total time=   0.1s\n",
      "[CV] END alpha=1.0, fit_intercept=False, l1_ratio=0.1, max_iter=10000, selection=random, tol=0.0001; total time=   0.1s\n",
      "[CV] END alpha=1.0, fit_intercept=False, l1_ratio=0.1, max_iter=10000, selection=random, tol=0.0001; total time=   0.2s\n",
      "[CV] END alpha=1.0, fit_intercept=False, l1_ratio=0.1, max_iter=10000, selection=random, tol=0.0001; total time=   0.1s\n",
      "[CV] END alpha=1.0, fit_intercept=False, l1_ratio=0.1, max_iter=10000, selection=random, tol=0.0001; total time=   0.1s\n",
      "[CV] END alpha=1.0, fit_intercept=False, l1_ratio=0.1, max_iter=10000, selection=random, tol=0.0001; total time=   0.2s\n",
      "[CV] END alpha=1.0, fit_intercept=False, l1_ratio=0.1, max_iter=10000, selection=random, tol=1e-05; total time=   0.2s\n",
      "[CV] END alpha=1.0, fit_intercept=False, l1_ratio=0.1, max_iter=10000, selection=random, tol=1e-05; total time=   0.2s\n",
      "[CV] END alpha=1.0, fit_intercept=False, l1_ratio=0.1, max_iter=10000, selection=random, tol=1e-05; total time=   0.1s\n",
      "[CV] END alpha=1.0, fit_intercept=False, l1_ratio=0.1, max_iter=10000, selection=random, tol=1e-05; total time=   0.1s\n",
      "[CV] END alpha=1.0, fit_intercept=False, l1_ratio=0.1, max_iter=10000, selection=random, tol=1e-05; total time=   0.2s\n",
      "[CV] END alpha=1.0, fit_intercept=False, l1_ratio=0.1, max_iter=10000, selection=cyclic, tol=1e-05; total time=   3.9s\n",
      "[CV] END alpha=1.0, fit_intercept=False, l1_ratio=0.1, max_iter=10000, selection=cyclic, tol=1e-05; total time=   3.7s\n",
      "[CV] END alpha=1.0, fit_intercept=False, l1_ratio=0.1, max_iter=10000, selection=cyclic, tol=1e-05; total time=   3.9s\n",
      "[CV] END alpha=1.0, fit_intercept=False, l1_ratio=0.1, max_iter=10000, selection=cyclic, tol=1e-05; total time=   3.7s\n",
      "[CV] END alpha=1.0, fit_intercept=False, l1_ratio=0.5, max_iter=1000, selection=cyclic, tol=0.001; total time=   2.9s\n",
      "[CV] END alpha=1.0, fit_intercept=False, l1_ratio=0.1, max_iter=10000, selection=cyclic, tol=1e-05; total time=   3.8s\n",
      "[CV] END alpha=1.0, fit_intercept=False, l1_ratio=0.5, max_iter=1000, selection=cyclic, tol=0.001; total time=   3.0s\n",
      "[CV] END alpha=1.0, fit_intercept=False, l1_ratio=0.5, max_iter=1000, selection=cyclic, tol=0.001; total time=   3.0s\n",
      "[CV] END alpha=1.0, fit_intercept=False, l1_ratio=0.5, max_iter=1000, selection=cyclic, tol=0.001; total time=   3.0s\n",
      "[CV] END alpha=1.0, fit_intercept=False, l1_ratio=0.5, max_iter=1000, selection=cyclic, tol=0.001; total time=   2.8s\n"
     ]
    },
    {
     "name": "stderr",
     "output_type": "stream",
     "text": [
      "/Users/zoemarquis/Documents/projet_industrie/projet_batteries/mon_venv/lib/python3.11/site-packages/sklearn/linear_model/_coordinate_descent.py:697: ConvergenceWarning: Objective did not converge. You might want to increase the number of iterations, check the scale of the features or consider increasing regularisation. Duality gap: 4.704e+04, tolerance: 1.414e+04\n",
      "  model = cd_fast.enet_coordinate_descent(\n"
     ]
    },
    {
     "name": "stdout",
     "output_type": "stream",
     "text": [
      "[CV] END alpha=1.0, fit_intercept=False, l1_ratio=0.5, max_iter=1000, selection=cyclic, tol=0.0001; total time=   2.9s\n"
     ]
    },
    {
     "name": "stderr",
     "output_type": "stream",
     "text": [
      "/Users/zoemarquis/Documents/projet_industrie/projet_batteries/mon_venv/lib/python3.11/site-packages/sklearn/linear_model/_coordinate_descent.py:697: ConvergenceWarning: Objective did not converge. You might want to increase the number of iterations, check the scale of the features or consider increasing regularisation. Duality gap: 4.665e+04, tolerance: 1.414e+04\n",
      "  model = cd_fast.enet_coordinate_descent(\n",
      "/Users/zoemarquis/Documents/projet_industrie/projet_batteries/mon_venv/lib/python3.11/site-packages/sklearn/linear_model/_coordinate_descent.py:697: ConvergenceWarning: Objective did not converge. You might want to increase the number of iterations, check the scale of the features or consider increasing regularisation. Duality gap: 4.710e+04, tolerance: 1.416e+04\n",
      "  model = cd_fast.enet_coordinate_descent(\n",
      "/Users/zoemarquis/Documents/projet_industrie/projet_batteries/mon_venv/lib/python3.11/site-packages/sklearn/linear_model/_coordinate_descent.py:697: ConvergenceWarning: Objective did not converge. You might want to increase the number of iterations, check the scale of the features or consider increasing regularisation. Duality gap: 4.678e+04, tolerance: 1.415e+04\n",
      "  model = cd_fast.enet_coordinate_descent(\n"
     ]
    },
    {
     "name": "stdout",
     "output_type": "stream",
     "text": [
      "[CV] END alpha=1.0, fit_intercept=False, l1_ratio=0.5, max_iter=1000, selection=cyclic, tol=0.0001; total time=   3.0s\n",
      "[CV] END alpha=1.0, fit_intercept=False, l1_ratio=0.5, max_iter=1000, selection=cyclic, tol=0.0001; total time=   3.0s\n",
      "[CV] END alpha=1.0, fit_intercept=False, l1_ratio=0.5, max_iter=1000, selection=cyclic, tol=0.0001; total time=   3.0s\n",
      "[CV] END alpha=1.0, fit_intercept=False, l1_ratio=0.5, max_iter=1000, selection=random, tol=0.001; total time=   0.1s\n",
      "[CV] END alpha=1.0, fit_intercept=False, l1_ratio=0.5, max_iter=1000, selection=random, tol=0.001; total time=   0.1s\n"
     ]
    },
    {
     "name": "stderr",
     "output_type": "stream",
     "text": [
      "/Users/zoemarquis/Documents/projet_industrie/projet_batteries/mon_venv/lib/python3.11/site-packages/sklearn/linear_model/_coordinate_descent.py:697: ConvergenceWarning: Objective did not converge. You might want to increase the number of iterations, check the scale of the features or consider increasing regularisation. Duality gap: 4.678e+04, tolerance: 1.415e+04\n",
      "  model = cd_fast.enet_coordinate_descent(\n",
      "/Users/zoemarquis/Documents/projet_industrie/projet_batteries/mon_venv/lib/python3.11/site-packages/sklearn/linear_model/_coordinate_descent.py:697: ConvergenceWarning: Objective did not converge. You might want to increase the number of iterations, check the scale of the features or consider increasing regularisation. Duality gap: 4.704e+04, tolerance: 1.414e+03\n",
      "  model = cd_fast.enet_coordinate_descent(\n"
     ]
    },
    {
     "name": "stdout",
     "output_type": "stream",
     "text": [
      "[CV] END alpha=1.0, fit_intercept=False, l1_ratio=0.5, max_iter=1000, selection=cyclic, tol=0.0001; total time=   3.2s\n",
      "[CV] END alpha=1.0, fit_intercept=False, l1_ratio=0.5, max_iter=1000, selection=random, tol=0.001; total time=   0.2s\n",
      "[CV] END alpha=1.0, fit_intercept=False, l1_ratio=0.5, max_iter=1000, selection=random, tol=0.001; total time=   0.2s\n",
      "[CV] END alpha=1.0, fit_intercept=False, l1_ratio=0.5, max_iter=1000, selection=cyclic, tol=1e-05; total time=   3.1s\n",
      "[CV] END alpha=1.0, fit_intercept=False, l1_ratio=0.5, max_iter=1000, selection=random, tol=0.0001; total time=   0.1s\n",
      "[CV] END alpha=1.0, fit_intercept=False, l1_ratio=0.5, max_iter=1000, selection=random, tol=0.001; total time=   0.1s\n",
      "[CV] END alpha=1.0, fit_intercept=False, l1_ratio=0.5, max_iter=1000, selection=random, tol=0.0001; total time=   0.2s\n",
      "[CV] END alpha=1.0, fit_intercept=False, l1_ratio=0.5, max_iter=1000, selection=random, tol=0.0001; total time=   0.2s\n",
      "[CV] END alpha=1.0, fit_intercept=False, l1_ratio=0.5, max_iter=1000, selection=random, tol=0.0001; total time=   0.1s\n",
      "[CV] END alpha=1.0, fit_intercept=False, l1_ratio=0.5, max_iter=1000, selection=cyclic, tol=1e-05; total time=   3.1s\n",
      "[CV] END alpha=1.0, fit_intercept=False, l1_ratio=0.5, max_iter=1000, selection=random, tol=0.0001; total time=   0.2s\n",
      "[CV] END alpha=1.0, fit_intercept=False, l1_ratio=0.5, max_iter=1000, selection=random, tol=1e-05; total time=   0.2s\n"
     ]
    },
    {
     "name": "stderr",
     "output_type": "stream",
     "text": [
      "/Users/zoemarquis/Documents/projet_industrie/projet_batteries/mon_venv/lib/python3.11/site-packages/sklearn/linear_model/_coordinate_descent.py:697: ConvergenceWarning: Objective did not converge. You might want to increase the number of iterations, check the scale of the features or consider increasing regularisation. Duality gap: 4.665e+04, tolerance: 1.414e+03\n",
      "  model = cd_fast.enet_coordinate_descent(\n"
     ]
    },
    {
     "name": "stdout",
     "output_type": "stream",
     "text": [
      "[CV] END alpha=1.0, fit_intercept=False, l1_ratio=0.5, max_iter=1000, selection=random, tol=1e-05; total time=   0.1s\n",
      "[CV] END alpha=1.0, fit_intercept=False, l1_ratio=0.5, max_iter=1000, selection=random, tol=1e-05; total time=   0.2s\n",
      "[CV] END alpha=1.0, fit_intercept=False, l1_ratio=0.5, max_iter=1000, selection=random, tol=1e-05; total time=   0.1s\n",
      "[CV] END alpha=1.0, fit_intercept=False, l1_ratio=0.5, max_iter=1000, selection=random, tol=1e-05; total time=   0.2s\n"
     ]
    },
    {
     "name": "stderr",
     "output_type": "stream",
     "text": [
      "/Users/zoemarquis/Documents/projet_industrie/projet_batteries/mon_venv/lib/python3.11/site-packages/sklearn/linear_model/_coordinate_descent.py:697: ConvergenceWarning: Objective did not converge. You might want to increase the number of iterations, check the scale of the features or consider increasing regularisation. Duality gap: 4.678e+04, tolerance: 1.415e+03\n",
      "  model = cd_fast.enet_coordinate_descent(\n"
     ]
    },
    {
     "name": "stdout",
     "output_type": "stream",
     "text": [
      "[CV] END alpha=1.0, fit_intercept=False, l1_ratio=0.5, max_iter=1000, selection=cyclic, tol=1e-05; total time=   3.2s\n"
     ]
    },
    {
     "name": "stderr",
     "output_type": "stream",
     "text": [
      "/Users/zoemarquis/Documents/projet_industrie/projet_batteries/mon_venv/lib/python3.11/site-packages/sklearn/linear_model/_coordinate_descent.py:697: ConvergenceWarning: Objective did not converge. You might want to increase the number of iterations, check the scale of the features or consider increasing regularisation. Duality gap: 4.710e+04, tolerance: 1.416e+03\n",
      "  model = cd_fast.enet_coordinate_descent(\n"
     ]
    },
    {
     "name": "stdout",
     "output_type": "stream",
     "text": [
      "[CV] END alpha=1.0, fit_intercept=False, l1_ratio=0.5, max_iter=1000, selection=cyclic, tol=1e-05; total time=   3.1s\n"
     ]
    },
    {
     "name": "stderr",
     "output_type": "stream",
     "text": [
      "/Users/zoemarquis/Documents/projet_industrie/projet_batteries/mon_venv/lib/python3.11/site-packages/sklearn/linear_model/_coordinate_descent.py:697: ConvergenceWarning: Objective did not converge. You might want to increase the number of iterations, check the scale of the features or consider increasing regularisation. Duality gap: 4.678e+04, tolerance: 1.415e+03\n",
      "  model = cd_fast.enet_coordinate_descent(\n"
     ]
    },
    {
     "name": "stdout",
     "output_type": "stream",
     "text": [
      "[CV] END alpha=1.0, fit_intercept=False, l1_ratio=0.5, max_iter=1000, selection=cyclic, tol=1e-05; total time=   3.2s\n",
      "[CV] END alpha=1.0, fit_intercept=False, l1_ratio=0.5, max_iter=5000, selection=cyclic, tol=0.001; total time=   3.3s\n",
      "[CV] END alpha=1.0, fit_intercept=False, l1_ratio=0.5, max_iter=5000, selection=cyclic, tol=0.001; total time=   3.2s\n",
      "[CV] END alpha=1.0, fit_intercept=False, l1_ratio=0.5, max_iter=5000, selection=cyclic, tol=0.001; total time=   3.3s\n",
      "[CV] END alpha=1.0, fit_intercept=False, l1_ratio=0.5, max_iter=5000, selection=cyclic, tol=0.001; total time=   3.5s\n",
      "[CV] END alpha=1.0, fit_intercept=False, l1_ratio=0.5, max_iter=5000, selection=cyclic, tol=0.001; total time=   3.6s\n",
      "[CV] END alpha=1.0, fit_intercept=False, l1_ratio=0.5, max_iter=5000, selection=cyclic, tol=0.0001; total time=   5.7s\n",
      "[CV] END alpha=1.0, fit_intercept=False, l1_ratio=0.5, max_iter=5000, selection=cyclic, tol=0.0001; total time=   5.5s\n",
      "[CV] END alpha=1.0, fit_intercept=False, l1_ratio=0.5, max_iter=5000, selection=cyclic, tol=0.0001; total time=   5.7s\n",
      "[CV] END alpha=1.0, fit_intercept=False, l1_ratio=0.5, max_iter=5000, selection=random, tol=0.001; total time=   0.1s\n",
      "[CV] END alpha=1.0, fit_intercept=False, l1_ratio=0.5, max_iter=5000, selection=random, tol=0.001; total time=   0.1s\n",
      "[CV] END alpha=1.0, fit_intercept=False, l1_ratio=0.5, max_iter=5000, selection=random, tol=0.001; total time=   0.1s\n",
      "[CV] END alpha=1.0, fit_intercept=False, l1_ratio=0.5, max_iter=5000, selection=cyclic, tol=0.0001; total time=   5.2s\n",
      "[CV] END alpha=1.0, fit_intercept=False, l1_ratio=0.5, max_iter=5000, selection=random, tol=0.001; total time=   0.1s\n",
      "[CV] END alpha=1.0, fit_intercept=False, l1_ratio=0.5, max_iter=5000, selection=random, tol=0.001; total time=   0.2s\n",
      "[CV] END alpha=1.0, fit_intercept=False, l1_ratio=0.5, max_iter=5000, selection=random, tol=0.0001; total time=   0.1s\n",
      "[CV] END alpha=1.0, fit_intercept=False, l1_ratio=0.5, max_iter=5000, selection=random, tol=0.0001; total time=   0.1s\n",
      "[CV] END alpha=1.0, fit_intercept=False, l1_ratio=0.5, max_iter=5000, selection=random, tol=0.0001; total time=   0.2s\n",
      "[CV] END alpha=1.0, fit_intercept=False, l1_ratio=0.5, max_iter=5000, selection=cyclic, tol=0.0001; total time=   5.7s\n",
      "[CV] END alpha=1.0, fit_intercept=False, l1_ratio=0.5, max_iter=5000, selection=random, tol=0.0001; total time=   0.1s\n",
      "[CV] END alpha=1.0, fit_intercept=False, l1_ratio=0.5, max_iter=5000, selection=random, tol=0.0001; total time=   0.2s\n",
      "[CV] END alpha=1.0, fit_intercept=False, l1_ratio=0.5, max_iter=5000, selection=random, tol=1e-05; total time=   0.2s\n",
      "[CV] END alpha=1.0, fit_intercept=False, l1_ratio=0.5, max_iter=5000, selection=random, tol=1e-05; total time=   0.1s\n",
      "[CV] END alpha=1.0, fit_intercept=False, l1_ratio=0.5, max_iter=5000, selection=random, tol=1e-05; total time=   0.2s\n",
      "[CV] END alpha=1.0, fit_intercept=False, l1_ratio=0.5, max_iter=5000, selection=random, tol=1e-05; total time=   0.1s\n",
      "[CV] END alpha=1.0, fit_intercept=False, l1_ratio=0.5, max_iter=5000, selection=random, tol=1e-05; total time=   0.2s\n",
      "[CV] END alpha=1.0, fit_intercept=False, l1_ratio=0.5, max_iter=5000, selection=cyclic, tol=1e-05; total time=   7.0s\n",
      "[CV] END alpha=1.0, fit_intercept=False, l1_ratio=0.5, max_iter=5000, selection=cyclic, tol=1e-05; total time=   7.2s\n",
      "[CV] END alpha=1.0, fit_intercept=False, l1_ratio=0.5, max_iter=5000, selection=cyclic, tol=1e-05; total time=   7.2s\n",
      "[CV] END alpha=1.0, fit_intercept=False, l1_ratio=0.5, max_iter=10000, selection=cyclic, tol=0.001; total time=   3.4s\n",
      "[CV] END alpha=1.0, fit_intercept=False, l1_ratio=0.5, max_iter=10000, selection=cyclic, tol=0.001; total time=   3.4s\n",
      "[CV] END alpha=1.0, fit_intercept=False, l1_ratio=0.5, max_iter=10000, selection=cyclic, tol=0.001; total time=   3.4s\n",
      "[CV] END alpha=1.0, fit_intercept=False, l1_ratio=0.5, max_iter=10000, selection=cyclic, tol=0.001; total time=   3.5s\n",
      "[CV] END alpha=1.0, fit_intercept=False, l1_ratio=0.5, max_iter=5000, selection=cyclic, tol=1e-05; total time=   7.5s\n",
      "[CV] END alpha=1.0, fit_intercept=False, l1_ratio=0.5, max_iter=10000, selection=cyclic, tol=0.001; total time=   3.6s\n",
      "[CV] END alpha=1.0, fit_intercept=False, l1_ratio=0.5, max_iter=5000, selection=cyclic, tol=1e-05; total time=   7.8s\n",
      "[CV] END alpha=1.0, fit_intercept=False, l1_ratio=0.5, max_iter=10000, selection=cyclic, tol=0.0001; total time=   5.6s\n",
      "[CV] END alpha=1.0, fit_intercept=False, l1_ratio=0.5, max_iter=10000, selection=cyclic, tol=0.0001; total time=   5.4s\n",
      "[CV] END alpha=1.0, fit_intercept=False, l1_ratio=0.5, max_iter=10000, selection=cyclic, tol=0.0001; total time=   5.3s\n",
      "[CV] END alpha=1.0, fit_intercept=False, l1_ratio=0.5, max_iter=10000, selection=cyclic, tol=0.0001; total time=   5.3s\n",
      "[CV] END alpha=1.0, fit_intercept=False, l1_ratio=0.5, max_iter=10000, selection=random, tol=0.001; total time=   0.1s\n",
      "[CV] END alpha=1.0, fit_intercept=False, l1_ratio=0.5, max_iter=10000, selection=random, tol=0.001; total time=   0.1s\n",
      "[CV] END alpha=1.0, fit_intercept=False, l1_ratio=0.5, max_iter=10000, selection=random, tol=0.001; total time=   0.1s\n",
      "[CV] END alpha=1.0, fit_intercept=False, l1_ratio=0.5, max_iter=10000, selection=random, tol=0.001; total time=   0.1s\n",
      "[CV] END alpha=1.0, fit_intercept=False, l1_ratio=0.5, max_iter=10000, selection=random, tol=0.001; total time=   0.1s\n",
      "[CV] END alpha=1.0, fit_intercept=False, l1_ratio=0.5, max_iter=10000, selection=random, tol=0.0001; total time=   0.1s\n",
      "[CV] END alpha=1.0, fit_intercept=False, l1_ratio=0.5, max_iter=10000, selection=random, tol=0.0001; total time=   0.1s\n",
      "[CV] END alpha=1.0, fit_intercept=False, l1_ratio=0.5, max_iter=10000, selection=random, tol=0.0001; total time=   0.1s\n",
      "[CV] END alpha=1.0, fit_intercept=False, l1_ratio=0.5, max_iter=10000, selection=random, tol=0.0001; total time=   0.2s\n",
      "[CV] END alpha=1.0, fit_intercept=False, l1_ratio=0.5, max_iter=10000, selection=random, tol=0.0001; total time=   0.1s\n",
      "[CV] END alpha=1.0, fit_intercept=False, l1_ratio=0.5, max_iter=10000, selection=random, tol=1e-05; total time=   0.2s\n",
      "[CV] END alpha=1.0, fit_intercept=False, l1_ratio=0.5, max_iter=10000, selection=random, tol=1e-05; total time=   0.2s\n",
      "[CV] END alpha=1.0, fit_intercept=False, l1_ratio=0.5, max_iter=10000, selection=random, tol=1e-05; total time=   0.2s\n",
      "[CV] END alpha=1.0, fit_intercept=False, l1_ratio=0.5, max_iter=10000, selection=random, tol=1e-05; total time=   0.2s\n",
      "[CV] END alpha=1.0, fit_intercept=False, l1_ratio=0.5, max_iter=10000, selection=cyclic, tol=0.0001; total time=   5.2s\n",
      "[CV] END alpha=1.0, fit_intercept=False, l1_ratio=0.5, max_iter=10000, selection=random, tol=1e-05; total time=   0.2s\n",
      "[CV] END alpha=1.0, fit_intercept=False, l1_ratio=0.5, max_iter=10000, selection=cyclic, tol=1e-05; total time=   7.3s\n",
      "[CV] END alpha=1.0, fit_intercept=False, l1_ratio=0.9, max_iter=1000, selection=cyclic, tol=0.001; total time=   2.5s\n",
      "[CV] END alpha=1.0, fit_intercept=False, l1_ratio=0.9, max_iter=1000, selection=cyclic, tol=0.001; total time=   2.5s\n",
      "[CV] END alpha=1.0, fit_intercept=False, l1_ratio=0.9, max_iter=1000, selection=cyclic, tol=0.001; total time=   2.5s\n",
      "[CV] END alpha=1.0, fit_intercept=False, l1_ratio=0.5, max_iter=10000, selection=cyclic, tol=1e-05; total time=   7.3s\n",
      "[CV] END alpha=1.0, fit_intercept=False, l1_ratio=0.5, max_iter=10000, selection=cyclic, tol=1e-05; total time=   7.3s\n",
      "[CV] END alpha=1.0, fit_intercept=False, l1_ratio=0.9, max_iter=1000, selection=cyclic, tol=0.001; total time=   2.4s\n",
      "[CV] END alpha=1.0, fit_intercept=False, l1_ratio=0.9, max_iter=1000, selection=cyclic, tol=0.001; total time=   2.5s\n",
      "[CV] END alpha=1.0, fit_intercept=False, l1_ratio=0.5, max_iter=10000, selection=cyclic, tol=1e-05; total time=   7.5s\n",
      "[CV] END alpha=1.0, fit_intercept=False, l1_ratio=0.9, max_iter=1000, selection=cyclic, tol=0.0001; total time=   2.4s\n",
      "[CV] END alpha=1.0, fit_intercept=False, l1_ratio=0.9, max_iter=1000, selection=cyclic, tol=0.0001; total time=   2.4s\n",
      "[CV] END alpha=1.0, fit_intercept=False, l1_ratio=0.9, max_iter=1000, selection=cyclic, tol=0.0001; total time=   2.4s\n"
     ]
    },
    {
     "name": "stderr",
     "output_type": "stream",
     "text": [
      "/Users/zoemarquis/Documents/projet_industrie/projet_batteries/mon_venv/lib/python3.11/site-packages/sklearn/linear_model/_coordinate_descent.py:697: ConvergenceWarning: Objective did not converge. You might want to increase the number of iterations, check the scale of the features or consider increasing regularisation. Duality gap: 9.203e+04, tolerance: 1.414e+04\n",
      "  model = cd_fast.enet_coordinate_descent(\n",
      "/Users/zoemarquis/Documents/projet_industrie/projet_batteries/mon_venv/lib/python3.11/site-packages/sklearn/linear_model/_coordinate_descent.py:697: ConvergenceWarning: Objective did not converge. You might want to increase the number of iterations, check the scale of the features or consider increasing regularisation. Duality gap: 9.223e+04, tolerance: 1.414e+04\n",
      "  model = cd_fast.enet_coordinate_descent(\n",
      "/Users/zoemarquis/Documents/projet_industrie/projet_batteries/mon_venv/lib/python3.11/site-packages/sklearn/linear_model/_coordinate_descent.py:697: ConvergenceWarning: Objective did not converge. You might want to increase the number of iterations, check the scale of the features or consider increasing regularisation. Duality gap: 9.343e+04, tolerance: 1.415e+04\n",
      "  model = cd_fast.enet_coordinate_descent(\n",
      "/Users/zoemarquis/Documents/projet_industrie/projet_batteries/mon_venv/lib/python3.11/site-packages/sklearn/linear_model/_coordinate_descent.py:697: ConvergenceWarning: Objective did not converge. You might want to increase the number of iterations, check the scale of the features or consider increasing regularisation. Duality gap: 9.431e+04, tolerance: 1.416e+04\n",
      "  model = cd_fast.enet_coordinate_descent(\n"
     ]
    },
    {
     "name": "stdout",
     "output_type": "stream",
     "text": [
      "[CV] END alpha=1.0, fit_intercept=False, l1_ratio=0.9, max_iter=1000, selection=cyclic, tol=0.0001; total time=   2.4s\n",
      "[CV] END alpha=1.0, fit_intercept=False, l1_ratio=0.9, max_iter=1000, selection=random, tol=0.001; total time=   0.2s\n",
      "[CV] END alpha=1.0, fit_intercept=False, l1_ratio=0.9, max_iter=1000, selection=random, tol=0.001; total time=   0.2s\n",
      "[CV] END alpha=1.0, fit_intercept=False, l1_ratio=0.9, max_iter=1000, selection=random, tol=0.001; total time=   0.2s\n",
      "[CV] END alpha=1.0, fit_intercept=False, l1_ratio=0.9, max_iter=1000, selection=random, tol=0.001; total time=   0.2s\n",
      "[CV] END alpha=1.0, fit_intercept=False, l1_ratio=0.9, max_iter=1000, selection=random, tol=0.001; total time=   0.2s\n",
      "[CV] END alpha=1.0, fit_intercept=False, l1_ratio=0.9, max_iter=1000, selection=random, tol=0.0001; total time=   0.2s\n",
      "[CV] END alpha=1.0, fit_intercept=False, l1_ratio=0.5, max_iter=10000, selection=cyclic, tol=1e-05; total time=   7.6s\n",
      "[CV] END alpha=1.0, fit_intercept=False, l1_ratio=0.9, max_iter=1000, selection=random, tol=0.0001; total time=   0.2s\n",
      "[CV] END alpha=1.0, fit_intercept=False, l1_ratio=0.9, max_iter=1000, selection=random, tol=0.0001; total time=   0.2s\n",
      "[CV] END alpha=1.0, fit_intercept=False, l1_ratio=0.9, max_iter=1000, selection=random, tol=0.0001; total time=   0.2s\n",
      "[CV] END alpha=1.0, fit_intercept=False, l1_ratio=0.9, max_iter=1000, selection=random, tol=1e-05; total time=   0.3s\n",
      "[CV] END alpha=1.0, fit_intercept=False, l1_ratio=0.9, max_iter=1000, selection=random, tol=0.0001; total time=   0.3s\n"
     ]
    },
    {
     "name": "stderr",
     "output_type": "stream",
     "text": [
      "/Users/zoemarquis/Documents/projet_industrie/projet_batteries/mon_venv/lib/python3.11/site-packages/sklearn/linear_model/_coordinate_descent.py:697: ConvergenceWarning: Objective did not converge. You might want to increase the number of iterations, check the scale of the features or consider increasing regularisation. Duality gap: 9.260e+04, tolerance: 1.415e+04\n",
      "  model = cd_fast.enet_coordinate_descent(\n",
      "/Users/zoemarquis/Documents/projet_industrie/projet_batteries/mon_venv/lib/python3.11/site-packages/sklearn/linear_model/_coordinate_descent.py:697: ConvergenceWarning: Objective did not converge. You might want to increase the number of iterations, check the scale of the features or consider increasing regularisation. Duality gap: 9.223e+04, tolerance: 1.414e+03\n",
      "  model = cd_fast.enet_coordinate_descent(\n"
     ]
    },
    {
     "name": "stdout",
     "output_type": "stream",
     "text": [
      "[CV] END alpha=1.0, fit_intercept=False, l1_ratio=0.9, max_iter=1000, selection=cyclic, tol=0.0001; total time=   2.5s\n",
      "[CV] END alpha=1.0, fit_intercept=False, l1_ratio=0.9, max_iter=1000, selection=random, tol=1e-05; total time=   0.2s\n",
      "[CV] END alpha=1.0, fit_intercept=False, l1_ratio=0.9, max_iter=1000, selection=random, tol=1e-05; total time=   0.3s\n",
      "[CV] END alpha=1.0, fit_intercept=False, l1_ratio=0.9, max_iter=1000, selection=cyclic, tol=1e-05; total time=   2.4s\n"
     ]
    },
    {
     "name": "stderr",
     "output_type": "stream",
     "text": [
      "/Users/zoemarquis/Documents/projet_industrie/projet_batteries/mon_venv/lib/python3.11/site-packages/sklearn/linear_model/_coordinate_descent.py:697: ConvergenceWarning: Objective did not converge. You might want to increase the number of iterations, check the scale of the features or consider increasing regularisation. Duality gap: 9.203e+04, tolerance: 1.414e+03\n",
      "  model = cd_fast.enet_coordinate_descent(\n",
      "/Users/zoemarquis/Documents/projet_industrie/projet_batteries/mon_venv/lib/python3.11/site-packages/sklearn/linear_model/_coordinate_descent.py:697: ConvergenceWarning: Objective did not converge. You might want to increase the number of iterations, check the scale of the features or consider increasing regularisation. Duality gap: 9.260e+04, tolerance: 1.415e+03\n",
      "  model = cd_fast.enet_coordinate_descent(\n",
      "/Users/zoemarquis/Documents/projet_industrie/projet_batteries/mon_venv/lib/python3.11/site-packages/sklearn/linear_model/_coordinate_descent.py:697: ConvergenceWarning: Objective did not converge. You might want to increase the number of iterations, check the scale of the features or consider increasing regularisation. Duality gap: 9.343e+04, tolerance: 1.415e+03\n",
      "  model = cd_fast.enet_coordinate_descent(\n"
     ]
    },
    {
     "name": "stdout",
     "output_type": "stream",
     "text": [
      "[CV] END alpha=1.0, fit_intercept=False, l1_ratio=0.9, max_iter=1000, selection=cyclic, tol=1e-05; total time=   2.5s\n",
      "[CV] END alpha=1.0, fit_intercept=False, l1_ratio=0.9, max_iter=1000, selection=cyclic, tol=1e-05; total time=   2.4s\n",
      "[CV] END alpha=1.0, fit_intercept=False, l1_ratio=0.9, max_iter=1000, selection=cyclic, tol=1e-05; total time=   2.5s\n",
      "[CV] END alpha=1.0, fit_intercept=False, l1_ratio=0.9, max_iter=1000, selection=random, tol=1e-05; total time=   0.3s\n",
      "[CV] END alpha=1.0, fit_intercept=False, l1_ratio=0.9, max_iter=1000, selection=random, tol=1e-05; total time=   0.4s\n",
      "[CV] END alpha=1.0, fit_intercept=False, l1_ratio=0.9, max_iter=1000, selection=cyclic, tol=1e-05; total time=   2.6s\n"
     ]
    },
    {
     "name": "stderr",
     "output_type": "stream",
     "text": [
      "/Users/zoemarquis/Documents/projet_industrie/projet_batteries/mon_venv/lib/python3.11/site-packages/sklearn/linear_model/_coordinate_descent.py:697: ConvergenceWarning: Objective did not converge. You might want to increase the number of iterations, check the scale of the features or consider increasing regularisation. Duality gap: 9.431e+04, tolerance: 1.416e+03\n",
      "  model = cd_fast.enet_coordinate_descent(\n"
     ]
    },
    {
     "name": "stdout",
     "output_type": "stream",
     "text": [
      "[CV] END alpha=1.0, fit_intercept=False, l1_ratio=0.9, max_iter=5000, selection=cyclic, tol=0.001; total time=   5.6s\n",
      "[CV] END alpha=1.0, fit_intercept=False, l1_ratio=0.9, max_iter=5000, selection=cyclic, tol=0.001; total time=   5.8s\n",
      "[CV] END alpha=1.0, fit_intercept=False, l1_ratio=0.9, max_iter=5000, selection=cyclic, tol=0.001; total time=   6.1s\n",
      "[CV] END alpha=1.0, fit_intercept=False, l1_ratio=0.9, max_iter=5000, selection=cyclic, tol=0.001; total time=   5.9s\n",
      "[CV] END alpha=1.0, fit_intercept=False, l1_ratio=0.9, max_iter=5000, selection=cyclic, tol=0.001; total time=   6.1s\n",
      "[CV] END alpha=1.0, fit_intercept=False, l1_ratio=0.9, max_iter=5000, selection=cyclic, tol=0.0001; total time=  13.4s\n",
      "[CV] END alpha=1.0, fit_intercept=False, l1_ratio=0.9, max_iter=5000, selection=cyclic, tol=0.0001; total time=  13.4s\n",
      "[CV] END alpha=1.0, fit_intercept=False, l1_ratio=0.9, max_iter=5000, selection=cyclic, tol=0.0001; total time=  13.6s\n",
      "[CV] END alpha=1.0, fit_intercept=False, l1_ratio=0.9, max_iter=5000, selection=random, tol=0.001; total time=   0.2s\n",
      "[CV] END alpha=1.0, fit_intercept=False, l1_ratio=0.9, max_iter=5000, selection=random, tol=0.001; total time=   0.2s\n",
      "[CV] END alpha=1.0, fit_intercept=False, l1_ratio=0.9, max_iter=5000, selection=random, tol=0.001; total time=   0.2s\n",
      "[CV] END alpha=1.0, fit_intercept=False, l1_ratio=0.9, max_iter=5000, selection=random, tol=0.001; total time=   0.2s\n",
      "[CV] END alpha=1.0, fit_intercept=False, l1_ratio=0.9, max_iter=5000, selection=random, tol=0.001; total time=   0.1s\n",
      "[CV] END alpha=1.0, fit_intercept=False, l1_ratio=0.9, max_iter=5000, selection=random, tol=0.0001; total time=   0.2s\n",
      "[CV] END alpha=1.0, fit_intercept=False, l1_ratio=0.9, max_iter=5000, selection=random, tol=0.0001; total time=   0.3s\n",
      "[CV] END alpha=1.0, fit_intercept=False, l1_ratio=0.9, max_iter=5000, selection=random, tol=0.0001; total time=   0.2s\n",
      "[CV] END alpha=1.0, fit_intercept=False, l1_ratio=0.9, max_iter=5000, selection=random, tol=0.0001; total time=   0.3s\n",
      "[CV] END alpha=1.0, fit_intercept=False, l1_ratio=0.9, max_iter=5000, selection=random, tol=0.0001; total time=   0.2s\n",
      "[CV] END alpha=1.0, fit_intercept=False, l1_ratio=0.9, max_iter=5000, selection=random, tol=1e-05; total time=   0.3s\n",
      "[CV] END alpha=1.0, fit_intercept=False, l1_ratio=0.9, max_iter=5000, selection=random, tol=1e-05; total time=   0.3s\n",
      "[CV] END alpha=1.0, fit_intercept=False, l1_ratio=0.9, max_iter=5000, selection=random, tol=1e-05; total time=   0.3s\n",
      "[CV] END alpha=1.0, fit_intercept=False, l1_ratio=0.9, max_iter=5000, selection=random, tol=1e-05; total time=   0.3s\n",
      "[CV] END alpha=1.0, fit_intercept=False, l1_ratio=0.9, max_iter=5000, selection=random, tol=1e-05; total time=   0.3s\n"
     ]
    },
    {
     "name": "stderr",
     "output_type": "stream",
     "text": [
      "/Users/zoemarquis/Documents/projet_industrie/projet_batteries/mon_venv/lib/python3.11/site-packages/sklearn/linear_model/_coordinate_descent.py:697: ConvergenceWarning: Objective did not converge. You might want to increase the number of iterations, check the scale of the features or consider increasing regularisation. Duality gap: 3.263e+03, tolerance: 1.414e+03\n",
      "  model = cd_fast.enet_coordinate_descent(\n"
     ]
    },
    {
     "name": "stdout",
     "output_type": "stream",
     "text": [
      "[CV] END alpha=1.0, fit_intercept=False, l1_ratio=0.9, max_iter=5000, selection=cyclic, tol=1e-05; total time=  12.7s\n",
      "[CV] END alpha=1.0, fit_intercept=False, l1_ratio=0.9, max_iter=5000, selection=cyclic, tol=0.0001; total time=  13.1s\n",
      "[CV] END alpha=1.0, fit_intercept=False, l1_ratio=0.9, max_iter=5000, selection=cyclic, tol=0.0001; total time=  13.2s\n",
      "[CV] END alpha=1.0, fit_intercept=False, l1_ratio=0.9, max_iter=5000, selection=cyclic, tol=1e-05; total time=  13.1s\n",
      "[CV] END alpha=1.0, fit_intercept=False, l1_ratio=0.9, max_iter=5000, selection=cyclic, tol=1e-05; total time=  13.1s\n"
     ]
    },
    {
     "name": "stderr",
     "output_type": "stream",
     "text": [
      "/Users/zoemarquis/Documents/projet_industrie/projet_batteries/mon_venv/lib/python3.11/site-packages/sklearn/linear_model/_coordinate_descent.py:697: ConvergenceWarning: Objective did not converge. You might want to increase the number of iterations, check the scale of the features or consider increasing regularisation. Duality gap: 3.299e+03, tolerance: 1.415e+03\n",
      "  model = cd_fast.enet_coordinate_descent(\n",
      "/Users/zoemarquis/Documents/projet_industrie/projet_batteries/mon_venv/lib/python3.11/site-packages/sklearn/linear_model/_coordinate_descent.py:697: ConvergenceWarning: Objective did not converge. You might want to increase the number of iterations, check the scale of the features or consider increasing regularisation. Duality gap: 3.280e+03, tolerance: 1.414e+03\n",
      "  model = cd_fast.enet_coordinate_descent(\n"
     ]
    },
    {
     "name": "stdout",
     "output_type": "stream",
     "text": [
      "[CV] END alpha=1.0, fit_intercept=False, l1_ratio=0.9, max_iter=10000, selection=cyclic, tol=0.001; total time=   6.0s\n",
      "[CV] END alpha=1.0, fit_intercept=False, l1_ratio=0.9, max_iter=10000, selection=cyclic, tol=0.001; total time=   5.7s\n",
      "[CV] END alpha=1.0, fit_intercept=False, l1_ratio=0.9, max_iter=10000, selection=cyclic, tol=0.001; total time=   5.8s\n",
      "[CV] END alpha=1.0, fit_intercept=False, l1_ratio=0.9, max_iter=10000, selection=cyclic, tol=0.001; total time=   5.8s\n",
      "[CV] END alpha=1.0, fit_intercept=False, l1_ratio=0.9, max_iter=10000, selection=cyclic, tol=0.001; total time=   5.8s\n"
     ]
    },
    {
     "name": "stderr",
     "output_type": "stream",
     "text": [
      "/Users/zoemarquis/Documents/projet_industrie/projet_batteries/mon_venv/lib/python3.11/site-packages/sklearn/linear_model/_coordinate_descent.py:697: ConvergenceWarning: Objective did not converge. You might want to increase the number of iterations, check the scale of the features or consider increasing regularisation. Duality gap: 3.266e+03, tolerance: 1.416e+03\n",
      "  model = cd_fast.enet_coordinate_descent(\n"
     ]
    },
    {
     "name": "stdout",
     "output_type": "stream",
     "text": [
      "[CV] END alpha=1.0, fit_intercept=False, l1_ratio=0.9, max_iter=5000, selection=cyclic, tol=1e-05; total time=  13.6s\n"
     ]
    },
    {
     "name": "stderr",
     "output_type": "stream",
     "text": [
      "/Users/zoemarquis/Documents/projet_industrie/projet_batteries/mon_venv/lib/python3.11/site-packages/sklearn/linear_model/_coordinate_descent.py:697: ConvergenceWarning: Objective did not converge. You might want to increase the number of iterations, check the scale of the features or consider increasing regularisation. Duality gap: 3.253e+03, tolerance: 1.415e+03\n",
      "  model = cd_fast.enet_coordinate_descent(\n"
     ]
    },
    {
     "name": "stdout",
     "output_type": "stream",
     "text": [
      "[CV] END alpha=1.0, fit_intercept=False, l1_ratio=0.9, max_iter=5000, selection=cyclic, tol=1e-05; total time=  13.8s\n",
      "[CV] END alpha=1.0, fit_intercept=False, l1_ratio=0.9, max_iter=10000, selection=cyclic, tol=0.0001; total time=  14.2s\n",
      "[CV] END alpha=1.0, fit_intercept=False, l1_ratio=0.9, max_iter=10000, selection=cyclic, tol=0.0001; total time=  14.0s\n",
      "[CV] END alpha=1.0, fit_intercept=False, l1_ratio=0.9, max_iter=10000, selection=cyclic, tol=0.0001; total time=  13.4s\n",
      "[CV] END alpha=1.0, fit_intercept=False, l1_ratio=0.9, max_iter=10000, selection=cyclic, tol=0.0001; total time=  13.9s\n",
      "[CV] END alpha=1.0, fit_intercept=False, l1_ratio=0.9, max_iter=10000, selection=random, tol=0.001; total time=   0.2s\n",
      "[CV] END alpha=1.0, fit_intercept=False, l1_ratio=0.9, max_iter=10000, selection=cyclic, tol=0.0001; total time=  13.8s\n",
      "[CV] END alpha=1.0, fit_intercept=False, l1_ratio=0.9, max_iter=10000, selection=random, tol=0.001; total time=   0.2s\n",
      "[CV] END alpha=1.0, fit_intercept=False, l1_ratio=0.9, max_iter=10000, selection=random, tol=0.001; total time=   0.2s\n",
      "[CV] END alpha=1.0, fit_intercept=False, l1_ratio=0.9, max_iter=10000, selection=random, tol=0.001; total time=   0.2s\n",
      "[CV] END alpha=1.0, fit_intercept=False, l1_ratio=0.9, max_iter=10000, selection=random, tol=0.001; total time=   0.2s\n",
      "[CV] END alpha=1.0, fit_intercept=False, l1_ratio=0.9, max_iter=10000, selection=random, tol=0.0001; total time=   0.2s\n",
      "[CV] END alpha=1.0, fit_intercept=False, l1_ratio=0.9, max_iter=10000, selection=random, tol=0.0001; total time=   0.2s\n",
      "[CV] END alpha=1.0, fit_intercept=False, l1_ratio=0.9, max_iter=10000, selection=random, tol=0.0001; total time=   0.2s\n",
      "[CV] END alpha=1.0, fit_intercept=False, l1_ratio=0.9, max_iter=10000, selection=random, tol=0.0001; total time=   0.2s\n",
      "[CV] END alpha=1.0, fit_intercept=False, l1_ratio=0.9, max_iter=10000, selection=random, tol=0.0001; total time=   0.2s\n",
      "[CV] END alpha=1.0, fit_intercept=False, l1_ratio=0.9, max_iter=10000, selection=random, tol=1e-05; total time=   0.2s\n",
      "[CV] END alpha=1.0, fit_intercept=False, l1_ratio=0.9, max_iter=10000, selection=random, tol=1e-05; total time=   0.3s\n",
      "[CV] END alpha=1.0, fit_intercept=False, l1_ratio=0.9, max_iter=10000, selection=random, tol=1e-05; total time=   0.2s\n",
      "[CV] END alpha=10.0, fit_intercept=True, l1_ratio=0.1, max_iter=1000, selection=cyclic, tol=0.001; total time=   0.0s\n",
      "[CV] END alpha=10.0, fit_intercept=True, l1_ratio=0.1, max_iter=1000, selection=cyclic, tol=0.001; total time=   0.0s\n",
      "[CV] END alpha=1.0, fit_intercept=False, l1_ratio=0.9, max_iter=10000, selection=random, tol=1e-05; total time=   0.3s\n",
      "[CV] END alpha=10.0, fit_intercept=True, l1_ratio=0.1, max_iter=1000, selection=cyclic, tol=0.001; total time=   0.0s\n",
      "[CV] END alpha=10.0, fit_intercept=True, l1_ratio=0.1, max_iter=1000, selection=cyclic, tol=0.001; total time=   0.0s\n",
      "[CV] END alpha=10.0, fit_intercept=True, l1_ratio=0.1, max_iter=1000, selection=cyclic, tol=0.001; total time=   0.1s\n",
      "[CV] END alpha=10.0, fit_intercept=True, l1_ratio=0.1, max_iter=1000, selection=cyclic, tol=0.0001; total time=   0.0s\n",
      "[CV] END alpha=1.0, fit_intercept=False, l1_ratio=0.9, max_iter=10000, selection=random, tol=1e-05; total time=   0.3s\n",
      "[CV] END alpha=10.0, fit_intercept=True, l1_ratio=0.1, max_iter=1000, selection=cyclic, tol=0.0001; total time=   0.1s\n",
      "[CV] END alpha=10.0, fit_intercept=True, l1_ratio=0.1, max_iter=1000, selection=cyclic, tol=0.0001; total time=   0.0s\n",
      "[CV] END alpha=10.0, fit_intercept=True, l1_ratio=0.1, max_iter=1000, selection=cyclic, tol=0.0001; total time=   0.0s\n",
      "[CV] END alpha=10.0, fit_intercept=True, l1_ratio=0.1, max_iter=1000, selection=cyclic, tol=0.0001; total time=   0.0s\n",
      "[CV] END alpha=10.0, fit_intercept=True, l1_ratio=0.1, max_iter=1000, selection=cyclic, tol=1e-05; total time=   0.0s\n",
      "[CV] END alpha=10.0, fit_intercept=True, l1_ratio=0.1, max_iter=1000, selection=cyclic, tol=1e-05; total time=   0.1s\n",
      "[CV] END alpha=10.0, fit_intercept=True, l1_ratio=0.1, max_iter=1000, selection=cyclic, tol=1e-05; total time=   0.0s\n",
      "[CV] END alpha=10.0, fit_intercept=True, l1_ratio=0.1, max_iter=1000, selection=cyclic, tol=1e-05; total time=   0.0s\n",
      "[CV] END alpha=10.0, fit_intercept=True, l1_ratio=0.1, max_iter=1000, selection=random, tol=0.001; total time=   0.0s\n",
      "[CV] END alpha=10.0, fit_intercept=True, l1_ratio=0.1, max_iter=1000, selection=cyclic, tol=1e-05; total time=   0.0s\n",
      "[CV] END alpha=10.0, fit_intercept=True, l1_ratio=0.1, max_iter=1000, selection=random, tol=0.001; total time=   0.1s\n",
      "[CV] END alpha=10.0, fit_intercept=True, l1_ratio=0.1, max_iter=1000, selection=random, tol=0.001; total time=   0.0s\n",
      "[CV] END alpha=10.0, fit_intercept=True, l1_ratio=0.1, max_iter=1000, selection=random, tol=0.001; total time=   0.0s\n",
      "[CV] END alpha=10.0, fit_intercept=True, l1_ratio=0.1, max_iter=1000, selection=random, tol=0.001; total time=   0.0s\n",
      "[CV] END alpha=10.0, fit_intercept=True, l1_ratio=0.1, max_iter=1000, selection=random, tol=0.0001; total time=   0.0s\n",
      "[CV] END alpha=10.0, fit_intercept=True, l1_ratio=0.1, max_iter=1000, selection=random, tol=0.0001; total time=   0.0s\n",
      "[CV] END alpha=10.0, fit_intercept=True, l1_ratio=0.1, max_iter=1000, selection=random, tol=0.0001; total time=   0.0s\n",
      "[CV] END alpha=10.0, fit_intercept=True, l1_ratio=0.1, max_iter=1000, selection=random, tol=0.0001; total time=   0.0s\n",
      "[CV] END alpha=10.0, fit_intercept=True, l1_ratio=0.1, max_iter=1000, selection=random, tol=0.0001; total time=   0.1s\n",
      "[CV] END alpha=10.0, fit_intercept=True, l1_ratio=0.1, max_iter=1000, selection=random, tol=1e-05; total time=   0.0s\n",
      "[CV] END alpha=10.0, fit_intercept=True, l1_ratio=0.1, max_iter=1000, selection=random, tol=1e-05; total time=   0.0s\n",
      "[CV] END alpha=10.0, fit_intercept=True, l1_ratio=0.1, max_iter=1000, selection=random, tol=1e-05; total time=   0.0s\n",
      "[CV] END alpha=10.0, fit_intercept=True, l1_ratio=0.1, max_iter=1000, selection=random, tol=1e-05; total time=   0.0s\n",
      "[CV] END alpha=10.0, fit_intercept=True, l1_ratio=0.1, max_iter=1000, selection=random, tol=1e-05; total time=   0.0s\n",
      "[CV] END alpha=10.0, fit_intercept=True, l1_ratio=0.1, max_iter=5000, selection=cyclic, tol=0.001; total time=   0.1s\n",
      "[CV] END alpha=10.0, fit_intercept=True, l1_ratio=0.1, max_iter=5000, selection=cyclic, tol=0.001; total time=   0.1s\n",
      "[CV] END alpha=10.0, fit_intercept=True, l1_ratio=0.1, max_iter=5000, selection=cyclic, tol=0.001; total time=   0.1s\n",
      "[CV] END alpha=10.0, fit_intercept=True, l1_ratio=0.1, max_iter=5000, selection=cyclic, tol=0.001; total time=   0.1s\n",
      "[CV] END alpha=10.0, fit_intercept=True, l1_ratio=0.1, max_iter=5000, selection=cyclic, tol=0.0001; total time=   0.0s\n",
      "[CV] END alpha=10.0, fit_intercept=True, l1_ratio=0.1, max_iter=5000, selection=cyclic, tol=0.001; total time=   0.1s\n",
      "[CV] END alpha=10.0, fit_intercept=True, l1_ratio=0.1, max_iter=5000, selection=cyclic, tol=0.0001; total time=   0.0s\n",
      "[CV] END alpha=10.0, fit_intercept=True, l1_ratio=0.1, max_iter=5000, selection=cyclic, tol=0.0001; total time=   0.0s\n",
      "[CV] END alpha=10.0, fit_intercept=True, l1_ratio=0.1, max_iter=5000, selection=cyclic, tol=0.0001; total time=   0.0s\n",
      "[CV] END alpha=10.0, fit_intercept=True, l1_ratio=0.1, max_iter=5000, selection=cyclic, tol=1e-05; total time=   0.1s\n",
      "[CV] END alpha=10.0, fit_intercept=True, l1_ratio=0.1, max_iter=5000, selection=cyclic, tol=0.0001; total time=   0.0s\n",
      "[CV] END alpha=10.0, fit_intercept=True, l1_ratio=0.1, max_iter=5000, selection=cyclic, tol=1e-05; total time=   0.0s\n",
      "[CV] END alpha=10.0, fit_intercept=True, l1_ratio=0.1, max_iter=5000, selection=cyclic, tol=1e-05; total time=   0.0s\n",
      "[CV] END alpha=10.0, fit_intercept=True, l1_ratio=0.1, max_iter=5000, selection=cyclic, tol=1e-05; total time=   0.1s\n",
      "[CV] END alpha=10.0, fit_intercept=True, l1_ratio=0.1, max_iter=5000, selection=random, tol=0.001; total time=   0.0s\n",
      "[CV] END alpha=10.0, fit_intercept=True, l1_ratio=0.1, max_iter=5000, selection=cyclic, tol=1e-05; total time=   0.0s\n",
      "[CV] END alpha=10.0, fit_intercept=True, l1_ratio=0.1, max_iter=5000, selection=random, tol=0.001; total time=   0.0s\n",
      "[CV] END alpha=10.0, fit_intercept=True, l1_ratio=0.1, max_iter=5000, selection=random, tol=0.001; total time=   0.0s\n",
      "[CV] END alpha=10.0, fit_intercept=True, l1_ratio=0.1, max_iter=5000, selection=random, tol=0.001; total time=   0.0s\n",
      "[CV] END alpha=10.0, fit_intercept=True, l1_ratio=0.1, max_iter=5000, selection=random, tol=0.0001; total time=   0.1s\n",
      "[CV] END alpha=10.0, fit_intercept=True, l1_ratio=0.1, max_iter=5000, selection=random, tol=0.0001; total time=   0.0s\n",
      "[CV] END alpha=10.0, fit_intercept=True, l1_ratio=0.1, max_iter=5000, selection=random, tol=0.001; total time=   0.0s\n",
      "[CV] END alpha=10.0, fit_intercept=True, l1_ratio=0.1, max_iter=5000, selection=random, tol=0.0001; total time=   0.0s\n",
      "[CV] END alpha=10.0, fit_intercept=True, l1_ratio=0.1, max_iter=5000, selection=random, tol=0.0001; total time=   0.0s\n",
      "[CV] END alpha=10.0, fit_intercept=True, l1_ratio=0.1, max_iter=5000, selection=random, tol=0.0001; total time=   0.0s\n",
      "[CV] END alpha=10.0, fit_intercept=True, l1_ratio=0.1, max_iter=5000, selection=random, tol=1e-05; total time=   0.0s\n",
      "[CV] END alpha=10.0, fit_intercept=True, l1_ratio=0.1, max_iter=5000, selection=random, tol=1e-05; total time=   0.0s\n",
      "[CV] END alpha=10.0, fit_intercept=True, l1_ratio=0.1, max_iter=5000, selection=random, tol=1e-05; total time=   0.0s\n",
      "[CV] END alpha=10.0, fit_intercept=True, l1_ratio=0.1, max_iter=5000, selection=random, tol=1e-05; total time=   0.0s\n",
      "[CV] END alpha=10.0, fit_intercept=True, l1_ratio=0.1, max_iter=10000, selection=cyclic, tol=0.001; total time=   0.0s\n",
      "[CV] END alpha=10.0, fit_intercept=True, l1_ratio=0.1, max_iter=5000, selection=random, tol=1e-05; total time=   0.1s\n",
      "[CV] END alpha=10.0, fit_intercept=True, l1_ratio=0.1, max_iter=10000, selection=cyclic, tol=0.001; total time=   0.0s\n",
      "[CV] END alpha=10.0, fit_intercept=True, l1_ratio=0.1, max_iter=10000, selection=cyclic, tol=0.001; total time=   0.0s\n",
      "[CV] END alpha=10.0, fit_intercept=True, l1_ratio=0.1, max_iter=10000, selection=cyclic, tol=0.001; total time=   0.1s\n",
      "[CV] END alpha=10.0, fit_intercept=True, l1_ratio=0.1, max_iter=10000, selection=cyclic, tol=0.001; total time=   0.0s\n",
      "[CV] END alpha=10.0, fit_intercept=True, l1_ratio=0.1, max_iter=10000, selection=cyclic, tol=0.0001; total time=   0.0s\n",
      "[CV] END alpha=10.0, fit_intercept=True, l1_ratio=0.1, max_iter=10000, selection=cyclic, tol=0.0001; total time=   0.0s\n",
      "[CV] END alpha=10.0, fit_intercept=True, l1_ratio=0.1, max_iter=10000, selection=cyclic, tol=0.0001; total time=   0.0s\n",
      "[CV] END alpha=10.0, fit_intercept=True, l1_ratio=0.1, max_iter=10000, selection=cyclic, tol=0.0001; total time=   0.0s\n",
      "[CV] END alpha=10.0, fit_intercept=True, l1_ratio=0.1, max_iter=10000, selection=cyclic, tol=1e-05; total time=   0.0s\n",
      "[CV] END alpha=10.0, fit_intercept=True, l1_ratio=0.1, max_iter=10000, selection=cyclic, tol=0.0001; total time=   0.0s\n",
      "[CV] END alpha=10.0, fit_intercept=True, l1_ratio=0.1, max_iter=10000, selection=cyclic, tol=1e-05; total time=   0.0s\n",
      "[CV] END alpha=10.0, fit_intercept=True, l1_ratio=0.1, max_iter=10000, selection=cyclic, tol=1e-05; total time=   0.0s\n",
      "[CV] END alpha=10.0, fit_intercept=True, l1_ratio=0.1, max_iter=10000, selection=cyclic, tol=1e-05; total time=   0.1s\n",
      "[CV] END alpha=10.0, fit_intercept=True, l1_ratio=0.1, max_iter=10000, selection=random, tol=0.001; total time=   0.0s\n",
      "[CV] END alpha=10.0, fit_intercept=True, l1_ratio=0.1, max_iter=10000, selection=cyclic, tol=1e-05; total time=   0.1s\n",
      "[CV] END alpha=10.0, fit_intercept=True, l1_ratio=0.1, max_iter=10000, selection=random, tol=0.001; total time=   0.0s\n",
      "[CV] END alpha=10.0, fit_intercept=True, l1_ratio=0.1, max_iter=10000, selection=random, tol=0.001; total time=   0.0s\n",
      "[CV] END alpha=10.0, fit_intercept=True, l1_ratio=0.1, max_iter=10000, selection=random, tol=0.001; total time=   0.0s\n",
      "[CV] END alpha=10.0, fit_intercept=True, l1_ratio=0.1, max_iter=10000, selection=random, tol=0.0001; total time=   0.1s\n",
      "[CV] END alpha=10.0, fit_intercept=True, l1_ratio=0.1, max_iter=10000, selection=random, tol=0.0001; total time=   0.0s\n",
      "[CV] END alpha=10.0, fit_intercept=True, l1_ratio=0.1, max_iter=10000, selection=random, tol=0.001; total time=   0.0s\n",
      "[CV] END alpha=10.0, fit_intercept=True, l1_ratio=0.1, max_iter=10000, selection=random, tol=0.0001; total time=   0.0s\n",
      "[CV] END alpha=10.0, fit_intercept=True, l1_ratio=0.1, max_iter=10000, selection=random, tol=0.0001; total time=   0.0s\n",
      "[CV] END alpha=10.0, fit_intercept=True, l1_ratio=0.1, max_iter=10000, selection=random, tol=1e-05; total time=   0.0s\n",
      "[CV] END alpha=10.0, fit_intercept=True, l1_ratio=0.1, max_iter=10000, selection=random, tol=0.0001; total time=   0.0s\n",
      "[CV] END alpha=10.0, fit_intercept=True, l1_ratio=0.1, max_iter=10000, selection=random, tol=1e-05; total time=   0.1s\n",
      "[CV] END alpha=10.0, fit_intercept=True, l1_ratio=0.1, max_iter=10000, selection=random, tol=1e-05; total time=   0.0s\n",
      "[CV] END alpha=10.0, fit_intercept=True, l1_ratio=0.1, max_iter=10000, selection=random, tol=1e-05; total time=   0.0s\n",
      "[CV] END alpha=10.0, fit_intercept=True, l1_ratio=0.1, max_iter=10000, selection=random, tol=1e-05; total time=   0.0s\n",
      "[CV] END alpha=10.0, fit_intercept=True, l1_ratio=0.5, max_iter=1000, selection=cyclic, tol=0.001; total time=   0.0s\n",
      "[CV] END alpha=10.0, fit_intercept=True, l1_ratio=0.5, max_iter=1000, selection=cyclic, tol=0.001; total time=   0.0s\n",
      "[CV] END alpha=10.0, fit_intercept=True, l1_ratio=0.5, max_iter=1000, selection=cyclic, tol=0.001; total time=   0.0s\n",
      "[CV] END alpha=10.0, fit_intercept=True, l1_ratio=0.5, max_iter=1000, selection=cyclic, tol=0.001; total time=   0.1s\n",
      "[CV] END alpha=10.0, fit_intercept=True, l1_ratio=0.5, max_iter=1000, selection=cyclic, tol=0.001; total time=   0.0s\n",
      "[CV] END alpha=10.0, fit_intercept=True, l1_ratio=0.5, max_iter=1000, selection=cyclic, tol=0.0001; total time=   0.0s\n",
      "[CV] END alpha=10.0, fit_intercept=True, l1_ratio=0.5, max_iter=1000, selection=cyclic, tol=0.0001; total time=   0.0s\n",
      "[CV] END alpha=10.0, fit_intercept=True, l1_ratio=0.5, max_iter=1000, selection=cyclic, tol=0.0001; total time=   0.1s\n",
      "[CV] END alpha=10.0, fit_intercept=True, l1_ratio=0.5, max_iter=1000, selection=cyclic, tol=1e-05; total time=   0.0s\n",
      "[CV] END alpha=10.0, fit_intercept=True, l1_ratio=0.5, max_iter=1000, selection=cyclic, tol=0.0001; total time=   0.0s\n",
      "[CV] END alpha=10.0, fit_intercept=True, l1_ratio=0.5, max_iter=1000, selection=cyclic, tol=0.0001; total time=   0.0s\n",
      "[CV] END alpha=10.0, fit_intercept=True, l1_ratio=0.5, max_iter=1000, selection=cyclic, tol=1e-05; total time=   0.0s\n",
      "[CV] END alpha=10.0, fit_intercept=True, l1_ratio=0.5, max_iter=1000, selection=cyclic, tol=1e-05; total time=   0.0s\n",
      "[CV] END alpha=10.0, fit_intercept=True, l1_ratio=0.5, max_iter=1000, selection=cyclic, tol=1e-05; total time=   0.0s\n",
      "[CV] END alpha=10.0, fit_intercept=True, l1_ratio=0.5, max_iter=1000, selection=cyclic, tol=1e-05; total time=   0.0s\n",
      "[CV] END alpha=10.0, fit_intercept=True, l1_ratio=0.5, max_iter=1000, selection=random, tol=0.001; total time=   0.0s\n",
      "[CV] END alpha=10.0, fit_intercept=True, l1_ratio=0.5, max_iter=1000, selection=random, tol=0.001; total time=   0.0s\n",
      "[CV] END alpha=10.0, fit_intercept=True, l1_ratio=0.5, max_iter=1000, selection=random, tol=0.001; total time=   0.0s\n",
      "[CV] END alpha=10.0, fit_intercept=True, l1_ratio=0.5, max_iter=1000, selection=random, tol=0.0001; total time=   0.0s\n",
      "[CV] END alpha=10.0, fit_intercept=True, l1_ratio=0.5, max_iter=1000, selection=random, tol=0.001; total time=   0.0s\n",
      "[CV] END alpha=10.0, fit_intercept=True, l1_ratio=0.5, max_iter=1000, selection=random, tol=0.0001; total time=   0.0s\n",
      "[CV] END alpha=10.0, fit_intercept=True, l1_ratio=0.5, max_iter=1000, selection=random, tol=0.001; total time=   0.0s\n",
      "[CV] END alpha=10.0, fit_intercept=True, l1_ratio=0.5, max_iter=1000, selection=random, tol=0.0001; total time=   0.0s\n",
      "[CV] END alpha=10.0, fit_intercept=True, l1_ratio=0.5, max_iter=1000, selection=random, tol=0.0001; total time=   0.0s\n",
      "[CV] END alpha=10.0, fit_intercept=True, l1_ratio=0.5, max_iter=1000, selection=random, tol=0.0001; total time=   0.1s\n",
      "[CV] END alpha=10.0, fit_intercept=True, l1_ratio=0.5, max_iter=1000, selection=random, tol=1e-05; total time=   0.1s\n",
      "[CV] END alpha=10.0, fit_intercept=True, l1_ratio=0.5, max_iter=1000, selection=random, tol=1e-05; total time=   0.1s\n",
      "[CV] END alpha=10.0, fit_intercept=True, l1_ratio=0.5, max_iter=1000, selection=random, tol=1e-05; total time=   0.0s\n",
      "[CV] END alpha=10.0, fit_intercept=True, l1_ratio=0.5, max_iter=1000, selection=random, tol=1e-05; total time=   0.0s\n",
      "[CV] END alpha=10.0, fit_intercept=True, l1_ratio=0.5, max_iter=1000, selection=random, tol=1e-05; total time=   0.0s\n",
      "[CV] END alpha=10.0, fit_intercept=True, l1_ratio=0.5, max_iter=5000, selection=cyclic, tol=0.001; total time=   0.0s\n",
      "[CV] END alpha=10.0, fit_intercept=True, l1_ratio=0.5, max_iter=5000, selection=cyclic, tol=0.001; total time=   0.0s\n",
      "[CV] END alpha=10.0, fit_intercept=True, l1_ratio=0.5, max_iter=5000, selection=cyclic, tol=0.001; total time=   0.0s\n",
      "[CV] END alpha=10.0, fit_intercept=True, l1_ratio=0.5, max_iter=5000, selection=cyclic, tol=0.001; total time=   0.0s\n",
      "[CV] END alpha=10.0, fit_intercept=True, l1_ratio=0.5, max_iter=5000, selection=cyclic, tol=0.001; total time=   0.1s\n",
      "[CV] END alpha=10.0, fit_intercept=True, l1_ratio=0.5, max_iter=5000, selection=cyclic, tol=0.0001; total time=   0.0s\n",
      "[CV] END alpha=10.0, fit_intercept=True, l1_ratio=0.5, max_iter=5000, selection=cyclic, tol=0.0001; total time=   0.0s\n",
      "[CV] END alpha=10.0, fit_intercept=True, l1_ratio=0.5, max_iter=5000, selection=cyclic, tol=0.0001; total time=   0.1s\n",
      "[CV] END alpha=10.0, fit_intercept=True, l1_ratio=0.5, max_iter=5000, selection=cyclic, tol=0.0001; total time=   0.0s\n",
      "[CV] END alpha=10.0, fit_intercept=True, l1_ratio=0.5, max_iter=5000, selection=cyclic, tol=1e-05; total time=   0.1s\n",
      "[CV] END alpha=10.0, fit_intercept=True, l1_ratio=0.5, max_iter=5000, selection=cyclic, tol=0.0001; total time=   0.0s\n",
      "[CV] END alpha=10.0, fit_intercept=True, l1_ratio=0.5, max_iter=5000, selection=cyclic, tol=1e-05; total time=   0.0s\n",
      "[CV] END alpha=10.0, fit_intercept=True, l1_ratio=0.5, max_iter=5000, selection=cyclic, tol=1e-05; total time=   0.0s\n",
      "[CV] END alpha=10.0, fit_intercept=True, l1_ratio=0.5, max_iter=5000, selection=cyclic, tol=1e-05; total time=   0.0s\n",
      "[CV] END alpha=10.0, fit_intercept=True, l1_ratio=0.5, max_iter=5000, selection=cyclic, tol=1e-05; total time=   0.0s\n",
      "[CV] END alpha=10.0, fit_intercept=True, l1_ratio=0.5, max_iter=5000, selection=random, tol=0.001; total time=   0.0s\n",
      "[CV] END alpha=10.0, fit_intercept=True, l1_ratio=0.5, max_iter=5000, selection=random, tol=0.001; total time=   0.0s\n",
      "[CV] END alpha=10.0, fit_intercept=True, l1_ratio=0.5, max_iter=5000, selection=random, tol=0.001; total time=   0.0s\n",
      "[CV] END alpha=10.0, fit_intercept=True, l1_ratio=0.5, max_iter=5000, selection=random, tol=0.001; total time=   0.0s\n",
      "[CV] END alpha=10.0, fit_intercept=True, l1_ratio=0.5, max_iter=5000, selection=random, tol=0.0001; total time=   0.0s\n",
      "[CV] END alpha=10.0, fit_intercept=True, l1_ratio=0.5, max_iter=5000, selection=random, tol=0.001; total time=   0.0s\n",
      "[CV] END alpha=10.0, fit_intercept=True, l1_ratio=0.5, max_iter=5000, selection=random, tol=0.0001; total time=   0.0s\n",
      "[CV] END alpha=10.0, fit_intercept=True, l1_ratio=0.5, max_iter=5000, selection=random, tol=0.0001; total time=   0.0s\n",
      "[CV] END alpha=10.0, fit_intercept=True, l1_ratio=0.5, max_iter=5000, selection=random, tol=0.0001; total time=   0.0s\n",
      "[CV] END alpha=10.0, fit_intercept=True, l1_ratio=0.5, max_iter=5000, selection=random, tol=0.0001; total time=   0.0s\n",
      "[CV] END alpha=10.0, fit_intercept=True, l1_ratio=0.5, max_iter=5000, selection=random, tol=1e-05; total time=   0.0s\n",
      "[CV] END alpha=10.0, fit_intercept=True, l1_ratio=0.5, max_iter=5000, selection=random, tol=1e-05; total time=   0.0s\n",
      "[CV] END alpha=10.0, fit_intercept=True, l1_ratio=0.5, max_iter=5000, selection=random, tol=1e-05; total time=   0.1s\n",
      "[CV] END alpha=10.0, fit_intercept=True, l1_ratio=0.5, max_iter=5000, selection=random, tol=1e-05; total time=   0.1s\n",
      "[CV] END alpha=10.0, fit_intercept=True, l1_ratio=0.5, max_iter=10000, selection=cyclic, tol=0.001; total time=   0.0s\n",
      "[CV] END alpha=10.0, fit_intercept=True, l1_ratio=0.5, max_iter=5000, selection=random, tol=1e-05; total time=   0.0s\n",
      "[CV] END alpha=10.0, fit_intercept=True, l1_ratio=0.5, max_iter=10000, selection=cyclic, tol=0.001; total time=   0.0s\n",
      "[CV] END alpha=10.0, fit_intercept=True, l1_ratio=0.5, max_iter=10000, selection=cyclic, tol=0.001; total time=   0.0s\n",
      "[CV] END alpha=10.0, fit_intercept=True, l1_ratio=0.5, max_iter=10000, selection=cyclic, tol=0.001; total time=   0.1s\n",
      "[CV] END alpha=10.0, fit_intercept=True, l1_ratio=0.5, max_iter=10000, selection=cyclic, tol=0.001; total time=   0.0s\n",
      "[CV] END alpha=10.0, fit_intercept=True, l1_ratio=0.5, max_iter=10000, selection=cyclic, tol=0.0001; total time=   0.0s\n",
      "[CV] END alpha=10.0, fit_intercept=True, l1_ratio=0.5, max_iter=10000, selection=cyclic, tol=0.0001; total time=   0.0s\n",
      "[CV] END alpha=10.0, fit_intercept=True, l1_ratio=0.5, max_iter=10000, selection=cyclic, tol=0.0001; total time=   0.0s\n",
      "[CV] END alpha=10.0, fit_intercept=True, l1_ratio=0.5, max_iter=10000, selection=cyclic, tol=0.0001; total time=   0.0s\n",
      "[CV] END alpha=10.0, fit_intercept=True, l1_ratio=0.5, max_iter=10000, selection=cyclic, tol=0.0001; total time=   0.0s\n",
      "[CV] END alpha=10.0, fit_intercept=True, l1_ratio=0.5, max_iter=10000, selection=cyclic, tol=1e-05; total time=   0.1s\n",
      "[CV] END alpha=10.0, fit_intercept=True, l1_ratio=0.5, max_iter=10000, selection=cyclic, tol=1e-05; total time=   0.1s\n",
      "[CV] END alpha=10.0, fit_intercept=True, l1_ratio=0.5, max_iter=10000, selection=cyclic, tol=1e-05; total time=   0.0s\n",
      "[CV] END alpha=10.0, fit_intercept=True, l1_ratio=0.5, max_iter=10000, selection=cyclic, tol=1e-05; total time=   0.0s\n",
      "[CV] END alpha=10.0, fit_intercept=True, l1_ratio=0.5, max_iter=10000, selection=cyclic, tol=1e-05; total time=   0.0s\n",
      "[CV] END alpha=10.0, fit_intercept=True, l1_ratio=0.5, max_iter=10000, selection=random, tol=0.001; total time=   0.0s\n",
      "[CV] END alpha=10.0, fit_intercept=True, l1_ratio=0.5, max_iter=10000, selection=random, tol=0.001; total time=   0.0s\n",
      "[CV] END alpha=10.0, fit_intercept=True, l1_ratio=0.5, max_iter=10000, selection=random, tol=0.001; total time=   0.0s\n",
      "[CV] END alpha=10.0, fit_intercept=True, l1_ratio=0.5, max_iter=10000, selection=random, tol=0.001; total time=   0.1s\n",
      "[CV] END alpha=10.0, fit_intercept=True, l1_ratio=0.5, max_iter=10000, selection=random, tol=0.0001; total time=   0.1s\n",
      "[CV] END alpha=10.0, fit_intercept=True, l1_ratio=0.5, max_iter=10000, selection=random, tol=0.0001; total time=   0.0s\n",
      "[CV] END alpha=10.0, fit_intercept=True, l1_ratio=0.5, max_iter=10000, selection=random, tol=0.0001; total time=   0.0s\n",
      "[CV] END alpha=10.0, fit_intercept=True, l1_ratio=0.5, max_iter=10000, selection=random, tol=0.001; total time=   0.0s\n",
      "[CV] END alpha=10.0, fit_intercept=True, l1_ratio=0.5, max_iter=10000, selection=random, tol=0.0001; total time=   0.0s\n",
      "[CV] END alpha=10.0, fit_intercept=True, l1_ratio=0.5, max_iter=10000, selection=random, tol=0.0001; total time=   0.0s\n",
      "[CV] END alpha=10.0, fit_intercept=True, l1_ratio=0.5, max_iter=10000, selection=random, tol=1e-05; total time=   0.0s\n",
      "[CV] END alpha=10.0, fit_intercept=True, l1_ratio=0.5, max_iter=10000, selection=random, tol=1e-05; total time=   0.0s\n",
      "[CV] END alpha=10.0, fit_intercept=True, l1_ratio=0.5, max_iter=10000, selection=random, tol=1e-05; total time=   0.0s\n",
      "[CV] END alpha=10.0, fit_intercept=True, l1_ratio=0.5, max_iter=10000, selection=random, tol=1e-05; total time=   0.0s\n",
      "[CV] END alpha=10.0, fit_intercept=True, l1_ratio=0.5, max_iter=10000, selection=random, tol=1e-05; total time=   0.0s\n",
      "[CV] END alpha=10.0, fit_intercept=True, l1_ratio=0.9, max_iter=1000, selection=cyclic, tol=0.001; total time=   0.1s\n",
      "[CV] END alpha=10.0, fit_intercept=True, l1_ratio=0.9, max_iter=1000, selection=cyclic, tol=0.001; total time=   0.1s\n",
      "[CV] END alpha=10.0, fit_intercept=True, l1_ratio=0.9, max_iter=1000, selection=cyclic, tol=0.001; total time=   0.1s\n",
      "[CV] END alpha=10.0, fit_intercept=True, l1_ratio=0.9, max_iter=1000, selection=cyclic, tol=0.001; total time=   0.0s\n",
      "[CV] END alpha=10.0, fit_intercept=True, l1_ratio=0.9, max_iter=1000, selection=cyclic, tol=0.001; total time=   0.1s\n",
      "[CV] END alpha=10.0, fit_intercept=True, l1_ratio=0.9, max_iter=1000, selection=cyclic, tol=0.0001; total time=   0.0s\n",
      "[CV] END alpha=10.0, fit_intercept=True, l1_ratio=0.9, max_iter=1000, selection=cyclic, tol=0.0001; total time=   0.0s\n",
      "[CV] END alpha=10.0, fit_intercept=True, l1_ratio=0.9, max_iter=1000, selection=cyclic, tol=0.0001; total time=   0.0s\n",
      "[CV] END alpha=10.0, fit_intercept=True, l1_ratio=0.9, max_iter=1000, selection=cyclic, tol=0.0001; total time=   0.0s\n",
      "[CV] END alpha=10.0, fit_intercept=True, l1_ratio=0.9, max_iter=1000, selection=cyclic, tol=1e-05; total time=   0.0s\n",
      "[CV] END alpha=10.0, fit_intercept=True, l1_ratio=0.9, max_iter=1000, selection=cyclic, tol=0.0001; total time=   0.0s\n",
      "[CV] END alpha=10.0, fit_intercept=True, l1_ratio=0.9, max_iter=1000, selection=cyclic, tol=1e-05; total time=   0.0s\n",
      "[CV] END alpha=10.0, fit_intercept=True, l1_ratio=0.9, max_iter=1000, selection=cyclic, tol=1e-05; total time=   0.0s\n",
      "[CV] END alpha=10.0, fit_intercept=True, l1_ratio=0.9, max_iter=1000, selection=cyclic, tol=1e-05; total time=   0.0s\n",
      "[CV] END alpha=10.0, fit_intercept=True, l1_ratio=0.9, max_iter=1000, selection=cyclic, tol=1e-05; total time=   0.0s\n",
      "[CV] END alpha=10.0, fit_intercept=True, l1_ratio=0.9, max_iter=1000, selection=random, tol=0.001; total time=   0.0s\n",
      "[CV] END alpha=10.0, fit_intercept=True, l1_ratio=0.9, max_iter=1000, selection=random, tol=0.001; total time=   0.0s\n",
      "[CV] END alpha=10.0, fit_intercept=True, l1_ratio=0.9, max_iter=1000, selection=random, tol=0.001; total time=   0.0s\n",
      "[CV] END alpha=10.0, fit_intercept=True, l1_ratio=0.9, max_iter=1000, selection=random, tol=0.001; total time=   0.1s\n",
      "[CV] END alpha=10.0, fit_intercept=True, l1_ratio=0.9, max_iter=1000, selection=random, tol=0.0001; total time=   0.0s\n",
      "[CV] END alpha=10.0, fit_intercept=True, l1_ratio=0.9, max_iter=1000, selection=random, tol=0.001; total time=   0.0s\n",
      "[CV] END alpha=10.0, fit_intercept=True, l1_ratio=0.9, max_iter=1000, selection=random, tol=0.0001; total time=   0.0s\n",
      "[CV] END alpha=10.0, fit_intercept=True, l1_ratio=0.9, max_iter=1000, selection=random, tol=0.0001; total time=   0.0s\n",
      "[CV] END alpha=10.0, fit_intercept=True, l1_ratio=0.9, max_iter=1000, selection=random, tol=0.0001; total time=   0.0s\n",
      "[CV] END alpha=10.0, fit_intercept=True, l1_ratio=0.9, max_iter=1000, selection=random, tol=0.0001; total time=   0.0s\n",
      "[CV] END alpha=10.0, fit_intercept=True, l1_ratio=0.9, max_iter=1000, selection=random, tol=1e-05; total time=   0.0s\n",
      "[CV] END alpha=10.0, fit_intercept=True, l1_ratio=0.9, max_iter=1000, selection=random, tol=1e-05; total time=   0.0s\n",
      "[CV] END alpha=10.0, fit_intercept=True, l1_ratio=0.9, max_iter=1000, selection=random, tol=1e-05; total time=   0.1s\n",
      "[CV] END alpha=10.0, fit_intercept=True, l1_ratio=0.9, max_iter=1000, selection=random, tol=1e-05; total time=   0.0s\n",
      "[CV] END alpha=10.0, fit_intercept=True, l1_ratio=0.9, max_iter=5000, selection=cyclic, tol=0.001; total time=   0.0s\n",
      "[CV] END alpha=10.0, fit_intercept=True, l1_ratio=0.9, max_iter=1000, selection=random, tol=1e-05; total time=   0.0s\n",
      "[CV] END alpha=10.0, fit_intercept=True, l1_ratio=0.9, max_iter=5000, selection=cyclic, tol=0.001; total time=   0.0s\n",
      "[CV] END alpha=10.0, fit_intercept=True, l1_ratio=0.9, max_iter=5000, selection=cyclic, tol=0.001; total time=   0.0s\n",
      "[CV] END alpha=10.0, fit_intercept=True, l1_ratio=0.9, max_iter=5000, selection=cyclic, tol=0.001; total time=   0.0s\n",
      "[CV] END alpha=10.0, fit_intercept=True, l1_ratio=0.9, max_iter=5000, selection=cyclic, tol=0.001; total time=   0.0s\n",
      "[CV] END alpha=10.0, fit_intercept=True, l1_ratio=0.9, max_iter=5000, selection=cyclic, tol=0.0001; total time=   0.0s\n",
      "[CV] END alpha=10.0, fit_intercept=True, l1_ratio=0.9, max_iter=5000, selection=cyclic, tol=0.0001; total time=   0.0s\n",
      "[CV] END alpha=10.0, fit_intercept=True, l1_ratio=0.9, max_iter=5000, selection=cyclic, tol=0.0001; total time=   0.0s\n",
      "[CV] END alpha=10.0, fit_intercept=True, l1_ratio=0.9, max_iter=5000, selection=cyclic, tol=0.0001; total time=   0.0s\n",
      "[CV] END alpha=10.0, fit_intercept=True, l1_ratio=0.9, max_iter=5000, selection=cyclic, tol=1e-05; total time=   0.0s\n",
      "[CV] END alpha=10.0, fit_intercept=True, l1_ratio=0.9, max_iter=5000, selection=cyclic, tol=0.0001; total time=   0.0s\n",
      "[CV] END alpha=10.0, fit_intercept=True, l1_ratio=0.9, max_iter=5000, selection=cyclic, tol=1e-05; total time=   0.0s\n",
      "[CV] END alpha=10.0, fit_intercept=True, l1_ratio=0.9, max_iter=5000, selection=cyclic, tol=1e-05; total time=   0.0s\n",
      "[CV] END alpha=10.0, fit_intercept=True, l1_ratio=0.9, max_iter=5000, selection=cyclic, tol=1e-05; total time=   0.0s\n",
      "[CV] END alpha=10.0, fit_intercept=True, l1_ratio=0.9, max_iter=5000, selection=cyclic, tol=1e-05; total time=   0.1s\n",
      "[CV] END alpha=10.0, fit_intercept=True, l1_ratio=0.9, max_iter=5000, selection=random, tol=0.001; total time=   0.0s\n",
      "[CV] END alpha=10.0, fit_intercept=True, l1_ratio=0.9, max_iter=5000, selection=random, tol=0.001; total time=   0.0s\n",
      "[CV] END alpha=10.0, fit_intercept=True, l1_ratio=0.9, max_iter=5000, selection=random, tol=0.001; total time=   0.0s\n",
      "[CV] END alpha=10.0, fit_intercept=True, l1_ratio=0.9, max_iter=5000, selection=random, tol=0.001; total time=   0.1s\n",
      "[CV] END alpha=10.0, fit_intercept=True, l1_ratio=0.9, max_iter=5000, selection=random, tol=0.0001; total time=   0.1s\n",
      "[CV] END alpha=10.0, fit_intercept=True, l1_ratio=0.9, max_iter=5000, selection=random, tol=0.001; total time=   0.0s\n",
      "[CV] END alpha=10.0, fit_intercept=True, l1_ratio=0.9, max_iter=5000, selection=random, tol=0.0001; total time=   0.0s\n",
      "[CV] END alpha=10.0, fit_intercept=True, l1_ratio=0.9, max_iter=5000, selection=random, tol=0.0001; total time=   0.0s\n",
      "[CV] END alpha=10.0, fit_intercept=True, l1_ratio=0.9, max_iter=5000, selection=random, tol=0.0001; total time=   0.1s\n",
      "[CV] END alpha=10.0, fit_intercept=True, l1_ratio=0.9, max_iter=5000, selection=random, tol=1e-05; total time=   0.1s\n",
      "[CV] END alpha=10.0, fit_intercept=True, l1_ratio=0.9, max_iter=5000, selection=random, tol=0.0001; total time=   0.1s\n",
      "[CV] END alpha=10.0, fit_intercept=True, l1_ratio=0.9, max_iter=5000, selection=random, tol=1e-05; total time=   0.0s\n",
      "[CV] END alpha=10.0, fit_intercept=True, l1_ratio=0.9, max_iter=5000, selection=random, tol=1e-05; total time=   0.0s\n",
      "[CV] END alpha=10.0, fit_intercept=True, l1_ratio=0.9, max_iter=5000, selection=random, tol=1e-05; total time=   0.1s\n",
      "[CV] END alpha=10.0, fit_intercept=True, l1_ratio=0.9, max_iter=10000, selection=cyclic, tol=0.001; total time=   0.1s\n",
      "[CV] END alpha=10.0, fit_intercept=True, l1_ratio=0.9, max_iter=5000, selection=random, tol=1e-05; total time=   0.0s\n",
      "[CV] END alpha=10.0, fit_intercept=True, l1_ratio=0.9, max_iter=10000, selection=cyclic, tol=0.001; total time=   0.0s\n",
      "[CV] END alpha=10.0, fit_intercept=True, l1_ratio=0.9, max_iter=10000, selection=cyclic, tol=0.001; total time=   0.1s\n",
      "[CV] END alpha=10.0, fit_intercept=True, l1_ratio=0.9, max_iter=10000, selection=cyclic, tol=0.001; total time=   0.0s\n",
      "[CV] END alpha=10.0, fit_intercept=True, l1_ratio=0.9, max_iter=10000, selection=cyclic, tol=0.001; total time=   0.1s\n",
      "[CV] END alpha=10.0, fit_intercept=True, l1_ratio=0.9, max_iter=10000, selection=cyclic, tol=0.0001; total time=   0.1s\n",
      "[CV] END alpha=10.0, fit_intercept=True, l1_ratio=0.9, max_iter=10000, selection=cyclic, tol=0.0001; total time=   0.1s\n",
      "[CV] END alpha=10.0, fit_intercept=True, l1_ratio=0.9, max_iter=10000, selection=cyclic, tol=0.0001; total time=   0.1s\n",
      "[CV] END alpha=10.0, fit_intercept=True, l1_ratio=0.9, max_iter=10000, selection=cyclic, tol=0.0001; total time=   0.1s\n",
      "[CV] END alpha=10.0, fit_intercept=True, l1_ratio=0.9, max_iter=10000, selection=cyclic, tol=0.0001; total time=   0.0s\n",
      "[CV] END alpha=10.0, fit_intercept=True, l1_ratio=0.9, max_iter=10000, selection=cyclic, tol=1e-05; total time=   0.0s\n",
      "[CV] END alpha=10.0, fit_intercept=True, l1_ratio=0.9, max_iter=10000, selection=cyclic, tol=1e-05; total time=   0.0s\n",
      "[CV] END alpha=10.0, fit_intercept=True, l1_ratio=0.9, max_iter=10000, selection=cyclic, tol=1e-05; total time=   0.0s\n",
      "[CV] END alpha=10.0, fit_intercept=True, l1_ratio=0.9, max_iter=10000, selection=cyclic, tol=1e-05; total time=   0.1s\n",
      "[CV] END alpha=10.0, fit_intercept=True, l1_ratio=0.9, max_iter=10000, selection=random, tol=0.001; total time=   0.0s\n",
      "[CV] END alpha=10.0, fit_intercept=True, l1_ratio=0.9, max_iter=10000, selection=random, tol=0.001; total time=   0.0s\n",
      "[CV] END alpha=10.0, fit_intercept=True, l1_ratio=0.9, max_iter=10000, selection=cyclic, tol=1e-05; total time=   0.0s\n",
      "[CV] END alpha=10.0, fit_intercept=True, l1_ratio=0.9, max_iter=10000, selection=random, tol=0.001; total time=   0.0s\n",
      "[CV] END alpha=10.0, fit_intercept=True, l1_ratio=0.9, max_iter=10000, selection=random, tol=0.001; total time=   0.0s\n",
      "[CV] END alpha=10.0, fit_intercept=True, l1_ratio=0.9, max_iter=10000, selection=random, tol=0.0001; total time=   0.1s\n",
      "[CV] END alpha=10.0, fit_intercept=True, l1_ratio=0.9, max_iter=10000, selection=random, tol=0.001; total time=   0.0s\n",
      "[CV] END alpha=10.0, fit_intercept=True, l1_ratio=0.9, max_iter=10000, selection=random, tol=0.0001; total time=   0.0s\n",
      "[CV] END alpha=10.0, fit_intercept=True, l1_ratio=0.9, max_iter=10000, selection=random, tol=0.0001; total time=   0.1s\n",
      "[CV] END alpha=10.0, fit_intercept=True, l1_ratio=0.9, max_iter=10000, selection=random, tol=0.0001; total time=   0.1s\n",
      "[CV] END alpha=10.0, fit_intercept=True, l1_ratio=0.9, max_iter=10000, selection=random, tol=1e-05; total time=   0.0s\n",
      "[CV] END alpha=10.0, fit_intercept=True, l1_ratio=0.9, max_iter=10000, selection=random, tol=0.0001; total time=   0.0s\n",
      "[CV] END alpha=10.0, fit_intercept=True, l1_ratio=0.9, max_iter=10000, selection=random, tol=1e-05; total time=   0.0s\n",
      "[CV] END alpha=10.0, fit_intercept=True, l1_ratio=0.9, max_iter=10000, selection=random, tol=1e-05; total time=   0.0s\n",
      "[CV] END alpha=10.0, fit_intercept=True, l1_ratio=0.9, max_iter=10000, selection=random, tol=1e-05; total time=   0.0s\n",
      "[CV] END alpha=10.0, fit_intercept=True, l1_ratio=0.9, max_iter=10000, selection=random, tol=1e-05; total time=   0.0s\n",
      "[CV] END alpha=10.0, fit_intercept=False, l1_ratio=0.1, max_iter=1000, selection=cyclic, tol=0.001; total time=   0.2s\n",
      "[CV] END alpha=10.0, fit_intercept=False, l1_ratio=0.1, max_iter=1000, selection=cyclic, tol=0.001; total time=   0.1s\n",
      "[CV] END alpha=10.0, fit_intercept=False, l1_ratio=0.1, max_iter=1000, selection=cyclic, tol=0.001; total time=   0.1s\n",
      "[CV] END alpha=10.0, fit_intercept=False, l1_ratio=0.1, max_iter=1000, selection=cyclic, tol=0.001; total time=   0.1s\n",
      "[CV] END alpha=10.0, fit_intercept=False, l1_ratio=0.1, max_iter=1000, selection=cyclic, tol=0.001; total time=   0.2s\n",
      "[CV] END alpha=10.0, fit_intercept=False, l1_ratio=0.1, max_iter=1000, selection=cyclic, tol=0.0001; total time=   0.1s\n",
      "[CV] END alpha=10.0, fit_intercept=False, l1_ratio=0.1, max_iter=1000, selection=cyclic, tol=0.0001; total time=   0.2s\n",
      "[CV] END alpha=10.0, fit_intercept=False, l1_ratio=0.1, max_iter=1000, selection=cyclic, tol=0.0001; total time=   0.2s\n",
      "[CV] END alpha=10.0, fit_intercept=False, l1_ratio=0.1, max_iter=1000, selection=cyclic, tol=1e-05; total time=   0.2s\n",
      "[CV] END alpha=10.0, fit_intercept=False, l1_ratio=0.1, max_iter=1000, selection=cyclic, tol=0.0001; total time=   0.2s\n",
      "[CV] END alpha=10.0, fit_intercept=False, l1_ratio=0.1, max_iter=1000, selection=cyclic, tol=0.0001; total time=   0.2s\n",
      "[CV] END alpha=10.0, fit_intercept=False, l1_ratio=0.1, max_iter=1000, selection=cyclic, tol=1e-05; total time=   0.2s\n",
      "[CV] END alpha=10.0, fit_intercept=False, l1_ratio=0.1, max_iter=1000, selection=cyclic, tol=1e-05; total time=   0.2s\n",
      "[CV] END alpha=10.0, fit_intercept=False, l1_ratio=0.1, max_iter=1000, selection=random, tol=0.001; total time=   0.1s\n",
      "[CV] END alpha=10.0, fit_intercept=False, l1_ratio=0.1, max_iter=1000, selection=cyclic, tol=1e-05; total time=   0.2s\n",
      "[CV] END alpha=10.0, fit_intercept=False, l1_ratio=0.1, max_iter=1000, selection=random, tol=0.001; total time=   0.1s\n",
      "[CV] END alpha=10.0, fit_intercept=False, l1_ratio=0.1, max_iter=1000, selection=cyclic, tol=1e-05; total time=   0.2s\n",
      "[CV] END alpha=10.0, fit_intercept=False, l1_ratio=0.1, max_iter=1000, selection=random, tol=0.001; total time=   0.1s\n",
      "[CV] END alpha=10.0, fit_intercept=False, l1_ratio=0.1, max_iter=1000, selection=random, tol=0.0001; total time=   0.1s\n",
      "[CV] END alpha=10.0, fit_intercept=False, l1_ratio=0.1, max_iter=1000, selection=random, tol=0.001; total time=   0.1s\n",
      "[CV] END alpha=10.0, fit_intercept=False, l1_ratio=0.1, max_iter=1000, selection=random, tol=0.0001; total time=   0.1s\n",
      "[CV] END alpha=10.0, fit_intercept=False, l1_ratio=0.1, max_iter=1000, selection=random, tol=0.0001; total time=   0.1s\n",
      "[CV] END alpha=10.0, fit_intercept=False, l1_ratio=0.1, max_iter=1000, selection=random, tol=0.001; total time=   0.1s\n",
      "[CV] END alpha=10.0, fit_intercept=False, l1_ratio=0.1, max_iter=1000, selection=random, tol=0.0001; total time=   0.1s\n",
      "[CV] END alpha=10.0, fit_intercept=False, l1_ratio=0.1, max_iter=1000, selection=random, tol=0.0001; total time=   0.1s\n",
      "[CV] END alpha=10.0, fit_intercept=False, l1_ratio=0.1, max_iter=1000, selection=random, tol=1e-05; total time=   0.1s\n",
      "[CV] END alpha=10.0, fit_intercept=False, l1_ratio=0.1, max_iter=1000, selection=random, tol=1e-05; total time=   0.1s\n",
      "[CV] END alpha=10.0, fit_intercept=False, l1_ratio=0.1, max_iter=1000, selection=random, tol=1e-05; total time=   0.1s\n",
      "[CV] END alpha=10.0, fit_intercept=False, l1_ratio=0.1, max_iter=1000, selection=random, tol=1e-05; total time=   0.1s\n",
      "[CV] END alpha=10.0, fit_intercept=False, l1_ratio=0.1, max_iter=1000, selection=random, tol=1e-05; total time=   0.1s\n",
      "[CV] END alpha=10.0, fit_intercept=False, l1_ratio=0.1, max_iter=5000, selection=cyclic, tol=0.001; total time=   0.1s\n",
      "[CV] END alpha=10.0, fit_intercept=False, l1_ratio=0.1, max_iter=5000, selection=cyclic, tol=0.001; total time=   0.1s\n",
      "[CV] END alpha=10.0, fit_intercept=False, l1_ratio=0.1, max_iter=5000, selection=cyclic, tol=0.001; total time=   0.1s\n",
      "[CV] END alpha=10.0, fit_intercept=False, l1_ratio=0.1, max_iter=5000, selection=cyclic, tol=0.001; total time=   0.1s\n",
      "[CV] END alpha=10.0, fit_intercept=False, l1_ratio=0.1, max_iter=5000, selection=cyclic, tol=0.001; total time=   0.1s\n",
      "[CV] END alpha=10.0, fit_intercept=False, l1_ratio=0.1, max_iter=5000, selection=cyclic, tol=0.0001; total time=   0.2s\n",
      "[CV] END alpha=10.0, fit_intercept=False, l1_ratio=0.1, max_iter=5000, selection=cyclic, tol=0.0001; total time=   0.2s\n",
      "[CV] END alpha=10.0, fit_intercept=False, l1_ratio=0.1, max_iter=5000, selection=cyclic, tol=0.0001; total time=   0.1s\n",
      "[CV] END alpha=10.0, fit_intercept=False, l1_ratio=0.1, max_iter=5000, selection=cyclic, tol=0.0001; total time=   0.1s\n",
      "[CV] END alpha=10.0, fit_intercept=False, l1_ratio=0.1, max_iter=5000, selection=cyclic, tol=1e-05; total time=   0.2s\n",
      "[CV] END alpha=10.0, fit_intercept=False, l1_ratio=0.1, max_iter=5000, selection=cyclic, tol=0.0001; total time=   0.2s\n",
      "[CV] END alpha=10.0, fit_intercept=False, l1_ratio=0.1, max_iter=5000, selection=cyclic, tol=1e-05; total time=   0.2s\n",
      "[CV] END alpha=10.0, fit_intercept=False, l1_ratio=0.1, max_iter=5000, selection=cyclic, tol=1e-05; total time=   0.2s\n",
      "[CV] END alpha=10.0, fit_intercept=False, l1_ratio=0.1, max_iter=5000, selection=cyclic, tol=1e-05; total time=   0.2s\n",
      "[CV] END alpha=10.0, fit_intercept=False, l1_ratio=0.1, max_iter=5000, selection=random, tol=0.001; total time=   0.1s\n",
      "[CV] END alpha=10.0, fit_intercept=False, l1_ratio=0.1, max_iter=5000, selection=random, tol=0.001; total time=   0.1s\n",
      "[CV] END alpha=10.0, fit_intercept=False, l1_ratio=0.1, max_iter=5000, selection=cyclic, tol=1e-05; total time=   0.2s\n",
      "[CV] END alpha=10.0, fit_intercept=False, l1_ratio=0.1, max_iter=5000, selection=random, tol=0.001; total time=   0.1s\n",
      "[CV] END alpha=10.0, fit_intercept=False, l1_ratio=0.1, max_iter=5000, selection=random, tol=0.001; total time=   0.1s\n",
      "[CV] END alpha=10.0, fit_intercept=False, l1_ratio=0.1, max_iter=5000, selection=random, tol=0.0001; total time=   0.1s\n",
      "[CV] END alpha=10.0, fit_intercept=False, l1_ratio=0.1, max_iter=5000, selection=random, tol=0.0001; total time=   0.1s\n",
      "[CV] END alpha=10.0, fit_intercept=False, l1_ratio=0.1, max_iter=5000, selection=random, tol=0.001; total time=   0.1s\n",
      "[CV] END alpha=10.0, fit_intercept=False, l1_ratio=0.1, max_iter=5000, selection=random, tol=0.0001; total time=   0.1s\n",
      "[CV] END alpha=10.0, fit_intercept=False, l1_ratio=0.1, max_iter=5000, selection=random, tol=0.0001; total time=   0.1s\n",
      "[CV] END alpha=10.0, fit_intercept=False, l1_ratio=0.1, max_iter=5000, selection=random, tol=0.0001; total time=   0.1s\n",
      "[CV] END alpha=10.0, fit_intercept=False, l1_ratio=0.1, max_iter=5000, selection=random, tol=1e-05; total time=   0.1s\n",
      "[CV] END alpha=10.0, fit_intercept=False, l1_ratio=0.1, max_iter=5000, selection=random, tol=1e-05; total time=   0.1s\n",
      "[CV] END alpha=10.0, fit_intercept=False, l1_ratio=0.1, max_iter=5000, selection=random, tol=1e-05; total time=   0.1s\n",
      "[CV] END alpha=10.0, fit_intercept=False, l1_ratio=0.1, max_iter=5000, selection=random, tol=1e-05; total time=   0.1s\n",
      "[CV] END alpha=10.0, fit_intercept=False, l1_ratio=0.1, max_iter=5000, selection=random, tol=1e-05; total time=   0.1s\n",
      "[CV] END alpha=10.0, fit_intercept=False, l1_ratio=0.1, max_iter=10000, selection=cyclic, tol=0.001; total time=   0.1s\n",
      "[CV] END alpha=10.0, fit_intercept=False, l1_ratio=0.1, max_iter=10000, selection=cyclic, tol=0.001; total time=   0.1s\n",
      "[CV] END alpha=10.0, fit_intercept=False, l1_ratio=0.1, max_iter=10000, selection=cyclic, tol=0.001; total time=   0.1s\n",
      "[CV] END alpha=10.0, fit_intercept=False, l1_ratio=0.1, max_iter=10000, selection=cyclic, tol=0.001; total time=   0.1s\n",
      "[CV] END alpha=10.0, fit_intercept=False, l1_ratio=0.1, max_iter=10000, selection=cyclic, tol=0.001; total time=   0.1s\n",
      "[CV] END alpha=10.0, fit_intercept=False, l1_ratio=0.1, max_iter=10000, selection=cyclic, tol=0.0001; total time=   0.1s\n",
      "[CV] END alpha=10.0, fit_intercept=False, l1_ratio=0.1, max_iter=10000, selection=cyclic, tol=0.0001; total time=   0.1s\n",
      "[CV] END alpha=10.0, fit_intercept=False, l1_ratio=0.1, max_iter=10000, selection=cyclic, tol=0.0001; total time=   0.2s\n",
      "[CV] END alpha=1.0, fit_intercept=False, l1_ratio=0.9, max_iter=10000, selection=cyclic, tol=1e-05; total time=  21.9s\n",
      "[CV] END alpha=10.0, fit_intercept=False, l1_ratio=0.1, max_iter=10000, selection=cyclic, tol=1e-05; total time=   0.2s\n",
      "[CV] END alpha=10.0, fit_intercept=False, l1_ratio=0.1, max_iter=10000, selection=cyclic, tol=0.0001; total time=   0.1s\n",
      "[CV] END alpha=10.0, fit_intercept=False, l1_ratio=0.1, max_iter=10000, selection=cyclic, tol=0.0001; total time=   0.2s\n",
      "[CV] END alpha=10.0, fit_intercept=False, l1_ratio=0.1, max_iter=10000, selection=cyclic, tol=1e-05; total time=   0.2s\n",
      "[CV] END alpha=10.0, fit_intercept=False, l1_ratio=0.1, max_iter=10000, selection=random, tol=0.001; total time=   0.1s\n",
      "[CV] END alpha=10.0, fit_intercept=False, l1_ratio=0.1, max_iter=10000, selection=cyclic, tol=1e-05; total time=   0.2s\n",
      "[CV] END alpha=10.0, fit_intercept=False, l1_ratio=0.1, max_iter=10000, selection=cyclic, tol=1e-05; total time=   0.2s\n",
      "[CV] END alpha=10.0, fit_intercept=False, l1_ratio=0.1, max_iter=10000, selection=random, tol=0.001; total time=   0.1s\n",
      "[CV] END alpha=10.0, fit_intercept=False, l1_ratio=0.1, max_iter=10000, selection=random, tol=0.001; total time=   0.1s\n",
      "[CV] END alpha=10.0, fit_intercept=False, l1_ratio=0.1, max_iter=10000, selection=cyclic, tol=1e-05; total time=   0.2s\n",
      "[CV] END alpha=10.0, fit_intercept=False, l1_ratio=0.1, max_iter=10000, selection=random, tol=0.001; total time=   0.1s\n",
      "[CV] END alpha=10.0, fit_intercept=False, l1_ratio=0.1, max_iter=10000, selection=random, tol=0.0001; total time=   0.1s\n",
      "[CV] END alpha=10.0, fit_intercept=False, l1_ratio=0.1, max_iter=10000, selection=random, tol=0.001; total time=   0.1s\n",
      "[CV] END alpha=10.0, fit_intercept=False, l1_ratio=0.1, max_iter=10000, selection=random, tol=0.0001; total time=   0.1s\n",
      "[CV] END alpha=10.0, fit_intercept=False, l1_ratio=0.1, max_iter=10000, selection=random, tol=0.0001; total time=   0.1s\n",
      "[CV] END alpha=10.0, fit_intercept=False, l1_ratio=0.1, max_iter=10000, selection=random, tol=0.0001; total time=   0.1s\n",
      "[CV] END alpha=10.0, fit_intercept=False, l1_ratio=0.1, max_iter=10000, selection=random, tol=1e-05; total time=   0.1s\n",
      "[CV] END alpha=10.0, fit_intercept=False, l1_ratio=0.1, max_iter=10000, selection=random, tol=0.0001; total time=   0.1s\n",
      "[CV] END alpha=10.0, fit_intercept=False, l1_ratio=0.1, max_iter=10000, selection=random, tol=1e-05; total time=   0.1s\n",
      "[CV] END alpha=10.0, fit_intercept=False, l1_ratio=0.1, max_iter=10000, selection=random, tol=1e-05; total time=   0.1s\n",
      "[CV] END alpha=10.0, fit_intercept=False, l1_ratio=0.1, max_iter=10000, selection=random, tol=1e-05; total time=   0.1s\n",
      "[CV] END alpha=10.0, fit_intercept=False, l1_ratio=0.1, max_iter=10000, selection=random, tol=1e-05; total time=   0.1s\n",
      "[CV] END alpha=10.0, fit_intercept=False, l1_ratio=0.5, max_iter=1000, selection=cyclic, tol=0.001; total time=   0.2s\n",
      "[CV] END alpha=10.0, fit_intercept=False, l1_ratio=0.5, max_iter=1000, selection=cyclic, tol=0.001; total time=   0.2s\n",
      "[CV] END alpha=10.0, fit_intercept=False, l1_ratio=0.5, max_iter=1000, selection=cyclic, tol=0.001; total time=   0.2s\n",
      "[CV] END alpha=10.0, fit_intercept=False, l1_ratio=0.5, max_iter=1000, selection=cyclic, tol=0.0001; total time=   0.2s\n",
      "[CV] END alpha=10.0, fit_intercept=False, l1_ratio=0.5, max_iter=1000, selection=cyclic, tol=0.001; total time=   0.2s\n",
      "[CV] END alpha=10.0, fit_intercept=False, l1_ratio=0.5, max_iter=1000, selection=cyclic, tol=0.001; total time=   0.2s\n",
      "[CV] END alpha=10.0, fit_intercept=False, l1_ratio=0.5, max_iter=1000, selection=cyclic, tol=0.0001; total time=   0.2s\n",
      "[CV] END alpha=10.0, fit_intercept=False, l1_ratio=0.5, max_iter=1000, selection=cyclic, tol=0.0001; total time=   0.2s\n",
      "[CV] END alpha=10.0, fit_intercept=False, l1_ratio=0.5, max_iter=1000, selection=cyclic, tol=0.0001; total time=   0.2s\n",
      "[CV] END alpha=10.0, fit_intercept=False, l1_ratio=0.5, max_iter=1000, selection=cyclic, tol=1e-05; total time=   0.3s\n",
      "[CV] END alpha=10.0, fit_intercept=False, l1_ratio=0.5, max_iter=1000, selection=cyclic, tol=1e-05; total time=   0.3s\n",
      "[CV] END alpha=10.0, fit_intercept=False, l1_ratio=0.5, max_iter=1000, selection=cyclic, tol=0.0001; total time=   0.2s\n",
      "[CV] END alpha=10.0, fit_intercept=False, l1_ratio=0.5, max_iter=1000, selection=cyclic, tol=1e-05; total time=   0.3s\n",
      "[CV] END alpha=10.0, fit_intercept=False, l1_ratio=0.5, max_iter=1000, selection=random, tol=0.001; total time=   0.1s\n",
      "[CV] END alpha=10.0, fit_intercept=False, l1_ratio=0.5, max_iter=1000, selection=random, tol=0.001; total time=   0.1s\n",
      "[CV] END alpha=10.0, fit_intercept=False, l1_ratio=0.5, max_iter=1000, selection=random, tol=0.001; total time=   0.1s\n",
      "[CV] END alpha=10.0, fit_intercept=False, l1_ratio=0.5, max_iter=1000, selection=random, tol=0.001; total time=   0.1s\n",
      "[CV] END alpha=10.0, fit_intercept=False, l1_ratio=0.5, max_iter=1000, selection=cyclic, tol=1e-05; total time=   0.2s\n",
      "[CV] END alpha=10.0, fit_intercept=False, l1_ratio=0.5, max_iter=1000, selection=cyclic, tol=1e-05; total time=   0.3s\n",
      "[CV] END alpha=10.0, fit_intercept=False, l1_ratio=0.5, max_iter=1000, selection=random, tol=0.001; total time=   0.1s\n",
      "[CV] END alpha=10.0, fit_intercept=False, l1_ratio=0.5, max_iter=1000, selection=random, tol=0.0001; total time=   0.1s\n",
      "[CV] END alpha=10.0, fit_intercept=False, l1_ratio=0.5, max_iter=1000, selection=random, tol=0.0001; total time=   0.1s\n",
      "[CV] END alpha=10.0, fit_intercept=False, l1_ratio=0.5, max_iter=1000, selection=random, tol=0.0001; total time=   0.1s\n",
      "[CV] END alpha=10.0, fit_intercept=False, l1_ratio=0.5, max_iter=1000, selection=random, tol=1e-05; total time=   0.1s\n",
      "[CV] END alpha=10.0, fit_intercept=False, l1_ratio=0.5, max_iter=1000, selection=random, tol=0.0001; total time=   0.1s\n",
      "[CV] END alpha=10.0, fit_intercept=False, l1_ratio=0.5, max_iter=1000, selection=random, tol=0.0001; total time=   0.1s\n",
      "[CV] END alpha=10.0, fit_intercept=False, l1_ratio=0.5, max_iter=1000, selection=random, tol=1e-05; total time=   0.1s\n",
      "[CV] END alpha=10.0, fit_intercept=False, l1_ratio=0.5, max_iter=1000, selection=random, tol=1e-05; total time=   0.1s\n",
      "[CV] END alpha=10.0, fit_intercept=False, l1_ratio=0.5, max_iter=1000, selection=random, tol=1e-05; total time=   0.1s\n",
      "[CV] END alpha=1.0, fit_intercept=False, l1_ratio=0.9, max_iter=10000, selection=cyclic, tol=1e-05; total time=  21.6s\n",
      "[CV] END alpha=10.0, fit_intercept=False, l1_ratio=0.5, max_iter=1000, selection=random, tol=1e-05; total time=   0.1s\n",
      "[CV] END alpha=10.0, fit_intercept=False, l1_ratio=0.5, max_iter=5000, selection=cyclic, tol=0.001; total time=   0.2s\n",
      "[CV] END alpha=10.0, fit_intercept=False, l1_ratio=0.5, max_iter=5000, selection=cyclic, tol=0.001; total time=   0.2s\n",
      "[CV] END alpha=10.0, fit_intercept=False, l1_ratio=0.5, max_iter=5000, selection=cyclic, tol=0.001; total time=   0.2s\n",
      "[CV] END alpha=10.0, fit_intercept=False, l1_ratio=0.5, max_iter=5000, selection=cyclic, tol=0.001; total time=   0.2s\n",
      "[CV] END alpha=10.0, fit_intercept=False, l1_ratio=0.5, max_iter=5000, selection=cyclic, tol=0.0001; total time=   0.2s\n",
      "[CV] END alpha=1.0, fit_intercept=False, l1_ratio=0.9, max_iter=10000, selection=cyclic, tol=1e-05; total time=  21.4s\n",
      "[CV] END alpha=10.0, fit_intercept=False, l1_ratio=0.5, max_iter=5000, selection=cyclic, tol=0.0001; total time=   0.3s\n",
      "[CV] END alpha=10.0, fit_intercept=False, l1_ratio=0.5, max_iter=5000, selection=cyclic, tol=0.001; total time=   0.2s\n",
      "[CV] END alpha=10.0, fit_intercept=False, l1_ratio=0.5, max_iter=5000, selection=cyclic, tol=0.0001; total time=   0.3s\n",
      "[CV] END alpha=10.0, fit_intercept=False, l1_ratio=0.5, max_iter=5000, selection=random, tol=0.001; total time=   0.1s\n",
      "[CV] END alpha=10.0, fit_intercept=False, l1_ratio=0.5, max_iter=5000, selection=cyclic, tol=0.0001; total time=   0.2s\n",
      "[CV] END alpha=10.0, fit_intercept=False, l1_ratio=0.5, max_iter=5000, selection=cyclic, tol=1e-05; total time=   0.3s\n",
      "[CV] END alpha=10.0, fit_intercept=False, l1_ratio=0.5, max_iter=5000, selection=random, tol=0.001; total time=   0.1s\n",
      "[CV] END alpha=10.0, fit_intercept=False, l1_ratio=0.5, max_iter=5000, selection=random, tol=0.001; total time=   0.1s\n",
      "[CV] END alpha=10.0, fit_intercept=False, l1_ratio=0.5, max_iter=5000, selection=cyclic, tol=1e-05; total time=   0.3s\n",
      "[CV] END alpha=10.0, fit_intercept=False, l1_ratio=0.5, max_iter=5000, selection=cyclic, tol=0.0001; total time=   0.3s\n",
      "[CV] END alpha=10.0, fit_intercept=False, l1_ratio=0.5, max_iter=5000, selection=random, tol=0.0001; total time=   0.1s\n",
      "[CV] END alpha=10.0, fit_intercept=False, l1_ratio=0.5, max_iter=5000, selection=cyclic, tol=1e-05; total time=   0.3s\n",
      "[CV] END alpha=10.0, fit_intercept=False, l1_ratio=0.5, max_iter=5000, selection=random, tol=0.001; total time=   0.1s\n",
      "[CV] END alpha=10.0, fit_intercept=False, l1_ratio=0.5, max_iter=5000, selection=random, tol=0.0001; total time=   0.1s\n",
      "[CV] END alpha=10.0, fit_intercept=False, l1_ratio=0.5, max_iter=5000, selection=random, tol=0.0001; total time=   0.1s\n",
      "[CV] END alpha=10.0, fit_intercept=False, l1_ratio=0.5, max_iter=5000, selection=random, tol=0.001; total time=   0.1s\n",
      "[CV] END alpha=10.0, fit_intercept=False, l1_ratio=0.5, max_iter=5000, selection=cyclic, tol=1e-05; total time=   0.3s\n",
      "[CV] END alpha=10.0, fit_intercept=False, l1_ratio=0.5, max_iter=5000, selection=random, tol=0.0001; total time=   0.1s\n",
      "[CV] END alpha=10.0, fit_intercept=False, l1_ratio=0.5, max_iter=5000, selection=random, tol=0.0001; total time=   0.1s\n",
      "[CV] END alpha=10.0, fit_intercept=False, l1_ratio=0.5, max_iter=5000, selection=random, tol=1e-05; total time=   0.1s\n",
      "[CV] END alpha=10.0, fit_intercept=False, l1_ratio=0.5, max_iter=5000, selection=random, tol=1e-05; total time=   0.1s\n",
      "[CV] END alpha=10.0, fit_intercept=False, l1_ratio=0.5, max_iter=5000, selection=random, tol=1e-05; total time=   0.1s\n",
      "[CV] END alpha=10.0, fit_intercept=False, l1_ratio=0.5, max_iter=5000, selection=random, tol=1e-05; total time=   0.1s\n",
      "[CV] END alpha=10.0, fit_intercept=False, l1_ratio=0.5, max_iter=5000, selection=random, tol=1e-05; total time=   0.1s\n",
      "[CV] END alpha=10.0, fit_intercept=False, l1_ratio=0.5, max_iter=10000, selection=cyclic, tol=0.001; total time=   0.2s\n",
      "[CV] END alpha=10.0, fit_intercept=False, l1_ratio=0.5, max_iter=10000, selection=cyclic, tol=0.001; total time=   0.1s\n",
      "[CV] END alpha=10.0, fit_intercept=False, l1_ratio=0.5, max_iter=5000, selection=cyclic, tol=1e-05; total time=   0.4s\n",
      "[CV] END alpha=10.0, fit_intercept=False, l1_ratio=0.5, max_iter=10000, selection=cyclic, tol=0.001; total time=   0.2s\n",
      "[CV] END alpha=10.0, fit_intercept=False, l1_ratio=0.5, max_iter=10000, selection=cyclic, tol=0.001; total time=   0.2s\n",
      "[CV] END alpha=10.0, fit_intercept=False, l1_ratio=0.5, max_iter=10000, selection=cyclic, tol=0.001; total time=   0.2s\n",
      "[CV] END alpha=10.0, fit_intercept=False, l1_ratio=0.5, max_iter=10000, selection=cyclic, tol=0.0001; total time=   0.3s\n",
      "[CV] END alpha=10.0, fit_intercept=False, l1_ratio=0.5, max_iter=10000, selection=cyclic, tol=0.0001; total time=   0.3s\n",
      "[CV] END alpha=10.0, fit_intercept=False, l1_ratio=0.5, max_iter=10000, selection=cyclic, tol=0.0001; total time=   0.2s\n",
      "[CV] END alpha=10.0, fit_intercept=False, l1_ratio=0.5, max_iter=10000, selection=cyclic, tol=1e-05; total time=   0.3s\n",
      "[CV] END alpha=10.0, fit_intercept=False, l1_ratio=0.5, max_iter=10000, selection=random, tol=0.001; total time=   0.1s\n",
      "[CV] END alpha=10.0, fit_intercept=False, l1_ratio=0.5, max_iter=10000, selection=cyclic, tol=0.0001; total time=   0.2s\n",
      "[CV] END alpha=10.0, fit_intercept=False, l1_ratio=0.5, max_iter=10000, selection=cyclic, tol=0.0001; total time=   0.2s\n",
      "[CV] END alpha=10.0, fit_intercept=False, l1_ratio=0.5, max_iter=10000, selection=random, tol=0.001; total time=   0.1s\n",
      "[CV] END alpha=10.0, fit_intercept=False, l1_ratio=0.5, max_iter=10000, selection=cyclic, tol=1e-05; total time=   0.3s\n",
      "[CV] END alpha=10.0, fit_intercept=False, l1_ratio=0.5, max_iter=10000, selection=cyclic, tol=1e-05; total time=   0.3s\n",
      "[CV] END alpha=10.0, fit_intercept=False, l1_ratio=0.5, max_iter=10000, selection=random, tol=0.001; total time=   0.1s\n",
      "[CV] END alpha=10.0, fit_intercept=False, l1_ratio=0.5, max_iter=10000, selection=random, tol=0.0001; total time=   0.1s\n",
      "[CV] END alpha=10.0, fit_intercept=False, l1_ratio=0.5, max_iter=10000, selection=random, tol=0.0001; total time=   0.1s\n",
      "[CV] END alpha=10.0, fit_intercept=False, l1_ratio=0.5, max_iter=10000, selection=random, tol=0.001; total time=   0.1s\n",
      "[CV] END alpha=10.0, fit_intercept=False, l1_ratio=0.5, max_iter=10000, selection=random, tol=0.001; total time=   0.1s\n",
      "[CV] END alpha=10.0, fit_intercept=False, l1_ratio=0.5, max_iter=10000, selection=random, tol=0.0001; total time=   0.1s\n",
      "[CV] END alpha=10.0, fit_intercept=False, l1_ratio=0.5, max_iter=10000, selection=random, tol=0.0001; total time=   0.1s\n",
      "[CV] END alpha=10.0, fit_intercept=False, l1_ratio=0.5, max_iter=10000, selection=random, tol=0.0001; total time=   0.1s\n",
      "[CV] END alpha=10.0, fit_intercept=False, l1_ratio=0.5, max_iter=10000, selection=cyclic, tol=1e-05; total time=   0.4s\n",
      "[CV] END alpha=10.0, fit_intercept=False, l1_ratio=0.5, max_iter=10000, selection=random, tol=1e-05; total time=   0.1s\n",
      "[CV] END alpha=10.0, fit_intercept=False, l1_ratio=0.5, max_iter=10000, selection=random, tol=1e-05; total time=   0.1s\n",
      "[CV] END alpha=10.0, fit_intercept=False, l1_ratio=0.5, max_iter=10000, selection=cyclic, tol=1e-05; total time=   0.3s\n",
      "[CV] END alpha=10.0, fit_intercept=False, l1_ratio=0.5, max_iter=10000, selection=random, tol=1e-05; total time=   0.1s\n",
      "[CV] END alpha=10.0, fit_intercept=False, l1_ratio=0.5, max_iter=10000, selection=random, tol=1e-05; total time=   0.1s\n",
      "[CV] END alpha=10.0, fit_intercept=False, l1_ratio=0.5, max_iter=10000, selection=random, tol=1e-05; total time=   0.1s\n",
      "[CV] END alpha=10.0, fit_intercept=False, l1_ratio=0.9, max_iter=1000, selection=cyclic, tol=0.001; total time=   0.8s\n",
      "[CV] END alpha=10.0, fit_intercept=False, l1_ratio=0.9, max_iter=1000, selection=cyclic, tol=0.001; total time=   0.9s\n",
      "[CV] END alpha=10.0, fit_intercept=False, l1_ratio=0.9, max_iter=1000, selection=cyclic, tol=0.001; total time=   0.9s\n",
      "[CV] END alpha=10.0, fit_intercept=False, l1_ratio=0.9, max_iter=1000, selection=cyclic, tol=0.0001; total time=   1.4s\n",
      "[CV] END alpha=10.0, fit_intercept=False, l1_ratio=0.9, max_iter=1000, selection=cyclic, tol=0.0001; total time=   1.5s\n",
      "[CV] END alpha=10.0, fit_intercept=False, l1_ratio=0.9, max_iter=1000, selection=cyclic, tol=0.001; total time=   0.8s\n",
      "[CV] END alpha=10.0, fit_intercept=False, l1_ratio=0.9, max_iter=1000, selection=cyclic, tol=0.001; total time=   0.8s\n",
      "[CV] END alpha=10.0, fit_intercept=False, l1_ratio=0.9, max_iter=1000, selection=cyclic, tol=1e-05; total time=   2.1s\n",
      "[CV] END alpha=10.0, fit_intercept=False, l1_ratio=0.9, max_iter=1000, selection=cyclic, tol=0.0001; total time=   1.5s\n",
      "[CV] END alpha=10.0, fit_intercept=False, l1_ratio=0.9, max_iter=1000, selection=random, tol=0.001; total time=   0.1s\n",
      "[CV] END alpha=10.0, fit_intercept=False, l1_ratio=0.9, max_iter=1000, selection=random, tol=0.001; total time=   0.1s\n",
      "[CV] END alpha=10.0, fit_intercept=False, l1_ratio=0.9, max_iter=1000, selection=random, tol=0.001; total time=   0.1s\n",
      "[CV] END alpha=10.0, fit_intercept=False, l1_ratio=0.9, max_iter=1000, selection=random, tol=0.001; total time=   0.1s\n",
      "[CV] END alpha=10.0, fit_intercept=False, l1_ratio=0.9, max_iter=1000, selection=random, tol=0.0001; total time=   0.1s\n",
      "[CV] END alpha=10.0, fit_intercept=False, l1_ratio=0.9, max_iter=1000, selection=random, tol=0.0001; total time=   0.1s\n",
      "[CV] END alpha=10.0, fit_intercept=False, l1_ratio=0.9, max_iter=1000, selection=cyclic, tol=0.0001; total time=   1.5s\n",
      "[CV] END alpha=10.0, fit_intercept=False, l1_ratio=0.9, max_iter=1000, selection=random, tol=0.0001; total time=   0.1s\n",
      "[CV] END alpha=10.0, fit_intercept=False, l1_ratio=0.9, max_iter=1000, selection=cyclic, tol=0.0001; total time=   1.5s\n",
      "[CV] END alpha=10.0, fit_intercept=False, l1_ratio=0.9, max_iter=1000, selection=random, tol=0.0001; total time=   0.1s\n",
      "[CV] END alpha=10.0, fit_intercept=False, l1_ratio=0.9, max_iter=1000, selection=random, tol=0.0001; total time=   0.1s\n",
      "[CV] END alpha=10.0, fit_intercept=False, l1_ratio=0.9, max_iter=1000, selection=random, tol=1e-05; total time=   0.1s\n",
      "[CV] END alpha=10.0, fit_intercept=False, l1_ratio=0.9, max_iter=1000, selection=random, tol=1e-05; total time=   0.2s\n",
      "[CV] END alpha=10.0, fit_intercept=False, l1_ratio=0.9, max_iter=1000, selection=random, tol=1e-05; total time=   0.2s\n",
      "[CV] END alpha=1.0, fit_intercept=False, l1_ratio=0.9, max_iter=10000, selection=cyclic, tol=1e-05; total time=  20.4s\n",
      "[CV] END alpha=10.0, fit_intercept=False, l1_ratio=0.9, max_iter=1000, selection=random, tol=1e-05; total time=   0.1s\n",
      "[CV] END alpha=10.0, fit_intercept=False, l1_ratio=0.9, max_iter=1000, selection=random, tol=1e-05; total time=   0.1s\n",
      "[CV] END alpha=10.0, fit_intercept=False, l1_ratio=0.9, max_iter=1000, selection=cyclic, tol=1e-05; total time=   1.8s\n",
      "[CV] END alpha=10.0, fit_intercept=False, l1_ratio=0.9, max_iter=1000, selection=cyclic, tol=1e-05; total time=   2.0s\n",
      "[CV] END alpha=10.0, fit_intercept=False, l1_ratio=0.9, max_iter=1000, selection=random, tol=0.001; total time=   0.1s\n",
      "[CV] END alpha=10.0, fit_intercept=False, l1_ratio=0.9, max_iter=1000, selection=cyclic, tol=1e-05; total time=   1.9s\n",
      "[CV] END alpha=10.0, fit_intercept=False, l1_ratio=0.9, max_iter=5000, selection=cyclic, tol=0.001; total time=   0.9s\n",
      "[CV] END alpha=10.0, fit_intercept=False, l1_ratio=0.9, max_iter=5000, selection=cyclic, tol=0.001; total time=   0.8s\n",
      "[CV] END alpha=10.0, fit_intercept=False, l1_ratio=0.9, max_iter=5000, selection=cyclic, tol=0.001; total time=   0.9s\n",
      "[CV] END alpha=10.0, fit_intercept=False, l1_ratio=0.9, max_iter=5000, selection=cyclic, tol=0.0001; total time=   1.5s\n",
      "[CV] END alpha=10.0, fit_intercept=False, l1_ratio=0.9, max_iter=5000, selection=cyclic, tol=0.001; total time=   0.8s\n",
      "[CV] END alpha=10.0, fit_intercept=False, l1_ratio=0.9, max_iter=5000, selection=cyclic, tol=0.001; total time=   0.8s\n",
      "[CV] END alpha=10.0, fit_intercept=False, l1_ratio=0.9, max_iter=5000, selection=cyclic, tol=0.0001; total time=   1.5s\n",
      "[CV] END alpha=10.0, fit_intercept=False, l1_ratio=0.9, max_iter=5000, selection=cyclic, tol=0.0001; total time=   1.3s\n",
      "[CV] END alpha=10.0, fit_intercept=False, l1_ratio=0.9, max_iter=1000, selection=cyclic, tol=1e-05; total time=   2.0s\n",
      "[CV] END alpha=10.0, fit_intercept=False, l1_ratio=0.9, max_iter=5000, selection=random, tol=0.001; total time=   0.1s\n",
      "[CV] END alpha=10.0, fit_intercept=False, l1_ratio=0.9, max_iter=5000, selection=random, tol=0.001; total time=   0.1s\n",
      "[CV] END alpha=10.0, fit_intercept=False, l1_ratio=0.9, max_iter=5000, selection=random, tol=0.001; total time=   0.1s\n",
      "[CV] END alpha=10.0, fit_intercept=False, l1_ratio=0.9, max_iter=5000, selection=random, tol=0.001; total time=   0.1s\n",
      "[CV] END alpha=10.0, fit_intercept=False, l1_ratio=0.9, max_iter=5000, selection=random, tol=0.0001; total time=   0.1s\n",
      "[CV] END alpha=10.0, fit_intercept=False, l1_ratio=0.9, max_iter=5000, selection=random, tol=0.0001; total time=   0.1s\n",
      "[CV] END alpha=10.0, fit_intercept=False, l1_ratio=0.9, max_iter=5000, selection=random, tol=0.0001; total time=   0.1s\n",
      "[CV] END alpha=10.0, fit_intercept=False, l1_ratio=0.9, max_iter=5000, selection=random, tol=0.0001; total time=   0.1s\n",
      "[CV] END alpha=10.0, fit_intercept=False, l1_ratio=0.9, max_iter=5000, selection=random, tol=0.0001; total time=   0.1s\n",
      "[CV] END alpha=10.0, fit_intercept=False, l1_ratio=0.9, max_iter=5000, selection=cyclic, tol=1e-05; total time=   1.9s\n",
      "[CV] END alpha=10.0, fit_intercept=False, l1_ratio=0.9, max_iter=5000, selection=random, tol=1e-05; total time=   0.1s\n",
      "[CV] END alpha=10.0, fit_intercept=False, l1_ratio=0.9, max_iter=5000, selection=cyclic, tol=0.0001; total time=   1.3s\n",
      "[CV] END alpha=10.0, fit_intercept=False, l1_ratio=0.9, max_iter=5000, selection=random, tol=1e-05; total time=   0.2s\n",
      "[CV] END alpha=10.0, fit_intercept=False, l1_ratio=0.9, max_iter=5000, selection=random, tol=1e-05; total time=   0.1s\n",
      "[CV] END alpha=10.0, fit_intercept=False, l1_ratio=0.9, max_iter=5000, selection=random, tol=1e-05; total time=   0.1s\n",
      "[CV] END alpha=10.0, fit_intercept=False, l1_ratio=0.9, max_iter=5000, selection=random, tol=1e-05; total time=   0.2s\n",
      "[CV] END alpha=10.0, fit_intercept=False, l1_ratio=0.9, max_iter=5000, selection=cyclic, tol=0.0001; total time=   1.3s\n",
      "[CV] END alpha=1.0, fit_intercept=False, l1_ratio=0.9, max_iter=10000, selection=cyclic, tol=1e-05; total time=  19.6s\n",
      "[CV] END alpha=10.0, fit_intercept=False, l1_ratio=0.9, max_iter=5000, selection=cyclic, tol=1e-05; total time=   2.0s\n",
      "[CV] END alpha=10.0, fit_intercept=False, l1_ratio=0.9, max_iter=5000, selection=cyclic, tol=1e-05; total time=   1.9s\n",
      "[CV] END alpha=10.0, fit_intercept=False, l1_ratio=0.9, max_iter=10000, selection=cyclic, tol=0.001; total time=   0.9s\n",
      "[CV] END alpha=10.0, fit_intercept=False, l1_ratio=0.9, max_iter=5000, selection=random, tol=0.001; total time=   0.1s\n",
      "[CV] END alpha=10.0, fit_intercept=False, l1_ratio=0.9, max_iter=10000, selection=cyclic, tol=0.001; total time=   1.0s\n",
      "[CV] END alpha=10.0, fit_intercept=False, l1_ratio=0.9, max_iter=10000, selection=cyclic, tol=0.001; total time=   0.9s\n",
      "[CV] END alpha=10.0, fit_intercept=False, l1_ratio=0.9, max_iter=10000, selection=cyclic, tol=0.001; total time=   0.8s\n",
      "[CV] END alpha=10.0, fit_intercept=False, l1_ratio=0.9, max_iter=10000, selection=cyclic, tol=0.001; total time=   0.9s\n",
      "[CV] END alpha=10.0, fit_intercept=False, l1_ratio=0.9, max_iter=5000, selection=cyclic, tol=1e-05; total time=   2.1s\n",
      "[CV] END alpha=10.0, fit_intercept=False, l1_ratio=0.9, max_iter=10000, selection=cyclic, tol=0.0001; total time=   1.3s\n",
      "[CV] END alpha=10.0, fit_intercept=False, l1_ratio=0.9, max_iter=10000, selection=cyclic, tol=0.0001; total time=   1.4s\n",
      "[CV] END alpha=10.0, fit_intercept=False, l1_ratio=0.9, max_iter=10000, selection=cyclic, tol=0.0001; total time=   1.4s\n",
      "[CV] END alpha=10.0, fit_intercept=False, l1_ratio=0.9, max_iter=10000, selection=cyclic, tol=0.0001; total time=   1.4s\n",
      "[CV] END alpha=10.0, fit_intercept=False, l1_ratio=0.9, max_iter=10000, selection=cyclic, tol=0.0001; total time=   1.3s\n",
      "[CV] END alpha=10.0, fit_intercept=False, l1_ratio=0.9, max_iter=10000, selection=random, tol=0.001; total time=   0.1s\n",
      "[CV] END alpha=10.0, fit_intercept=False, l1_ratio=0.9, max_iter=10000, selection=random, tol=0.001; total time=   0.1s\n",
      "[CV] END alpha=10.0, fit_intercept=False, l1_ratio=0.9, max_iter=5000, selection=cyclic, tol=1e-05; total time=   1.9s\n",
      "[CV] END alpha=10.0, fit_intercept=False, l1_ratio=0.9, max_iter=10000, selection=random, tol=0.001; total time=   0.1s\n",
      "[CV] END alpha=10.0, fit_intercept=False, l1_ratio=0.9, max_iter=10000, selection=random, tol=0.001; total time=   0.1s\n",
      "[CV] END alpha=10.0, fit_intercept=False, l1_ratio=0.9, max_iter=10000, selection=random, tol=0.001; total time=   0.1s\n",
      "[CV] END alpha=10.0, fit_intercept=False, l1_ratio=0.9, max_iter=10000, selection=random, tol=0.0001; total time=   0.1s\n",
      "[CV] END alpha=10.0, fit_intercept=False, l1_ratio=0.9, max_iter=10000, selection=random, tol=0.0001; total time=   0.1s\n",
      "[CV] END alpha=10.0, fit_intercept=False, l1_ratio=0.9, max_iter=10000, selection=random, tol=0.0001; total time=   0.1s\n",
      "[CV] END alpha=10.0, fit_intercept=False, l1_ratio=0.9, max_iter=10000, selection=random, tol=0.0001; total time=   0.1s\n",
      "[CV] END alpha=10.0, fit_intercept=False, l1_ratio=0.9, max_iter=10000, selection=random, tol=0.0001; total time=   0.1s\n",
      "[CV] END alpha=10.0, fit_intercept=False, l1_ratio=0.9, max_iter=10000, selection=random, tol=1e-05; total time=   0.1s\n",
      "[CV] END alpha=10.0, fit_intercept=False, l1_ratio=0.9, max_iter=10000, selection=random, tol=1e-05; total time=   0.1s\n",
      "[CV] END alpha=10.0, fit_intercept=False, l1_ratio=0.9, max_iter=10000, selection=random, tol=1e-05; total time=   0.1s\n",
      "[CV] END alpha=10.0, fit_intercept=False, l1_ratio=0.9, max_iter=10000, selection=random, tol=1e-05; total time=   0.1s\n",
      "[CV] END alpha=10.0, fit_intercept=False, l1_ratio=0.9, max_iter=10000, selection=cyclic, tol=1e-05; total time=   1.9s\n",
      "[CV] END alpha=10.0, fit_intercept=False, l1_ratio=0.9, max_iter=10000, selection=random, tol=1e-05; total time=   0.1s\n",
      "[CV] END alpha=10.0, fit_intercept=False, l1_ratio=0.9, max_iter=10000, selection=cyclic, tol=1e-05; total time=   1.7s\n",
      "[CV] END alpha=10.0, fit_intercept=False, l1_ratio=0.9, max_iter=10000, selection=cyclic, tol=1e-05; total time=   1.5s\n",
      "[CV] END alpha=10.0, fit_intercept=False, l1_ratio=0.9, max_iter=10000, selection=cyclic, tol=1e-05; total time=   1.4s\n",
      "[CV] END alpha=10.0, fit_intercept=False, l1_ratio=0.9, max_iter=10000, selection=cyclic, tol=1e-05; total time=   1.3s\n",
      "\n",
      "Linear Regression:\n",
      "  Best Params: {'fit_intercept': False}\n",
      "  Best Score (MSE): 0.623109\n",
      "  Best Estimator: LinearRegression(fit_intercept=False)\n",
      "\n",
      "\n",
      "\n",
      "Ridge Regression:\n",
      "  Best Params: {'alpha': 0.1, 'fit_intercept': False, 'solver': 'lsqr'}\n",
      "  Best Score (MSE): 0.308415\n",
      "  Best Estimator: Ridge(alpha=0.1, fit_intercept=False, random_state=42, solver='lsqr')\n",
      "\n",
      "\n",
      "\n",
      "Lasso Regression:\n",
      "  Best Params: {'alpha': 0.01, 'fit_intercept': True, 'max_iter': 5000, 'selection': 'random', 'tol': 0.0001}\n",
      "  Best Score (MSE): 0.425018\n",
      "  Best Estimator: Lasso(alpha=0.01, max_iter=5000, random_state=42, selection='random')\n",
      "\n",
      "\n",
      "\n",
      "Elastic Net Regression:\n",
      "  Best Params: {'alpha': 0.01, 'fit_intercept': True, 'l1_ratio': 0.1, 'max_iter': 1000, 'selection': 'random', 'tol': 0.001}\n",
      "  Best Score (MSE): 0.450170\n",
      "  Best Estimator: ElasticNet(alpha=0.01, l1_ratio=0.1, random_state=42, selection='random',\n",
      "           tol=0.001)\n",
      "\n",
      "\n"
     ]
    },
    {
     "name": "stderr",
     "output_type": "stream",
     "text": [
      "/Users/zoemarquis/Documents/projet_industrie/projet_batteries/mon_venv/lib/python3.11/site-packages/numpy/ma/core.py:2846: RuntimeWarning: invalid value encountered in cast\n",
      "  _data = np.array(data, dtype=dtype, copy=copy,\n"
     ]
    }
   ],
   "source": [
    "# Configurations\n",
    "n_splits = 5\n",
    "kf = KFold(n_splits=n_splits, random_state=42, shuffle=True)\n",
    "\n",
    "# Scorer personnalisé pour évaluer les modèles\n",
    "scoring = {\n",
    "    \"MSE\": make_scorer(mean_squared_error, greater_is_better=False),\n",
    "    \"MAE\": make_scorer(mean_absolute_error, greater_is_better=False),\n",
    "    \"RMSE\": make_scorer(root_mean_squared_error, greater_is_better=False),\n",
    "    \"MAPE\": make_scorer(mean_absolute_percentage_error, greater_is_better=False)\n",
    "}\n",
    "\n",
    "# Modèles et grilles d'hyperparamètres\n",
    "param_grids = {\n",
    "    \"Linear Regression\": {\n",
    "        \"fit_intercept\": [True, False]\n",
    "    },\n",
    "    \"Ridge Regression\": {\n",
    "        \"alpha\": [0.1, 1.0, 10.0, 100.0],\n",
    "        \"fit_intercept\": [True, False],\n",
    "        \"solver\": [\"auto\", \"svd\", \"cholesky\", \"lsqr\", \"sparse_cg\", \"sag\", \"saga\"],\n",
    "        \n",
    "    },\n",
    "    \"Lasso Regression\": {\n",
    "        \"alpha\": [0.01, 0.1, 1.0, 10.0],\n",
    "        \"fit_intercept\": [True, False],\n",
    "        \"selection\": [\"cyclic\", \"random\"],\n",
    "        \"max_iter\": [1000, 5000, 10000],\n",
    "        \"tol\": [1e-3, 1e-4, 1e-5]\n",
    "    },\n",
    "    \"Elastic Net Regression\": {\n",
    "        \"alpha\": [0.01, 0.1, 1.0, 10.0],\n",
    "        \"l1_ratio\": [0.1, 0.5, 0.9],\n",
    "        \"fit_intercept\": [True, False],\n",
    "        \"selection\": [\"cyclic\", \"random\"],\n",
    "        \"max_iter\": [1000, 5000, 10000],\n",
    "        \"tol\": [1e-3, 1e-4, 1e-5]\n",
    "    }\n",
    "}\n",
    "\n",
    "# Résultats des GridSearch\n",
    "results = {}\n",
    "\n",
    "# Effectuer le GridSearch pour chaque modèle\n",
    "for model_name, param_grid in param_grids.items():\n",
    "    print(f\"Performing GridSearch for {model_name}...\")\n",
    "    \n",
    "    if model_name == \"Linear Regression\":\n",
    "        model = LinearRegression()\n",
    "    elif model_name == \"Ridge Regression\":\n",
    "        model = Ridge(random_state=42)\n",
    "    elif model_name == \"Lasso Regression\":\n",
    "        model = Lasso(random_state=42)\n",
    "    elif model_name == \"Elastic Net Regression\":\n",
    "        model = ElasticNet(random_state=42)\n",
    "    \n",
    "    # GridSearchCV\n",
    "    grid_search = GridSearchCV(\n",
    "        estimator=model,\n",
    "        param_grid=param_grid,\n",
    "        scoring=\"neg_mean_squared_error\",  # Utilisation de MSE comme critère principal\n",
    "        cv=kf,\n",
    "        verbose=2,\n",
    "        n_jobs=-1\n",
    "    )\n",
    "    \n",
    "    # Entraîner avec GridSearch\n",
    "    grid_search.fit(X_np_binary, y_np)\n",
    "    \n",
    "    # Stocker les résultats\n",
    "    results[model_name] = {\n",
    "        \"Best Params\": grid_search.best_params_,\n",
    "        \"Best Score (MSE)\": -grid_search.best_score_,  # Revenir à une valeur positive pour MSE\n",
    "        \"Best Estimator\": grid_search.best_estimator_\n",
    "    }\n",
    "\n",
    "# Afficher les meilleurs hyperparamètres pour chaque type de modèle\n",
    "for model_name, res in results.items():\n",
    "    print(f\"\\n{model_name}:\")\n",
    "    print(f\"  Best Params: {res['Best Params']}\")\n",
    "    print(f\"  Best Score (MSE): {res['Best Score (MSE)']:.6f}\")\n",
    "    print(f\"  Best Estimator: {res['Best Estimator']}\")\n",
    "    print(\"\\n\")\n"
   ]
  },
  {
   "cell_type": "code",
   "execution_count": null,
   "metadata": {},
   "outputs": [],
   "source": [
    "# output pour 20w_5s (15 min)\n",
    "\n",
    "# Linear Regression:\n",
    "#   Best Params: {'fit_intercept': False}\n",
    "#   Best Score (MSE): 0.623109\n",
    "#   Best Estimator: LinearRegression(fit_intercept=False)\n",
    "\n",
    "# Ridge Regression:\n",
    "#   Best Params: {'alpha': 0.1, 'fit_intercept': False, 'solver': 'lsqr'}\n",
    "#   Best Score (MSE): 0.308415\n",
    "#   Best Estimator: Ridge(alpha=0.1, fit_intercept=False, random_state=42, solver='lsqr')\n",
    "\n",
    "# Lasso Regression:\n",
    "#   Best Params: {'alpha': 0.01, 'fit_intercept': True, 'max_iter': 5000, 'selection': 'random', 'tol': 0.0001}\n",
    "#   Best Score (MSE): 0.425018\n",
    "#   Best Estimator: Lasso(alpha=0.01, max_iter=5000, random_state=42, selection='random')\n",
    "\n",
    "# Elastic Net Regression:\n",
    "#   Best Params: {'alpha': 0.01, 'fit_intercept': True, 'l1_ratio': 0.1, 'max_iter': 1000, 'selection': 'random', 'tol': 0.001}\n",
    "#   Best Score (MSE): 0.450170\n",
    "#   Best Estimator: ElasticNet(alpha=0.01, l1_ratio=0.1, random_state=42, selection='random',\n",
    "#            tol=0.001)\n",
    "\n"
   ]
  },
  {
   "cell_type": "markdown",
   "metadata": {},
   "source": [
    "La régression linéaire semble donner un MSE relativement plus élevée par rapport aux autres modèles, ce qui pourrait signifier que la relation entre les variables n'est pas strictement linéaire ou qu'une régularisation est nécessaire.\n",
    "\n",
    "Ridge Regression, avec une régularisation douce (alpha=0.1), semble être un bon choix pour améliorer la performance par rapport à la régression linéaire simple.\n",
    "\n",
    "Lasso a donné un bon résultat, mais sa performance reste inférieure à celle de Ridge, ce qui peut suggérer que le modèle a beaucoup de variables pertinentes. La régularisation Lasso, qui favorise la parcimonie, a peut-être mis à zéro des coefficients non essentiels.\n",
    "\n",
    "ElasticNet n'a pas surpassé Ridge, ce qui pourrait indiquer que la régularisation Lasso n'est pas nécessairement bénéfique dans ce cas particulier. Cependant, il reste utile lorsqu'il y a un grand nombre de variables hautement corrélées."
   ]
  },
  {
   "cell_type": "code",
   "execution_count": 12,
   "metadata": {},
   "outputs": [],
   "source": [
    "# Récupérer le meilleur modèle avec les meilleurs hyperparamètres (Ridge)\n",
    "\n",
    "# Ridge Regression:\n",
    "# Best Params: {'alpha': 0.1, 'fit_intercept': False, 'solver': 'lsqr'}\n",
    "\n",
    "best_model = Ridge(alpha=0.1, fit_intercept=False, solver=\"lsqr\", random_state=42)\n",
    "best_model.fit(X_np_binary, y_np)\n",
    "\n",
    "filename = f\"Models/RidgeRegression_{taille_fenetre_to_run}w_{taille_stride_to_run}s_best.pkl\"\n",
    "pickle.dump(best_model, open(filename, \"wb\"))"
   ]
  },
  {
   "cell_type": "code",
   "execution_count": 13,
   "metadata": {},
   "outputs": [
    {
     "name": "stderr",
     "output_type": "stream",
     "text": [
      "/Users/zoemarquis/Documents/projet_industrie/projet_batteries/mon_venv/lib/python3.11/site-packages/tqdm/auto.py:21: TqdmWarning: IProgress not found. Please update jupyter and ipywidgets. See https://ipywidgets.readthedocs.io/en/stable/user_install.html\n",
      "  from .autonotebook import tqdm as notebook_tqdm\n"
     ]
    },
    {
     "data": {
      "image/png": "[encoded data removed]",
      "text/plain": [
       "<Figure size 800x950 with 2 Axes>"
      ]
     },
     "metadata": {},
     "output_type": "display_data"
    }
   ],
   "source": [
    "# Explicabilité avec SHAP sur les données X_binary_explicabilite et y_explicabilite\n",
    "\n",
    "import shap\n",
    "\n",
    "# Charger le meilleur modèle\n",
    "# filename = \n",
    "model = pickle.load(open(filename, \"rb\"))\n",
    "\n",
    "# Initialiser SHAP\n",
    "explainer = shap.Explainer(model, X_binary_explicabilite)\n",
    "\n",
    "# Calculer les valeurs SHAP\n",
    "shap_values = explainer.shap_values(X_binary_explicabilite)\n",
    "\n",
    "# Afficher les valeurs SHAP\n",
    "shap.summary_plot(shap_values, X_binary_explicabilite, feature_names=features_binary, show=False)\n",
    "plt.savefig(f\"Images/shap_RegressionRidge_{taille_fenetre_to_run}w_{taille_stride_to_run}s.png\")\n",
    "plt.show()"
   ]
  },
  {
   "cell_type": "code",
   "execution_count": 17,
   "metadata": {},
   "outputs": [
    {
     "name": "stdout",
     "output_type": "stream",
     "text": [
      "Fold: 0/5\n",
      "Fold: 1/5\n",
      "Fold: 2/5\n",
      "Fold: 3/5\n",
      "Fold: 4/5\n",
      "Best fold: 0\n",
      "MSE: 0.2945314817773239\n"
     ]
    }
   ],
   "source": [
    "# insert results dans db pickle\n",
    "\n",
    "# Configurations\n",
    "n_splits = 5\n",
    "kf = KFold(n_splits=n_splits, random_state=42, shuffle=True)\n",
    "\n",
    "mse_scores = []\n",
    "mae_scores = []\n",
    "mape_scores = []\n",
    "rmse_scores = []\n",
    "\n",
    "for fold, (train_index, test_index) in enumerate(kf.split(X_np_binary)):\n",
    "    print(f\"Fold: {fold}/{n_splits}\")\n",
    "\n",
    "    X_train, X_test = X_np_binary[train_index], X_np_binary[test_index]\n",
    "    y_train, y_test = y_np[train_index], y_np[test_index]\n",
    "\n",
    "    model = pickle.load(open(filename, \"rb\"))\n",
    "    model.fit(X_train, y_train)\n",
    "\n",
    "    y_pred = model.predict(X_test)\n",
    "\n",
    "    mse_scores.append(mean_squared_error(y_test, y_pred))\n",
    "    mae_scores.append(mean_absolute_error(y_test, y_pred))\n",
    "    mape_scores.append(mean_absolute_percentage_error(y_test, y_pred))\n",
    "    rmse_scores.append(root_mean_squared_error(y_test, y_pred))\n",
    "\n",
    "\n",
    "best_fold = np.argmin(mse_scores)\n",
    "print(f\"Best fold: {best_fold}\")\n",
    "print(f\"MSE: {mse_scores[best_fold]}\")\n",
    "\n",
    "results = {\n",
    "    \"model_name\": \"RidgeRegression\",\n",
    "    \"mse\": mse_scores,\n",
    "    \"mae\": mae_scores,\n",
    "    \"mape\": mape_scores,\n",
    "    \"rmse\": rmse_scores,\n",
    "    \"best_fold\": best_fold,\n",
    "    \"mean_mse\": np.mean(mse_scores),\n",
    "    \"mean_mae\": np.mean(mae_scores),\n",
    "    \"mean_mape\": np.mean(mape_scores),\n",
    "    \"mean_rmse\": np.mean(rmse_scores),\n",
    "}\n",
    "\n",
    "pickle.dump(results, open(f\"Data_to_share/RidgeRegression_results.pkl\", \"wb\"))"
   ]
  },
  {
   "cell_type": "code",
   "execution_count": null,
   "metadata": {},
   "outputs": [],
   "source": []
  }
 ],
 "metadata": {
  "kernelspec": {
   "display_name": "mon_venv",
   "language": "python",
   "name": "python3"
  },
  "language_info": {
   "codemirror_mode": {
    "name": "ipython",
    "version": 3
   },
   "file_extension": ".py",
   "mimetype": "text/x-python",
   "name": "python",
   "nbconvert_exporter": "python",
   "pygments_lexer": "ipython3",
   "version": "3.11.11"
  }
 },
 "nbformat": 4,
 "nbformat_minor": 2
}
