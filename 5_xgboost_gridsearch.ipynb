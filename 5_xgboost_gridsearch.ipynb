{
 "cells": [
  {
   "cell_type": "markdown",
   "metadata": {},
   "source": [
    "# XGBoost\n"
   ]
  },
  {
   "cell_type": "code",
   "execution_count": 21,
   "metadata": {},
   "outputs": [],
   "source": [
    "# import\n",
    "\n",
    "import matplotlib.pyplot as plt\n",
    "\n",
    "import numpy as np\n",
    "np.random.seed(42)\n",
    "\n",
    "import pickle\n",
    "\n",
    "from xgboost import XGBRegressor\n",
    "from sklearn.metrics import mean_absolute_percentage_error, mean_squared_error, mean_absolute_error, root_mean_squared_error\n",
    "from sklearn.model_selection import KFold, train_test_split, GridSearchCV\n",
    "from sklearn.metrics import make_scorer\n"
   ]
  },
  {
   "cell_type": "code",
   "execution_count": 22,
   "metadata": {},
   "outputs": [],
   "source": [
    "taille_fenetre_to_run = 20\n",
    "taille_stride_to_run = 5\n",
    "# 20w_5s déterminer dans search window size "
   ]
  },
  {
   "cell_type": "code",
   "execution_count": 23,
   "metadata": {},
   "outputs": [],
   "source": [
    "data = pickle.load(open(f\"Data/donnees_{taille_fenetre_to_run}w_{taille_stride_to_run}s.pkl\", \"rb\"))"
   ]
  },
  {
   "cell_type": "code",
   "execution_count": 24,
   "metadata": {},
   "outputs": [
    {
     "data": {
      "text/plain": [
       "dict_keys(['X_np_label', 'X_np_binary', 'y_np', 'features_names_label', 'features_names_binary', 'idx_explicabilite', 'X_label_explicabilite', 'X_binary_explicabilite', 'y_explicabilite'])"
      ]
     },
     "execution_count": 24,
     "metadata": {},
     "output_type": "execute_result"
    }
   ],
   "source": [
    "data.keys()"
   ]
  },
  {
   "cell_type": "code",
   "execution_count": 25,
   "metadata": {},
   "outputs": [],
   "source": [
    "X_np_label = data[\"X_np_label\"]\n",
    "y_np = data[\"y_np\"]"
   ]
  },
  {
   "cell_type": "code",
   "execution_count": 26,
   "metadata": {},
   "outputs": [],
   "source": [
    "X_label_explicabilite = data[\"X_label_explicabilite\"]\n",
    "y_explicabilite = data[\"y_explicabilite\"]"
   ]
  },
  {
   "cell_type": "code",
   "execution_count": 27,
   "metadata": {},
   "outputs": [],
   "source": [
    "features_label = data[\"features_names_label\"]"
   ]
  },
  {
   "cell_type": "code",
   "execution_count": 28,
   "metadata": {},
   "outputs": [
    {
     "data": {
      "text/plain": [
       "(19010, 152)"
      ]
     },
     "execution_count": 28,
     "metadata": {},
     "output_type": "execute_result"
    }
   ],
   "source": [
    "X_np_label.shape"
   ]
  },
  {
   "cell_type": "code",
   "execution_count": 29,
   "metadata": {},
   "outputs": [
    {
     "name": "stdout",
     "output_type": "stream",
     "text": [
      "Performing GridSearch for XGBoost...\n",
      "Fitting 5 folds for each of 12 candidates, totalling 60 fits\n",
      "[CV] END gamma=0, learning_rate=0.1, max_depth=10, n_estimators=500, reg_alpha=0, reg_lambda=1; total time= 3.5min\n",
      "[CV] END gamma=0, learning_rate=0.1, max_depth=10, n_estimators=500, reg_alpha=0, reg_lambda=2; total time= 3.5min\n",
      "[CV] END gamma=0, learning_rate=0.1, max_depth=10, n_estimators=500, reg_alpha=0, reg_lambda=1; total time= 3.5min\n",
      "[CV] END gamma=0, learning_rate=0.1, max_depth=10, n_estimators=500, reg_alpha=0, reg_lambda=1; total time= 3.5min\n",
      "[CV] END gamma=0, learning_rate=0.1, max_depth=10, n_estimators=500, reg_alpha=0, reg_lambda=1; total time= 3.5min\n",
      "[CV] END gamma=0, learning_rate=0.1, max_depth=10, n_estimators=500, reg_alpha=0, reg_lambda=2; total time= 3.5min\n",
      "[CV] END gamma=0, learning_rate=0.1, max_depth=10, n_estimators=500, reg_alpha=0, reg_lambda=2; total time= 3.5min\n",
      "[CV] END gamma=0, learning_rate=0.1, max_depth=10, n_estimators=500, reg_alpha=0, reg_lambda=1; total time= 3.6min\n",
      "[CV] END gamma=0, learning_rate=0.1, max_depth=10, n_estimators=500, reg_alpha=0, reg_lambda=2; total time= 4.0min\n",
      "[CV] END gamma=0, learning_rate=0.1, max_depth=10, n_estimators=500, reg_alpha=0, reg_lambda=2; total time= 4.1min\n",
      "[CV] END gamma=0, learning_rate=0.1, max_depth=10, n_estimators=500, reg_alpha=0.1, reg_lambda=1; total time= 4.4min\n",
      "[CV] END gamma=0, learning_rate=0.1, max_depth=10, n_estimators=500, reg_alpha=0.1, reg_lambda=1; total time= 4.4min\n",
      "[CV] END gamma=0, learning_rate=0.1, max_depth=10, n_estimators=500, reg_alpha=0.1, reg_lambda=1; total time= 4.4min\n",
      "[CV] END gamma=0, learning_rate=0.1, max_depth=10, n_estimators=500, reg_alpha=0.1, reg_lambda=1; total time= 4.4min\n",
      "[CV] END gamma=0, learning_rate=0.1, max_depth=10, n_estimators=500, reg_alpha=0.1, reg_lambda=1; total time= 4.4min\n",
      "[CV] END gamma=0, learning_rate=0.1, max_depth=10, n_estimators=500, reg_alpha=0.1, reg_lambda=2; total time= 4.4min\n",
      "[CV] END gamma=1, learning_rate=0.1, max_depth=10, n_estimators=500, reg_alpha=0, reg_lambda=1; total time= 3.5min\n",
      "[CV] END gamma=1, learning_rate=0.1, max_depth=10, n_estimators=500, reg_alpha=0, reg_lambda=1; total time= 3.5min\n",
      "[CV] END gamma=1, learning_rate=0.1, max_depth=10, n_estimators=500, reg_alpha=0, reg_lambda=1; total time= 3.8min\n",
      "[CV] END gamma=0, learning_rate=0.1, max_depth=10, n_estimators=500, reg_alpha=0.1, reg_lambda=2; total time= 4.2min\n",
      "[CV] END gamma=0, learning_rate=0.1, max_depth=10, n_estimators=500, reg_alpha=0.1, reg_lambda=2; total time= 4.2min\n",
      "[CV] END gamma=0, learning_rate=0.1, max_depth=10, n_estimators=500, reg_alpha=0.1, reg_lambda=2; total time= 4.1min\n",
      "[CV] END gamma=0, learning_rate=0.1, max_depth=10, n_estimators=500, reg_alpha=0.1, reg_lambda=2; total time= 4.2min\n",
      "[CV] END gamma=1, learning_rate=0.1, max_depth=10, n_estimators=500, reg_alpha=0, reg_lambda=1; total time= 4.4min\n",
      "[CV] END gamma=1, learning_rate=0.1, max_depth=10, n_estimators=500, reg_alpha=0, reg_lambda=1; total time= 3.2min\n",
      "[CV] END gamma=1, learning_rate=0.1, max_depth=10, n_estimators=500, reg_alpha=0, reg_lambda=2; total time= 3.4min\n",
      "[CV] END gamma=1, learning_rate=0.1, max_depth=10, n_estimators=500, reg_alpha=0, reg_lambda=2; total time= 3.6min\n",
      "[CV] END gamma=1, learning_rate=0.1, max_depth=10, n_estimators=500, reg_alpha=0, reg_lambda=2; total time= 3.4min\n",
      "[CV] END gamma=1, learning_rate=0.1, max_depth=10, n_estimators=500, reg_alpha=0, reg_lambda=2; total time= 3.5min\n",
      "[CV] END gamma=1, learning_rate=0.1, max_depth=10, n_estimators=500, reg_alpha=0.1, reg_lambda=1; total time= 3.5min\n",
      "[CV] END gamma=1, learning_rate=0.1, max_depth=10, n_estimators=500, reg_alpha=0.1, reg_lambda=1; total time= 3.4min\n",
      "[CV] END gamma=1, learning_rate=0.1, max_depth=10, n_estimators=500, reg_alpha=0, reg_lambda=2; total time= 4.0min\n",
      "[CV] END gamma=1, learning_rate=0.1, max_depth=10, n_estimators=500, reg_alpha=0.1, reg_lambda=1; total time= 3.9min\n",
      "[CV] END gamma=1, learning_rate=0.1, max_depth=10, n_estimators=500, reg_alpha=0.1, reg_lambda=1; total time= 3.7min\n",
      "[CV] END gamma=1, learning_rate=0.1, max_depth=10, n_estimators=500, reg_alpha=0.1, reg_lambda=2; total time= 3.8min\n",
      "[CV] END gamma=1, learning_rate=0.1, max_depth=10, n_estimators=500, reg_alpha=0.1, reg_lambda=2; total time= 3.9min\n",
      "[CV] END gamma=1, learning_rate=0.1, max_depth=10, n_estimators=500, reg_alpha=0.1, reg_lambda=2; total time= 3.6min\n",
      "[CV] END gamma=1, learning_rate=0.1, max_depth=10, n_estimators=500, reg_alpha=0.1, reg_lambda=2; total time= 3.9min\n",
      "[CV] END gamma=1, learning_rate=0.1, max_depth=10, n_estimators=500, reg_alpha=0.1, reg_lambda=1; total time= 4.3min\n",
      "[CV] END gamma=1, learning_rate=0.1, max_depth=10, n_estimators=500, reg_alpha=0.1, reg_lambda=2; total time= 3.6min\n",
      "[CV] END gamma=5, learning_rate=0.1, max_depth=10, n_estimators=500, reg_alpha=0, reg_lambda=1; total time= 4.2min\n",
      "[CV] END gamma=5, learning_rate=0.1, max_depth=10, n_estimators=500, reg_alpha=0, reg_lambda=1; total time= 3.9min\n",
      "[CV] END gamma=5, learning_rate=0.1, max_depth=10, n_estimators=500, reg_alpha=0, reg_lambda=1; total time= 3.7min\n",
      "[CV] END gamma=5, learning_rate=0.1, max_depth=10, n_estimators=500, reg_alpha=0, reg_lambda=1; total time= 4.0min\n",
      "[CV] END gamma=5, learning_rate=0.1, max_depth=10, n_estimators=500, reg_alpha=0, reg_lambda=2; total time= 4.0min\n",
      "[CV] END gamma=5, learning_rate=0.1, max_depth=10, n_estimators=500, reg_alpha=0, reg_lambda=2; total time= 4.1min\n",
      "[CV] END gamma=5, learning_rate=0.1, max_depth=10, n_estimators=500, reg_alpha=0, reg_lambda=2; total time= 3.8min\n",
      "[CV] END gamma=5, learning_rate=0.1, max_depth=10, n_estimators=500, reg_alpha=0, reg_lambda=1; total time= 4.2min\n",
      "[CV] END gamma=5, learning_rate=0.1, max_depth=10, n_estimators=500, reg_alpha=0, reg_lambda=2; total time= 3.9min\n",
      "[CV] END gamma=5, learning_rate=0.1, max_depth=10, n_estimators=500, reg_alpha=0.1, reg_lambda=1; total time= 3.8min\n",
      "[CV] END gamma=5, learning_rate=0.1, max_depth=10, n_estimators=500, reg_alpha=0, reg_lambda=2; total time= 4.1min\n",
      "[CV] END gamma=5, learning_rate=0.1, max_depth=10, n_estimators=500, reg_alpha=0.1, reg_lambda=1; total time= 4.1min\n",
      "[CV] END gamma=5, learning_rate=0.1, max_depth=10, n_estimators=500, reg_alpha=0.1, reg_lambda=2; total time= 3.6min\n",
      "[CV] END gamma=5, learning_rate=0.1, max_depth=10, n_estimators=500, reg_alpha=0.1, reg_lambda=1; total time= 3.9min\n",
      "[CV] END gamma=5, learning_rate=0.1, max_depth=10, n_estimators=500, reg_alpha=0.1, reg_lambda=1; total time= 4.0min\n",
      "[CV] END gamma=5, learning_rate=0.1, max_depth=10, n_estimators=500, reg_alpha=0.1, reg_lambda=1; total time= 4.2min\n",
      "[CV] END gamma=5, learning_rate=0.1, max_depth=10, n_estimators=500, reg_alpha=0.1, reg_lambda=2; total time= 3.0min\n",
      "[CV] END gamma=5, learning_rate=0.1, max_depth=10, n_estimators=500, reg_alpha=0.1, reg_lambda=2; total time= 2.9min\n",
      "[CV] END gamma=5, learning_rate=0.1, max_depth=10, n_estimators=500, reg_alpha=0.1, reg_lambda=2; total time= 3.0min\n",
      "[CV] END gamma=5, learning_rate=0.1, max_depth=10, n_estimators=500, reg_alpha=0.1, reg_lambda=2; total time= 3.2min\n",
      "Best parameters found:  {'gamma': 0, 'learning_rate': 0.1, 'max_depth': 10, 'n_estimators': 500, 'reg_alpha': 0.1, 'reg_lambda': 1}\n",
      "Best score found:  0.02460594927348995\n",
      "Best estimator found:  XGBRegressor(base_score=None, booster=None, callbacks=None,\n",
      "             colsample_bylevel=None, colsample_bynode=None,\n",
      "             colsample_bytree=None, early_stopping_rounds=None,\n",
      "             enable_categorical=False, eval_metric=None, feature_types=None,\n",
      "             gamma=0, gpu_id=None, grow_policy=None, importance_type=None,\n",
      "             interaction_constraints=None, learning_rate=0.1, max_bin=None,\n",
      "             max_cat_threshold=None, max_cat_to_onehot=None,\n",
      "             max_delta_step=None, max_depth=10, max_leaves=None,\n",
      "             min_child_weight=None, missing=nan, monotone_constraints=None,\n",
      "             n_estimators=500, n_jobs=None, num_parallel_tree=None,\n",
      "             predictor=None, random_state=42, ...)\n"
     ]
    }
   ],
   "source": [
    "param_grid = {\n",
    "    'n_estimators': [500],      \n",
    "    'max_depth': [10],           \n",
    "    'learning_rate': [0.1],          \n",
    "    'gamma': [0, 1, 5],             # Régularisation L1\n",
    "    'reg_alpha': [0, 0.1],          # Régularisation L1\n",
    "    'reg_lambda': [1, 2]            # Régularisation L2\n",
    "}  \n",
    "\n",
    "# Scorer personnalisé pour évaluer les modèles\n",
    "scoring = {\n",
    "    \"MSE\": make_scorer(mean_squared_error, greater_is_better=False),\n",
    "    \"MAE\": make_scorer(mean_absolute_error, greater_is_better=False),\n",
    "    \"RMSE\": make_scorer(root_mean_squared_error, greater_is_better=False),\n",
    "    \"MAPE\": make_scorer(mean_absolute_percentage_error, greater_is_better=False)\n",
    "}\n",
    "\n",
    "\n",
    "print(\"Performing GridSearch for XGBoost...\")\n",
    "xgb = XGBRegressor(random_state=42, use_label_encoder=False, verbosity=0)\n",
    "\n",
    "n_splits = 5\n",
    "kf = KFold(n_splits=n_splits, random_state=42, shuffle=True) \n",
    "\n",
    "gd = GridSearchCV(xgb, param_grid, scoring=\"neg_mean_squared_error\", cv=kf, n_jobs=-1, verbose=2)\n",
    "\n",
    "gd.fit(X_np_label, y_np)\n",
    "\n",
    "print(\"Best parameters found: \", gd.best_params_)\n",
    "print(\"Best score found: \", - gd.best_score_)  # Revenir à une valeur positive pour MSE\n",
    "print(\"Best estimator found: \", gd.best_estimator_)"
   ]
  },
  {
   "cell_type": "code",
   "execution_count": 30,
   "metadata": {},
   "outputs": [],
   "source": [
    "# pour 20w_5s et \n",
    "# param_grid = {\n",
    "#     'n_estimators': [100, 200],         \n",
    "#     'max_depth': [3, 5],  \n",
    "# }\n",
    "\n",
    "# Best parameters found:  {'max_depth': 5, 'n_estimators': 200}\n",
    "# Best score found:  0.03334463831295349\n",
    "# Best estimator found:  XGBRegressor(base_score=None, booster=None, callbacks=None,\n",
    "#              colsample_bylevel=None, colsample_bynode=None,\n",
    "#              colsample_bytree=None, early_stopping_rounds=None,\n",
    "#              enable_categorical=False, eval_metric=None, feature_types=None,\n",
    "#              gamma=None, gpu_id=None, grow_policy=None, importance_type=None,\n",
    "#              interaction_constraints=None, learning_rate=None, max_bin=None,\n",
    "#              max_cat_threshold=None, max_cat_to_onehot=None,\n",
    "#              max_delta_step=None, max_depth=5, max_leaves=None,\n",
    "#              min_child_weight=None, missing=nan, monotone_constraints=None,\n",
    "#              n_estimators=200, n_jobs=None, num_parallel_tree=None,\n",
    "#              predictor=None, random_state=42, ...)"
   ]
  },
  {
   "cell_type": "code",
   "execution_count": 31,
   "metadata": {},
   "outputs": [],
   "source": [
    "# pour 20w_5s et param_grid = {\n",
    "#     'n_estimators': [200, 500],      \n",
    "#     'max_depth': [5, 10],           \n",
    "#     'learning_rate': [0.01, 0.1],                     \n",
    "# }\n",
    "\n",
    "# Best parameters found:  {'learning_rate': 0.1, 'max_depth': 10, 'n_estimators': 500}\n",
    "# Best score found:  0.02637333205149689\n",
    "# Best estimator found:  XGBRegressor(base_score=None, booster=None, callbacks=None,\n",
    "#              colsample_bylevel=None, colsample_bynode=None,\n",
    "#              colsample_bytree=None, early_stopping_rounds=None,\n",
    "#              enable_categorical=False, eval_metric=None, feature_types=None,\n",
    "#              gamma=None, gpu_id=None, grow_policy=None, importance_type=None,\n",
    "#              interaction_constraints=None, learning_rate=0.1, max_bin=None,\n",
    "#              max_cat_threshold=None, max_cat_to_onehot=None,\n",
    "#              max_delta_step=None, max_depth=10, max_leaves=None,\n",
    "#              min_child_weight=None, missing=nan, monotone_constraints=None,\n",
    "#              n_estimators=500, n_jobs=None, num_parallel_tree=None,\n",
    "#              predictor=None, random_state=42, ...)\n"
   ]
  },
  {
   "cell_type": "code",
   "execution_count": null,
   "metadata": {},
   "outputs": [],
   "source": [
    "# pour 20w_5s et param_grid = {\n",
    "#     'n_estimators': [500],      \n",
    "#     'max_depth': [10],           \n",
    "#     'learning_rate': [0.1],          \n",
    "#     'gamma': [0, 1, 5],             # Régularisation L1\n",
    "#     'reg_alpha': [0, 0.1],          # Régularisation L1\n",
    "#     'reg_lambda': [1, 2]            # Régularisation L2\n",
    "# }  \n",
    "\n",
    "# Best parameters found:  {'gamma': 0, 'learning_rate': 0.1, 'max_depth': 10, 'n_estimators': 500, 'reg_alpha': 0.1, 'reg_lambda': 1}\n",
    "# Best score found:  0.02460594927348995\n",
    "# Best estimator found:  XGBRegressor(base_score=None, booster=None, callbacks=None,\n",
    "#              colsample_bylevel=None, colsample_bynode=None,\n",
    "#              colsample_bytree=None, early_stopping_rounds=None,\n",
    "#              enable_categorical=False, eval_metric=None, feature_types=None,\n",
    "#              gamma=0, gpu_id=None, grow_policy=None, importance_type=None,\n",
    "#              interaction_constraints=None, learning_rate=0.1, max_bin=None,\n",
    "#              max_cat_threshold=None, max_cat_to_onehot=None,\n",
    "#              max_delta_step=None, max_depth=10, max_leaves=None,\n",
    "#              min_child_weight=None, missing=nan, monotone_constraints=None,\n",
    "#              n_estimators=500, n_jobs=None, num_parallel_tree=None,\n",
    "#              predictor=None, random_state=42, ...)"
   ]
  }
 ],
 "metadata": {
  "kernelspec": {
   "display_name": "mon_venv",
   "language": "python",
   "name": "python3"
  },
  "language_info": {
   "codemirror_mode": {
    "name": "ipython",
    "version": 3
   },
   "file_extension": ".py",
   "mimetype": "text/x-python",
   "name": "python",
   "nbconvert_exporter": "python",
   "pygments_lexer": "ipython3",
   "version": "3.11.11"
  }
 },
 "nbformat": 4,
 "nbformat_minor": 2
}
